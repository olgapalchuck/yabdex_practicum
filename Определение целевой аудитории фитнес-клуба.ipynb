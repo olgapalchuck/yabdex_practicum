{
 "cells": [
  {
   "cell_type": "markdown",
   "metadata": {},
   "source": [
    " # Определение целевой аудитории фитнес-клуба\n",
    "### Цель \n",
    "на основе алгоритмов машинного обучения сделать кластеризацию клиентов и разработать методы взаимодействия с ними.<br>\n",
    "### Задачи:\n",
    "1. описать поведение клиентов с разбивкой на ушедших и оставшихся и без - проведение исследовательского анализа данных;<br>\n",
    "2. построить модель бинарной классификации клиентов методами бинарной классификации и случайный лес; оценить метрики accuracy, precision и recall для обеих моделей <br>\n",
    "3. провести кластеризацию объектов<br>\n",
    "4. сделать общие выводы и рекомендации по уменьшению % оттока.\n"
   ]
  },
  {
   "cell_type": "code",
   "execution_count": 3,
   "metadata": {},
   "outputs": [],
   "source": [
    "import pandas as pd\n",
    "import seaborn as sns\n",
    "import matplotlib.pyplot as plt\n",
    "import numpy as np\n",
    "\n",
    "from sklearn.preprocessing import StandardScaler\n",
    "from sklearn.model_selection import train_test_split\n",
    "from sklearn.ensemble import RandomForestClassifier\n",
    "from sklearn.linear_model import LogisticRegression\n",
    "\n",
    "from sklearn.metrics import accuracy_score, precision_score, recall_score, f1_score, roc_auc_score\n",
    "\n",
    "from sklearn.cluster import KMeans\n",
    "from scipy.cluster.hierarchy import dendrogram, linkage "
   ]
  },
  {
   "cell_type": "code",
   "execution_count": 4,
   "metadata": {},
   "outputs": [],
   "source": [
    "gym = pd.read_csv(\"/datasets/gym_churn.csv\")"
   ]
  },
  {
   "cell_type": "markdown",
   "metadata": {},
   "source": [
    "### 1. Анализ данных <br>\n",
    "\n",
    "Изучим средние значения и стандартные отклонения методом describe(); разделим данные на две выборки - тех, кто ушел в отток и тех, кто остался, сравним их средние значения и постоим столбчатые гистограммы и матрицу корреляции признаков. "
   ]
  },
  {
   "cell_type": "code",
   "execution_count": 5,
   "metadata": {},
   "outputs": [
    {
     "data": {
      "text/html": [
       "<div>\n",
       "<style scoped>\n",
       "    .dataframe tbody tr th:only-of-type {\n",
       "        vertical-align: middle;\n",
       "    }\n",
       "\n",
       "    .dataframe tbody tr th {\n",
       "        vertical-align: top;\n",
       "    }\n",
       "\n",
       "    .dataframe thead th {\n",
       "        text-align: right;\n",
       "    }\n",
       "</style>\n",
       "<table border=\"1\" class=\"dataframe\">\n",
       "  <thead>\n",
       "    <tr style=\"text-align: right;\">\n",
       "      <th></th>\n",
       "      <th>gender</th>\n",
       "      <th>Near_Location</th>\n",
       "      <th>Partner</th>\n",
       "      <th>Promo_friends</th>\n",
       "      <th>Phone</th>\n",
       "      <th>Contract_period</th>\n",
       "      <th>Group_visits</th>\n",
       "      <th>Age</th>\n",
       "      <th>Avg_additional_charges_total</th>\n",
       "      <th>Month_to_end_contract</th>\n",
       "      <th>Lifetime</th>\n",
       "      <th>Avg_class_frequency_total</th>\n",
       "      <th>Avg_class_frequency_current_month</th>\n",
       "      <th>Churn</th>\n",
       "    </tr>\n",
       "  </thead>\n",
       "  <tbody>\n",
       "    <tr>\n",
       "      <td>0</td>\n",
       "      <td>1</td>\n",
       "      <td>1</td>\n",
       "      <td>1</td>\n",
       "      <td>1</td>\n",
       "      <td>0</td>\n",
       "      <td>6</td>\n",
       "      <td>1</td>\n",
       "      <td>29</td>\n",
       "      <td>14.227470</td>\n",
       "      <td>5.0</td>\n",
       "      <td>3</td>\n",
       "      <td>0.020398</td>\n",
       "      <td>0.000000</td>\n",
       "      <td>0</td>\n",
       "    </tr>\n",
       "    <tr>\n",
       "      <td>1</td>\n",
       "      <td>0</td>\n",
       "      <td>1</td>\n",
       "      <td>0</td>\n",
       "      <td>0</td>\n",
       "      <td>1</td>\n",
       "      <td>12</td>\n",
       "      <td>1</td>\n",
       "      <td>31</td>\n",
       "      <td>113.202938</td>\n",
       "      <td>12.0</td>\n",
       "      <td>7</td>\n",
       "      <td>1.922936</td>\n",
       "      <td>1.910244</td>\n",
       "      <td>0</td>\n",
       "    </tr>\n",
       "    <tr>\n",
       "      <td>2</td>\n",
       "      <td>0</td>\n",
       "      <td>1</td>\n",
       "      <td>1</td>\n",
       "      <td>0</td>\n",
       "      <td>1</td>\n",
       "      <td>1</td>\n",
       "      <td>0</td>\n",
       "      <td>28</td>\n",
       "      <td>129.448479</td>\n",
       "      <td>1.0</td>\n",
       "      <td>2</td>\n",
       "      <td>1.859098</td>\n",
       "      <td>1.736502</td>\n",
       "      <td>0</td>\n",
       "    </tr>\n",
       "    <tr>\n",
       "      <td>3</td>\n",
       "      <td>0</td>\n",
       "      <td>1</td>\n",
       "      <td>1</td>\n",
       "      <td>1</td>\n",
       "      <td>1</td>\n",
       "      <td>12</td>\n",
       "      <td>1</td>\n",
       "      <td>33</td>\n",
       "      <td>62.669863</td>\n",
       "      <td>12.0</td>\n",
       "      <td>2</td>\n",
       "      <td>3.205633</td>\n",
       "      <td>3.357215</td>\n",
       "      <td>0</td>\n",
       "    </tr>\n",
       "    <tr>\n",
       "      <td>4</td>\n",
       "      <td>1</td>\n",
       "      <td>1</td>\n",
       "      <td>1</td>\n",
       "      <td>1</td>\n",
       "      <td>1</td>\n",
       "      <td>1</td>\n",
       "      <td>0</td>\n",
       "      <td>26</td>\n",
       "      <td>198.362265</td>\n",
       "      <td>1.0</td>\n",
       "      <td>3</td>\n",
       "      <td>1.113884</td>\n",
       "      <td>1.120078</td>\n",
       "      <td>0</td>\n",
       "    </tr>\n",
       "  </tbody>\n",
       "</table>\n",
       "</div>"
      ],
      "text/plain": [
       "   gender  Near_Location  Partner  Promo_friends  Phone  Contract_period  \\\n",
       "0       1              1        1              1      0                6   \n",
       "1       0              1        0              0      1               12   \n",
       "2       0              1        1              0      1                1   \n",
       "3       0              1        1              1      1               12   \n",
       "4       1              1        1              1      1                1   \n",
       "\n",
       "   Group_visits  Age  Avg_additional_charges_total  Month_to_end_contract  \\\n",
       "0             1   29                     14.227470                    5.0   \n",
       "1             1   31                    113.202938                   12.0   \n",
       "2             0   28                    129.448479                    1.0   \n",
       "3             1   33                     62.669863                   12.0   \n",
       "4             0   26                    198.362265                    1.0   \n",
       "\n",
       "   Lifetime  Avg_class_frequency_total  Avg_class_frequency_current_month  \\\n",
       "0         3                   0.020398                           0.000000   \n",
       "1         7                   1.922936                           1.910244   \n",
       "2         2                   1.859098                           1.736502   \n",
       "3         2                   3.205633                           3.357215   \n",
       "4         3                   1.113884                           1.120078   \n",
       "\n",
       "   Churn  \n",
       "0      0  \n",
       "1      0  \n",
       "2      0  \n",
       "3      0  \n",
       "4      0  "
      ]
     },
     "execution_count": 5,
     "metadata": {},
     "output_type": "execute_result"
    }
   ],
   "source": [
    "gym.head()"
   ]
  },
  {
   "cell_type": "code",
   "execution_count": 6,
   "metadata": {},
   "outputs": [
    {
     "name": "stdout",
     "output_type": "stream",
     "text": [
      "<class 'pandas.core.frame.DataFrame'>\n",
      "RangeIndex: 4000 entries, 0 to 3999\n",
      "Data columns (total 14 columns):\n",
      "gender                               4000 non-null int64\n",
      "Near_Location                        4000 non-null int64\n",
      "Partner                              4000 non-null int64\n",
      "Promo_friends                        4000 non-null int64\n",
      "Phone                                4000 non-null int64\n",
      "Contract_period                      4000 non-null int64\n",
      "Group_visits                         4000 non-null int64\n",
      "Age                                  4000 non-null int64\n",
      "Avg_additional_charges_total         4000 non-null float64\n",
      "Month_to_end_contract                4000 non-null float64\n",
      "Lifetime                             4000 non-null int64\n",
      "Avg_class_frequency_total            4000 non-null float64\n",
      "Avg_class_frequency_current_month    4000 non-null float64\n",
      "Churn                                4000 non-null int64\n",
      "dtypes: float64(4), int64(10)\n",
      "memory usage: 437.6 KB\n"
     ]
    }
   ],
   "source": [
    "gym.info()"
   ]
  },
  {
   "cell_type": "code",
   "execution_count": 7,
   "metadata": {},
   "outputs": [
    {
     "data": {
      "text/html": [
       "<div>\n",
       "<style scoped>\n",
       "    .dataframe tbody tr th:only-of-type {\n",
       "        vertical-align: middle;\n",
       "    }\n",
       "\n",
       "    .dataframe tbody tr th {\n",
       "        vertical-align: top;\n",
       "    }\n",
       "\n",
       "    .dataframe thead th {\n",
       "        text-align: right;\n",
       "    }\n",
       "</style>\n",
       "<table border=\"1\" class=\"dataframe\">\n",
       "  <thead>\n",
       "    <tr style=\"text-align: right;\">\n",
       "      <th></th>\n",
       "      <th>gender</th>\n",
       "      <th>Near_Location</th>\n",
       "      <th>Partner</th>\n",
       "      <th>Promo_friends</th>\n",
       "      <th>Phone</th>\n",
       "      <th>Contract_period</th>\n",
       "      <th>Group_visits</th>\n",
       "      <th>Age</th>\n",
       "      <th>Avg_additional_charges_total</th>\n",
       "      <th>Month_to_end_contract</th>\n",
       "      <th>Lifetime</th>\n",
       "      <th>Avg_class_frequency_total</th>\n",
       "      <th>Avg_class_frequency_current_month</th>\n",
       "      <th>Churn</th>\n",
       "    </tr>\n",
       "  </thead>\n",
       "  <tbody>\n",
       "    <tr>\n",
       "      <td>count</td>\n",
       "      <td>4000.000000</td>\n",
       "      <td>4000.000000</td>\n",
       "      <td>4000.000000</td>\n",
       "      <td>4000.000000</td>\n",
       "      <td>4000.000000</td>\n",
       "      <td>4000.000000</td>\n",
       "      <td>4000.000000</td>\n",
       "      <td>4000.000000</td>\n",
       "      <td>4000.000000</td>\n",
       "      <td>4000.000000</td>\n",
       "      <td>4000.000000</td>\n",
       "      <td>4000.000000</td>\n",
       "      <td>4000.000000</td>\n",
       "      <td>4000.000000</td>\n",
       "    </tr>\n",
       "    <tr>\n",
       "      <td>mean</td>\n",
       "      <td>0.510250</td>\n",
       "      <td>0.845250</td>\n",
       "      <td>0.486750</td>\n",
       "      <td>0.308500</td>\n",
       "      <td>0.903500</td>\n",
       "      <td>4.681250</td>\n",
       "      <td>0.412250</td>\n",
       "      <td>29.184250</td>\n",
       "      <td>146.943728</td>\n",
       "      <td>4.322750</td>\n",
       "      <td>3.724750</td>\n",
       "      <td>1.879020</td>\n",
       "      <td>1.767052</td>\n",
       "      <td>0.265250</td>\n",
       "    </tr>\n",
       "    <tr>\n",
       "      <td>std</td>\n",
       "      <td>0.499957</td>\n",
       "      <td>0.361711</td>\n",
       "      <td>0.499887</td>\n",
       "      <td>0.461932</td>\n",
       "      <td>0.295313</td>\n",
       "      <td>4.549706</td>\n",
       "      <td>0.492301</td>\n",
       "      <td>3.258367</td>\n",
       "      <td>96.355602</td>\n",
       "      <td>4.191297</td>\n",
       "      <td>3.749267</td>\n",
       "      <td>0.972245</td>\n",
       "      <td>1.052906</td>\n",
       "      <td>0.441521</td>\n",
       "    </tr>\n",
       "    <tr>\n",
       "      <td>min</td>\n",
       "      <td>0.000000</td>\n",
       "      <td>0.000000</td>\n",
       "      <td>0.000000</td>\n",
       "      <td>0.000000</td>\n",
       "      <td>0.000000</td>\n",
       "      <td>1.000000</td>\n",
       "      <td>0.000000</td>\n",
       "      <td>18.000000</td>\n",
       "      <td>0.148205</td>\n",
       "      <td>1.000000</td>\n",
       "      <td>0.000000</td>\n",
       "      <td>0.000000</td>\n",
       "      <td>0.000000</td>\n",
       "      <td>0.000000</td>\n",
       "    </tr>\n",
       "    <tr>\n",
       "      <td>25%</td>\n",
       "      <td>0.000000</td>\n",
       "      <td>1.000000</td>\n",
       "      <td>0.000000</td>\n",
       "      <td>0.000000</td>\n",
       "      <td>1.000000</td>\n",
       "      <td>1.000000</td>\n",
       "      <td>0.000000</td>\n",
       "      <td>27.000000</td>\n",
       "      <td>68.868830</td>\n",
       "      <td>1.000000</td>\n",
       "      <td>1.000000</td>\n",
       "      <td>1.180875</td>\n",
       "      <td>0.963003</td>\n",
       "      <td>0.000000</td>\n",
       "    </tr>\n",
       "    <tr>\n",
       "      <td>50%</td>\n",
       "      <td>1.000000</td>\n",
       "      <td>1.000000</td>\n",
       "      <td>0.000000</td>\n",
       "      <td>0.000000</td>\n",
       "      <td>1.000000</td>\n",
       "      <td>1.000000</td>\n",
       "      <td>0.000000</td>\n",
       "      <td>29.000000</td>\n",
       "      <td>136.220159</td>\n",
       "      <td>1.000000</td>\n",
       "      <td>3.000000</td>\n",
       "      <td>1.832768</td>\n",
       "      <td>1.719574</td>\n",
       "      <td>0.000000</td>\n",
       "    </tr>\n",
       "    <tr>\n",
       "      <td>75%</td>\n",
       "      <td>1.000000</td>\n",
       "      <td>1.000000</td>\n",
       "      <td>1.000000</td>\n",
       "      <td>1.000000</td>\n",
       "      <td>1.000000</td>\n",
       "      <td>6.000000</td>\n",
       "      <td>1.000000</td>\n",
       "      <td>31.000000</td>\n",
       "      <td>210.949625</td>\n",
       "      <td>6.000000</td>\n",
       "      <td>5.000000</td>\n",
       "      <td>2.536078</td>\n",
       "      <td>2.510336</td>\n",
       "      <td>1.000000</td>\n",
       "    </tr>\n",
       "    <tr>\n",
       "      <td>max</td>\n",
       "      <td>1.000000</td>\n",
       "      <td>1.000000</td>\n",
       "      <td>1.000000</td>\n",
       "      <td>1.000000</td>\n",
       "      <td>1.000000</td>\n",
       "      <td>12.000000</td>\n",
       "      <td>1.000000</td>\n",
       "      <td>41.000000</td>\n",
       "      <td>552.590740</td>\n",
       "      <td>12.000000</td>\n",
       "      <td>31.000000</td>\n",
       "      <td>6.023668</td>\n",
       "      <td>6.146783</td>\n",
       "      <td>1.000000</td>\n",
       "    </tr>\n",
       "  </tbody>\n",
       "</table>\n",
       "</div>"
      ],
      "text/plain": [
       "            gender  Near_Location      Partner  Promo_friends        Phone  \\\n",
       "count  4000.000000    4000.000000  4000.000000    4000.000000  4000.000000   \n",
       "mean      0.510250       0.845250     0.486750       0.308500     0.903500   \n",
       "std       0.499957       0.361711     0.499887       0.461932     0.295313   \n",
       "min       0.000000       0.000000     0.000000       0.000000     0.000000   \n",
       "25%       0.000000       1.000000     0.000000       0.000000     1.000000   \n",
       "50%       1.000000       1.000000     0.000000       0.000000     1.000000   \n",
       "75%       1.000000       1.000000     1.000000       1.000000     1.000000   \n",
       "max       1.000000       1.000000     1.000000       1.000000     1.000000   \n",
       "\n",
       "       Contract_period  Group_visits          Age  \\\n",
       "count      4000.000000   4000.000000  4000.000000   \n",
       "mean          4.681250      0.412250    29.184250   \n",
       "std           4.549706      0.492301     3.258367   \n",
       "min           1.000000      0.000000    18.000000   \n",
       "25%           1.000000      0.000000    27.000000   \n",
       "50%           1.000000      0.000000    29.000000   \n",
       "75%           6.000000      1.000000    31.000000   \n",
       "max          12.000000      1.000000    41.000000   \n",
       "\n",
       "       Avg_additional_charges_total  Month_to_end_contract     Lifetime  \\\n",
       "count                   4000.000000            4000.000000  4000.000000   \n",
       "mean                     146.943728               4.322750     3.724750   \n",
       "std                       96.355602               4.191297     3.749267   \n",
       "min                        0.148205               1.000000     0.000000   \n",
       "25%                       68.868830               1.000000     1.000000   \n",
       "50%                      136.220159               1.000000     3.000000   \n",
       "75%                      210.949625               6.000000     5.000000   \n",
       "max                      552.590740              12.000000    31.000000   \n",
       "\n",
       "       Avg_class_frequency_total  Avg_class_frequency_current_month  \\\n",
       "count                4000.000000                        4000.000000   \n",
       "mean                    1.879020                           1.767052   \n",
       "std                     0.972245                           1.052906   \n",
       "min                     0.000000                           0.000000   \n",
       "25%                     1.180875                           0.963003   \n",
       "50%                     1.832768                           1.719574   \n",
       "75%                     2.536078                           2.510336   \n",
       "max                     6.023668                           6.146783   \n",
       "\n",
       "             Churn  \n",
       "count  4000.000000  \n",
       "mean      0.265250  \n",
       "std       0.441521  \n",
       "min       0.000000  \n",
       "25%       0.000000  \n",
       "50%       0.000000  \n",
       "75%       1.000000  \n",
       "max       1.000000  "
      ]
     },
     "execution_count": 7,
     "metadata": {},
     "output_type": "execute_result"
    }
   ],
   "source": [
    "gym.describe()"
   ]
  },
  {
   "cell_type": "markdown",
   "metadata": {},
   "source": [
    "\n",
    "Данные за нас обработали: убрали пропуски, заменили категориальные переменные на количесвтенные и провели их стандартизацию. <br><h6>Из данных мы узнаем: </h6> - максимальная длительность абонемента - 12 месяцев,<br> - в среднем, на дополнительные услуги фитнес-центра тратят около 140 руб (возможная точка роста прибыли),<br> - половина пользователей покупает абонемент на месяц и половина пользователей задерживается в фитнес-центре на 3 месяца, <br> - в среднем, посещают зал 1.8 раз в неделю (скорее всего два, но иногла пропускают одно занятие, <br> - более половины пользователей приходят не по партнерской программе,<br> - для большинства клиентов зал находится на каком-то расстоянии от места работы/дома,<br> - почти все указывают свой номер телефона.<br><br><br>\n",
    "Разделим данные на две группы - оставшиеся (0) и ушедшие (1), сравним распределение характеристик между собой."
   ]
  },
  {
   "cell_type": "code",
   "execution_count": 8,
   "metadata": {},
   "outputs": [],
   "source": [
    "outflow = gym.query('Churn == 1')\n",
    "remained = gym.query('Churn == 0')"
   ]
  },
  {
   "cell_type": "code",
   "execution_count": 9,
   "metadata": {},
   "outputs": [
    {
     "data": {
      "text/html": [
       "<div>\n",
       "<style scoped>\n",
       "    .dataframe tbody tr th:only-of-type {\n",
       "        vertical-align: middle;\n",
       "    }\n",
       "\n",
       "    .dataframe tbody tr th {\n",
       "        vertical-align: top;\n",
       "    }\n",
       "\n",
       "    .dataframe thead th {\n",
       "        text-align: right;\n",
       "    }\n",
       "</style>\n",
       "<table border=\"1\" class=\"dataframe\">\n",
       "  <thead>\n",
       "    <tr style=\"text-align: right;\">\n",
       "      <th></th>\n",
       "      <th>gender</th>\n",
       "      <th>Near_Location</th>\n",
       "      <th>Partner</th>\n",
       "      <th>Promo_friends</th>\n",
       "      <th>Phone</th>\n",
       "      <th>Contract_period</th>\n",
       "      <th>Group_visits</th>\n",
       "      <th>Age</th>\n",
       "      <th>Avg_additional_charges_total</th>\n",
       "      <th>Month_to_end_contract</th>\n",
       "      <th>Lifetime</th>\n",
       "      <th>Avg_class_frequency_total</th>\n",
       "      <th>Avg_class_frequency_current_month</th>\n",
       "      <th>Churn</th>\n",
       "    </tr>\n",
       "  </thead>\n",
       "  <tbody>\n",
       "    <tr>\n",
       "      <td>count</td>\n",
       "      <td>1061.000000</td>\n",
       "      <td>1061.000000</td>\n",
       "      <td>1061.000000</td>\n",
       "      <td>1061.000000</td>\n",
       "      <td>1061.000000</td>\n",
       "      <td>1061.000000</td>\n",
       "      <td>1061.000000</td>\n",
       "      <td>1061.000000</td>\n",
       "      <td>1061.000000</td>\n",
       "      <td>1061.000000</td>\n",
       "      <td>1061.000000</td>\n",
       "      <td>1061.000000</td>\n",
       "      <td>1061.000000</td>\n",
       "      <td>1061.0</td>\n",
       "    </tr>\n",
       "    <tr>\n",
       "      <td>mean</td>\n",
       "      <td>0.510839</td>\n",
       "      <td>0.768143</td>\n",
       "      <td>0.355325</td>\n",
       "      <td>0.183789</td>\n",
       "      <td>0.902922</td>\n",
       "      <td>1.728558</td>\n",
       "      <td>0.268615</td>\n",
       "      <td>26.989632</td>\n",
       "      <td>115.082899</td>\n",
       "      <td>1.662582</td>\n",
       "      <td>0.990575</td>\n",
       "      <td>1.474995</td>\n",
       "      <td>1.044546</td>\n",
       "      <td>1.0</td>\n",
       "    </tr>\n",
       "    <tr>\n",
       "      <td>std</td>\n",
       "      <td>0.500118</td>\n",
       "      <td>0.422217</td>\n",
       "      <td>0.478837</td>\n",
       "      <td>0.387495</td>\n",
       "      <td>0.296204</td>\n",
       "      <td>2.132371</td>\n",
       "      <td>0.443448</td>\n",
       "      <td>2.895163</td>\n",
       "      <td>77.696419</td>\n",
       "      <td>1.964593</td>\n",
       "      <td>1.110799</td>\n",
       "      <td>0.694705</td>\n",
       "      <td>0.770237</td>\n",
       "      <td>0.0</td>\n",
       "    </tr>\n",
       "    <tr>\n",
       "      <td>min</td>\n",
       "      <td>0.000000</td>\n",
       "      <td>0.000000</td>\n",
       "      <td>0.000000</td>\n",
       "      <td>0.000000</td>\n",
       "      <td>0.000000</td>\n",
       "      <td>1.000000</td>\n",
       "      <td>0.000000</td>\n",
       "      <td>18.000000</td>\n",
       "      <td>0.148205</td>\n",
       "      <td>1.000000</td>\n",
       "      <td>0.000000</td>\n",
       "      <td>0.000000</td>\n",
       "      <td>0.000000</td>\n",
       "      <td>1.0</td>\n",
       "    </tr>\n",
       "    <tr>\n",
       "      <td>25%</td>\n",
       "      <td>0.000000</td>\n",
       "      <td>1.000000</td>\n",
       "      <td>0.000000</td>\n",
       "      <td>0.000000</td>\n",
       "      <td>1.000000</td>\n",
       "      <td>1.000000</td>\n",
       "      <td>0.000000</td>\n",
       "      <td>25.000000</td>\n",
       "      <td>50.629127</td>\n",
       "      <td>1.000000</td>\n",
       "      <td>0.000000</td>\n",
       "      <td>1.010771</td>\n",
       "      <td>0.421337</td>\n",
       "      <td>1.0</td>\n",
       "    </tr>\n",
       "    <tr>\n",
       "      <td>50%</td>\n",
       "      <td>1.000000</td>\n",
       "      <td>1.000000</td>\n",
       "      <td>0.000000</td>\n",
       "      <td>0.000000</td>\n",
       "      <td>1.000000</td>\n",
       "      <td>1.000000</td>\n",
       "      <td>0.000000</td>\n",
       "      <td>27.000000</td>\n",
       "      <td>103.814686</td>\n",
       "      <td>1.000000</td>\n",
       "      <td>1.000000</td>\n",
       "      <td>1.491187</td>\n",
       "      <td>0.979445</td>\n",
       "      <td>1.0</td>\n",
       "    </tr>\n",
       "    <tr>\n",
       "      <td>75%</td>\n",
       "      <td>1.000000</td>\n",
       "      <td>1.000000</td>\n",
       "      <td>1.000000</td>\n",
       "      <td>0.000000</td>\n",
       "      <td>1.000000</td>\n",
       "      <td>1.000000</td>\n",
       "      <td>1.000000</td>\n",
       "      <td>29.000000</td>\n",
       "      <td>165.616858</td>\n",
       "      <td>1.000000</td>\n",
       "      <td>1.000000</td>\n",
       "      <td>1.956438</td>\n",
       "      <td>1.588576</td>\n",
       "      <td>1.0</td>\n",
       "    </tr>\n",
       "    <tr>\n",
       "      <td>max</td>\n",
       "      <td>1.000000</td>\n",
       "      <td>1.000000</td>\n",
       "      <td>1.000000</td>\n",
       "      <td>1.000000</td>\n",
       "      <td>1.000000</td>\n",
       "      <td>12.000000</td>\n",
       "      <td>1.000000</td>\n",
       "      <td>38.000000</td>\n",
       "      <td>425.535220</td>\n",
       "      <td>12.000000</td>\n",
       "      <td>9.000000</td>\n",
       "      <td>3.478646</td>\n",
       "      <td>3.540271</td>\n",
       "      <td>1.0</td>\n",
       "    </tr>\n",
       "  </tbody>\n",
       "</table>\n",
       "</div>"
      ],
      "text/plain": [
       "            gender  Near_Location      Partner  Promo_friends        Phone  \\\n",
       "count  1061.000000    1061.000000  1061.000000    1061.000000  1061.000000   \n",
       "mean      0.510839       0.768143     0.355325       0.183789     0.902922   \n",
       "std       0.500118       0.422217     0.478837       0.387495     0.296204   \n",
       "min       0.000000       0.000000     0.000000       0.000000     0.000000   \n",
       "25%       0.000000       1.000000     0.000000       0.000000     1.000000   \n",
       "50%       1.000000       1.000000     0.000000       0.000000     1.000000   \n",
       "75%       1.000000       1.000000     1.000000       0.000000     1.000000   \n",
       "max       1.000000       1.000000     1.000000       1.000000     1.000000   \n",
       "\n",
       "       Contract_period  Group_visits          Age  \\\n",
       "count      1061.000000   1061.000000  1061.000000   \n",
       "mean          1.728558      0.268615    26.989632   \n",
       "std           2.132371      0.443448     2.895163   \n",
       "min           1.000000      0.000000    18.000000   \n",
       "25%           1.000000      0.000000    25.000000   \n",
       "50%           1.000000      0.000000    27.000000   \n",
       "75%           1.000000      1.000000    29.000000   \n",
       "max          12.000000      1.000000    38.000000   \n",
       "\n",
       "       Avg_additional_charges_total  Month_to_end_contract     Lifetime  \\\n",
       "count                   1061.000000            1061.000000  1061.000000   \n",
       "mean                     115.082899               1.662582     0.990575   \n",
       "std                       77.696419               1.964593     1.110799   \n",
       "min                        0.148205               1.000000     0.000000   \n",
       "25%                       50.629127               1.000000     0.000000   \n",
       "50%                      103.814686               1.000000     1.000000   \n",
       "75%                      165.616858               1.000000     1.000000   \n",
       "max                      425.535220              12.000000     9.000000   \n",
       "\n",
       "       Avg_class_frequency_total  Avg_class_frequency_current_month   Churn  \n",
       "count                1061.000000                        1061.000000  1061.0  \n",
       "mean                    1.474995                           1.044546     1.0  \n",
       "std                     0.694705                           0.770237     0.0  \n",
       "min                     0.000000                           0.000000     1.0  \n",
       "25%                     1.010771                           0.421337     1.0  \n",
       "50%                     1.491187                           0.979445     1.0  \n",
       "75%                     1.956438                           1.588576     1.0  \n",
       "max                     3.478646                           3.540271     1.0  "
      ]
     },
     "execution_count": 9,
     "metadata": {},
     "output_type": "execute_result"
    }
   ],
   "source": [
    "outflow.describe()"
   ]
  },
  {
   "cell_type": "code",
   "execution_count": 10,
   "metadata": {
    "scrolled": true
   },
   "outputs": [
    {
     "data": {
      "text/html": [
       "<div>\n",
       "<style scoped>\n",
       "    .dataframe tbody tr th:only-of-type {\n",
       "        vertical-align: middle;\n",
       "    }\n",
       "\n",
       "    .dataframe tbody tr th {\n",
       "        vertical-align: top;\n",
       "    }\n",
       "\n",
       "    .dataframe thead th {\n",
       "        text-align: right;\n",
       "    }\n",
       "</style>\n",
       "<table border=\"1\" class=\"dataframe\">\n",
       "  <thead>\n",
       "    <tr style=\"text-align: right;\">\n",
       "      <th></th>\n",
       "      <th>gender</th>\n",
       "      <th>Near_Location</th>\n",
       "      <th>Partner</th>\n",
       "      <th>Promo_friends</th>\n",
       "      <th>Phone</th>\n",
       "      <th>Contract_period</th>\n",
       "      <th>Group_visits</th>\n",
       "      <th>Age</th>\n",
       "      <th>Avg_additional_charges_total</th>\n",
       "      <th>Month_to_end_contract</th>\n",
       "      <th>Lifetime</th>\n",
       "      <th>Avg_class_frequency_total</th>\n",
       "      <th>Avg_class_frequency_current_month</th>\n",
       "      <th>Churn</th>\n",
       "    </tr>\n",
       "  </thead>\n",
       "  <tbody>\n",
       "    <tr>\n",
       "      <td>count</td>\n",
       "      <td>2939.000000</td>\n",
       "      <td>2939.000000</td>\n",
       "      <td>2939.000000</td>\n",
       "      <td>2939.000000</td>\n",
       "      <td>2939.000000</td>\n",
       "      <td>2939.000000</td>\n",
       "      <td>2939.000000</td>\n",
       "      <td>2939.000000</td>\n",
       "      <td>2939.000000</td>\n",
       "      <td>2939.000000</td>\n",
       "      <td>2939.000000</td>\n",
       "      <td>2939.000000</td>\n",
       "      <td>2939.000000</td>\n",
       "      <td>2939.0</td>\n",
       "    </tr>\n",
       "    <tr>\n",
       "      <td>mean</td>\n",
       "      <td>0.510037</td>\n",
       "      <td>0.873086</td>\n",
       "      <td>0.534195</td>\n",
       "      <td>0.353522</td>\n",
       "      <td>0.903709</td>\n",
       "      <td>5.747193</td>\n",
       "      <td>0.464103</td>\n",
       "      <td>29.976523</td>\n",
       "      <td>158.445715</td>\n",
       "      <td>5.283089</td>\n",
       "      <td>4.711807</td>\n",
       "      <td>2.024876</td>\n",
       "      <td>2.027882</td>\n",
       "      <td>0.0</td>\n",
       "    </tr>\n",
       "    <tr>\n",
       "      <td>std</td>\n",
       "      <td>0.499984</td>\n",
       "      <td>0.332933</td>\n",
       "      <td>0.498914</td>\n",
       "      <td>0.478144</td>\n",
       "      <td>0.295040</td>\n",
       "      <td>4.716942</td>\n",
       "      <td>0.498795</td>\n",
       "      <td>3.009933</td>\n",
       "      <td>99.801599</td>\n",
       "      <td>4.363522</td>\n",
       "      <td>3.874780</td>\n",
       "      <td>1.016006</td>\n",
       "      <td>1.018994</td>\n",
       "      <td>0.0</td>\n",
       "    </tr>\n",
       "    <tr>\n",
       "      <td>min</td>\n",
       "      <td>0.000000</td>\n",
       "      <td>0.000000</td>\n",
       "      <td>0.000000</td>\n",
       "      <td>0.000000</td>\n",
       "      <td>0.000000</td>\n",
       "      <td>1.000000</td>\n",
       "      <td>0.000000</td>\n",
       "      <td>19.000000</td>\n",
       "      <td>0.171862</td>\n",
       "      <td>1.000000</td>\n",
       "      <td>0.000000</td>\n",
       "      <td>0.000000</td>\n",
       "      <td>0.000000</td>\n",
       "      <td>0.0</td>\n",
       "    </tr>\n",
       "    <tr>\n",
       "      <td>25%</td>\n",
       "      <td>0.000000</td>\n",
       "      <td>1.000000</td>\n",
       "      <td>0.000000</td>\n",
       "      <td>0.000000</td>\n",
       "      <td>1.000000</td>\n",
       "      <td>1.000000</td>\n",
       "      <td>0.000000</td>\n",
       "      <td>28.000000</td>\n",
       "      <td>76.920993</td>\n",
       "      <td>1.000000</td>\n",
       "      <td>2.000000</td>\n",
       "      <td>1.283137</td>\n",
       "      <td>1.297021</td>\n",
       "      <td>0.0</td>\n",
       "    </tr>\n",
       "    <tr>\n",
       "      <td>50%</td>\n",
       "      <td>1.000000</td>\n",
       "      <td>1.000000</td>\n",
       "      <td>1.000000</td>\n",
       "      <td>0.000000</td>\n",
       "      <td>1.000000</td>\n",
       "      <td>6.000000</td>\n",
       "      <td>0.000000</td>\n",
       "      <td>30.000000</td>\n",
       "      <td>149.881171</td>\n",
       "      <td>6.000000</td>\n",
       "      <td>4.000000</td>\n",
       "      <td>2.043252</td>\n",
       "      <td>2.046697</td>\n",
       "      <td>0.0</td>\n",
       "    </tr>\n",
       "    <tr>\n",
       "      <td>75%</td>\n",
       "      <td>1.000000</td>\n",
       "      <td>1.000000</td>\n",
       "      <td>1.000000</td>\n",
       "      <td>1.000000</td>\n",
       "      <td>1.000000</td>\n",
       "      <td>12.000000</td>\n",
       "      <td>1.000000</td>\n",
       "      <td>32.000000</td>\n",
       "      <td>224.448274</td>\n",
       "      <td>10.000000</td>\n",
       "      <td>6.000000</td>\n",
       "      <td>2.732944</td>\n",
       "      <td>2.740648</td>\n",
       "      <td>0.0</td>\n",
       "    </tr>\n",
       "    <tr>\n",
       "      <td>max</td>\n",
       "      <td>1.000000</td>\n",
       "      <td>1.000000</td>\n",
       "      <td>1.000000</td>\n",
       "      <td>1.000000</td>\n",
       "      <td>1.000000</td>\n",
       "      <td>12.000000</td>\n",
       "      <td>1.000000</td>\n",
       "      <td>41.000000</td>\n",
       "      <td>552.590740</td>\n",
       "      <td>12.000000</td>\n",
       "      <td>31.000000</td>\n",
       "      <td>6.023668</td>\n",
       "      <td>6.146783</td>\n",
       "      <td>0.0</td>\n",
       "    </tr>\n",
       "  </tbody>\n",
       "</table>\n",
       "</div>"
      ],
      "text/plain": [
       "            gender  Near_Location      Partner  Promo_friends        Phone  \\\n",
       "count  2939.000000    2939.000000  2939.000000    2939.000000  2939.000000   \n",
       "mean      0.510037       0.873086     0.534195       0.353522     0.903709   \n",
       "std       0.499984       0.332933     0.498914       0.478144     0.295040   \n",
       "min       0.000000       0.000000     0.000000       0.000000     0.000000   \n",
       "25%       0.000000       1.000000     0.000000       0.000000     1.000000   \n",
       "50%       1.000000       1.000000     1.000000       0.000000     1.000000   \n",
       "75%       1.000000       1.000000     1.000000       1.000000     1.000000   \n",
       "max       1.000000       1.000000     1.000000       1.000000     1.000000   \n",
       "\n",
       "       Contract_period  Group_visits          Age  \\\n",
       "count      2939.000000   2939.000000  2939.000000   \n",
       "mean          5.747193      0.464103    29.976523   \n",
       "std           4.716942      0.498795     3.009933   \n",
       "min           1.000000      0.000000    19.000000   \n",
       "25%           1.000000      0.000000    28.000000   \n",
       "50%           6.000000      0.000000    30.000000   \n",
       "75%          12.000000      1.000000    32.000000   \n",
       "max          12.000000      1.000000    41.000000   \n",
       "\n",
       "       Avg_additional_charges_total  Month_to_end_contract     Lifetime  \\\n",
       "count                   2939.000000            2939.000000  2939.000000   \n",
       "mean                     158.445715               5.283089     4.711807   \n",
       "std                       99.801599               4.363522     3.874780   \n",
       "min                        0.171862               1.000000     0.000000   \n",
       "25%                       76.920993               1.000000     2.000000   \n",
       "50%                      149.881171               6.000000     4.000000   \n",
       "75%                      224.448274              10.000000     6.000000   \n",
       "max                      552.590740              12.000000    31.000000   \n",
       "\n",
       "       Avg_class_frequency_total  Avg_class_frequency_current_month   Churn  \n",
       "count                2939.000000                        2939.000000  2939.0  \n",
       "mean                    2.024876                           2.027882     0.0  \n",
       "std                     1.016006                           1.018994     0.0  \n",
       "min                     0.000000                           0.000000     0.0  \n",
       "25%                     1.283137                           1.297021     0.0  \n",
       "50%                     2.043252                           2.046697     0.0  \n",
       "75%                     2.732944                           2.740648     0.0  \n",
       "max                     6.023668                           6.146783     0.0  "
      ]
     },
     "execution_count": 10,
     "metadata": {},
     "output_type": "execute_result"
    }
   ],
   "source": [
    "remained.describe()"
   ]
  },
  {
   "cell_type": "code",
   "execution_count": 11,
   "metadata": {
    "scrolled": true
   },
   "outputs": [
    {
     "data": {
      "image/png": "[encoded data removed]",
      "text/plain": [
       "<Figure size 504x288 with 1 Axes>"
      ]
     },
     "metadata": {
      "needs_background": "light"
     },
     "output_type": "display_data"
    },
    {
     "data": {
      "image/png": "[encoded data removed]",
      "text/plain": [
       "<Figure size 504x288 with 1 Axes>"
      ]
     },
     "metadata": {
      "needs_background": "light"
     },
     "output_type": "display_data"
    },
    {
     "data": {
      "image/png": "[encoded data removed]",
      "text/plain": [
       "<Figure size 504x288 with 1 Axes>"
      ]
     },
     "metadata": {
      "needs_background": "light"
     },
     "output_type": "display_data"
    },
    {
     "data": {
      "image/png": "[encoded data removed]",
      "text/plain": [
       "<Figure size 504x288 with 1 Axes>"
      ]
     },
     "metadata": {
      "needs_background": "light"
     },
     "output_type": "display_data"
    },
    {
     "data": {
      "image/png": "[encoded data removed]",
      "text/plain": [
       "<Figure size 504x288 with 1 Axes>"
      ]
     },
     "metadata": {
      "needs_background": "light"
     },
     "output_type": "display_data"
    },
    {
     "data": {
      "image/png": "[encoded data removed]",
      "text/plain": [
       "<Figure size 504x288 with 1 Axes>"
      ]
     },
     "metadata": {
      "needs_background": "light"
     },
     "output_type": "display_data"
    }
   ],
   "source": [
    "columns_count = ['gender','Near_Location', 'Partner', 'Promo_friends',\n",
    "               'Phone', 'Group_visits']\n",
    "\n",
    "for col in columns_count:\n",
    "    \n",
    "    plt.figure(figsize=(7,4))\n",
    "    ax = sns.countplot(remained[col], color = 'orange', label = 'Остались')\n",
    "    ax = sns.countplot(x = outflow[col], color = 'black', label = 'Ушли')\n",
    "    plt.title(f\"Распределение {col}\")\n",
    "    plt.legend()\n",
    "    plt.show()\n"
   ]
  },
  {
   "cell_type": "code",
   "execution_count": 12,
   "metadata": {},
   "outputs": [
    {
     "data": {
      "image/png": "[encoded data removed]",
      "text/plain": [
       "<Figure size 504x288 with 1 Axes>"
      ]
     },
     "metadata": {
      "needs_background": "light"
     },
     "output_type": "display_data"
    },
    {
     "data": {
      "image/png": "[encoded data removed]",
      "text/plain": [
       "<Figure size 504x288 with 1 Axes>"
      ]
     },
     "metadata": {
      "needs_background": "light"
     },
     "output_type": "display_data"
    },
    {
     "data": {
      "image/png": "[encoded data removed]",
      "text/plain": [
       "<Figure size 504x288 with 1 Axes>"
      ]
     },
     "metadata": {
      "needs_background": "light"
     },
     "output_type": "display_data"
    },
    {
     "data": {
      "image/png": "[encoded data removed]",
      "text/plain": [
       "<Figure size 504x288 with 1 Axes>"
      ]
     },
     "metadata": {
      "needs_background": "light"
     },
     "output_type": "display_data"
    },
    {
     "data": {
      "image/png": "[encoded data removed]",
      "text/plain": [
       "<Figure size 504x288 with 1 Axes>"
      ]
     },
     "metadata": {
      "needs_background": "light"
     },
     "output_type": "display_data"
    },
    {
     "data": {
      "image/png": "[encoded data removed]",
      "text/plain": [
       "<Figure size 504x288 with 1 Axes>"
      ]
     },
     "metadata": {
      "needs_background": "light"
     },
     "output_type": "display_data"
    },
    {
     "data": {
      "image/png": "[encoded data removed]",
      "text/plain": [
       "<Figure size 504x288 with 1 Axes>"
      ]
     },
     "metadata": {
      "needs_background": "light"
     },
     "output_type": "display_data"
    }
   ],
   "source": [
    "columns_dist = ['Contract_period','Age', 'Avg_additional_charges_total', 'Month_to_end_contract',\n",
    "               'Lifetime', 'Avg_class_frequency_total', 'Avg_class_frequency_current_month']\n",
    "for col in columns_dist:\n",
    "    \n",
    "    plt.figure(figsize=(7,4))\n",
    "    ax = sns.distplot(remained[col])\n",
    "    ax = sns.distplot(outflow[col])\n",
    "    plt.title(f\"Распределение {col}\")\n",
    "    plt.legend(labels = ['Остались', 'Ушли'])\n",
    "    plt.show()\n"
   ]
  },
  {
   "cell_type": "markdown",
   "metadata": {},
   "source": [
    "\n",
    "<h5>Из данных мы узнаем:</h5><br>\n",
    "    - пол и расстояние до работы/ места жительства не влияет на вероятностьт уйти/остаться;<br>\n",
    "    - клиенты, пришедшие от компаний-парнеров остаются чаще, чем пришедшие просто <br>\n",
    "    - оставленный номер телефона не влияет на вероятность остаться<br>\n",
    "    - те, кто берет абонемент на месяц , вероятнее всего, уйдут. И наоборот, у кого длительный абонемент, вероятнее всего, останутся<br>\n",
    "    - те, кто ходил на групповые занятия, остаются чаще (отдельная категория, на которую следует обратить внимание)<br>\n",
    "    - молодые уходят чаще, чем более зрелые клиенты. Вполне вероятно, что молодые люди еще не нашли свой вид физической активности и много экспериментируют<br>\n",
    "    - те, кто уходят, первоначально тратят больше, тем те, кто остается<br>\n",
    "    - больше всего \"отваливается\" клиентов на первых трех месяцах <br>\n",
    "    - те, кто ходит 1-2 раза в неделю, уходят чаще. Чеи больше раз в неделю клиент посещает центр, тем больше вероятность, что он останется<br>\n",
    "    - и в целом, оставшихся меньше, чем ушедших. "
   ]
  },
  {
   "cell_type": "code",
   "execution_count": 13,
   "metadata": {},
   "outputs": [
    {
     "data": {
      "image/png": "[encoded data removed]",
      "text/plain": [
       "<Figure size 864x864 with 2 Axes>"
      ]
     },
     "metadata": {
      "needs_background": "light"
     },
     "output_type": "display_data"
    }
   ],
   "source": [
    "cm = gym.corr()\n",
    "plt.figure(figsize=(12, 12))\n",
    "sns.heatmap(cm, annot=True, fmt = '.3f', square=True)\n",
    "plt.show()"
   ]
  },
  {
   "cell_type": "markdown",
   "metadata": {},
   "source": [
    "\n",
    "Наиболее скоррелированы между собой срок действия абонемента и срок его окончания и количество посещений в предыдущий месяц и среднее количество посещений. Выделяется зависимость между клиентами-партерами и приглашением друзей. Возможно коллеги любят ходить вместе после работы на групповые занятия?"
   ]
  },
  {
   "cell_type": "markdown",
   "metadata": {},
   "source": [
    "### 2. Модель бинарной классификации клиентов<br>\n",
    "\n",
    "Сравним между собой модели LogisticRegression и RandomForestClassifier"
   ]
  },
  {
   "cell_type": "code",
   "execution_count": 14,
   "metadata": {},
   "outputs": [],
   "source": [
    "x = gym.drop(columns=(\"Churn\"))\n",
    "y = gym[\"Churn\"]\n",
    "scaler = StandardScaler()\n",
    "x_train, x_test, y_train, y_test = train_test_split(x, y, test_size=0.2, random_state=0, stratify = y)\n"
   ]
  },
  {
   "cell_type": "code",
   "execution_count": 15,
   "metadata": {},
   "outputs": [],
   "source": [
    "def predict (y_test, predictions, probabilities):\n",
    "    print(f\"Доля правильных ответов {(accuracy_score(y_test, predictions)).round(2)}\")\n",
    "    print(f\"Точность {(precision_score (y_test, predictions)).round(2)}\")\n",
    "    print(f\"Полнота {(recall_score(y_test, predictions)).round(2)}\")\n",
    "    print(f\"F1-мера {(f1_score(y_test, predictions)).round(2)}\")\n",
    "    print(f\"AUC-ROC {(roc_auc_score(y_test, probabilities)).round(2)}\")\n",
    "    "
   ]
  },
  {
   "cell_type": "code",
   "execution_count": 16,
   "metadata": {},
   "outputs": [
    {
     "name": "stdout",
     "output_type": "stream",
     "text": [
      "model LogisticRegression\n",
      "Доля правильных ответов 0.93\n",
      "Точность 0.89\n",
      "Полнота 0.84\n",
      "F1-мера 0.87\n",
      "AUC-ROC 0.98\n"
     ]
    }
   ],
   "source": [
    "model = LogisticRegression(solver='liblinear', random_state = 0)\n",
    "model.fit(x_train, y_train)\n",
    "predictions = model.predict(x_test)\n",
    "probabilities = model.predict_proba(x_test)[:,1]\n",
    "\n",
    "print(\"model LogisticRegression\")\n",
    "predict(y_test, predictions, probabilities)"
   ]
  },
  {
   "cell_type": "code",
   "execution_count": 17,
   "metadata": {},
   "outputs": [
    {
     "name": "stdout",
     "output_type": "stream",
     "text": [
      "model RandomForestClassifier\n",
      "Доля правильных ответов 0.92\n",
      "Точность 0.88\n",
      "Полнота 0.83\n",
      "F1-мера 0.85\n",
      "AUC-ROC 0.97\n"
     ]
    }
   ],
   "source": [
    "model = RandomForestClassifier(n_estimators = 100, random_state = 0)\n",
    "model.fit(x_train, y_train)\n",
    "predictions = model.predict(x_test)\n",
    "probabilities = model.predict_proba(x_test)[:,1]\n",
    "\n",
    "print(\"model RandomForestClassifier\")\n",
    "predict(y_test, predictions, probabilities)"
   ]
  },
  {
   "cell_type": "markdown",
   "metadata": {},
   "source": [
    " \n",
    "Модели LogisticRegression и RandomForestClassifier показали хорошие результаты. Модель LogisticRegression показала лучше результат по метрикам точность, полнота и F1-мера. <br><br>\n",
    "    \n",
    "Так как у нас есть сильно коррелирующие признаки, удалим их и отсортируем признаки по важности. Так как модель логической регрессии показала лучшие результаты, строить таблицу важности признаков будем для нее."
   ]
  },
  {
   "cell_type": "code",
   "execution_count": 18,
   "metadata": {},
   "outputs": [],
   "source": [
    "gym = gym.drop(columns=(['Avg_class_frequency_current_month', 'Month_to_end_contract']))"
   ]
  },
  {
   "cell_type": "code",
   "execution_count": 19,
   "metadata": {},
   "outputs": [
    {
     "data": {
      "text/html": [
       "<div>\n",
       "<style scoped>\n",
       "    .dataframe tbody tr th:only-of-type {\n",
       "        vertical-align: middle;\n",
       "    }\n",
       "\n",
       "    .dataframe tbody tr th {\n",
       "        vertical-align: top;\n",
       "    }\n",
       "\n",
       "    .dataframe thead th {\n",
       "        text-align: right;\n",
       "    }\n",
       "</style>\n",
       "<table border=\"1\" class=\"dataframe\">\n",
       "  <thead>\n",
       "    <tr style=\"text-align: right;\">\n",
       "      <th></th>\n",
       "      <th>feature</th>\n",
       "      <th>importance</th>\n",
       "    </tr>\n",
       "  </thead>\n",
       "  <tbody>\n",
       "    <tr>\n",
       "      <td>0</td>\n",
       "      <td>gender</td>\n",
       "      <td>0.154482</td>\n",
       "    </tr>\n",
       "    <tr>\n",
       "      <td>4</td>\n",
       "      <td>Phone</td>\n",
       "      <td>0.075997</td>\n",
       "    </tr>\n",
       "    <tr>\n",
       "      <td>1</td>\n",
       "      <td>Near_Location</td>\n",
       "      <td>0.007011</td>\n",
       "    </tr>\n",
       "    <tr>\n",
       "      <td>2</td>\n",
       "      <td>Partner</td>\n",
       "      <td>-0.002670</td>\n",
       "    </tr>\n",
       "    <tr>\n",
       "      <td>8</td>\n",
       "      <td>Avg_additional_charges_total</td>\n",
       "      <td>-0.004908</td>\n",
       "    </tr>\n",
       "    <tr>\n",
       "      <td>7</td>\n",
       "      <td>Age</td>\n",
       "      <td>-0.200437</td>\n",
       "    </tr>\n",
       "    <tr>\n",
       "      <td>5</td>\n",
       "      <td>Contract_period</td>\n",
       "      <td>-0.266428</td>\n",
       "    </tr>\n",
       "    <tr>\n",
       "      <td>3</td>\n",
       "      <td>Promo_friends</td>\n",
       "      <td>-0.458202</td>\n",
       "    </tr>\n",
       "    <tr>\n",
       "      <td>10</td>\n",
       "      <td>Avg_class_frequency_total</td>\n",
       "      <td>-0.613667</td>\n",
       "    </tr>\n",
       "    <tr>\n",
       "      <td>6</td>\n",
       "      <td>Group_visits</td>\n",
       "      <td>-0.640821</td>\n",
       "    </tr>\n",
       "    <tr>\n",
       "      <td>9</td>\n",
       "      <td>Lifetime</td>\n",
       "      <td>-0.965818</td>\n",
       "    </tr>\n",
       "  </tbody>\n",
       "</table>\n",
       "</div>"
      ],
      "text/plain": [
       "                         feature  importance\n",
       "0                         gender    0.154482\n",
       "4                          Phone    0.075997\n",
       "1                  Near_Location    0.007011\n",
       "2                        Partner   -0.002670\n",
       "8   Avg_additional_charges_total   -0.004908\n",
       "7                            Age   -0.200437\n",
       "5                Contract_period   -0.266428\n",
       "3                  Promo_friends   -0.458202\n",
       "10     Avg_class_frequency_total   -0.613667\n",
       "6                   Group_visits   -0.640821\n",
       "9                       Lifetime   -0.965818"
      ]
     },
     "execution_count": 19,
     "metadata": {},
     "output_type": "execute_result"
    }
   ],
   "source": [
    "x = gym.drop(columns=('Churn'))\n",
    "y = gym['Churn']\n",
    "scaler = StandardScaler()\n",
    "x_train, x_test, y_train, y_test = train_test_split(x, y, test_size=0.2, random_state=0)\n",
    "\n",
    "\n",
    "model = LogisticRegression(solver='liblinear', random_state = 0)\n",
    "model.fit(x_train, y_train)\n",
    "predictions = model.predict(x_test)\n",
    "\n",
    "\n",
    "importance = pd.DataFrame(data={'feature': x_test.columns,\n",
    "                               'importance': model.coef_[0]})\n",
    "importance = importance.sort_values(by='importance', ascending=False)\n",
    "importance"
   ]
  },
  {
   "cell_type": "markdown",
   "metadata": {},
   "source": [
    "\n",
    "Мы наблюдаем обратную зависимость от \"времени жизни\" клиента, посещения групповых занятий, среднего посещения зала в неделю и прихода по акции \"приведи друга\". "
   ]
  },
  {
   "cell_type": "markdown",
   "metadata": {},
   "source": [
    "### 3. Кластеризация клиентов <br>\n",
    "\n",
    "Нарисуем дендограмму"
   ]
  },
  {
   "cell_type": "code",
   "execution_count": 20,
   "metadata": {
    "scrolled": true
   },
   "outputs": [
    {
     "data": {
      "image/png": "[encoded data removed]",
      "text/plain": [
       "<Figure size 720x504 with 1 Axes>"
      ]
     },
     "metadata": {
      "needs_background": "light"
     },
     "output_type": "display_data"
    }
   ],
   "source": [
    "sc = StandardScaler()\n",
    "x_sc = sc.fit_transform(x)\n",
    "\n",
    "linked = linkage(x_scv, method = 'ward')\n",
    "\n",
    "plt.figure(figsize=(10, 7))  \n",
    "dendrogram(linked, orientation='top')\n",
    "plt.show() "
   ]
  },
  {
   "cell_type": "markdown",
   "metadata": {},
   "source": [
    "\n",
    "На дендрограмме мы увидели 4 класса\n",
    "    "
   ]
  },
  {
   "cell_type": "code",
   "execution_count": 21,
   "metadata": {},
   "outputs": [],
   "source": [
    "sc = StandardScaler()\n",
    "x_sc = sc.fit_transform(x)\n",
    "\n",
    "km = KMeans(n_clusters = 5, random_state = 0) \n",
    "labels = km.fit_predict(x_sc)\n",
    "\n",
    "df_cluster = gym\n",
    "df_cluster['cluster_km'] = labels\n",
    "\n",
    "df_cluster_gr = df_cluster.groupby('cluster_km').mean()"
   ]
  },
  {
   "cell_type": "code",
   "execution_count": 22,
   "metadata": {
    "scrolled": true
   },
   "outputs": [
    {
     "data": {
      "text/html": [
       "<div>\n",
       "<style scoped>\n",
       "    .dataframe tbody tr th:only-of-type {\n",
       "        vertical-align: middle;\n",
       "    }\n",
       "\n",
       "    .dataframe tbody tr th {\n",
       "        vertical-align: top;\n",
       "    }\n",
       "\n",
       "    .dataframe thead th {\n",
       "        text-align: right;\n",
       "    }\n",
       "</style>\n",
       "<table border=\"1\" class=\"dataframe\">\n",
       "  <thead>\n",
       "    <tr style=\"text-align: right;\">\n",
       "      <th></th>\n",
       "      <th>gender</th>\n",
       "      <th>Near_Location</th>\n",
       "      <th>Partner</th>\n",
       "      <th>Promo_friends</th>\n",
       "      <th>Phone</th>\n",
       "      <th>Contract_period</th>\n",
       "      <th>Group_visits</th>\n",
       "      <th>Age</th>\n",
       "      <th>Avg_additional_charges_total</th>\n",
       "      <th>Lifetime</th>\n",
       "      <th>Avg_class_frequency_total</th>\n",
       "      <th>Churn</th>\n",
       "    </tr>\n",
       "    <tr>\n",
       "      <th>cluster_km</th>\n",
       "      <th></th>\n",
       "      <th></th>\n",
       "      <th></th>\n",
       "      <th></th>\n",
       "      <th></th>\n",
       "      <th></th>\n",
       "      <th></th>\n",
       "      <th></th>\n",
       "      <th></th>\n",
       "      <th></th>\n",
       "      <th></th>\n",
       "      <th></th>\n",
       "    </tr>\n",
       "  </thead>\n",
       "  <tbody>\n",
       "    <tr>\n",
       "      <td>0</td>\n",
       "      <td>0.499109</td>\n",
       "      <td>0.000000</td>\n",
       "      <td>0.488414</td>\n",
       "      <td>0.076649</td>\n",
       "      <td>1.0</td>\n",
       "      <td>3.032086</td>\n",
       "      <td>0.235294</td>\n",
       "      <td>28.721925</td>\n",
       "      <td>137.540009</td>\n",
       "      <td>3.060606</td>\n",
       "      <td>1.770413</td>\n",
       "      <td>0.399287</td>\n",
       "    </tr>\n",
       "    <tr>\n",
       "      <td>1</td>\n",
       "      <td>0.488571</td>\n",
       "      <td>0.995238</td>\n",
       "      <td>0.955238</td>\n",
       "      <td>0.892381</td>\n",
       "      <td>1.0</td>\n",
       "      <td>7.660952</td>\n",
       "      <td>0.458095</td>\n",
       "      <td>29.543810</td>\n",
       "      <td>155.861428</td>\n",
       "      <td>4.380952</td>\n",
       "      <td>1.978963</td>\n",
       "      <td>0.120952</td>\n",
       "    </tr>\n",
       "    <tr>\n",
       "      <td>2</td>\n",
       "      <td>0.505300</td>\n",
       "      <td>1.000000</td>\n",
       "      <td>0.238516</td>\n",
       "      <td>0.059187</td>\n",
       "      <td>1.0</td>\n",
       "      <td>2.819788</td>\n",
       "      <td>0.000000</td>\n",
       "      <td>28.770318</td>\n",
       "      <td>143.383993</td>\n",
       "      <td>3.343640</td>\n",
       "      <td>1.800647</td>\n",
       "      <td>0.381625</td>\n",
       "    </tr>\n",
       "    <tr>\n",
       "      <td>3</td>\n",
       "      <td>0.544202</td>\n",
       "      <td>1.000000</td>\n",
       "      <td>0.250287</td>\n",
       "      <td>0.079219</td>\n",
       "      <td>1.0</td>\n",
       "      <td>4.528129</td>\n",
       "      <td>1.000000</td>\n",
       "      <td>29.536165</td>\n",
       "      <td>148.088897</td>\n",
       "      <td>3.761194</td>\n",
       "      <td>1.941342</td>\n",
       "      <td>0.200918</td>\n",
       "    </tr>\n",
       "    <tr>\n",
       "      <td>4</td>\n",
       "      <td>0.523316</td>\n",
       "      <td>0.862694</td>\n",
       "      <td>0.471503</td>\n",
       "      <td>0.305699</td>\n",
       "      <td>0.0</td>\n",
       "      <td>4.777202</td>\n",
       "      <td>0.427461</td>\n",
       "      <td>29.297927</td>\n",
       "      <td>144.208179</td>\n",
       "      <td>3.940415</td>\n",
       "      <td>1.854211</td>\n",
       "      <td>0.266839</td>\n",
       "    </tr>\n",
       "  </tbody>\n",
       "</table>\n",
       "</div>"
      ],
      "text/plain": [
       "              gender  Near_Location   Partner  Promo_friends  Phone  \\\n",
       "cluster_km                                                            \n",
       "0           0.499109       0.000000  0.488414       0.076649    1.0   \n",
       "1           0.488571       0.995238  0.955238       0.892381    1.0   \n",
       "2           0.505300       1.000000  0.238516       0.059187    1.0   \n",
       "3           0.544202       1.000000  0.250287       0.079219    1.0   \n",
       "4           0.523316       0.862694  0.471503       0.305699    0.0   \n",
       "\n",
       "            Contract_period  Group_visits        Age  \\\n",
       "cluster_km                                             \n",
       "0                  3.032086      0.235294  28.721925   \n",
       "1                  7.660952      0.458095  29.543810   \n",
       "2                  2.819788      0.000000  28.770318   \n",
       "3                  4.528129      1.000000  29.536165   \n",
       "4                  4.777202      0.427461  29.297927   \n",
       "\n",
       "            Avg_additional_charges_total  Lifetime  Avg_class_frequency_total  \\\n",
       "cluster_km                                                                      \n",
       "0                             137.540009  3.060606                   1.770413   \n",
       "1                             155.861428  4.380952                   1.978963   \n",
       "2                             143.383993  3.343640                   1.800647   \n",
       "3                             148.088897  3.761194                   1.941342   \n",
       "4                             144.208179  3.940415                   1.854211   \n",
       "\n",
       "               Churn  \n",
       "cluster_km            \n",
       "0           0.399287  \n",
       "1           0.120952  \n",
       "2           0.381625  \n",
       "3           0.200918  \n",
       "4           0.266839  "
      ]
     },
     "execution_count": 22,
     "metadata": {},
     "output_type": "execute_result"
    }
   ],
   "source": [
    "df_cluster_gr"
   ]
  },
  {
   "cell_type": "markdown",
   "metadata": {},
   "source": [
    "\n",
    "Мы наблюдаем два ниаболее устойчивых класса: 1 и 3, и два наименее устойчивых - 0 и 2. <br>\n",
    "Дадим характеристику среднему представителю каждого класса.<br>\n",
    "    <h6>0 класстер (40% оттока) - </h6>, живут/работают в одном районе с фитнес-центром, посещающие центр около 3 мес, около 2 раз в неделю (меньше остальных групп). Возраст - 28,7 лет. Половина пришла от компаний-партнеров, покупают абонемент на три месяца, предпочитают индивидуальные занятия, тратят на доп услуги меньше остальных групп - около 138 у е.  <br>\n",
    "    <h6>1 кластер (12% оттока)</h6> - пришли 4-5 мес назад от компаний-партнеров по акции приведи друга. Возраст - 29,5 лет, абонемент приобрели более чем на полгода. Тратят больше всех - около 155 у е - наиболее лояльная группа. Ходят чаще всех: 2 раза в неделю. Почти половина предпочитает групповые занятия. <br>\n",
    "    <h6>2 кластер (38% оттока)</h6> - 28,7 лет, абонемент приобрели на 2-3 месяца, ходят только на индивидуальные занятия 1-2 раза в неделю. Тратят 143 у е. Вероятно, это клиенты, нацеленные на результат, для них важен тренер и комфортная коммуникация с ним.<br>\n",
    "    <h6>3 кластер (20 % оттока)</h6> 29,5 лет, посещают только групповые занятия, ходят 1-2 раза в неделю, абонемент приобретают на 4-5 месяца. Тратят около 148 у е.   <br>\n",
    "    <h6>4 кластер (27 % оттока)</h6> - средний возраст 29 лет. Почти половина пришла от компании-партнера 30% - по акции \"приведи друга\", абонемент берут 4-6 месяца, почти половина ходит на групповые занятия. В среднем, ходят 1-2 раза в неделю.  <br>\n",
    "    "
   ]
  },
  {
   "cell_type": "code",
   "execution_count": 28,
   "metadata": {},
   "outputs": [],
   "source": [
    "col_bar = ['Contract_period', 'Promo_friends', 'Group_visits', 'Near_Location',\n",
    "          'Age', 'Avg_class_frequency_total', 'Lifetime', 'Avg_additional_charges_total']"
   ]
  },
  {
   "cell_type": "code",
   "execution_count": 27,
   "metadata": {
    "scrolled": true
   },
   "outputs": [
    {
     "data": {
      "image/png": "[encoded data removed]",
      "text/plain": [
       "<Figure size 432x288 with 1 Axes>"
      ]
     },
     "metadata": {
      "needs_background": "light"
     },
     "output_type": "display_data"
    },
    {
     "data": {
      "image/png": "[encoded data removed]",
      "text/plain": [
       "<Figure size 432x288 with 1 Axes>"
      ]
     },
     "metadata": {
      "needs_background": "light"
     },
     "output_type": "display_data"
    },
    {
     "data": {
      "image/png": "[encoded data removed]",
      "text/plain": [
       "<Figure size 432x288 with 1 Axes>"
      ]
     },
     "metadata": {
      "needs_background": "light"
     },
     "output_type": "display_data"
    },
    {
     "data": {
      "image/png": "[encoded data removed]",
      "text/plain": [
       "<Figure size 432x288 with 1 Axes>"
      ]
     },
     "metadata": {
      "needs_background": "light"
     },
     "output_type": "display_data"
    },
    {
     "data": {
      "image/png": "[encoded data removed]",
      "text/plain": [
       "<Figure size 432x288 with 1 Axes>"
      ]
     },
     "metadata": {
      "needs_background": "light"
     },
     "output_type": "display_data"
    },
    {
     "data": {
      "image/png": "[encoded data removed]",
      "text/plain": [
       "<Figure size 432x288 with 1 Axes>"
      ]
     },
     "metadata": {
      "needs_background": "light"
     },
     "output_type": "display_data"
    },
    {
     "data": {
      "image/png": "[encoded data removed]",
      "text/plain": [
       "<Figure size 432x288 with 1 Axes>"
      ]
     },
     "metadata": {
      "needs_background": "light"
     },
     "output_type": "display_data"
    },
    {
     "data": {
      "image/png": "[encoded data removed]",
      "text/plain": [
       "<Figure size 432x288 with 1 Axes>"
      ]
     },
     "metadata": {
      "needs_background": "light"
     },
     "output_type": "display_data"
    }
   ],
   "source": [
    "for col in col_bar:\n",
    "    sns.barplot(x = df_cluster['cluster_km'],\n",
    "                y = df_cluster[col])\n",
    "    plt.xlabel('cluster')\n",
    "    plt.show()"
   ]
  },
  {
   "cell_type": "markdown",
   "metadata": {},
   "source": [
    "\n",
    "    - На дительное время абонементы покупают представители кластера 1. Самые нестабильные кластера - 0 и 2 покупают абонементы на 3 мес.<br>\n",
    "    - По акции \"приведи друга\" наибольшее количество пользователей пришло в 1 кластере. <br>\n",
    "    - Групповые занятия предпочитают представители 3 кластера.<br>\n",
    "    - Только представители 0 кластера живут/работают в одном районе с фитнес-центром.<br>\n",
    "    - В целом, средний возраст посетителей фитнес-центра - 30 лет. Средние траты лежат в районе 140 у е. "
   ]
  },
  {
   "cell_type": "markdown",
   "metadata": {},
   "source": [
    "### Выводы <br>\n",
    "\n",
    "Следует сразу оговорить, что принятые дейсвия для уменьшения оттока клиентов будут зависеть, в большей степени, от ценовой категории зала и его статуса. Если это обычный зал в спальном районе, то ваше конкурентное преимущество - цена и расположение. Если это современный фитнес-центр (наличие компаний-парнеров говорит в пользу этого варианта), то целевая аудитория - состоятельные клиенты, готовые тратится на доп услуги и ценящие комфорт в виде бесплатных полотенец, воды и проч. <br>\n",
    "    1. Постоянные клиенты не склонны к оттоку, приобретают абонементы на длительное время, наиболее лояльны к фитнес-центру, поэтому тратят на доп услуги больше всех. Для них можно ввести комбинированные абонементы на длительное время:например, абонемент на 6 месяцев с возможностью посещать раз в неделю сауну или занятие по растяжке. Или же, учитывая средний возраст, ввести семейные абонементы: для двух взрослых со скидкой, абонемент в бассейн для всей семьи или возможность посещать зал с ребенком, для которого оборудована игровая зона с воспитателем (молодые мамы с детьми, которые желают привести себя в форму, оценят). Таким образом можно увеличить доход и поднять свой имидж. <br>\n",
    "    2. Следует также проанализировать причины ухода клиентов, которые живут/работают в одно районе с залом. Возможно, дело в открывшемся рядом центре, который переманил скидками часть клиентов. <br>\n",
    "    3. В мире фитнеса есть также мода на виды занятий у разных групп клиентов. Необходимо проанализировать популярные виды активности в самых мало представленных сегментах: 18-25 лет и 50+. В США залы активно взаимодействуют со старшими поколениями, так как среди них достаточно обеспеченных людей, которые хотят социальной жизни + старшее поколение менее подвержено оттоку. Также не стоит забывать о моде на \"активную и красивую старость\", связанную с появлением возрастных моделей в соц сетях. <br>\n",
    "    4. Стоит также расширять свою сеть компаний-партеров, продвигать акцию \"приведи друга\" - люди больше доверяют своим знакомым, да и ходить в компании на фитнес веселее. Возможно, стоит обратить свое внимание на частные медицинские центры и предложить застрахованным там клиентам абонементы со скидкой. <br>\n",
    "    "
   ]
  },
  {
   "cell_type": "code",
   "execution_count": null,
   "metadata": {},
   "outputs": [],
   "source": []
  }
 ],
 "metadata": {
  "ExecuteTimeLog": [
   {
    "duration": 831,
    "start_time": "2022-01-24T15:44:28.298Z"
   },
   {
    "duration": 28,
    "start_time": "2022-01-24T15:45:09.651Z"
   },
   {
    "duration": 28,
    "start_time": "2022-01-24T15:45:18.444Z"
   },
   {
    "duration": 570,
    "start_time": "2022-01-24T18:33:32.537Z"
   },
   {
    "duration": 92,
    "start_time": "2022-01-24T18:33:33.110Z"
   },
   {
    "duration": 16,
    "start_time": "2022-01-24T18:33:33.474Z"
   },
   {
    "duration": 8,
    "start_time": "2022-01-24T18:35:54.918Z"
   },
   {
    "duration": 43,
    "start_time": "2022-01-24T18:36:40.492Z"
   },
   {
    "duration": 359,
    "start_time": "2022-01-24T18:41:38.224Z"
   },
   {
    "duration": 10,
    "start_time": "2022-01-24T18:41:46.598Z"
   },
   {
    "duration": 41,
    "start_time": "2022-01-24T18:42:16.530Z"
   },
   {
    "duration": 44,
    "start_time": "2022-01-24T18:42:18.964Z"
   },
   {
    "duration": 636,
    "start_time": "2022-01-24T18:49:16.757Z"
   },
   {
    "duration": 298,
    "start_time": "2022-01-24T18:56:02.808Z"
   },
   {
    "duration": 291,
    "start_time": "2022-01-24T18:56:10.832Z"
   },
   {
    "duration": 281,
    "start_time": "2022-01-24T18:56:36.363Z"
   },
   {
    "duration": 2,
    "start_time": "2022-01-24T18:57:37.086Z"
   },
   {
    "duration": 439,
    "start_time": "2022-01-24T18:57:40.975Z"
   },
   {
    "duration": 485,
    "start_time": "2022-01-24T18:58:06.388Z"
   },
   {
    "duration": 2850,
    "start_time": "2022-01-24T18:58:45.334Z"
   },
   {
    "duration": 324,
    "start_time": "2022-01-24T19:01:58.216Z"
   },
   {
    "duration": 362,
    "start_time": "2022-01-24T19:04:39.200Z"
   },
   {
    "duration": 277,
    "start_time": "2022-01-24T19:05:05.060Z"
   },
   {
    "duration": 277,
    "start_time": "2022-01-24T19:05:35.343Z"
   },
   {
    "duration": 390,
    "start_time": "2022-01-24T19:06:18.470Z"
   },
   {
    "duration": 279,
    "start_time": "2022-01-24T19:06:40.532Z"
   },
   {
    "duration": 3851,
    "start_time": "2022-01-24T19:08:48.635Z"
   },
   {
    "duration": 1041,
    "start_time": "2022-01-24T19:24:30.780Z"
   },
   {
    "duration": 81,
    "start_time": "2022-01-24T19:24:31.822Z"
   },
   {
    "duration": 14,
    "start_time": "2022-01-24T19:24:31.905Z"
   },
   {
    "duration": 9,
    "start_time": "2022-01-24T19:24:31.983Z"
   },
   {
    "duration": 40,
    "start_time": "2022-01-24T19:24:32.411Z"
   },
   {
    "duration": 10,
    "start_time": "2022-01-24T19:24:33.049Z"
   },
   {
    "duration": 39,
    "start_time": "2022-01-24T19:24:34.613Z"
   },
   {
    "duration": 39,
    "start_time": "2022-01-24T19:24:35.029Z"
   },
   {
    "duration": 129,
    "start_time": "2022-01-24T19:26:16.855Z"
   },
   {
    "duration": 402,
    "start_time": "2022-01-24T19:26:43.948Z"
   },
   {
    "duration": 3134,
    "start_time": "2022-01-24T19:26:54.756Z"
   },
   {
    "duration": 2849,
    "start_time": "2022-01-24T19:27:16.223Z"
   },
   {
    "duration": 2700,
    "start_time": "2022-01-24T19:27:54.932Z"
   },
   {
    "duration": 2185,
    "start_time": "2022-01-24T19:28:14.571Z"
   },
   {
    "duration": 2904,
    "start_time": "2022-01-24T19:28:27.018Z"
   },
   {
    "duration": 2892,
    "start_time": "2022-01-24T19:28:45.335Z"
   },
   {
    "duration": 2934,
    "start_time": "2022-01-24T19:30:12.263Z"
   },
   {
    "duration": 3623,
    "start_time": "2022-01-24T19:30:24.399Z"
   },
   {
    "duration": 2949,
    "start_time": "2022-01-24T19:32:35.992Z"
   },
   {
    "duration": 2949,
    "start_time": "2022-01-24T19:32:59.058Z"
   },
   {
    "duration": 2811,
    "start_time": "2022-01-24T19:33:21.671Z"
   },
   {
    "duration": 2926,
    "start_time": "2022-01-24T19:33:40.748Z"
   },
   {
    "duration": 3547,
    "start_time": "2022-01-24T19:33:48.308Z"
   },
   {
    "duration": 3016,
    "start_time": "2022-01-24T19:34:02.751Z"
   },
   {
    "duration": 3261,
    "start_time": "2022-01-24T19:34:47.250Z"
   },
   {
    "duration": 3386,
    "start_time": "2022-01-24T19:35:11.004Z"
   },
   {
    "duration": 3611,
    "start_time": "2022-01-24T19:35:40.962Z"
   },
   {
    "duration": 560,
    "start_time": "2022-01-24T19:37:47.180Z"
   },
   {
    "duration": 508,
    "start_time": "2022-01-24T19:38:05.773Z"
   },
   {
    "duration": 3478,
    "start_time": "2022-01-24T19:38:30.359Z"
   },
   {
    "duration": 1383,
    "start_time": "2022-01-24T19:41:46.976Z"
   },
   {
    "duration": 3571,
    "start_time": "2022-01-24T19:42:12.070Z"
   },
   {
    "duration": 3380,
    "start_time": "2022-01-24T19:49:56.196Z"
   },
   {
    "duration": 1454,
    "start_time": "2022-01-25T06:34:27.214Z"
   },
   {
    "duration": 26,
    "start_time": "2022-01-25T06:34:28.670Z"
   },
   {
    "duration": 22,
    "start_time": "2022-01-25T06:34:28.700Z"
   },
   {
    "duration": 34,
    "start_time": "2022-01-25T06:34:28.725Z"
   },
   {
    "duration": 70,
    "start_time": "2022-01-25T06:34:28.762Z"
   },
   {
    "duration": 15,
    "start_time": "2022-01-25T06:34:29.111Z"
   },
   {
    "duration": 71,
    "start_time": "2022-01-25T06:34:29.523Z"
   },
   {
    "duration": 72,
    "start_time": "2022-01-25T06:34:29.851Z"
   },
   {
    "duration": 6833,
    "start_time": "2022-01-25T06:34:30.247Z"
   },
   {
    "duration": 6925,
    "start_time": "2022-01-25T06:38:00.002Z"
   },
   {
    "duration": 6123,
    "start_time": "2022-01-25T06:38:16.640Z"
   },
   {
    "duration": 7019,
    "start_time": "2022-01-25T06:41:39.251Z"
   },
   {
    "duration": 10199,
    "start_time": "2022-01-25T06:41:51.289Z"
   },
   {
    "duration": 11017,
    "start_time": "2022-01-25T06:42:33.239Z"
   },
   {
    "duration": 63468,
    "start_time": "2022-01-25T06:42:44.607Z"
   },
   {
    "duration": 10582,
    "start_time": "2022-01-25T06:47:33.272Z"
   },
   {
    "duration": 10234,
    "start_time": "2022-01-25T06:48:45.519Z"
   },
   {
    "duration": 10479,
    "start_time": "2022-01-25T06:51:19.944Z"
   },
   {
    "duration": 9238,
    "start_time": "2022-01-25T06:53:00.575Z"
   },
   {
    "duration": 9482,
    "start_time": "2022-01-25T06:53:21.607Z"
   },
   {
    "duration": 6,
    "start_time": "2022-01-25T07:13:40.878Z"
   },
   {
    "duration": 5,
    "start_time": "2022-01-25T07:15:44.679Z"
   },
   {
    "duration": 8,
    "start_time": "2022-01-25T07:15:50.181Z"
   },
   {
    "duration": 483,
    "start_time": "2022-01-25T07:18:41.710Z"
   },
   {
    "duration": 322,
    "start_time": "2022-01-25T07:19:05.304Z"
   },
   {
    "duration": 466,
    "start_time": "2022-01-25T07:19:25.207Z"
   },
   {
    "duration": 442,
    "start_time": "2022-01-25T07:19:30.188Z"
   },
   {
    "duration": 5,
    "start_time": "2022-01-25T07:19:48.744Z"
   },
   {
    "duration": 310,
    "start_time": "2022-01-25T07:19:53.895Z"
   },
   {
    "duration": 870,
    "start_time": "2022-01-25T07:20:05.189Z"
   },
   {
    "duration": 1414,
    "start_time": "2022-01-25T09:50:18.501Z"
   },
   {
    "duration": 21,
    "start_time": "2022-01-25T09:50:19.917Z"
   },
   {
    "duration": 15,
    "start_time": "2022-01-25T09:50:19.939Z"
   },
   {
    "duration": 8,
    "start_time": "2022-01-25T09:50:20.326Z"
   },
   {
    "duration": 48,
    "start_time": "2022-01-25T09:50:24.390Z"
   },
   {
    "duration": 8,
    "start_time": "2022-01-25T09:50:25.200Z"
   },
   {
    "duration": 46,
    "start_time": "2022-01-25T09:50:26.809Z"
   },
   {
    "duration": 44,
    "start_time": "2022-01-25T09:50:27.590Z"
   },
   {
    "duration": 756,
    "start_time": "2022-01-25T09:54:44.342Z"
   },
   {
    "duration": 164,
    "start_time": "2022-01-25T09:55:07.658Z"
   },
   {
    "duration": 517,
    "start_time": "2022-01-25T09:55:29.443Z"
   },
   {
    "duration": 206,
    "start_time": "2022-01-25T09:55:36.257Z"
   },
   {
    "duration": 341,
    "start_time": "2022-01-25T09:56:00.412Z"
   },
   {
    "duration": 154,
    "start_time": "2022-01-25T09:56:41.807Z"
   },
   {
    "duration": 153,
    "start_time": "2022-01-25T09:56:58.629Z"
   },
   {
    "duration": 395,
    "start_time": "2022-01-25T09:57:11.174Z"
   },
   {
    "duration": 193,
    "start_time": "2022-01-25T09:57:56.589Z"
   },
   {
    "duration": 493,
    "start_time": "2022-01-25T10:13:05.359Z"
   },
   {
    "duration": 331,
    "start_time": "2022-01-25T10:13:24.787Z"
   },
   {
    "duration": 784,
    "start_time": "2022-01-25T10:13:32.080Z"
   },
   {
    "duration": 506,
    "start_time": "2022-01-25T10:14:21.778Z"
   },
   {
    "duration": 4,
    "start_time": "2022-01-25T10:14:46.090Z"
   },
   {
    "duration": 376,
    "start_time": "2022-01-25T10:14:50.120Z"
   },
   {
    "duration": 4367,
    "start_time": "2022-01-25T10:16:36.691Z"
   },
   {
    "duration": 5248,
    "start_time": "2022-01-25T10:16:54.620Z"
   },
   {
    "duration": 4444,
    "start_time": "2022-01-25T10:17:07.822Z"
   },
   {
    "duration": 4797,
    "start_time": "2022-01-25T10:17:54.223Z"
   },
   {
    "duration": 8,
    "start_time": "2022-01-25T10:35:00.895Z"
   },
   {
    "duration": 51,
    "start_time": "2022-01-25T10:35:02.640Z"
   },
   {
    "duration": 50,
    "start_time": "2022-01-25T10:35:05.033Z"
   },
   {
    "duration": 4981,
    "start_time": "2022-01-25T10:35:07.276Z"
   },
   {
    "duration": 1254,
    "start_time": "2022-01-25T10:42:34.816Z"
   },
   {
    "duration": 3,
    "start_time": "2022-01-25T11:00:12.803Z"
   },
   {
    "duration": 1171,
    "start_time": "2022-01-25T14:02:47.674Z"
   },
   {
    "duration": 22,
    "start_time": "2022-01-25T14:02:48.847Z"
   },
   {
    "duration": 15,
    "start_time": "2022-01-25T14:02:49.154Z"
   },
   {
    "duration": 7,
    "start_time": "2022-01-25T14:02:49.879Z"
   },
   {
    "duration": 47,
    "start_time": "2022-01-25T14:02:50.507Z"
   },
   {
    "duration": 10,
    "start_time": "2022-01-25T14:02:51.647Z"
   },
   {
    "duration": 65,
    "start_time": "2022-01-25T14:02:52.069Z"
   },
   {
    "duration": 44,
    "start_time": "2022-01-25T14:02:52.560Z"
   },
   {
    "duration": 4701,
    "start_time": "2022-01-25T14:02:53.166Z"
   },
   {
    "duration": 1262,
    "start_time": "2022-01-25T14:02:57.869Z"
   },
   {
    "duration": 227,
    "start_time": "2022-01-25T14:12:07.054Z"
   },
   {
    "duration": 4,
    "start_time": "2022-01-25T14:12:12.379Z"
   },
   {
    "duration": 21,
    "start_time": "2022-01-25T14:13:14.100Z"
   },
   {
    "duration": 6,
    "start_time": "2022-01-25T14:14:12.770Z"
   },
   {
    "duration": 167,
    "start_time": "2022-01-25T14:19:23.593Z"
   },
   {
    "duration": 133,
    "start_time": "2022-01-25T14:19:57.372Z"
   },
   {
    "duration": 13,
    "start_time": "2022-01-25T14:20:16.264Z"
   },
   {
    "duration": 9,
    "start_time": "2022-01-25T14:20:20.511Z"
   },
   {
    "duration": 37,
    "start_time": "2022-01-25T15:03:18.903Z"
   },
   {
    "duration": 5,
    "start_time": "2022-01-25T15:04:47.419Z"
   },
   {
    "duration": 1142,
    "start_time": "2022-01-26T08:33:30.338Z"
   },
   {
    "duration": 3,
    "start_time": "2022-01-26T08:33:42.932Z"
   },
   {
    "duration": 20,
    "start_time": "2022-01-26T08:33:46.998Z"
   },
   {
    "duration": 14,
    "start_time": "2022-01-26T08:33:48.323Z"
   },
   {
    "duration": 8,
    "start_time": "2022-01-26T08:33:50.477Z"
   },
   {
    "duration": 45,
    "start_time": "2022-01-26T08:33:51.157Z"
   },
   {
    "duration": 8,
    "start_time": "2022-01-26T08:33:54.098Z"
   },
   {
    "duration": 44,
    "start_time": "2022-01-26T08:33:54.766Z"
   },
   {
    "duration": 45,
    "start_time": "2022-01-26T08:33:56.794Z"
   },
   {
    "duration": 4546,
    "start_time": "2022-01-26T08:33:58.816Z"
   },
   {
    "duration": 1199,
    "start_time": "2022-01-26T08:34:12.617Z"
   },
   {
    "duration": 6,
    "start_time": "2022-01-26T08:34:28.009Z"
   },
   {
    "duration": 7,
    "start_time": "2022-01-26T08:35:05.514Z"
   },
   {
    "duration": 3,
    "start_time": "2022-01-26T10:11:06.190Z"
   },
   {
    "duration": 529,
    "start_time": "2022-01-26T10:11:06.933Z"
   },
   {
    "duration": 4,
    "start_time": "2022-01-26T10:12:33.877Z"
   },
   {
    "duration": 477,
    "start_time": "2022-01-26T10:12:34.452Z"
   },
   {
    "duration": 8,
    "start_time": "2022-01-26T10:13:17.055Z"
   },
   {
    "duration": 4,
    "start_time": "2022-01-26T10:13:17.996Z"
   },
   {
    "duration": 495,
    "start_time": "2022-01-26T10:13:18.501Z"
   },
   {
    "duration": 4,
    "start_time": "2022-01-26T10:13:47.371Z"
   },
   {
    "duration": 505,
    "start_time": "2022-01-26T10:13:49.240Z"
   },
   {
    "duration": 528,
    "start_time": "2022-01-26T10:14:00.594Z"
   },
   {
    "duration": 1162,
    "start_time": "2022-01-26T10:15:07.033Z"
   },
   {
    "duration": 21,
    "start_time": "2022-01-26T10:15:08.196Z"
   },
   {
    "duration": 14,
    "start_time": "2022-01-26T10:15:10.415Z"
   },
   {
    "duration": 8,
    "start_time": "2022-01-26T10:15:11.112Z"
   },
   {
    "duration": 44,
    "start_time": "2022-01-26T10:15:11.654Z"
   },
   {
    "duration": 9,
    "start_time": "2022-01-26T10:15:12.908Z"
   },
   {
    "duration": 44,
    "start_time": "2022-01-26T10:15:13.556Z"
   },
   {
    "duration": 45,
    "start_time": "2022-01-26T10:15:14.176Z"
   },
   {
    "duration": 4492,
    "start_time": "2022-01-26T10:15:14.729Z"
   },
   {
    "duration": 1242,
    "start_time": "2022-01-26T10:15:19.223Z"
   },
   {
    "duration": 6,
    "start_time": "2022-01-26T10:15:21.847Z"
   },
   {
    "duration": 3,
    "start_time": "2022-01-26T10:15:25.592Z"
   },
   {
    "duration": 762,
    "start_time": "2022-01-26T10:15:29.100Z"
   },
   {
    "duration": 3,
    "start_time": "2022-01-26T10:16:20.157Z"
   },
   {
    "duration": 551,
    "start_time": "2022-01-26T10:16:20.578Z"
   },
   {
    "duration": 4,
    "start_time": "2022-01-26T10:17:01.009Z"
   },
   {
    "duration": 4,
    "start_time": "2022-01-26T10:17:07.269Z"
   },
   {
    "duration": 562,
    "start_time": "2022-01-26T10:17:07.574Z"
   },
   {
    "duration": 3,
    "start_time": "2022-01-26T10:17:18.181Z"
   },
   {
    "duration": 4,
    "start_time": "2022-01-26T10:17:26.633Z"
   },
   {
    "duration": 492,
    "start_time": "2022-01-26T10:17:27.807Z"
   },
   {
    "duration": 3,
    "start_time": "2022-01-26T10:18:00.629Z"
   },
   {
    "duration": 543,
    "start_time": "2022-01-26T10:18:01.067Z"
   },
   {
    "duration": 3,
    "start_time": "2022-01-26T10:18:09.446Z"
   },
   {
    "duration": 707,
    "start_time": "2022-01-26T10:18:10.562Z"
   },
   {
    "duration": 258,
    "start_time": "2022-01-26T10:20:52.596Z"
   },
   {
    "duration": 1137,
    "start_time": "2022-01-26T10:20:53.089Z"
   },
   {
    "duration": 237,
    "start_time": "2022-01-26T10:21:26.749Z"
   },
   {
    "duration": 708,
    "start_time": "2022-01-26T10:21:31.827Z"
   },
   {
    "duration": 3,
    "start_time": "2022-01-26T10:21:38.775Z"
   },
   {
    "duration": 3,
    "start_time": "2022-01-26T10:21:43.889Z"
   },
   {
    "duration": 215,
    "start_time": "2022-01-26T10:21:44.625Z"
   },
   {
    "duration": 4,
    "start_time": "2022-01-26T10:22:08.717Z"
   },
   {
    "duration": 253,
    "start_time": "2022-01-26T10:22:09.185Z"
   },
   {
    "duration": 3,
    "start_time": "2022-01-26T10:22:28.076Z"
   },
   {
    "duration": 251,
    "start_time": "2022-01-26T10:22:28.883Z"
   },
   {
    "duration": 4,
    "start_time": "2022-01-26T10:24:04.249Z"
   },
   {
    "duration": 454,
    "start_time": "2022-01-26T10:24:04.907Z"
   },
   {
    "duration": 4,
    "start_time": "2022-01-26T10:24:22.158Z"
   },
   {
    "duration": 476,
    "start_time": "2022-01-26T10:24:22.675Z"
   },
   {
    "duration": 79,
    "start_time": "2022-01-26T10:40:37.321Z"
   },
   {
    "duration": 3,
    "start_time": "2022-01-26T10:40:41.955Z"
   },
   {
    "duration": 80,
    "start_time": "2022-01-26T10:40:43.771Z"
   },
   {
    "duration": 263,
    "start_time": "2022-01-26T10:40:59.475Z"
   },
   {
    "duration": 80,
    "start_time": "2022-01-26T10:41:20.139Z"
   },
   {
    "duration": 327,
    "start_time": "2022-01-26T10:41:23.017Z"
   },
   {
    "duration": 307,
    "start_time": "2022-01-26T10:41:37.113Z"
   },
   {
    "duration": 3,
    "start_time": "2022-01-26T10:46:19.724Z"
   },
   {
    "duration": 45,
    "start_time": "2022-01-26T10:46:20.168Z"
   },
   {
    "duration": 319,
    "start_time": "2022-01-26T10:46:22.406Z"
   },
   {
    "duration": 3,
    "start_time": "2022-01-26T10:54:04.593Z"
   },
   {
    "duration": 32,
    "start_time": "2022-01-26T10:54:05.417Z"
   },
   {
    "duration": 315,
    "start_time": "2022-01-26T10:54:06.699Z"
   },
   {
    "duration": 3,
    "start_time": "2022-01-26T10:54:19.414Z"
   },
   {
    "duration": 96,
    "start_time": "2022-01-26T10:54:19.724Z"
   },
   {
    "duration": 3,
    "start_time": "2022-01-26T10:54:33.667Z"
   },
   {
    "duration": 40,
    "start_time": "2022-01-26T10:54:34.675Z"
   },
   {
    "duration": 314,
    "start_time": "2022-01-26T10:54:37.942Z"
   },
   {
    "duration": 3,
    "start_time": "2022-01-26T10:55:00.255Z"
   },
   {
    "duration": 3,
    "start_time": "2022-01-26T11:05:26.241Z"
   },
   {
    "duration": 3,
    "start_time": "2022-01-26T11:07:44.982Z"
   },
   {
    "duration": 110,
    "start_time": "2022-01-26T11:07:46.006Z"
   },
   {
    "duration": 336,
    "start_time": "2022-01-26T11:07:47.856Z"
   },
   {
    "duration": 3,
    "start_time": "2022-01-26T11:08:16.146Z"
   },
   {
    "duration": 93,
    "start_time": "2022-01-26T11:08:16.626Z"
   },
   {
    "duration": 350,
    "start_time": "2022-01-26T11:08:17.332Z"
   },
   {
    "duration": 85,
    "start_time": "2022-01-26T11:26:37.439Z"
   },
   {
    "duration": 4,
    "start_time": "2022-01-26T11:29:38.403Z"
   },
   {
    "duration": 6,
    "start_time": "2022-01-26T11:29:59.431Z"
   },
   {
    "duration": 6,
    "start_time": "2022-01-26T11:34:17.213Z"
   },
   {
    "duration": 259,
    "start_time": "2022-01-26T11:39:13.002Z"
   },
   {
    "duration": 264,
    "start_time": "2022-01-26T11:39:27.204Z"
   },
   {
    "duration": 265,
    "start_time": "2022-01-26T11:40:08.085Z"
   },
   {
    "duration": 254,
    "start_time": "2022-01-26T11:42:27.761Z"
   },
   {
    "duration": 271,
    "start_time": "2022-01-26T11:42:50.628Z"
   },
   {
    "duration": 264,
    "start_time": "2022-01-26T11:43:40.269Z"
   },
   {
    "duration": 29,
    "start_time": "2022-01-26T11:44:04.902Z"
   },
   {
    "duration": 7,
    "start_time": "2022-01-26T11:44:12.444Z"
   },
   {
    "duration": 26,
    "start_time": "2022-01-26T11:56:14.520Z"
   },
   {
    "duration": 239,
    "start_time": "2022-01-26T12:06:15.199Z"
   },
   {
    "duration": 5484,
    "start_time": "2022-01-26T12:06:52.957Z"
   },
   {
    "duration": 3568,
    "start_time": "2022-01-26T12:07:17.095Z"
   },
   {
    "duration": 3837,
    "start_time": "2022-01-26T12:08:10.721Z"
   },
   {
    "duration": 225,
    "start_time": "2022-01-26T12:09:06.928Z"
   },
   {
    "duration": 87290,
    "start_time": "2022-01-26T12:09:30.335Z"
   },
   {
    "duration": 232,
    "start_time": "2022-01-26T12:11:16.558Z"
   },
   {
    "duration": 1786,
    "start_time": "2022-01-26T12:11:37.244Z"
   },
   {
    "duration": 88869,
    "start_time": "2022-01-26T12:11:56.019Z"
   },
   {
    "duration": 4,
    "start_time": "2022-01-26T12:14:30.030Z"
   },
   {
    "duration": 5,
    "start_time": "2022-01-26T12:15:09.741Z"
   },
   {
    "duration": 1590,
    "start_time": "2022-01-26T12:18:14.522Z"
   },
   {
    "duration": 11,
    "start_time": "2022-01-26T12:18:23.881Z"
   },
   {
    "duration": 1688,
    "start_time": "2022-01-26T12:19:26.529Z"
   },
   {
    "duration": 12,
    "start_time": "2022-01-26T12:19:28.219Z"
   },
   {
    "duration": 1145,
    "start_time": "2022-01-26T14:18:01.547Z"
   },
   {
    "duration": 20,
    "start_time": "2022-01-26T14:18:02.693Z"
   },
   {
    "duration": 14,
    "start_time": "2022-01-26T14:18:02.715Z"
   },
   {
    "duration": 8,
    "start_time": "2022-01-26T14:18:02.913Z"
   },
   {
    "duration": 44,
    "start_time": "2022-01-26T14:18:03.539Z"
   },
   {
    "duration": 8,
    "start_time": "2022-01-26T14:18:05.786Z"
   },
   {
    "duration": 43,
    "start_time": "2022-01-26T14:18:06.317Z"
   },
   {
    "duration": 44,
    "start_time": "2022-01-26T14:18:07.179Z"
   },
   {
    "duration": 4452,
    "start_time": "2022-01-26T14:18:08.972Z"
   },
   {
    "duration": 1273,
    "start_time": "2022-01-26T14:18:13.426Z"
   },
   {
    "duration": 1269,
    "start_time": "2022-01-26T14:18:20.299Z"
   },
   {
    "duration": 7,
    "start_time": "2022-01-26T14:18:22.986Z"
   },
   {
    "duration": 3,
    "start_time": "2022-01-26T14:18:23.391Z"
   },
   {
    "duration": 39,
    "start_time": "2022-01-26T14:18:23.786Z"
   },
   {
    "duration": 433,
    "start_time": "2022-01-26T14:18:24.704Z"
   },
   {
    "duration": 4,
    "start_time": "2022-01-26T14:18:27.113Z"
   },
   {
    "duration": 35,
    "start_time": "2022-01-26T14:18:27.852Z"
   },
   {
    "duration": 319,
    "start_time": "2022-01-26T14:18:33.878Z"
   },
   {
    "duration": 89629,
    "start_time": "2022-01-26T14:18:36.987Z"
   },
   {
    "duration": 1505,
    "start_time": "2022-01-26T14:20:06.618Z"
   },
   {
    "duration": 12,
    "start_time": "2022-01-26T14:20:08.125Z"
   },
   {
    "duration": 1533,
    "start_time": "2022-01-26T14:22:53.388Z"
   },
   {
    "duration": 12,
    "start_time": "2022-01-26T14:22:54.923Z"
   },
   {
    "duration": 1785,
    "start_time": "2022-01-26T14:24:13.639Z"
   },
   {
    "duration": 13,
    "start_time": "2022-01-26T14:24:15.425Z"
   },
   {
    "duration": 1711,
    "start_time": "2022-01-26T14:24:39.301Z"
   },
   {
    "duration": 13,
    "start_time": "2022-01-26T14:24:41.014Z"
   },
   {
    "duration": 1110,
    "start_time": "2022-01-26T14:26:49.066Z"
   },
   {
    "duration": 20,
    "start_time": "2022-01-26T14:26:50.178Z"
   },
   {
    "duration": 14,
    "start_time": "2022-01-26T14:26:50.199Z"
   },
   {
    "duration": 7,
    "start_time": "2022-01-26T14:26:50.215Z"
   },
   {
    "duration": 43,
    "start_time": "2022-01-26T14:26:50.224Z"
   },
   {
    "duration": 7,
    "start_time": "2022-01-26T14:26:50.268Z"
   },
   {
    "duration": 65,
    "start_time": "2022-01-26T14:26:50.276Z"
   },
   {
    "duration": 42,
    "start_time": "2022-01-26T14:26:50.344Z"
   },
   {
    "duration": 4490,
    "start_time": "2022-01-26T14:26:50.388Z"
   },
   {
    "duration": 1252,
    "start_time": "2022-01-26T14:26:54.880Z"
   },
   {
    "duration": 6,
    "start_time": "2022-01-26T14:26:56.134Z"
   },
   {
    "duration": 4,
    "start_time": "2022-01-26T14:26:56.142Z"
   },
   {
    "duration": 166,
    "start_time": "2022-01-26T14:26:56.147Z"
   },
   {
    "duration": 422,
    "start_time": "2022-01-26T14:26:56.315Z"
   },
   {
    "duration": 4,
    "start_time": "2022-01-26T14:26:56.738Z"
   },
   {
    "duration": 32,
    "start_time": "2022-01-26T14:26:56.744Z"
   },
   {
    "duration": 90021,
    "start_time": "2022-01-26T14:26:56.777Z"
   },
   {
    "duration": 1728,
    "start_time": "2022-01-26T14:28:26.799Z"
   },
   {
    "duration": 94,
    "start_time": "2022-01-26T14:28:28.528Z"
   },
   {
    "duration": 11,
    "start_time": "2022-01-26T14:29:24.905Z"
   },
   {
    "duration": 328,
    "start_time": "2022-01-26T15:11:45.557Z"
   },
   {
    "duration": 262,
    "start_time": "2022-01-26T15:11:54.684Z"
   },
   {
    "duration": 243,
    "start_time": "2022-01-26T15:14:23.769Z"
   },
   {
    "duration": 10318,
    "start_time": "2022-01-26T15:14:51.345Z"
   },
   {
    "duration": 244,
    "start_time": "2022-01-26T15:15:32.930Z"
   },
   {
    "duration": 369,
    "start_time": "2022-01-26T15:15:40.178Z"
   },
   {
    "duration": 447,
    "start_time": "2022-01-26T15:16:26.313Z"
   },
   {
    "duration": 13126,
    "start_time": "2022-01-26T15:19:41.021Z"
   },
   {
    "duration": 13173,
    "start_time": "2022-01-26T15:23:36.893Z"
   },
   {
    "duration": 13269,
    "start_time": "2022-01-26T15:25:42.123Z"
   },
   {
    "duration": 9435,
    "start_time": "2022-01-26T15:26:17.334Z"
   },
   {
    "duration": 5814,
    "start_time": "2022-01-26T15:26:54.050Z"
   },
   {
    "duration": 6509,
    "start_time": "2022-01-26T15:27:48.756Z"
   },
   {
    "duration": 6703,
    "start_time": "2022-01-26T15:29:57.699Z"
   },
   {
    "duration": 26484,
    "start_time": "2022-01-26T15:49:24.131Z"
   },
   {
    "duration": 6624,
    "start_time": "2022-01-26T15:50:27.463Z"
   },
   {
    "duration": 1228,
    "start_time": "2022-01-27T16:05:10.337Z"
   },
   {
    "duration": 24,
    "start_time": "2022-01-27T16:05:12.166Z"
   },
   {
    "duration": 18,
    "start_time": "2022-01-27T16:05:15.023Z"
   },
   {
    "duration": 10,
    "start_time": "2022-01-27T16:05:15.787Z"
   },
   {
    "duration": 48,
    "start_time": "2022-01-27T16:05:16.389Z"
   },
   {
    "duration": 11,
    "start_time": "2022-01-27T16:05:18.380Z"
   },
   {
    "duration": 47,
    "start_time": "2022-01-27T16:05:20.001Z"
   },
   {
    "duration": 45,
    "start_time": "2022-01-27T16:05:20.753Z"
   },
   {
    "duration": 4527,
    "start_time": "2022-01-27T16:05:21.795Z"
   },
   {
    "duration": 1225,
    "start_time": "2022-01-27T16:05:27.737Z"
   },
   {
    "duration": 8,
    "start_time": "2022-01-27T16:05:33.901Z"
   },
   {
    "duration": 4,
    "start_time": "2022-01-27T16:05:37.103Z"
   },
   {
    "duration": 40,
    "start_time": "2022-01-27T16:05:39.277Z"
   },
   {
    "duration": 381,
    "start_time": "2022-01-27T16:05:40.260Z"
   },
   {
    "duration": 4,
    "start_time": "2022-01-27T16:05:44.578Z"
   },
   {
    "duration": 39,
    "start_time": "2022-01-27T16:05:45.662Z"
   },
   {
    "duration": 91665,
    "start_time": "2022-01-27T16:05:50.927Z"
   },
   {
    "duration": 1900,
    "start_time": "2022-01-27T16:07:34.533Z"
   },
   {
    "duration": 160,
    "start_time": "2022-01-27T16:07:36.275Z"
   },
   {
    "duration": 1906,
    "start_time": "2022-01-27T16:07:49.436Z"
   },
   {
    "duration": 17,
    "start_time": "2022-01-27T16:07:51.345Z"
   },
   {
    "duration": 3,
    "start_time": "2022-01-27T16:12:03.505Z"
   },
   {
    "duration": 207,
    "start_time": "2022-01-27T16:22:50.138Z"
   },
   {
    "duration": 4517,
    "start_time": "2022-01-27T16:22:57.213Z"
   },
   {
    "duration": 2229,
    "start_time": "2022-01-27T16:23:28.918Z"
   },
   {
    "duration": 383,
    "start_time": "2022-01-27T16:24:44.444Z"
   },
   {
    "duration": 1150,
    "start_time": "2022-01-27T16:24:54.542Z"
   },
   {
    "duration": 3562,
    "start_time": "2022-01-27T16:25:24.690Z"
   },
   {
    "duration": 3,
    "start_time": "2022-01-27T16:30:00.329Z"
   },
   {
    "duration": 1099,
    "start_time": "2022-01-27T16:30:07.887Z"
   },
   {
    "duration": 1058,
    "start_time": "2022-01-27T16:30:34.112Z"
   },
   {
    "duration": 1180,
    "start_time": "2022-01-27T16:31:19.958Z"
   },
   {
    "duration": 1068,
    "start_time": "2022-01-27T16:31:58.320Z"
   },
   {
    "duration": 3,
    "start_time": "2022-01-27T17:21:12.047Z"
   },
   {
    "duration": 2762,
    "start_time": "2022-01-27T17:21:15.093Z"
   },
   {
    "duration": 4,
    "start_time": "2022-01-27T17:21:33.884Z"
   },
   {
    "duration": 1382,
    "start_time": "2022-01-27T17:21:34.328Z"
   },
   {
    "duration": 2050,
    "start_time": "2022-01-27T17:21:45.047Z"
   },
   {
    "duration": 1565,
    "start_time": "2022-01-30T11:37:40.569Z"
   },
   {
    "duration": 35,
    "start_time": "2022-01-30T11:37:42.137Z"
   },
   {
    "duration": 22,
    "start_time": "2022-01-30T11:37:50.488Z"
   },
   {
    "duration": 11,
    "start_time": "2022-01-30T11:37:52.514Z"
   },
   {
    "duration": 75,
    "start_time": "2022-01-30T11:37:54.867Z"
   },
   {
    "duration": 16,
    "start_time": "2022-01-30T11:38:35.516Z"
   },
   {
    "duration": 74,
    "start_time": "2022-01-30T11:38:36.458Z"
   },
   {
    "duration": 81,
    "start_time": "2022-01-30T11:38:38.234Z"
   },
   {
    "duration": 597,
    "start_time": "2022-01-30T11:39:10.036Z"
   },
   {
    "duration": 7228,
    "start_time": "2022-01-30T11:39:21.812Z"
   },
   {
    "duration": 1834,
    "start_time": "2022-01-30T11:43:00.744Z"
   },
   {
    "duration": 4044,
    "start_time": "2022-01-30T11:45:13.291Z"
   },
   {
    "duration": 3942,
    "start_time": "2022-01-30T11:45:53.194Z"
   },
   {
    "duration": 1736,
    "start_time": "2022-01-30T11:47:55.338Z"
   },
   {
    "duration": 1574,
    "start_time": "2022-01-30T11:49:15.820Z"
   },
   {
    "duration": 1402,
    "start_time": "2022-01-30T11:49:42.860Z"
   },
   {
    "duration": 1346,
    "start_time": "2022-01-30T11:51:17.755Z"
   },
   {
    "duration": 1670,
    "start_time": "2022-01-30T11:51:28.938Z"
   },
   {
    "duration": 627,
    "start_time": "2022-01-30T11:52:28.426Z"
   },
   {
    "duration": 3652,
    "start_time": "2022-01-30T11:52:56.012Z"
   },
   {
    "duration": 490,
    "start_time": "2022-01-30T11:53:14.967Z"
   },
   {
    "duration": 476,
    "start_time": "2022-01-30T11:53:37.704Z"
   },
   {
    "duration": 1471,
    "start_time": "2022-01-30T11:53:57.338Z"
   },
   {
    "duration": 513,
    "start_time": "2022-01-30T11:55:37.169Z"
   },
   {
    "duration": 626,
    "start_time": "2022-01-30T11:56:21.967Z"
   },
   {
    "duration": 1519,
    "start_time": "2022-01-30T11:58:07.510Z"
   },
   {
    "duration": 1453,
    "start_time": "2022-01-30T11:58:33.273Z"
   },
   {
    "duration": 1563,
    "start_time": "2022-01-30T11:58:42.333Z"
   },
   {
    "duration": 272,
    "start_time": "2022-01-30T11:59:45.330Z"
   },
   {
    "duration": 255,
    "start_time": "2022-01-30T11:59:56.064Z"
   },
   {
    "duration": 1592,
    "start_time": "2022-01-30T12:07:01.764Z"
   },
   {
    "duration": 1432,
    "start_time": "2022-01-30T12:12:54.628Z"
   },
   {
    "duration": 1544,
    "start_time": "2022-01-30T12:13:48.966Z"
   },
   {
    "duration": 1462,
    "start_time": "2022-01-30T12:14:44.097Z"
   },
   {
    "duration": 2521,
    "start_time": "2022-01-30T12:18:14.243Z"
   },
   {
    "duration": 1442,
    "start_time": "2022-01-30T12:18:27.364Z"
   },
   {
    "duration": 1480,
    "start_time": "2022-01-30T12:18:35.557Z"
   },
   {
    "duration": 1525,
    "start_time": "2022-01-30T12:19:15.361Z"
   },
   {
    "duration": 1585,
    "start_time": "2022-01-30T12:19:48.744Z"
   },
   {
    "duration": 1501,
    "start_time": "2022-01-30T12:21:57.633Z"
   },
   {
    "duration": 1634,
    "start_time": "2022-01-30T12:22:29.521Z"
   },
   {
    "duration": 1033,
    "start_time": "2022-01-30T12:22:48.184Z"
   },
   {
    "duration": 1655,
    "start_time": "2022-01-30T12:22:57.438Z"
   },
   {
    "duration": 1552,
    "start_time": "2022-01-30T12:24:46.679Z"
   },
   {
    "duration": 1666,
    "start_time": "2022-01-30T12:30:42.705Z"
   },
   {
    "duration": 1586,
    "start_time": "2022-01-30T12:34:27.485Z"
   },
   {
    "duration": 547,
    "start_time": "2022-01-30T12:34:58.189Z"
   },
   {
    "duration": 90,
    "start_time": "2022-01-30T12:35:30.181Z"
   },
   {
    "duration": 1780,
    "start_time": "2022-01-30T12:35:39.098Z"
   },
   {
    "duration": 1565,
    "start_time": "2022-01-30T12:35:49.709Z"
   },
   {
    "duration": 1891,
    "start_time": "2022-01-30T12:35:58.757Z"
   },
   {
    "duration": 82,
    "start_time": "2022-01-30T12:39:25.574Z"
   },
   {
    "duration": 1550,
    "start_time": "2022-01-30T12:39:40.636Z"
   },
   {
    "duration": 1773,
    "start_time": "2022-01-30T12:41:15.720Z"
   },
   {
    "duration": 1558,
    "start_time": "2022-01-30T12:41:22.599Z"
   },
   {
    "duration": 504,
    "start_time": "2022-01-30T12:44:15.506Z"
   },
   {
    "duration": 526,
    "start_time": "2022-01-30T12:44:30.147Z"
   },
   {
    "duration": 360,
    "start_time": "2022-01-30T12:47:11.675Z"
   },
   {
    "duration": 279,
    "start_time": "2022-01-30T12:47:20.429Z"
   },
   {
    "duration": 387,
    "start_time": "2022-01-30T12:47:25.362Z"
   },
   {
    "duration": 1894,
    "start_time": "2022-01-30T12:47:36.701Z"
   },
   {
    "duration": 1435,
    "start_time": "2022-01-30T12:49:13.781Z"
   },
   {
    "duration": 1584,
    "start_time": "2022-01-30T12:49:32.229Z"
   },
   {
    "duration": 1298,
    "start_time": "2022-01-30T12:49:45.009Z"
   },
   {
    "duration": 1287,
    "start_time": "2022-01-30T12:49:58.216Z"
   },
   {
    "duration": 1483,
    "start_time": "2022-01-30T12:51:06.846Z"
   },
   {
    "duration": 1327,
    "start_time": "2022-01-30T12:52:13.750Z"
   },
   {
    "duration": 1506,
    "start_time": "2022-01-30T12:52:27.322Z"
   },
   {
    "duration": 5,
    "start_time": "2022-01-30T13:03:31.960Z"
   },
   {
    "duration": 26,
    "start_time": "2022-01-30T13:03:32.283Z"
   },
   {
    "duration": 18,
    "start_time": "2022-01-30T13:03:33.185Z"
   },
   {
    "duration": 10,
    "start_time": "2022-01-30T13:03:34.008Z"
   },
   {
    "duration": 73,
    "start_time": "2022-01-30T13:03:34.447Z"
   },
   {
    "duration": 10,
    "start_time": "2022-01-30T13:03:37.334Z"
   },
   {
    "duration": 72,
    "start_time": "2022-01-30T13:03:37.948Z"
   },
   {
    "duration": 70,
    "start_time": "2022-01-30T13:03:38.486Z"
   },
   {
    "duration": 1745,
    "start_time": "2022-01-30T13:03:39.581Z"
   },
   {
    "duration": 3894,
    "start_time": "2022-01-30T13:03:42.122Z"
   },
   {
    "duration": 2046,
    "start_time": "2022-01-30T13:07:54.836Z"
   },
   {
    "duration": 13,
    "start_time": "2022-01-30T13:16:02.214Z"
   },
   {
    "duration": 5,
    "start_time": "2022-01-30T13:16:05.957Z"
   },
   {
    "duration": 250,
    "start_time": "2022-01-30T13:16:08.905Z"
   },
   {
    "duration": 542,
    "start_time": "2022-01-30T13:16:11.576Z"
   },
   {
    "duration": 6,
    "start_time": "2022-01-30T13:19:52.017Z"
   },
   {
    "duration": 89,
    "start_time": "2022-01-30T13:19:52.933Z"
   },
   {
    "duration": 1738,
    "start_time": "2022-01-30T13:22:13.726Z"
   },
   {
    "duration": 28,
    "start_time": "2022-01-30T13:22:15.781Z"
   },
   {
    "duration": 4,
    "start_time": "2022-01-30T13:23:39.697Z"
   },
   {
    "duration": 328,
    "start_time": "2022-01-30T13:23:40.495Z"
   },
   {
    "duration": 1565,
    "start_time": "2022-01-30T13:23:49.041Z"
   },
   {
    "duration": 27,
    "start_time": "2022-01-30T13:23:50.609Z"
   },
   {
    "duration": 50,
    "start_time": "2022-01-30T13:23:54.941Z"
   },
   {
    "duration": 37,
    "start_time": "2022-01-30T13:23:55.633Z"
   },
   {
    "duration": 104,
    "start_time": "2022-01-30T13:23:56.358Z"
   },
   {
    "duration": 18,
    "start_time": "2022-01-30T13:23:59.737Z"
   },
   {
    "duration": 71,
    "start_time": "2022-01-30T13:24:00.931Z"
   },
   {
    "duration": 71,
    "start_time": "2022-01-30T13:24:01.746Z"
   },
   {
    "duration": 1699,
    "start_time": "2022-01-30T13:24:03.946Z"
   },
   {
    "duration": 3809,
    "start_time": "2022-01-30T13:24:05.649Z"
   },
   {
    "duration": 1878,
    "start_time": "2022-01-30T13:24:10.738Z"
   },
   {
    "duration": 16,
    "start_time": "2022-01-30T13:24:21.227Z"
   },
   {
    "duration": 6,
    "start_time": "2022-01-30T13:24:23.859Z"
   },
   {
    "duration": 178,
    "start_time": "2022-01-30T13:24:25.871Z"
   },
   {
    "duration": 743,
    "start_time": "2022-01-30T13:24:28.530Z"
   },
   {
    "duration": 8,
    "start_time": "2022-01-30T13:24:38.482Z"
   },
   {
    "duration": 63,
    "start_time": "2022-01-30T13:24:40.021Z"
   },
   {
    "duration": 148973,
    "start_time": "2022-01-30T13:24:45.379Z"
   },
   {
    "duration": 1775,
    "start_time": "2022-01-30T13:42:31.581Z"
   },
   {
    "duration": 20,
    "start_time": "2022-01-30T13:42:33.359Z"
   },
   {
    "duration": 4,
    "start_time": "2022-01-30T13:58:30.322Z"
   },
   {
    "duration": 2823,
    "start_time": "2022-01-30T13:58:30.329Z"
   },
   {
    "duration": 3176,
    "start_time": "2022-01-30T14:02:53.478Z"
   },
   {
    "duration": 4,
    "start_time": "2022-01-30T14:03:33.217Z"
   },
   {
    "duration": 5263,
    "start_time": "2022-01-30T14:03:33.225Z"
   },
   {
    "duration": 4,
    "start_time": "2022-01-30T14:10:43.354Z"
   }
  ],
  "kernelspec": {
   "display_name": "Python 3 (ipykernel)",
   "language": "python",
   "name": "python3"
  },
  "language_info": {
   "codemirror_mode": {
    "name": "ipython",
    "version": 3
   },
   "file_extension": ".py",
   "mimetype": "text/x-python",
   "name": "python",
   "nbconvert_exporter": "python",
   "pygments_lexer": "ipython3",
   "version": "3.9.7"
  },
  "toc": {
   "base_numbering": 1,
   "nav_menu": {},
   "number_sections": true,
   "sideBar": true,
   "skip_h1_title": true,
   "title_cell": "Table of Contents",
   "title_sidebar": "Contents",
   "toc_cell": false,
   "toc_position": {},
   "toc_section_display": true,
   "toc_window_display": false
  }
 },
 "nbformat": 4,
 "nbformat_minor": 4
}
