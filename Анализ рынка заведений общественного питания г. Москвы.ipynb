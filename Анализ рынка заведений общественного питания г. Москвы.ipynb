{
 "cells": [
  {
   "cell_type": "markdown",
   "metadata": {},
   "source": [
    "# Анализ рынка заведений общественного питания г. Москвы\n",
    "### Цель  анализ текущего состояния рынка общественного питания г. Москвы \n",
    "### Задачи:\n",
    "1. выполнить первичную обработку данных: убрать дубликаты, пропуски м др. ;<br>\n",
    "2. дать общую характеристику объектам питания г Москва по типу заведений и количеству посадочных мест ;<br>\n",
    "3. найти топ-10 улиц по количеству объектов питания и дать им характеристику;<br> \n",
    "4. сделать общие выводы и представить результаты исследования в виде презентации;<br> \n",
    "5. дать рекомендации инвестарам по открытию робо-кафе<br> "
   ]
  },
  {
   "cell_type": "code",
   "execution_count": 1,
   "metadata": {},
   "outputs": [],
   "source": [
    "import pandas as pd\n",
    "from pymystem3 import Mystem\n",
    "from collections import Counter\n",
    "import seaborn as sns\n",
    "m = Mystem()\n",
    "import matplotlib.pyplot as plt\n",
    "import re\n",
    "\n",
    "sns.set_palette('dark')"
   ]
  },
  {
   "cell_type": "code",
   "execution_count": 2,
   "metadata": {},
   "outputs": [],
   "source": [
    "\n",
    "df=pd.read_csv('/datasets/rest_data.csv')\n",
    "district = pd.read_csv('https://frs.noosphere.ru/xmlui/bitstream/handle/20.500.11925/714058/mosgaz-streets.csv?sequence=1')\n",
    "pd.set_option('display.max_rows', None)\n"
   ]
  },
  {
   "cell_type": "code",
   "execution_count": 3,
   "metadata": {},
   "outputs": [
    {
     "data": {
      "text/html": [
       "<div>\n",
       "<style scoped>\n",
       "    .dataframe tbody tr th:only-of-type {\n",
       "        vertical-align: middle;\n",
       "    }\n",
       "\n",
       "    .dataframe tbody tr th {\n",
       "        vertical-align: top;\n",
       "    }\n",
       "\n",
       "    .dataframe thead th {\n",
       "        text-align: right;\n",
       "    }\n",
       "</style>\n",
       "<table border=\"1\" class=\"dataframe\">\n",
       "  <thead>\n",
       "    <tr style=\"text-align: right;\">\n",
       "      <th></th>\n",
       "      <th>st_name</th>\n",
       "      <th>areaid</th>\n",
       "      <th>okrug</th>\n",
       "      <th>area</th>\n",
       "    </tr>\n",
       "  </thead>\n",
       "  <tbody>\n",
       "    <tr>\n",
       "      <td>0</td>\n",
       "      <td>Выставочный переулок</td>\n",
       "      <td>17</td>\n",
       "      <td>ЦАО</td>\n",
       "      <td>Пресненский район</td>\n",
       "    </tr>\n",
       "    <tr>\n",
       "      <td>1</td>\n",
       "      <td>улица Гашека</td>\n",
       "      <td>17</td>\n",
       "      <td>ЦАО</td>\n",
       "      <td>Пресненский район</td>\n",
       "    </tr>\n",
       "    <tr>\n",
       "      <td>2</td>\n",
       "      <td>Большая Никитская улица</td>\n",
       "      <td>17</td>\n",
       "      <td>ЦАО</td>\n",
       "      <td>Пресненский район</td>\n",
       "    </tr>\n",
       "    <tr>\n",
       "      <td>3</td>\n",
       "      <td>Глубокий переулок</td>\n",
       "      <td>17</td>\n",
       "      <td>ЦАО</td>\n",
       "      <td>Пресненский район</td>\n",
       "    </tr>\n",
       "    <tr>\n",
       "      <td>4</td>\n",
       "      <td>Большой Гнездниковский переулок</td>\n",
       "      <td>17</td>\n",
       "      <td>ЦАО</td>\n",
       "      <td>Пресненский район</td>\n",
       "    </tr>\n",
       "  </tbody>\n",
       "</table>\n",
       "</div>"
      ],
      "text/plain": [
       "                           st_name  areaid okrug               area\n",
       "0             Выставочный переулок      17   ЦАО  Пресненский район\n",
       "1                     улица Гашека      17   ЦАО  Пресненский район\n",
       "2          Большая Никитская улица      17   ЦАО  Пресненский район\n",
       "3                Глубокий переулок      17   ЦАО  Пресненский район\n",
       "4  Большой Гнездниковский переулок      17   ЦАО  Пресненский район"
      ]
     },
     "execution_count": 3,
     "metadata": {},
     "output_type": "execute_result"
    }
   ],
   "source": [
    "district = district.rename(columns={'streetname':'st_name'})\n",
    "\n",
    "district.head()"
   ]
  },
  {
   "cell_type": "markdown",
   "metadata": {},
   "source": [
    "### 1. Обработка данных\n",
    "Проверим данные на наличие дубликатов и пропусков"
   ]
  },
  {
   "cell_type": "code",
   "execution_count": 4,
   "metadata": {},
   "outputs": [
    {
     "name": "stdout",
     "output_type": "stream",
     "text": [
      "<class 'pandas.core.frame.DataFrame'>\n",
      "RangeIndex: 15366 entries, 0 to 15365\n",
      "Data columns (total 6 columns):\n",
      "id             15366 non-null int64\n",
      "object_name    15366 non-null object\n",
      "chain          15366 non-null object\n",
      "object_type    15366 non-null object\n",
      "address        15366 non-null object\n",
      "number         15366 non-null int64\n",
      "dtypes: int64(2), object(4)\n",
      "memory usage: 720.4+ KB\n"
     ]
    }
   ],
   "source": [
    "df.head(10)\n",
    "df.info()\n",
    "# что-то подозрительно: все данные на месте без пропусков, посчитаем дубликаты\n",
    "df.duplicated().sum()\n",
    "# становится еще  интереснее\n",
    "len(df[df['object_name'].isna()])\n",
    "len(df[df['address'].isna()])\n",
    "\n",
    "df.duplicated(subset=['object_name', 'address', 'chain', 'object_type', 'number']).sum()\n",
    "df.drop_duplicates(subset=['object_name', 'address', 'chain', 'object_type', 'number'], inplace = True)"
   ]
  },
  {
   "cell_type": "code",
   "execution_count": 5,
   "metadata": {},
   "outputs": [
    {
     "data": {
      "text/plain": [
       "array(['СМЕТАНА', 'Родник', 'Кафе «Академия»', ..., 'Бар Мята Lounge',\n",
       "       'Мята Lounge Октябрьская', 'Кальянная «Мята Lounge»'], dtype=object)"
      ]
     },
     "metadata": {},
     "output_type": "display_data"
    }
   ],
   "source": [
    "display(df['object_name'].unique())\n",
    "# уже видно, что названия сетевых кафе придется исправлять: тут и Бар Мята Lounge, \n",
    "# и Мята Lounge Октябрьская, и Кальянная «Мята Lounge»"
   ]
  },
  {
   "cell_type": "markdown",
   "metadata": {},
   "source": [
    "Так как разное написание названий будет характерно для сетевых заведений, то для исправления названий я выделила в отдельную переменную сетевые кафе и в ней искала все повторяющиеся названия и проводила замену отдельный столбец, по которому отслеживала, сколько названий заменились, сколько еще нет. Это сделано для удобства \"отлова\" таких названий, так как искать  их по всему df довольно сложно. Потом эту функцию я применю ко всему датафрейму. "
   ]
  },
  {
   "cell_type": "code",
   "execution_count": 6,
   "metadata": {},
   "outputs": [
    {
     "name": "stderr",
     "output_type": "stream",
     "text": [
      "/opt/conda/lib/python3.7/site-packages/ipykernel_launcher.py:2: SettingWithCopyWarning: \n",
      "A value is trying to be set on a copy of a slice from a DataFrame.\n",
      "Try using .loc[row_indexer,col_indexer] = value instead\n",
      "\n",
      "See the caveats in the documentation: http://pandas.pydata.org/pandas-docs/stable/user_guide/indexing.html#returning-a-view-versus-a-copy\n",
      "  \n"
     ]
    }
   ],
   "source": [
    "df_chain = df[df['chain'] == 'да']\n",
    "df_chain['object_name'] = df_chain['object_name'].str.lower()\n",
    "#df_chain['object_name'].unique()"
   ]
  },
  {
   "cell_type": "markdown",
   "metadata": {},
   "source": [
    "Применим теперь функцию new_name к сталбцу ['object_name'] всего df"
   ]
  },
  {
   "cell_type": "code",
   "execution_count": 9,
   "metadata": {},
   "outputs": [],
   "source": [
    "def new_name(row):\n",
    "    i = ' '.join(m.lemmatize(row['object_name'])).lower()\n",
    "    if 'wok' in i or 'вок' in i:\n",
    "        return  'Суши Wok'\n",
    "    if 'академия' in i:\n",
    "        return 'Академия'\n",
    "    if 'якитория' in i:\n",
    "        return 'Якитория'\n",
    "    if 'kfc' in i:\n",
    "        return 'KFC'\n",
    "    if 'бургер' in i or 'burger' in i:\n",
    "        return 'Бургер кинг'\n",
    "    if 'макдоналдс' in i:\n",
    "        return 'Макдоналдс'\n",
    "    if 'магбургер' in i:\n",
    "        return 'Магбургер'\n",
    "    if 'волконский' in i:\n",
    "        return 'Волконский'\n",
    "    if 'примус' in i:\n",
    "        return 'Якитория и Ян Примус'\n",
    "    if 'штолл' in i:\n",
    "        return 'Штолле'\n",
    "    if 'му' in i:\n",
    "        return 'Му-му'\n",
    "    if 'сабве' in i or 'subway' in i:\n",
    "        return 'Сабвей'\n",
    "    if 'хинкальн' in i:\n",
    "        return 'Хинкальная'\n",
    "    if 'караваев' in i:\n",
    "        return 'Кулинарная лавка братьев караваевых'\n",
    "    if 'теремок' in i:\n",
    "        return 'Теремок'\n",
    "    if 'крошка' in i:\n",
    "        return 'Крошка картошка'\n",
    "    if 'lounge' in i or 'мята' in i:\n",
    "        return 'Мята lounge'\n",
    "    if 'в&в' in i or 'бб энд бургерс' in i:\n",
    "        return 'В&В бургер'\n",
    "    if 'хаус' in i:\n",
    "        return 'Кофе хаус'\n",
    "    if 'prime' in i or 'прайм' in i:\n",
    "        return 'Прайм'\n",
    "    if 'джонс' in i or 'johns' in i:\n",
    "        return 'Папа Джонс'\n",
    "    if 'старбакс' in i or 'starbucks' in i:\n",
    "        return 'Старбакс'\n",
    "    if 'урюк' in i:\n",
    "        return 'Урюк'\n",
    "    if 'планета' in i:\n",
    "        return 'Планета суши'\n",
    "    if 'додо' in i:\n",
    "        return 'Додо пицца'\n",
    "    if 'брусник' in i:\n",
    "        return 'Брусника'\n",
    "    if 'paul' in i or 'поль' in i:\n",
    "        return 'Paul поль'\n",
    "    if 'шоп' in i:\n",
    "        return 'Сушишоп'\n",
    "    if 'ваби' in i:\n",
    "        return 'Ваби-саби'\n",
    "    if 'танук' in i:\n",
    "        return 'Тануки'\n",
    "    if 'вареничн' in i:\n",
    "        return 'Вареничная №1'\n",
    "    if 'патио' in i:\n",
    "        return 'Иль патио'\n",
    "    if 'чайхон' in i:\n",
    "        return 'Чайхона №1'\n",
    "    if 'шоколадни' in i:\n",
    "        return 'Шоколадница'\n",
    "    if 'домино' in i:\n",
    "        return \"Домино'с пицца\"\n",
    "    if 'милти' in i:\n",
    "        return 'Милти'\n",
    "    if 'кальян' in i:\n",
    "        return 'МСК московская сеть кальянных'\n",
    "    if 'creme' in i or 'krispy' in i:\n",
    "        return 'Krispy creme'\n",
    "    if 'сет' in i:\n",
    "        return 'Cуши сет'\n",
    "    if 'goodman' in i or 'гудман' in i:\n",
    "        return 'Гудман'\n",
    "    if 'mario' in i:\n",
    "        return 'Osteria mario'\n",
    "    if 'ссср' in i:\n",
    "        return 'Чебуречная ссср'\n",
    "    if 'стардогs' in i:\n",
    "        return 'Стардогs'\n",
    "    if 'але' in i:\n",
    "        return 'Aлло пицца'\n",
    "    if 'пилзнер' in i:\n",
    "        return 'Пилзнер'\n",
    "    if 'сити' in i:\n",
    "        return 'Сити пицца'\n",
    "    if 'гудман' in i:\n",
    "        return 'Гудман'\n",
    "    if 'андерсон' in i:\n",
    "        return 'Андерсон'\n",
    "    if 'тарас' in i:\n",
    "        return 'тарас бульба'\n",
    "    if 'хлеб' in i:\n",
    "        return 'хлеб насущный'\n",
    "    if 'руккола' in i:\n",
    "        return 'Руккола'\n",
    "    if 'cofix' in i:\n",
    "        return 'Cofix'\n",
    "    if 'милти' in i:\n",
    "        return 'Милти'\n",
    "    if 'dunkin' in i or 'донатс' in i:\n",
    "        return 'Dunkin donuts'\n",
    "    if 'баскин' in i:\n",
    "        return 'Баскин роббинс'\n",
    "    if 'паоло' in i:\n",
    "        return 'Пицца паоло'\n",
    "    if 'лукойл' in i:\n",
    "        return 'Кафе лукойл'\n",
    "    if 'себя' in i:\n",
    "        return 'Кофе с собой'\n",
    "    if 'чайхон' in i:\n",
    "        return 'Чайхона №1'\n",
    "    if 'хинкальн' in i:\n",
    "        return 'Хинкальная'\n",
    "    if 'жан' in i or 'жак' in i:\n",
    "        return 'Жан жак'\n",
    "    if 'то да с' in i:\n",
    "        return 'То да сё'\n",
    "    if 'азбука' in i:\n",
    "        return 'Азбука вкуса'\n",
    "    if 'миллер' in i or 'мюллер' in i:\n",
    "        return 'Старина мюллер'\n",
    "    if 'фабрика' in i:\n",
    "        return 'Пицца фабрика'\n",
    "    if 'pomodoro' in i:\n",
    "        return 'Пицца pomodoro'    \n",
    "    if 'пипони' in i or 'пиппони' in i:\n",
    "        return 'Пицца пиппони'\n",
    "    if 'бюро' in i:\n",
    "        return 'Кулинарное бюро'\n",
    "    if 'экспресс' in i or 'экспрес' in i:\n",
    "        return 'Пицца экспресс'\n",
    "    if 'кружка' in i:\n",
    "        return 'Кружка'\n",
    "    if 'коста' in i:\n",
    "        return 'Коста кофе'\n",
    "    if 'правdа' in i:\n",
    "        return 'Правdа кофе'\n",
    "    if 'гамбринус' in i:\n",
    "        return 'Гамбринус'\n",
    "    if 'дабл' in i:\n",
    "        return 'Дабл би'\n",
    "    if 'два' in i:\n",
    "        return 'Две палочки'\n",
    "    if 'кружка' in i:\n",
    "        return 'Кружка'\n",
    "    if 'маки' in i or 'maki' in i or 'маки-маки' in i:\n",
    "        return 'Маки-маки'\n",
    "    if 'тапчан' in i:\n",
    "        return 'Тапчан'\n",
    "    if 'мимино' in i:\n",
    "        return 'Мимино'\n",
    "    if 'джон' in i:\n",
    "        return 'Джон джоли'\n",
    "    if 'французский' in i:\n",
    "        return 'Французская выпечка'\n",
    "    if 'николай' in i:\n",
    "        return 'Николай'\n",
    "    if 'шантимель' in i:\n",
    "        return 'Шантимель'\n",
    "    if 'пирог' in i:\n",
    "        return 'Тирольские пироги'\n",
    "    if 'алл' in i :\n",
    "        return 'Алло-пицца'\n",
    "    if 'пронто' in i:\n",
    "        return 'Пронто'\n",
    "    if 'космик' in i:\n",
    "        return 'Космик'\n",
    "    if 'нияма' in i:\n",
    "        return 'Нияма'\n",
    "    if 'блин' in i:\n",
    "        return 'Блинная'\n",
    "    if 'ташир' in i:\n",
    "        return 'Tашир пицца'\n",
    "    if 'роснефть' in i:\n",
    "        return 'Роснефть кафе'\n",
    "    if 'кофемания' in i:\n",
    "        return 'Кофемания'\n",
    "    if 'гурман' in i:\n",
    "        return 'Гурман'\n",
    "    if 'lavkalavka' in i:\n",
    "        return 'Lavkalavka'\n",
    "    if 'moskalyan' in i:\n",
    "        return 'Moskalyan'\n",
    "    if 'мясоroob' in i:\n",
    "        return 'Мясоroob'\n",
    "    if 'box' in i:\n",
    "        return 'My box'\n",
    "    if 'хат' in i:\n",
    "        return 'Пицца хат'\n",
    "    if 'тун' in i:\n",
    "         return 'Суши тун'\n",
    "    if 'грабл' in i:\n",
    "        return 'Грабли'\n",
    "    return i\n",
    "\n",
    "df['object_name_'] = df.apply(new_name, axis=1)\n",
    "df['object_type']=df['object_type'].str.replace('предприятие быстрого обслуживания', 'fast food')\n",
    "\n"
   ]
  },
  {
   "cell_type": "code",
   "execution_count": 10,
   "metadata": {},
   "outputs": [
    {
     "data": {
      "text/html": [
       "<div>\n",
       "<style scoped>\n",
       "    .dataframe tbody tr th:only-of-type {\n",
       "        vertical-align: middle;\n",
       "    }\n",
       "\n",
       "    .dataframe tbody tr th {\n",
       "        vertical-align: top;\n",
       "    }\n",
       "\n",
       "    .dataframe thead th {\n",
       "        text-align: right;\n",
       "    }\n",
       "</style>\n",
       "<table border=\"1\" class=\"dataframe\">\n",
       "  <thead>\n",
       "    <tr style=\"text-align: right;\">\n",
       "      <th></th>\n",
       "      <th>id</th>\n",
       "      <th>object_name</th>\n",
       "      <th>chain</th>\n",
       "      <th>object_type</th>\n",
       "      <th>address</th>\n",
       "      <th>number</th>\n",
       "      <th>object_name_</th>\n",
       "    </tr>\n",
       "  </thead>\n",
       "  <tbody>\n",
       "    <tr>\n",
       "      <td>0</td>\n",
       "      <td>151635</td>\n",
       "      <td>СМЕТАНА</td>\n",
       "      <td>нет</td>\n",
       "      <td>кафе</td>\n",
       "      <td>город Москва, улица Егора Абакумова, дом 9</td>\n",
       "      <td>48</td>\n",
       "      <td>сметана</td>\n",
       "    </tr>\n",
       "    <tr>\n",
       "      <td>1</td>\n",
       "      <td>77874</td>\n",
       "      <td>Родник</td>\n",
       "      <td>нет</td>\n",
       "      <td>кафе</td>\n",
       "      <td>город Москва, улица Талалихина, дом 2/1, корпус 1</td>\n",
       "      <td>35</td>\n",
       "      <td>родник</td>\n",
       "    </tr>\n",
       "    <tr>\n",
       "      <td>2</td>\n",
       "      <td>24309</td>\n",
       "      <td>Кафе «Академия»</td>\n",
       "      <td>нет</td>\n",
       "      <td>кафе</td>\n",
       "      <td>город Москва, Абельмановская улица, дом 6</td>\n",
       "      <td>95</td>\n",
       "      <td>Академия</td>\n",
       "    </tr>\n",
       "    <tr>\n",
       "      <td>3</td>\n",
       "      <td>21894</td>\n",
       "      <td>ПИЦЦЕТОРИЯ</td>\n",
       "      <td>да</td>\n",
       "      <td>кафе</td>\n",
       "      <td>город Москва, Абрамцевская улица, дом 1</td>\n",
       "      <td>40</td>\n",
       "      <td>пиццетория</td>\n",
       "    </tr>\n",
       "    <tr>\n",
       "      <td>4</td>\n",
       "      <td>119365</td>\n",
       "      <td>Кафе «Вишневая метель»</td>\n",
       "      <td>нет</td>\n",
       "      <td>кафе</td>\n",
       "      <td>город Москва, Абрамцевская улица, дом 9, корпус 1</td>\n",
       "      <td>50</td>\n",
       "      <td>кафе  « вишневый   метель »</td>\n",
       "    </tr>\n",
       "  </tbody>\n",
       "</table>\n",
       "</div>"
      ],
      "text/plain": [
       "       id             object_name chain object_type  \\\n",
       "0  151635                 СМЕТАНА   нет        кафе   \n",
       "1   77874                  Родник   нет        кафе   \n",
       "2   24309         Кафе «Академия»   нет        кафе   \n",
       "3   21894              ПИЦЦЕТОРИЯ    да        кафе   \n",
       "4  119365  Кафе «Вишневая метель»   нет        кафе   \n",
       "\n",
       "                                             address  number  \\\n",
       "0         город Москва, улица Егора Абакумова, дом 9      48   \n",
       "1  город Москва, улица Талалихина, дом 2/1, корпус 1      35   \n",
       "2          город Москва, Абельмановская улица, дом 6      95   \n",
       "3            город Москва, Абрамцевская улица, дом 1      40   \n",
       "4  город Москва, Абрамцевская улица, дом 9, корпус 1      50   \n",
       "\n",
       "                  object_name_  \n",
       "0                      сметана  \n",
       "1                       родник  \n",
       "2                     Академия  \n",
       "3                   пиццетория  \n",
       "4  кафе  « вишневый   метель »  "
      ]
     },
     "execution_count": 10,
     "metadata": {},
     "output_type": "execute_result"
    }
   ],
   "source": [
    "# удалим концевые символы\n",
    "df['object_name_'] = df['object_name_'].str.strip()\n",
    "df.head()"
   ]
  },
  {
   "cell_type": "markdown",
   "metadata": {},
   "source": [
    "Теперь выделим названия улиц в адрессах и удалим населенные пункты, не имеющие отношеня к городу Москва "
   ]
  },
  {
   "cell_type": "code",
   "execution_count": 11,
   "metadata": {},
   "outputs": [
    {
     "data": {
      "text/html": [
       "<div>\n",
       "<style scoped>\n",
       "    .dataframe tbody tr th:only-of-type {\n",
       "        vertical-align: middle;\n",
       "    }\n",
       "\n",
       "    .dataframe tbody tr th {\n",
       "        vertical-align: top;\n",
       "    }\n",
       "\n",
       "    .dataframe thead th {\n",
       "        text-align: right;\n",
       "    }\n",
       "</style>\n",
       "<table border=\"1\" class=\"dataframe\">\n",
       "  <thead>\n",
       "    <tr style=\"text-align: right;\">\n",
       "      <th></th>\n",
       "      <th>id</th>\n",
       "      <th>object_name</th>\n",
       "      <th>chain</th>\n",
       "      <th>object_type</th>\n",
       "      <th>address</th>\n",
       "      <th>number</th>\n",
       "      <th>object_name_</th>\n",
       "      <th>adress</th>\n",
       "    </tr>\n",
       "  </thead>\n",
       "  <tbody>\n",
       "    <tr>\n",
       "      <td>0</td>\n",
       "      <td>151635</td>\n",
       "      <td>СМЕТАНА</td>\n",
       "      <td>нет</td>\n",
       "      <td>кафе</td>\n",
       "      <td>город Москва, улица Егора Абакумова, дом 9</td>\n",
       "      <td>48</td>\n",
       "      <td>сметана</td>\n",
       "      <td>улица Егора Абакумова</td>\n",
       "    </tr>\n",
       "    <tr>\n",
       "      <td>1</td>\n",
       "      <td>77874</td>\n",
       "      <td>Родник</td>\n",
       "      <td>нет</td>\n",
       "      <td>кафе</td>\n",
       "      <td>город Москва, улица Талалихина, дом 2/1, корпус 1</td>\n",
       "      <td>35</td>\n",
       "      <td>родник</td>\n",
       "      <td>улица Талалихина</td>\n",
       "    </tr>\n",
       "    <tr>\n",
       "      <td>2</td>\n",
       "      <td>24309</td>\n",
       "      <td>Кафе «Академия»</td>\n",
       "      <td>нет</td>\n",
       "      <td>кафе</td>\n",
       "      <td>город Москва, Абельмановская улица, дом 6</td>\n",
       "      <td>95</td>\n",
       "      <td>Академия</td>\n",
       "      <td>Абельмановская улица</td>\n",
       "    </tr>\n",
       "    <tr>\n",
       "      <td>3</td>\n",
       "      <td>21894</td>\n",
       "      <td>ПИЦЦЕТОРИЯ</td>\n",
       "      <td>да</td>\n",
       "      <td>кафе</td>\n",
       "      <td>город Москва, Абрамцевская улица, дом 1</td>\n",
       "      <td>40</td>\n",
       "      <td>пиццетория</td>\n",
       "      <td>Абрамцевская улица</td>\n",
       "    </tr>\n",
       "    <tr>\n",
       "      <td>4</td>\n",
       "      <td>119365</td>\n",
       "      <td>Кафе «Вишневая метель»</td>\n",
       "      <td>нет</td>\n",
       "      <td>кафе</td>\n",
       "      <td>город Москва, Абрамцевская улица, дом 9, корпус 1</td>\n",
       "      <td>50</td>\n",
       "      <td>кафе  « вишневый   метель »</td>\n",
       "      <td>Абрамцевская улица</td>\n",
       "    </tr>\n",
       "  </tbody>\n",
       "</table>\n",
       "</div>"
      ],
      "text/plain": [
       "       id             object_name chain object_type  \\\n",
       "0  151635                 СМЕТАНА   нет        кафе   \n",
       "1   77874                  Родник   нет        кафе   \n",
       "2   24309         Кафе «Академия»   нет        кафе   \n",
       "3   21894              ПИЦЦЕТОРИЯ    да        кафе   \n",
       "4  119365  Кафе «Вишневая метель»   нет        кафе   \n",
       "\n",
       "                                             address  number  \\\n",
       "0         город Москва, улица Егора Абакумова, дом 9      48   \n",
       "1  город Москва, улица Талалихина, дом 2/1, корпус 1      35   \n",
       "2          город Москва, Абельмановская улица, дом 6      95   \n",
       "3            город Москва, Абрамцевская улица, дом 1      40   \n",
       "4  город Москва, Абрамцевская улица, дом 9, корпус 1      50   \n",
       "\n",
       "                  object_name_                 adress  \n",
       "0                      сметана  улица Егора Абакумова  \n",
       "1                       родник       улица Талалихина  \n",
       "2                     Академия   Абельмановская улица  \n",
       "3                   пиццетория     Абрамцевская улица  \n",
       "4  кафе  « вишневый   метель »     Абрамцевская улица  "
      ]
     },
     "execution_count": 11,
     "metadata": {},
     "output_type": "execute_result"
    }
   ],
   "source": [
    "# сначала при помощи регулярных выражений выделим названия улиц:\n",
    "# большинсво адрессов начинается с \"город Москва\", затем следует улица и дом\n",
    "# однако есть адресса, которые начинаются сразу с названия улицы, а также улицы, содержащие в названии цифры: 1-й переулок и т. д.\n",
    "def moscow(row):\n",
    "    split = row['address']\n",
    "    if 'город Москва' in split:\n",
    "        regexp = \", .+\\\\D,\"\n",
    "        adress = re.findall(regexp, split)   \n",
    "        return adress\n",
    "    else:\n",
    "        regexp1 = \".+\\D,\"\n",
    "        adress = re.findall(regexp1, split)\n",
    "        return adress\n",
    "\n",
    "    \n",
    "df['adress'] = df.apply(moscow, axis=1)\n",
    "\n",
    "# уберем лишние символы\n",
    "df['adress'] = df['adress'].astype(str)\n",
    "df['adress'] = df['adress'].str.strip('[]')\n",
    "df['adress'] = df['adress'].str.strip(\"''\")\n",
    "df['adress'] = df['adress'].str.strip(\",\")\n",
    "df['adress'] = df['adress'].map(str.strip)\n",
    "\n",
    "df.head()\n"
   ]
  },
  {
   "cell_type": "code",
   "execution_count": 12,
   "metadata": {},
   "outputs": [
    {
     "data": {
      "text/html": [
       "<div>\n",
       "<style scoped>\n",
       "    .dataframe tbody tr th:only-of-type {\n",
       "        vertical-align: middle;\n",
       "    }\n",
       "\n",
       "    .dataframe tbody tr th {\n",
       "        vertical-align: top;\n",
       "    }\n",
       "\n",
       "    .dataframe thead th {\n",
       "        text-align: right;\n",
       "    }\n",
       "</style>\n",
       "<table border=\"1\" class=\"dataframe\">\n",
       "  <thead>\n",
       "    <tr style=\"text-align: right;\">\n",
       "      <th></th>\n",
       "      <th>id</th>\n",
       "      <th>object_name</th>\n",
       "      <th>chain</th>\n",
       "      <th>object_type</th>\n",
       "      <th>address</th>\n",
       "      <th>number</th>\n",
       "      <th>object_name_</th>\n",
       "      <th>adress</th>\n",
       "      <th>city</th>\n",
       "    </tr>\n",
       "  </thead>\n",
       "  <tbody>\n",
       "    <tr>\n",
       "      <td>0</td>\n",
       "      <td>151635</td>\n",
       "      <td>СМЕТАНА</td>\n",
       "      <td>нет</td>\n",
       "      <td>кафе</td>\n",
       "      <td>город Москва, улица Егора Абакумова, дом 9</td>\n",
       "      <td>48</td>\n",
       "      <td>сметана</td>\n",
       "      <td>улица Егора Абакумова</td>\n",
       "      <td>Moscow</td>\n",
       "    </tr>\n",
       "    <tr>\n",
       "      <td>1</td>\n",
       "      <td>77874</td>\n",
       "      <td>Родник</td>\n",
       "      <td>нет</td>\n",
       "      <td>кафе</td>\n",
       "      <td>город Москва, улица Талалихина, дом 2/1, корпус 1</td>\n",
       "      <td>35</td>\n",
       "      <td>родник</td>\n",
       "      <td>улица Талалихина</td>\n",
       "      <td>Moscow</td>\n",
       "    </tr>\n",
       "    <tr>\n",
       "      <td>2</td>\n",
       "      <td>24309</td>\n",
       "      <td>Кафе «Академия»</td>\n",
       "      <td>нет</td>\n",
       "      <td>кафе</td>\n",
       "      <td>город Москва, Абельмановская улица, дом 6</td>\n",
       "      <td>95</td>\n",
       "      <td>Академия</td>\n",
       "      <td>Абельмановская улица</td>\n",
       "      <td>Moscow</td>\n",
       "    </tr>\n",
       "    <tr>\n",
       "      <td>3</td>\n",
       "      <td>21894</td>\n",
       "      <td>ПИЦЦЕТОРИЯ</td>\n",
       "      <td>да</td>\n",
       "      <td>кафе</td>\n",
       "      <td>город Москва, Абрамцевская улица, дом 1</td>\n",
       "      <td>40</td>\n",
       "      <td>пиццетория</td>\n",
       "      <td>Абрамцевская улица</td>\n",
       "      <td>Moscow</td>\n",
       "    </tr>\n",
       "    <tr>\n",
       "      <td>4</td>\n",
       "      <td>119365</td>\n",
       "      <td>Кафе «Вишневая метель»</td>\n",
       "      <td>нет</td>\n",
       "      <td>кафе</td>\n",
       "      <td>город Москва, Абрамцевская улица, дом 9, корпус 1</td>\n",
       "      <td>50</td>\n",
       "      <td>кафе  « вишневый   метель »</td>\n",
       "      <td>Абрамцевская улица</td>\n",
       "      <td>Moscow</td>\n",
       "    </tr>\n",
       "  </tbody>\n",
       "</table>\n",
       "</div>"
      ],
      "text/plain": [
       "       id             object_name chain object_type  \\\n",
       "0  151635                 СМЕТАНА   нет        кафе   \n",
       "1   77874                  Родник   нет        кафе   \n",
       "2   24309         Кафе «Академия»   нет        кафе   \n",
       "3   21894              ПИЦЦЕТОРИЯ    да        кафе   \n",
       "4  119365  Кафе «Вишневая метель»   нет        кафе   \n",
       "\n",
       "                                             address  number  \\\n",
       "0         город Москва, улица Егора Абакумова, дом 9      48   \n",
       "1  город Москва, улица Талалихина, дом 2/1, корпус 1      35   \n",
       "2          город Москва, Абельмановская улица, дом 6      95   \n",
       "3            город Москва, Абрамцевская улица, дом 1      40   \n",
       "4  город Москва, Абрамцевская улица, дом 9, корпус 1      50   \n",
       "\n",
       "                  object_name_                 adress    city  \n",
       "0                      сметана  улица Егора Абакумова  Moscow  \n",
       "1                       родник       улица Талалихина  Moscow  \n",
       "2                     Академия   Абельмановская улица  Moscow  \n",
       "3                   пиццетория     Абрамцевская улица  Moscow  \n",
       "4  кафе  « вишневый   метель »     Абрамцевская улица  Moscow  "
      ]
     },
     "execution_count": 12,
     "metadata": {},
     "output_type": "execute_result"
    }
   ],
   "source": [
    "# после применения функции moscow, у нас есть отдельно названия улиц, а также \"спрятавшиеся\" пригороды, их надо найти \n",
    "# и убрать. Для этого введем столбец city, в котором будем фильтровать адресса в столбце adress на \"Москва\" и \"Не Москва\"\n",
    "\n",
    "def adress(row):\n",
    "    normalized_adress = ' '.join(m.lemmatize(row['adress'])).lower()\n",
    "    outside_moscow_words = ['посел', 'поселен', 'киломе', 'деревн', 'город']\n",
    "    for outside_moscow_word in outside_moscow_words:\n",
    "        if outside_moscow_word in normalized_adress:\n",
    "            return 'no Moscow'\n",
    "        \n",
    "    return 'Moscow'\n",
    "\n",
    "    \n",
    "df['city'] = df.apply(adress, axis=1)\n",
    "df['adress'] = df['adress'].str.strip(\",\")\n",
    "\n",
    "\n",
    "df.head()\n",
    "\n"
   ]
  },
  {
   "cell_type": "code",
   "execution_count": 13,
   "metadata": {},
   "outputs": [
    {
     "name": "stdout",
     "output_type": "stream",
     "text": [
      "<class 'pandas.core.frame.DataFrame'>\n",
      "Int64Index: 15284 entries, 0 to 15365\n",
      "Data columns (total 9 columns):\n",
      "id              15284 non-null int64\n",
      "object_name     15284 non-null object\n",
      "chain           15284 non-null object\n",
      "object_type     15284 non-null object\n",
      "address         15284 non-null object\n",
      "number          15284 non-null int64\n",
      "object_name_    15284 non-null object\n",
      "adress          15284 non-null object\n",
      "city            15284 non-null object\n",
      "dtypes: int64(2), object(7)\n",
      "memory usage: 1.2+ MB\n"
     ]
    }
   ],
   "source": [
    "def moscow1(row):\n",
    "    if ',' in row['adress']:\n",
    "        split = row['adress']\n",
    "        regexp = \".+\\D,\"\n",
    "        adress = re.findall(regexp, split)   \n",
    "        return adress\n",
    "    \n",
    "    return row['adress']\n",
    "\n",
    "df['adress'] = df.apply(moscow1, axis=1)\n",
    "df['adress'] = df['adress'].astype(str)\n",
    "df.info()"
   ]
  },
  {
   "cell_type": "markdown",
   "metadata": {},
   "source": [
    "#### Вывод\n",
    "В обработке данных удалила дубликаты, привела к одному формату большинтсво названий сетевых кафе, выделила название улиц из адресса, удалила кафе, которые находятся в других населенных пунктах."
   ]
  },
  {
   "cell_type": "markdown",
   "metadata": {
    "tags": []
   },
   "source": [
    "### 2. Топ-10 улиц \n",
    "В этом пункте мы:<br>\n",
    "1.Построим график топ-10 улиц по количеству объектов общественного питания и объясним полученные результаты.<br>\n",
    "2. Найдем число улиц с одним объектом общественного питания.<br>\n",
    "3. Посмотрим на распределение количества посадочных мест для улиц с большим количеством объектов общественного питания.<br>"
   ]
  },
  {
   "cell_type": "code",
   "execution_count": 14,
   "metadata": {
    "scrolled": true
   },
   "outputs": [
    {
     "data": {
      "text/html": [
       "<div>\n",
       "<style scoped>\n",
       "    .dataframe tbody tr th:only-of-type {\n",
       "        vertical-align: middle;\n",
       "    }\n",
       "\n",
       "    .dataframe tbody tr th {\n",
       "        vertical-align: top;\n",
       "    }\n",
       "\n",
       "    .dataframe thead th {\n",
       "        text-align: right;\n",
       "    }\n",
       "</style>\n",
       "<table border=\"1\" class=\"dataframe\">\n",
       "  <thead>\n",
       "    <tr style=\"text-align: right;\">\n",
       "      <th></th>\n",
       "      <th>st_name</th>\n",
       "      <th>count</th>\n",
       "      <th>areaid</th>\n",
       "      <th>okrug</th>\n",
       "      <th>area</th>\n",
       "    </tr>\n",
       "  </thead>\n",
       "  <tbody>\n",
       "    <tr>\n",
       "      <td>0</td>\n",
       "      <td>проспект Мира</td>\n",
       "      <td>200</td>\n",
       "      <td>70</td>\n",
       "      <td>СВАО</td>\n",
       "      <td>Алексеевский район</td>\n",
       "    </tr>\n",
       "    <tr>\n",
       "      <td>1</td>\n",
       "      <td>проспект Мира</td>\n",
       "      <td>200</td>\n",
       "      <td>86</td>\n",
       "      <td>СВАО</td>\n",
       "      <td>Ярославский Район</td>\n",
       "    </tr>\n",
       "    <tr>\n",
       "      <td>2</td>\n",
       "      <td>проспект Мира</td>\n",
       "      <td>200</td>\n",
       "      <td>78</td>\n",
       "      <td>СВАО</td>\n",
       "      <td>Район Марьина роща</td>\n",
       "    </tr>\n",
       "    <tr>\n",
       "      <td>3</td>\n",
       "      <td>проспект Мира</td>\n",
       "      <td>200</td>\n",
       "      <td>79</td>\n",
       "      <td>СВАО</td>\n",
       "      <td>Останкинский район</td>\n",
       "    </tr>\n",
       "    <tr>\n",
       "      <td>4</td>\n",
       "      <td>проспект Мира</td>\n",
       "      <td>200</td>\n",
       "      <td>81</td>\n",
       "      <td>СВАО</td>\n",
       "      <td>Район Ростокино</td>\n",
       "    </tr>\n",
       "  </tbody>\n",
       "</table>\n",
       "</div>"
      ],
      "text/plain": [
       "         st_name  count  areaid okrug                area\n",
       "0  проспект Мира    200      70  СВАО  Алексеевский район\n",
       "1  проспект Мира    200      86  СВАО   Ярославский Район\n",
       "2  проспект Мира    200      78  СВАО  Район Марьина роща\n",
       "3  проспект Мира    200      79  СВАО  Останкинский район\n",
       "4  проспект Мира    200      81  СВАО     Район Ростокино"
      ]
     },
     "execution_count": 14,
     "metadata": {},
     "output_type": "execute_result"
    }
   ],
   "source": [
    "# начну делать задания с конца, так как это удобнее получается \n",
    "df_moscow = df[df['city'] == 'Moscow']\n",
    "df_moscow_10_top_st = df_moscow.groupby('adress', as_index=False).agg(\n",
    "     {'id': 'count'}).sort_values(by='id', ascending=False).head(10)\n",
    "df_moscow_10_top_st.columns = ['st_name', 'count']\n",
    "\n",
    "df_moscow_10_top_st\n",
    "# сразу введу новый  столбец с указанием района, где расположена улица\n",
    "df_moscow_10_top_st = df_moscow_10_top_st.merge(\n",
    "    district,\n",
    "    on='st_name',\n",
    "    how='left')\n",
    "\n",
    "df_moscow_10_top_st.head()\n",
    "\n"
   ]
  },
  {
   "cell_type": "markdown",
   "metadata": {},
   "source": [
    "Итак, мы получили топ-10 названий улиц с самым большим количеством заведений.Ленинградский и Ленинский проспект - одни из самых длинных в Москве. Проспект Мира, Кутузовский проспект, Варшавское шоссе (оно заканчивается далеко за Москвой), Ленинградский, Ленинский, Вернадского и Кутузовский проспекты объединяет одно - они начинаются в районе 3-го транспортного кольца и идут на несколько км - т.е. являются самымы крупными магистралями города. Профсоюзная улица, Каширское шоссе начинаются не в центре, но имеют достаточную протяженность, чтобы физически вместить много объектов питания. Т. е. 8 из 10 улиц топа - это длинные улицы. Из данного списка выбиваются 2 улицы: Пресненская набережная (самый центр города - Москва-сити. Хотя длина улицы всего 550 м, но на ней вместились аж 167 заведений) и Кировоградская улица (небольшая улица, расположенная далеко не в центре, но на ней расположено несколько крупных торговых центров и учебных заведений). "
   ]
  },
  {
   "cell_type": "code",
   "execution_count": 15,
   "metadata": {},
   "outputs": [
    {
     "data": {
      "image/png": "[encoded data removed]",
      "text/plain": [
       "<Figure size 864x360 with 1 Axes>"
      ]
     },
     "metadata": {
      "needs_background": "light"
     },
     "output_type": "display_data"
    }
   ],
   "source": [
    "list = df_moscow_10_top_st['st_name'].tolist()\n",
    "\n",
    "df_moscow_10_st_place = df_moscow.query('adress in @list')\n",
    "df_moscow_10_st_place.head(10)\n",
    "\n",
    "data_st_place = df_moscow_10_st_place.groupby(['object_type', 'chain'], as_index=False).agg({'id': 'count' ,'number': 'mean'}).round(2)\n",
    "data_st_place = data_st_place.sort_values(by='number', ascending=False)\n",
    "data_st_place\n",
    "\n",
    "plt.figure(figsize=(12, 5))\n",
    "ax=sns.barplot(x='object_type', y='number', hue = 'chain', data=data_st_place)\n",
    "plt.xticks(rotation=40)\n",
    "plt.title('Количество посадочных мест в зависимости от типа объекта питания')\n",
    "ax.set_ylabel('количество посадочных мест')\n",
    "plt.show()"
   ]
  },
  {
   "cell_type": "markdown",
   "metadata": {},
   "source": [
    "Как мы видим из графика, наибольшее количество посадочных мест на-10 улицах имеют столовые (140), бары и рестораны (около 100). Сетевые бары имеют больше посадочных мест , чем не сетевые; у рестроранов ситуация обратная. Также мы можем отметить, что у сетевых фаст фуд заведений количество посадочных мест куда больше, чем у не сетевых: 40 против 10.       "
   ]
  },
  {
   "cell_type": "code",
   "execution_count": 16,
   "metadata": {},
   "outputs": [
    {
     "data": {
      "text/html": [
       "<div>\n",
       "<style scoped>\n",
       "    .dataframe tbody tr th:only-of-type {\n",
       "        vertical-align: middle;\n",
       "    }\n",
       "\n",
       "    .dataframe tbody tr th {\n",
       "        vertical-align: top;\n",
       "    }\n",
       "\n",
       "    .dataframe thead th {\n",
       "        text-align: right;\n",
       "    }\n",
       "</style>\n",
       "<table border=\"1\" class=\"dataframe\">\n",
       "  <thead>\n",
       "    <tr style=\"text-align: right;\">\n",
       "      <th></th>\n",
       "      <th>st_name</th>\n",
       "      <th>object_type</th>\n",
       "      <th>areaid</th>\n",
       "      <th>okrug</th>\n",
       "      <th>area</th>\n",
       "    </tr>\n",
       "  </thead>\n",
       "  <tbody>\n",
       "    <tr>\n",
       "      <td>0</td>\n",
       "      <td>улица Степана Шутова</td>\n",
       "      <td>1</td>\n",
       "      <td>115.0</td>\n",
       "      <td>ЮВАО</td>\n",
       "      <td>Район Люблино</td>\n",
       "    </tr>\n",
       "    <tr>\n",
       "      <td>1</td>\n",
       "      <td>улица Степана Шутова</td>\n",
       "      <td>1</td>\n",
       "      <td>111.0</td>\n",
       "      <td>ЮВАО</td>\n",
       "      <td>Район Выхино-Жулебино</td>\n",
       "    </tr>\n",
       "    <tr>\n",
       "      <td>2</td>\n",
       "      <td>1-й Казачий переулок</td>\n",
       "      <td>1</td>\n",
       "      <td>21.0</td>\n",
       "      <td>ЦАО</td>\n",
       "      <td>Район Якиманка</td>\n",
       "    </tr>\n",
       "    <tr>\n",
       "      <td>3</td>\n",
       "      <td>улица Короленко</td>\n",
       "      <td>1</td>\n",
       "      <td>26.0</td>\n",
       "      <td>ВАО</td>\n",
       "      <td>Район Сокольники</td>\n",
       "    </tr>\n",
       "    <tr>\n",
       "      <td>4</td>\n",
       "      <td>13-я Парковая улица</td>\n",
       "      <td>1</td>\n",
       "      <td>35.0</td>\n",
       "      <td>ВАО</td>\n",
       "      <td>Район Северное Измайлово</td>\n",
       "    </tr>\n",
       "  </tbody>\n",
       "</table>\n",
       "</div>"
      ],
      "text/plain": [
       "                st_name  object_type  areaid okrug                      area\n",
       "0  улица Степана Шутова            1   115.0  ЮВАО             Район Люблино\n",
       "1  улица Степана Шутова            1   111.0  ЮВАО     Район Выхино-Жулебино\n",
       "2  1-й Казачий переулок            1    21.0   ЦАО            Район Якиманка\n",
       "3       улица Короленко            1    26.0   ВАО          Район Сокольники\n",
       "4   13-я Парковая улица            1    35.0   ВАО  Район Северное Измайлово"
      ]
     },
     "execution_count": 16,
     "metadata": {},
     "output_type": "execute_result"
    }
   ],
   "source": [
    "df_moscow\n",
    "one_types = df_moscow.groupby('adress', as_index=False).agg({'object_type': 'nunique'}).sort_values(by = 'object_type', ascending = False)\n",
    "one_types.head()\n",
    "one = one_types.query('object_type == 1')\n",
    "len(one)\n",
    "one = one.rename(columns={'adress':'st_name'})\n",
    "\n",
    "one = one.merge(\n",
    "    district,\n",
    "    on='st_name',\n",
    "    how='left')\n",
    "\n",
    "one.head()"
   ]
  },
  {
   "cell_type": "code",
   "execution_count": 17,
   "metadata": {},
   "outputs": [
    {
     "data": {
      "text/html": [
       "<div>\n",
       "<style scoped>\n",
       "    .dataframe tbody tr th:only-of-type {\n",
       "        vertical-align: middle;\n",
       "    }\n",
       "\n",
       "    .dataframe tbody tr th {\n",
       "        vertical-align: top;\n",
       "    }\n",
       "\n",
       "    .dataframe thead th {\n",
       "        text-align: right;\n",
       "    }\n",
       "</style>\n",
       "<table border=\"1\" class=\"dataframe\">\n",
       "  <thead>\n",
       "    <tr style=\"text-align: right;\">\n",
       "      <th></th>\n",
       "      <th>район</th>\n",
       "      <th>количество улиц</th>\n",
       "    </tr>\n",
       "  </thead>\n",
       "  <tbody>\n",
       "    <tr>\n",
       "      <td>100</td>\n",
       "      <td>Таганский район</td>\n",
       "      <td>32</td>\n",
       "    </tr>\n",
       "    <tr>\n",
       "      <td>20</td>\n",
       "      <td>Пресненский район</td>\n",
       "      <td>31</td>\n",
       "    </tr>\n",
       "    <tr>\n",
       "      <td>85</td>\n",
       "      <td>Район Хамовники</td>\n",
       "      <td>29</td>\n",
       "    </tr>\n",
       "    <tr>\n",
       "      <td>3</td>\n",
       "      <td>Басманный район</td>\n",
       "      <td>29</td>\n",
       "    </tr>\n",
       "    <tr>\n",
       "      <td>101</td>\n",
       "      <td>Тверской район</td>\n",
       "      <td>28</td>\n",
       "    </tr>\n",
       "  </tbody>\n",
       "</table>\n",
       "</div>"
      ],
      "text/plain": [
       "                 район  количество улиц\n",
       "100    Таганский район               32\n",
       "20   Пресненский район               31\n",
       "85     Район Хамовники               29\n",
       "3      Басманный район               29\n",
       "101     Тверской район               28"
      ]
     },
     "execution_count": 17,
     "metadata": {},
     "output_type": "execute_result"
    }
   ],
   "source": [
    "one_ = one['area'].drop_duplicates()\n",
    "len(one_)\n",
    "\n",
    "area_nunique = one.groupby('area').agg(\n",
    "    {'st_name': 'nunique'}).reset_index().sort_values(by='st_name', ascending=False).head(5)\n",
    "area_nunique.columns = ['район', 'количество улиц']    \n",
    "area_nunique"
   ]
  },
  {
   "cell_type": "markdown",
   "metadata": {},
   "source": [
    "Всего найдено 804 улицы и 107 райнов, где встречается один тип заведений. Если взять топ-5 районов (все они расположены в центральном административном округе), то здесь находится Тверской район - район офисов, Таганский и Пресненский райн - индустриальные районы, район Хамовники - один из наиболее «образованных» районов города. "
   ]
  },
  {
   "cell_type": "markdown",
   "metadata": {},
   "source": [
    "#### Вывод\n",
    " \n",
    "8 улиц из топ-10 представляют собой крупные магистральные улицы, начинающиеся в районе третьего транспортного кольца и идущие на несколько километров. 2 улицы, выбивающиеся из данного списака - это Пресненская набережная (москва-сити) и Кировоградская улица (на ней расположено несколько крупных учебных заведений и торговых центров с фуд-кортами). Наибольшее количество посадочных мест на-10 улицах имеют столовые (140), бары и рестораны (около 100), что объясняется спецификой данных заведений, расчитанных или на большой поток людей (в случае столовых) или на длительное прибывание посетитлей (бары, рестораны). Всего найдено 804 улицы и 107 районов, где встречается только один тип заведения. Даннные улица расположены по всему городу, топ-5 районов по количеству улиц с одним типом питания расположны в центральном административном округе."
   ]
  },
  {
   "cell_type": "markdown",
   "metadata": {},
   "source": [
    "### 2. Анализ объектов питания по городу\n",
    " \n",
    "В этом пункте мы:<br>\n",
    "1.Исследуем соотношение видов объектов общественного питания по количеству.<br>\n",
    "2. Исследуем соотношение сетевых и несетевых заведений по количеству.<br>\n",
    "3. Для каждого вида объекта общественного питания опишем среднее количество посадочных мест.<br>\n"
   ]
  },
  {
   "cell_type": "code",
   "execution_count": 18,
   "metadata": {},
   "outputs": [
    {
     "data": {
      "image/png": "[encoded data removed]",
      "text/plain": [
       "<Figure size 864x360 with 1 Axes>"
      ]
     },
     "metadata": {
      "needs_background": "light"
     },
     "output_type": "display_data"
    }
   ],
   "source": [
    "#Постороим график по типам объектов питания\n",
    "typ_catering = df_moscow.groupby('object_type', as_index=False).agg({'id':'count'}).sort_values('id', ascending=False)\n",
    "typ_catering.columns = ['object_type','count']\n",
    "\n",
    "plt.figure(figsize=(12, 5))\n",
    "ax=sns.barplot(x='object_type', y='count', data=typ_catering)\n",
    "plt.xticks(rotation=40)\n",
    "plt.title('Распределение типов заведений в целом по городу')\n",
    "ax.set_ylabel('количество')\n",
    "plt.show()"
   ]
  },
  {
   "cell_type": "markdown",
   "metadata": {},
   "source": [
    " \n",
    "Как мы видим, самым распространеным типом заведений являются кафе - больше 5000 заведений. Следом идет, нет, не ресторан и не объекты быстрого питания, а столовые. Рестораны и фаст фуд занимают третье и четвертое места соответсвенно. "
   ]
  },
  {
   "cell_type": "code",
   "execution_count": 19,
   "metadata": {},
   "outputs": [
    {
     "data": {
      "image/png": "[encoded data removed]",
      "text/plain": [
       "<Figure size 864x360 with 1 Axes>"
      ]
     },
     "metadata": {
      "needs_background": "light"
     },
     "output_type": "display_data"
    }
   ],
   "source": [
    "# постороим график распределения по количеству и соотношению сетевых и несетевых заведений\n",
    "rest_catering = df_moscow.groupby(['object_type', 'chain'], as_index=False).agg({'id':'count'}).sort_values('id', ascending=False)\n",
    "rest_catering.columns = ['object_type', 'chain', 'count']\n",
    "\n",
    "\n",
    "plt.figure(figsize=(12, 5))\n",
    "ax=sns.barplot(x='object_type', y='count', hue='chain', data=rest_catering)\n",
    "plt.xticks(rotation=40)\n",
    "plt.title('Соотношение типов объектов питания: да-сетевые, нет-не сетевые')\n",
    "ax.set_ylabel('количество')\n",
    "plt.legend()\n",
    "plt.show()"
   ]
  },
  {
   "cell_type": "markdown",
   "metadata": {},
   "source": [
    "\n",
    "Большинсвтво заведений являются не сетевыми. Наибольшее количество сетевых заведений среди кафе, фаст фуда и ресторанов. Среди столовых нет сетевых заведений, так как столовые находятся при учебных заведений и заводах. Аналогичная ситуация с буфетами, которые находятся при столовых в учебных заведениях. Основная масса заведений имеет от 15 до 80 посадочных мест."
   ]
  },
  {
   "cell_type": "code",
   "execution_count": 20,
   "metadata": {},
   "outputs": [
    {
     "data": {
      "image/png": "[encoded data removed]",
      "text/plain": [
       "<Figure size 432x288 with 1 Axes>"
      ]
     },
     "metadata": {
      "needs_background": "light"
     },
     "output_type": "display_data"
    }
   ],
   "source": [
    "df_moscow.groupby('chain')['object_name'].count().sort_values().plot(kind='bar')\n",
    "ax.set_title('Соотношенеие сетевых и несетевых объектов общественного питания')\n",
    "ax.set_xlabel('Тип объекта')\n",
    "ax.set_ylabel('Количество объектов')\n",
    "plt.xticks(rotation=0)\n",
    "plt.show()"
   ]
  },
  {
   "cell_type": "markdown",
   "metadata": {},
   "source": [
    "Всего в Москве около 2800 сетевых и около 11500 не сетевых объектов. Не сетевых объектов больше примерно в 4 раза, чем сетевых."
   ]
  },
  {
   "cell_type": "code",
   "execution_count": 21,
   "metadata": {},
   "outputs": [
    {
     "data": {
      "image/png": "[encoded data removed]",
      "text/plain": [
       "<Figure size 1296x720 with 1 Axes>"
      ]
     },
     "metadata": {
      "needs_background": "light"
     },
     "output_type": "display_data"
    },
    {
     "name": "stderr",
     "output_type": "stream",
     "text": [
      "No handles with labels found to put in legend.\n"
     ]
    },
    {
     "data": {
      "image/png": "[encoded data removed]",
      "text/plain": [
       "<Figure size 1296x720 with 1 Axes>"
      ]
     },
     "metadata": {
      "needs_background": "light"
     },
     "output_type": "display_data"
    }
   ],
   "source": [
    "# постоим график количества посадочных мест в зависимости от типа заведения\n",
    "\n",
    "fig = plt.figure(figsize=(18, 10))\n",
    "ax = sns.barplot(x='object_type', y='number', hue='chain',data=df_moscow)\n",
    "ax.legend().get_frame().set_facecolor(\"white\")\n",
    "plt.title('Распределение посадочных мест в разных типах заведений. Да-сетевое, нет-не сетевое')\n",
    "plt.show()\n",
    "\n",
    "df_moscow_seat = df_moscow.groupby('object_type', as_index=False)[\n",
    "    'number'].mean(). round(2).sort_values(by='number', ascending=False)\n",
    "\n",
    "fig = plt.figure(figsize=(18, 10))\n",
    "ax = sns.barplot(x='object_type', y='number', data=df_moscow_seat)\n",
    "ax.legend().get_frame().set_facecolor(\"white\")\n",
    "plt.title('Распределение посадочных мест в разных типах заведений')\n",
    "plt.show()\n"
   ]
  },
  {
   "cell_type": "markdown",
   "metadata": {},
   "source": [
    "  \n",
    "Как и в случае с топ-10 улиц, по городу наибольшее количество посадочных мест у столовых, ресторанов. По городу у сетевых кафе, не сетевых буфетов и сетевых баров среднее количество посадочных мест примерно одинаковое. Самое маленькое коичесвто мест у не сетевых заведений фаст фуда, не сетевых закусочных и не сетевых отделов кулинарии."
   ]
  },
  {
   "cell_type": "code",
   "execution_count": 22,
   "metadata": {},
   "outputs": [
    {
     "data": {
      "text/plain": [
       "count    14301.000000\n",
       "mean        60.662122\n",
       "std         75.630545\n",
       "min          0.000000\n",
       "25%         15.000000\n",
       "50%         40.000000\n",
       "75%         80.000000\n",
       "max       1700.000000\n",
       "Name: number, dtype: float64"
      ]
     },
     "execution_count": 22,
     "metadata": {},
     "output_type": "execute_result"
    }
   ],
   "source": [
    "df_moscow['number'].describe()"
   ]
  },
  {
   "cell_type": "markdown",
   "metadata": {},
   "source": [
    "В большинсвтве заведений города от 15 до 80 мест, в среднем - 40."
   ]
  },
  {
   "cell_type": "code",
   "execution_count": 23,
   "metadata": {},
   "outputs": [
    {
     "data": {
      "image/png": "[encoded data removed]",
      "text/plain": [
       "<Figure size 432x288 with 1 Axes>"
      ]
     },
     "metadata": {
      "needs_background": "light"
     },
     "output_type": "display_data"
    },
    {
     "data": {
      "image/png": "[encoded data removed]",
      "text/plain": [
       "<Figure size 432x288 with 1 Axes>"
      ]
     },
     "metadata": {
      "needs_background": "light"
     },
     "output_type": "display_data"
    }
   ],
   "source": [
    "#постоим топ-30 заведений по количеству ресторанов\n",
    "chain_rest = df_moscow[df_moscow['chain'] == 'да']\n",
    "top_30_chain = chain_rest.groupby(\n",
    "    ['object_name_', 'object_type'], as_index=False).agg(\n",
    "    {'id': 'count', 'number': 'median'}).sort_values(by='id', ascending=False).head(30)\n",
    "top_30_chain\n",
    "\n",
    "# упс! некоторые типы заведений введены под разными типами заведений, придется убрать \n",
    "#группировку по object_type\n",
    "\n",
    "top_50_chain = chain_rest.groupby(\n",
    "    'object_name_', as_index=False).agg(\n",
    "    {'id': 'count', 'number': 'median'}).sort_values(by='id', ascending=False).head(50)\n",
    "top_50_chain.columns=['name', 'count', 'seat']\n",
    "top_50_chain['type'] = ['кофейня', 'фаст фуд', 'фаст фуд', 'фаст фуд', 'суши', \n",
    "                        'фаст фуд', 'пицца', 'фаст фуд', 'отдел кулинарии', 'кофейня', \n",
    "                        'пицца','кофейня','кафе', 'фаст фуд', 'кафе',\n",
    "                        'кафе', 'пицца', 'кофейня', 'суши','ресторан',\n",
    "                        'пекарня', 'ресторан','пекарня','кафе','кальянная',\n",
    "                        'кафе','кофейня','пицца','пекарня','бар',\n",
    "                        'пекарня','суши','фаст фуд','кофейня', 'ресторан',\n",
    "                        'пицца', 'пицца', 'суши','ресторан', 'суши',\n",
    "                        'кофейня','ресторан', 'фаст фуд','суши','кафе',\n",
    "                        'кафе','кафе', 'отдел кулинарии', 'кофейня', 'пекарня' ]\n",
    "top_50_chain\n",
    "top_50_chain.groupby('type').agg(\n",
    "    {'name': 'count'}).sort_values(by='name', ascending=False).plot(kind='bar')\n",
    "plt.title('Топ-50 сетевых  заведений Москвы по типу заведения')\n",
    "plt.show()\n",
    "\n",
    "top_50_chain.groupby('type').agg(\n",
    "    {'seat': 'median'}).sort_values(by='seat', ascending=False).plot(kind='bar')\n",
    "plt.title('Топ-50 сетевых заведений Москвы по количеству посадочных мест')\n",
    "plt.show()"
   ]
  },
  {
   "cell_type": "markdown",
   "metadata": {},
   "source": [
    " \n",
    "Если анализировать тип сетевых топ-50 по количеству заведений, то среди них лидируют кафе, фаст фуд и кофейни - по 8 заведений в выборке 50 самых больших сетей. За ними идут суши и пицца (по 6 заведений) и сетевые рестораны (5 заведений). Такое большое количество кофейн и фаст фуда можно объяснить их малой площадью и малым количесвтвом посадочных мест, что позволяет открыть точку в небольших помещениях и увеличить поток клиентов, которые не будут долго задерживаться. Другую ситуацию мы наблюдаем у сетевых ресторанов, баров и кафе, ориентированных на более высокий чек и более длительное прибывание посетителей, которые приходят чаще всего группами: семья, друзья, коллеги. "
   ]
  },
  {
   "cell_type": "code",
   "execution_count": 24,
   "metadata": {},
   "outputs": [
    {
     "data": {
      "image/png": "[encoded data removed]",
      "text/plain": [
       "<Figure size 864x504 with 1 Axes>"
      ]
     },
     "metadata": {
      "needs_background": "light"
     },
     "output_type": "display_data"
    },
    {
     "data": {
      "image/png": "[encoded data removed]",
      "text/plain": [
       "<Figure size 864x504 with 1 Axes>"
      ]
     },
     "metadata": {
      "needs_background": "light"
     },
     "output_type": "display_data"
    }
   ],
   "source": [
    "df.head()\n",
    "chain_rest.head()\n",
    "data_chain = chain_rest.groupby('object_type', as_index=False).agg(\n",
    "    {'id': 'count', 'number': 'median'}).sort_values(by='id', ascending=False)\n",
    "data_chain.columns = ['type', 'count', 'mean_number']\n",
    "data_chain = data_chain[data_chain['type'] != 'столовая']\n",
    "# Столовых сетевых нет, это ошибка ввода даных трех заведений (см ячейку ниже), их я уберу\n",
    "\n",
    "fig = plt.figure(figsize=(12, 7))\n",
    "ax = sns.barplot(x='type', y='count', data=data_chain)\n",
    "plt.title('Распределение типов сетевых заведений')\n",
    "plt.xticks(rotation=40)\n",
    "ax.set_ylabel('количество')\n",
    "plt.show()\n",
    "\n",
    "data_chain = data_chain.sort_values(by='mean_number', ascending=False)\n",
    "fig = plt.figure(figsize=(12, 7))\n",
    "ax = sns.barplot(x='type', y='mean_number', data=data_chain)\n",
    "plt.title('Распределение среднего количества посадочных мест в сетевых  заведенях')\n",
    "plt.xticks(rotation=40)\n",
    "ax.set_ylabel('количество')\n",
    "plt.show()"
   ]
  },
  {
   "cell_type": "markdown",
   "metadata": {},
   "source": [
    "\n",
    "Если рассматривать распределение типов сетевых заведений, то мы видим,большое количество кафе, фаст фуд и ресторанов. У сетевых ресторанов самое большое количество посадочных мест. За ними идут бары и кафе. "
   ]
  },
  {
   "cell_type": "code",
   "execution_count": 25,
   "metadata": {},
   "outputs": [
    {
     "data": {
      "image/png": "[encoded data removed]",
      "text/plain": [
       "<Figure size 864x504 with 1 Axes>"
      ]
     },
     "metadata": {
      "needs_background": "light"
     },
     "output_type": "display_data"
    },
    {
     "data": {
      "image/png": "[encoded data removed]",
      "text/plain": [
       "<Figure size 864x504 with 1 Axes>"
      ]
     },
     "metadata": {
      "needs_background": "light"
     },
     "output_type": "display_data"
    }
   ],
   "source": [
    "nochain_rest = df_moscow[df_moscow['chain'] == 'нет']\n",
    "data_nochain = nochain_rest.groupby('object_type', as_index=False).agg(\n",
    "    {'id': 'count', 'number': 'median'})\n",
    "data_nochain = data_nochain.sort_values(by='id', ascending=False)\n",
    "data_nochain.columns = ['type', 'count', 'mean_number']\n",
    "data_nochain\n",
    "\n",
    "\n",
    "fig = plt.figure(figsize=(12, 7))\n",
    "ax = sns.barplot(x='type', y='count', data=data_nochain)\n",
    "plt.title('Распределение типов не сетевых заведений')\n",
    "plt.xticks(rotation=40)\n",
    "ax.set_ylabel('количество')\n",
    "plt.show()\n",
    "\n",
    "data_nochain = data_nochain.sort_values(by='mean_number', ascending=False)\n",
    "fig = plt.figure(figsize=(12, 7))\n",
    "ax = sns.barplot(x='type', y='mean_number', data=data_nochain)\n",
    "plt.title('Распределение среднего количества посадочных мест в не сетевых  заведенях')\n",
    "plt.xticks(rotation=40)\n",
    "ax.set_ylabel('количество')\n",
    "plt.show()"
   ]
  },
  {
   "cell_type": "markdown",
   "metadata": {},
   "source": [
    "Если сравнивать между собой распределение типов заведений и количества посадочных мест, то кафе - лидеры в обеих группах. Распределение типов заведений в не сетевых объектах - аналогично по городу (влияние соотношения сетевых: не сетевых заведений - 1:4). Что касается посадочных мест - то в несетевых заведениях лидируют столовые и рестораны, за ними следуют бары и буфеты, и только на третьем месте кафе. Такие заведения как фаст фуд, хзакусочная и отдел кулинарии, в среднем, не имеют посадочных мест (для сранения в сетевых заведениях ситуация следующая: ресторан, бар, кафе, фаст фуд)."
   ]
  },
  {
   "cell_type": "code",
   "execution_count": 26,
   "metadata": {},
   "outputs": [
    {
     "data": {
      "text/html": [
       "<div>\n",
       "<style scoped>\n",
       "    .dataframe tbody tr th:only-of-type {\n",
       "        vertical-align: middle;\n",
       "    }\n",
       "\n",
       "    .dataframe tbody tr th {\n",
       "        vertical-align: top;\n",
       "    }\n",
       "\n",
       "    .dataframe thead th {\n",
       "        text-align: right;\n",
       "    }\n",
       "</style>\n",
       "<table border=\"1\" class=\"dataframe\">\n",
       "  <thead>\n",
       "    <tr style=\"text-align: right;\">\n",
       "      <th></th>\n",
       "      <th>id</th>\n",
       "      <th>object_name</th>\n",
       "      <th>chain</th>\n",
       "      <th>object_type</th>\n",
       "      <th>address</th>\n",
       "      <th>number</th>\n",
       "      <th>object_name_</th>\n",
       "      <th>adress</th>\n",
       "      <th>city</th>\n",
       "    </tr>\n",
       "  </thead>\n",
       "  <tbody>\n",
       "    <tr>\n",
       "      <td>5234</td>\n",
       "      <td>20979</td>\n",
       "      <td>ГРАБЛИ</td>\n",
       "      <td>да</td>\n",
       "      <td>столовая</td>\n",
       "      <td>город Москва, Ярославское шоссе, дом 26, корпус 1</td>\n",
       "      <td>120</td>\n",
       "      <td>Грабли</td>\n",
       "      <td>Ярославское шоссе</td>\n",
       "      <td>Moscow</td>\n",
       "    </tr>\n",
       "    <tr>\n",
       "      <td>5967</td>\n",
       "      <td>104941</td>\n",
       "      <td>Му-Му</td>\n",
       "      <td>да</td>\n",
       "      <td>столовая</td>\n",
       "      <td>город Москва, Люблинская улица, дом 169, корпус 2</td>\n",
       "      <td>55</td>\n",
       "      <td>Му-му</td>\n",
       "      <td>Люблинская улица</td>\n",
       "      <td>Moscow</td>\n",
       "    </tr>\n",
       "    <tr>\n",
       "      <td>6574</td>\n",
       "      <td>78347</td>\n",
       "      <td>Гурман</td>\n",
       "      <td>да</td>\n",
       "      <td>столовая</td>\n",
       "      <td>город Москва, Оршанская улица, дом 3</td>\n",
       "      <td>162</td>\n",
       "      <td>Гурман</td>\n",
       "      <td>Оршанская улица</td>\n",
       "      <td>Moscow</td>\n",
       "    </tr>\n",
       "  </tbody>\n",
       "</table>\n",
       "</div>"
      ],
      "text/plain": [
       "          id object_name chain object_type  \\\n",
       "5234   20979      ГРАБЛИ    да    столовая   \n",
       "5967  104941       Му-Му    да    столовая   \n",
       "6574   78347      Гурман    да    столовая   \n",
       "\n",
       "                                                address  number object_name_  \\\n",
       "5234  город Москва, Ярославское шоссе, дом 26, корпус 1     120       Грабли   \n",
       "5967  город Москва, Люблинская улица, дом 169, корпус 2      55        Му-му   \n",
       "6574               город Москва, Оршанская улица, дом 3     162       Гурман   \n",
       "\n",
       "                 adress    city  \n",
       "5234  Ярославское шоссе  Moscow  \n",
       "5967   Люблинская улица  Moscow  \n",
       "6574    Оршанская улица  Moscow  "
      ]
     },
     "execution_count": 26,
     "metadata": {},
     "output_type": "execute_result"
    }
   ],
   "source": [
    "chain_rest[chain_rest['object_type'] == 'столовая']\n"
   ]
  },
  {
   "cell_type": "markdown",
   "metadata": {},
   "source": [
    "#### Вывод\n",
    " \n",
    "1. В структуре ООП по городу преобладают кафе, столовые и рестораны. Кафе – самый популярный тип заведени. <br>\n",
    "2. Соотношение сетевых: не сетевых заведений – 1:4.<br>\n",
    "3. Среди сетевых ООП преобладают кафе, фаст фуд и рестораны, среди сетевых – кафе, столовые и рестораны.<br>\n",
    "4. Наибольшее количество посадочных мест у столовых и ресторанов. <br>\n",
    "5. Основная масса заведений имеет от 15 до 80 посадочных мест.<br>\n",
    "6.  В топ-50 по количеству сетевых заведений лидируют кафе, кофейни и фаст фуд.<br>\n",
    "7. 8 из 10 улиц по количеству ООП – это крупные магистральные улицы, начинающиеся в районе 3-го транспортного кольца. <br>\n",
    "8. На топ-10 улиц по количеству ОПП количесвто посадочных мест в сетевых заведениях больше. <br>\n",
    "9. Всего найдено 804 улицы и 107 районов, где встречается один тип заведений. <br>\n"
   ]
  },
  {
   "cell_type": "markdown",
   "metadata": {},
   "source": [
    "#### Тренды рынка общественного питания\n",
    "  \n",
    "Москва и Москвоская область являются лидерами рынка общественного питания и наиболее перспективной отраслью российской экономики. Данная сфера характеризуется высокой конкуренцией. Основными тенденциями на этом рынке являются:<br>\n",
    "    1. Развитие новых форматов. Сетевые кофейни и сети фаст фуд начали осваивать \"чужие\" территории. Так, сеть Cofix открывает свои точки внутри магазинов «М.Видео». В «М.Видео» действует сокращенное меню Cofix: гости могут купить сэндвичи, салаты и блюда завтраков. Средний чек составит 111 рублей, тогда как во всей остальной сети он равняется 134 рублям. За каждую покупку клиенты получат бесплатный кофе. Подобное соглашение заключили McDonald's и Сбербанк. В Москве у метро «Новослободская» открылось первое отделение Сбербанка, совмещенное с McDonald's.<br>\n",
    "    2. Развитие доствки, в том числе бесконтактной: пандемия ковид заставила многие заведения заняться доставкой еды, особенно те блюда, которые невозможно приготовить самому. Существует два основных способа организации доставки: через собстаенный сайт или приложение, или через крупные сервисы доставки: Delivery Club, «Яндекс. Еда», «Самокат» и др.<br>\n",
    "    3. Как видно из топ-50 сетевых заведений, самыми большими игроками на данном рынке являются сеть кофейг \"Шоколадница\",  KFC\t,Макдоналдс\tи  Бургер кинг. Сегмент фаст фуда всегда популярен, но пандемия короновируса сделала его еще болеее востребованным: невысокие цены и быстрое обслуживание дают преимущество таким сетям. <br>\n",
    "    4.В структуре заведений много ресторанов, баров, кафе, кофеин. Рынок перенасыщен данным числом заведений. Поэтому на первый план выходит конкуренция в продуманности концепции заведения: начиная от меню и интерьера, заканчивая обслуживанием. <br>\n",
    "    5. Усиление присутствия в социальных сетях, которые используют как средство поддержания имиджа, коммуникации с целевой аудиторией, получение обратной связи, отслеживание отзывов и нейтрализацию негатива.<br><br>\n",
    "    Источники: https://www.the-village.ru/business/news/369885-mvideo-cofix?from=frontpage?from=frontpage<br>    https://www.vedomosti.ru/finance/articles/2019/12/20/819247-v-moskve-pervii-mcdonalds<br>\n",
    "    https://academyopen.ru/journal/497<br>\n",
    "    https://gidmark.ru/cat1/marketingovoe-issledovanie-rynka-obcshestvennogo-pitaniya-v-moskve-i-mo<br>\n",
    "    https://www.openbusiness.ru/biz/business/obzor-rynka-obshchestvennogo-ritaniya/"
   ]
  },
  {
   "cell_type": "markdown",
   "metadata": {},
   "source": [
    "#### Комментарий студента для инвесторов\n",
    " \n",
    " Советую учитывать мировую практику, так как подобные заведения есть в мире. Их можно разделить на бары (как в Вене, Чехии и Лос-Анжелесе ) и рестораны (как в Гонконге, Китае). <br>\n",
    "Кухня: простая: пиво, фаст фуд, лапша (для азиатских стран).<br>\n",
    "Средний чек: не высокий.<br>\n",
    "Затраты: большие: аренда помещения + внедрение технологии (самая высокая доля). Один робот стоит от 9 тыс дол (в зависимости от функционала). Значит, себестоимость исходных продуктов питания должна быть не высокая. Обязательно должен быть алкоголь, так как его продажа увеличивает средний чек. (Может, рассмотреть чешский вариант с паровозами, которые доставляют еду?)<br>\n",
    "Посадочные места: много (отталкивайтесь от среднего по Москве – должно быть больше 40), так как выручка идет за счет объема продаж. Можно сэкономить на аренде и открыться не в центре. Концепция оригинальная, люди готовы будут ехать. <br>\n",
    "Атмосфера: веселая, люди идут в такие заведения отдохнуть и посидеть компаниями. <br>\n",
    "Развлекательная программа: приветствуется, роботы должны не только ездить, но и развлекать гостей: танцевать, разговаривать и так далее. <br>\n",
    "Дополнительно: необходимо завести страницу в социальных сетях, чтобы регулярно публиковать фото и видео, дополнительно привлекая людей.  <br>\n",
    "Резюмируем:<br>\n",
    "    основные затраты - внедрение роботов и ПО под них, специалисты для обслуживания<br>\n",
    "    на чем можно сэкономить - аренда, закупка продуктов и алкоголя (продукты должны быть качественными и недорогими); персонал - нет офицантов (экономим 1000 дол / мес + налог в ФСЗН и пенсионный фонд), приготовление блюд не должно требовать от поворов специфических навыков, рецептура должна быть максимально простой в приготовлении.<br>\n",
    "    Важно: В США роботизированные рестораны, как правило, открываются в дорогих городах и штатах, так как минимальная оплата труда - 13-15 дол в час. Медианная зарплата официанта в Москве - 79 тыс/мес - 1079 дол / мес. То есть, каждый месяц можно сэкономить 1000 дол на одном официанте + экономия на отчислениях в ФСЗН и пенсионный фонд + экономия на больничных<br>\n",
    "    В Росии существует сеть робото-кафе - MontyCafe, представляющее собой автомат, который варит кофе. Такие точки установлены уже в Москве, Рязани, Москве, Мурманске. Работают по франшизе. Инвестиции в кафе от 1.500.000 руб.\n",
    "\n",
    "<br>\n",
    "<br>\n",
    "Источники:<br>\n",
    "\n",
    "https://trends.rbc.ru/trends/industry/5eeb99fa9a79475c9e9c5f2e<br>\n",
    "https://rb.ru/longread/food-robotics/  <br>\n",
    "https://montycafe.ru/<br>\n"
   ]
  },
  {
   "cell_type": "markdown",
   "metadata": {},
   "source": [
    "Презентация: https://docs.google.com/presentation/d/1AV8KDYvw8khCyBunxqgSQCm_BfU4gb4j/edit?usp=sharing&ouid=111955281232043079411&rtpof=true&sd=true\n",
    "        "
   ]
  },
  {
   "cell_type": "code",
   "execution_count": null,
   "metadata": {},
   "outputs": [],
   "source": []
  },
  {
   "cell_type": "code",
   "execution_count": null,
   "metadata": {},
   "outputs": [],
   "source": []
  },
  {
   "cell_type": "code",
   "execution_count": null,
   "metadata": {},
   "outputs": [],
   "source": []
  }
 ],
 "metadata": {
  "ExecuteTimeLog": [
   {
    "duration": 750,
    "start_time": "2021-12-15T11:22:15.155Z"
   },
   {
    "duration": 715,
    "start_time": "2021-12-15T11:22:22.272Z"
   },
   {
    "duration": 59,
    "start_time": "2021-12-15T11:22:23.267Z"
   },
   {
    "duration": 29,
    "start_time": "2021-12-15T11:22:27.715Z"
   },
   {
    "duration": 12,
    "start_time": "2021-12-15T12:16:41.761Z"
   },
   {
    "duration": 12,
    "start_time": "2021-12-15T12:32:23.255Z"
   },
   {
    "duration": 10,
    "start_time": "2021-12-15T12:32:58.500Z"
   },
   {
    "duration": 8,
    "start_time": "2021-12-15T12:34:43.093Z"
   },
   {
    "duration": 12,
    "start_time": "2021-12-15T12:35:18.327Z"
   },
   {
    "duration": 31,
    "start_time": "2021-12-15T12:43:39.027Z"
   },
   {
    "duration": 30,
    "start_time": "2021-12-15T12:44:11.882Z"
   },
   {
    "duration": 32,
    "start_time": "2021-12-15T12:44:27.445Z"
   },
   {
    "duration": 29,
    "start_time": "2021-12-15T12:44:37.062Z"
   },
   {
    "duration": 57,
    "start_time": "2021-12-15T12:47:55.300Z"
   },
   {
    "duration": 10,
    "start_time": "2021-12-15T12:47:59.380Z"
   },
   {
    "duration": 8,
    "start_time": "2021-12-15T12:48:06.572Z"
   },
   {
    "duration": 56,
    "start_time": "2021-12-15T12:48:10.870Z"
   },
   {
    "duration": 10,
    "start_time": "2021-12-15T12:48:15.372Z"
   },
   {
    "duration": 7,
    "start_time": "2021-12-15T12:48:28.207Z"
   },
   {
    "duration": 8,
    "start_time": "2021-12-15T12:48:40.987Z"
   },
   {
    "duration": 349,
    "start_time": "2021-12-15T12:53:24.812Z"
   },
   {
    "duration": 17,
    "start_time": "2021-12-15T12:55:55.954Z"
   },
   {
    "duration": 333,
    "start_time": "2021-12-15T12:57:35.610Z"
   },
   {
    "duration": 8,
    "start_time": "2021-12-15T12:58:17.124Z"
   },
   {
    "duration": 19,
    "start_time": "2021-12-15T12:58:32.043Z"
   },
   {
    "duration": 22,
    "start_time": "2021-12-15T12:58:45.668Z"
   },
   {
    "duration": 13,
    "start_time": "2021-12-15T12:59:13.399Z"
   },
   {
    "duration": 17,
    "start_time": "2021-12-15T13:07:41.089Z"
   },
   {
    "duration": 10,
    "start_time": "2021-12-15T13:48:23.456Z"
   },
   {
    "duration": 1153,
    "start_time": "2021-12-15T13:48:30.659Z"
   },
   {
    "duration": 8,
    "start_time": "2021-12-15T13:49:31.064Z"
   },
   {
    "duration": 1285,
    "start_time": "2021-12-15T13:49:35.158Z"
   },
   {
    "duration": 1150,
    "start_time": "2021-12-15T13:52:44.600Z"
   },
   {
    "duration": 9,
    "start_time": "2021-12-15T14:02:57.271Z"
   },
   {
    "duration": 1276,
    "start_time": "2021-12-15T14:04:05.579Z"
   },
   {
    "duration": 10,
    "start_time": "2021-12-15T14:05:17.174Z"
   },
   {
    "duration": 9,
    "start_time": "2021-12-15T14:15:44.840Z"
   },
   {
    "duration": 1174,
    "start_time": "2021-12-15T14:15:46.120Z"
   },
   {
    "duration": 3237,
    "start_time": "2021-12-15T14:17:06.547Z"
   },
   {
    "duration": 1086,
    "start_time": "2021-12-15T14:17:58.719Z"
   },
   {
    "duration": 10,
    "start_time": "2021-12-15T14:47:44.190Z"
   },
   {
    "duration": 1135,
    "start_time": "2021-12-15T14:47:46.092Z"
   },
   {
    "duration": 10,
    "start_time": "2021-12-15T14:51:05.250Z"
   },
   {
    "duration": 1262,
    "start_time": "2021-12-15T14:51:31.762Z"
   },
   {
    "duration": 100,
    "start_time": "2021-12-15T14:53:39.785Z"
   },
   {
    "duration": 9,
    "start_time": "2021-12-15T14:53:54.369Z"
   },
   {
    "duration": 1101,
    "start_time": "2021-12-15T14:53:57.136Z"
   },
   {
    "duration": 5,
    "start_time": "2021-12-15T14:54:54.566Z"
   },
   {
    "duration": 4,
    "start_time": "2021-12-15T14:55:05.937Z"
   },
   {
    "duration": 1084,
    "start_time": "2021-12-15T14:55:40.877Z"
   },
   {
    "duration": 92,
    "start_time": "2021-12-15T14:56:10.027Z"
   },
   {
    "duration": 1043,
    "start_time": "2021-12-15T14:56:27.238Z"
   },
   {
    "duration": 1152,
    "start_time": "2021-12-15T15:51:38.109Z"
   },
   {
    "duration": 1175,
    "start_time": "2021-12-15T15:52:16.285Z"
   },
   {
    "duration": 5,
    "start_time": "2021-12-15T15:57:50.216Z"
   },
   {
    "duration": 414,
    "start_time": "2021-12-15T15:58:35.034Z"
   },
   {
    "duration": 3863,
    "start_time": "2021-12-15T15:58:58.060Z"
   },
   {
    "duration": 79,
    "start_time": "2021-12-15T16:01:05.392Z"
   },
   {
    "duration": 1087,
    "start_time": "2021-12-15T16:01:18.867Z"
   },
   {
    "duration": 1123,
    "start_time": "2021-12-15T16:08:12.022Z"
   },
   {
    "duration": 1998,
    "start_time": "2021-12-15T16:08:22.687Z"
   },
   {
    "duration": 3374,
    "start_time": "2021-12-15T16:08:36.183Z"
   },
   {
    "duration": 1114,
    "start_time": "2021-12-15T16:10:13.897Z"
   },
   {
    "duration": 1745,
    "start_time": "2021-12-15T16:12:44.869Z"
   },
   {
    "duration": 1309,
    "start_time": "2021-12-15T16:21:23.330Z"
   },
   {
    "duration": 6,
    "start_time": "2021-12-15T16:23:09.539Z"
   },
   {
    "duration": 45,
    "start_time": "2021-12-15T16:29:03.896Z"
   },
   {
    "duration": 38,
    "start_time": "2021-12-15T16:30:52.231Z"
   },
   {
    "duration": 33,
    "start_time": "2021-12-15T16:31:02.014Z"
   },
   {
    "duration": 38,
    "start_time": "2021-12-15T16:32:43.252Z"
   },
   {
    "duration": 4,
    "start_time": "2021-12-15T16:34:06.681Z"
   },
   {
    "duration": 52,
    "start_time": "2021-12-15T16:34:07.403Z"
   },
   {
    "duration": 41,
    "start_time": "2021-12-15T16:34:10.882Z"
   },
   {
    "duration": 36,
    "start_time": "2021-12-15T16:34:32.241Z"
   },
   {
    "duration": 7,
    "start_time": "2021-12-15T16:34:42.964Z"
   },
   {
    "duration": 18,
    "start_time": "2021-12-15T16:34:43.650Z"
   },
   {
    "duration": 1091,
    "start_time": "2021-12-15T16:34:50.734Z"
   },
   {
    "duration": 36,
    "start_time": "2021-12-15T16:35:35.402Z"
   },
   {
    "duration": 1052,
    "start_time": "2021-12-15T16:35:57.448Z"
   },
   {
    "duration": 37,
    "start_time": "2021-12-15T16:39:10.442Z"
   },
   {
    "duration": 15,
    "start_time": "2021-12-15T16:39:39.210Z"
   },
   {
    "duration": 1723,
    "start_time": "2021-12-15T16:39:44.041Z"
   },
   {
    "duration": 4,
    "start_time": "2021-12-15T17:36:40.249Z"
   },
   {
    "duration": 54,
    "start_time": "2021-12-15T17:36:40.593Z"
   },
   {
    "duration": 38,
    "start_time": "2021-12-15T17:36:41.389Z"
   },
   {
    "duration": 8,
    "start_time": "2021-12-15T17:36:41.858Z"
   },
   {
    "duration": 15,
    "start_time": "2021-12-15T17:36:42.579Z"
   },
   {
    "duration": 923,
    "start_time": "2021-12-15T17:37:18.291Z"
   },
   {
    "duration": 4,
    "start_time": "2021-12-15T17:37:39.333Z"
   },
   {
    "duration": 53,
    "start_time": "2021-12-15T17:37:39.479Z"
   },
   {
    "duration": 43,
    "start_time": "2021-12-15T17:37:39.761Z"
   },
   {
    "duration": 8,
    "start_time": "2021-12-15T17:37:39.906Z"
   },
   {
    "duration": 14,
    "start_time": "2021-12-15T17:37:40.049Z"
   },
   {
    "duration": 1152,
    "start_time": "2021-12-15T17:37:40.226Z"
   },
   {
    "duration": -42,
    "start_time": "2021-12-15T17:37:41.423Z"
   },
   {
    "duration": 1911,
    "start_time": "2021-12-15T17:37:41.767Z"
   },
   {
    "duration": 1026,
    "start_time": "2021-12-15T17:39:19.833Z"
   },
   {
    "duration": 941,
    "start_time": "2021-12-15T17:39:35.678Z"
   },
   {
    "duration": 938,
    "start_time": "2021-12-15T17:40:31.581Z"
   },
   {
    "duration": 5043,
    "start_time": "2021-12-15T17:45:10.049Z"
   },
   {
    "duration": 369,
    "start_time": "2021-12-15T17:45:24.138Z"
   },
   {
    "duration": 964,
    "start_time": "2021-12-15T17:45:47.967Z"
   },
   {
    "duration": 3627,
    "start_time": "2021-12-15T17:46:16.416Z"
   },
   {
    "duration": -37,
    "start_time": "2021-12-15T17:46:20.083Z"
   },
   {
    "duration": 3275,
    "start_time": "2021-12-15T17:50:48.945Z"
   },
   {
    "duration": 42,
    "start_time": "2021-12-15T17:51:35.893Z"
   },
   {
    "duration": 55,
    "start_time": "2021-12-15T17:51:36.553Z"
   },
   {
    "duration": 44,
    "start_time": "2021-12-15T17:51:38.319Z"
   },
   {
    "duration": 32,
    "start_time": "2021-12-15T17:51:57.450Z"
   },
   {
    "duration": 9,
    "start_time": "2021-12-15T17:52:00.463Z"
   },
   {
    "duration": 18,
    "start_time": "2021-12-15T17:52:01.520Z"
   },
   {
    "duration": 1661,
    "start_time": "2021-12-15T17:52:09.884Z"
   },
   {
    "duration": 718,
    "start_time": "2021-12-15T17:52:34.785Z"
   },
   {
    "duration": 69,
    "start_time": "2021-12-15T17:52:35.506Z"
   },
   {
    "duration": 58,
    "start_time": "2021-12-15T17:52:35.578Z"
   },
   {
    "duration": 9,
    "start_time": "2021-12-15T17:52:35.638Z"
   },
   {
    "duration": 18,
    "start_time": "2021-12-15T17:52:35.650Z"
   },
   {
    "duration": 4,
    "start_time": "2021-12-15T17:52:35.670Z"
   },
   {
    "duration": 39,
    "start_time": "2021-12-15T17:52:35.677Z"
   },
   {
    "duration": 1440,
    "start_time": "2021-12-15T17:52:35.723Z"
   },
   {
    "duration": -59,
    "start_time": "2021-12-15T17:52:37.225Z"
   },
   {
    "duration": 1106,
    "start_time": "2021-12-15T18:07:25.651Z"
   },
   {
    "duration": 581,
    "start_time": "2021-12-16T10:24:08.654Z"
   },
   {
    "duration": 44,
    "start_time": "2021-12-16T10:24:09.237Z"
   },
   {
    "duration": 30,
    "start_time": "2021-12-16T10:24:10.494Z"
   },
   {
    "duration": 24,
    "start_time": "2021-12-16T10:24:32.756Z"
   },
   {
    "duration": 6,
    "start_time": "2021-12-16T10:24:37.496Z"
   },
   {
    "duration": 15,
    "start_time": "2021-12-16T10:24:38.277Z"
   },
   {
    "duration": 1120,
    "start_time": "2021-12-16T10:24:55.676Z"
   },
   {
    "duration": 108,
    "start_time": "2021-12-16T10:25:14.710Z"
   },
   {
    "duration": 1102,
    "start_time": "2021-12-16T10:25:29.750Z"
   },
   {
    "duration": 1118,
    "start_time": "2021-12-16T10:27:30.201Z"
   },
   {
    "duration": 1135,
    "start_time": "2021-12-16T10:29:39.642Z"
   },
   {
    "duration": 3945,
    "start_time": "2021-12-16T10:41:14.757Z"
   },
   {
    "duration": 160,
    "start_time": "2021-12-16T10:41:25.478Z"
   },
   {
    "duration": 1195,
    "start_time": "2021-12-16T10:41:37.404Z"
   },
   {
    "duration": 3583,
    "start_time": "2021-12-16T10:41:55.794Z"
   },
   {
    "duration": 3606,
    "start_time": "2021-12-16T10:43:05.562Z"
   },
   {
    "duration": -10,
    "start_time": "2021-12-16T10:43:09.180Z"
   },
   {
    "duration": 4167,
    "start_time": "2021-12-16T10:51:15.346Z"
   },
   {
    "duration": 157,
    "start_time": "2021-12-16T10:51:28.791Z"
   },
   {
    "duration": 620,
    "start_time": "2021-12-16T10:51:52.538Z"
   },
   {
    "duration": 51,
    "start_time": "2021-12-16T10:51:53.160Z"
   },
   {
    "duration": 32,
    "start_time": "2021-12-16T10:51:53.213Z"
   },
   {
    "duration": 6,
    "start_time": "2021-12-16T10:51:53.247Z"
   },
   {
    "duration": 27,
    "start_time": "2021-12-16T10:51:53.254Z"
   },
   {
    "duration": 3,
    "start_time": "2021-12-16T10:51:53.283Z"
   },
   {
    "duration": 29,
    "start_time": "2021-12-16T10:51:53.287Z"
   },
   {
    "duration": 30,
    "start_time": "2021-12-16T10:51:53.318Z"
   },
   {
    "duration": 2112,
    "start_time": "2021-12-16T10:51:53.350Z"
   },
   {
    "duration": 9,
    "start_time": "2021-12-16T10:51:55.465Z"
   },
   {
    "duration": 2727,
    "start_time": "2021-12-16T10:52:52.571Z"
   },
   {
    "duration": 92,
    "start_time": "2021-12-16T10:54:33.337Z"
   },
   {
    "duration": 87,
    "start_time": "2021-12-16T10:54:42.484Z"
   },
   {
    "duration": 3241,
    "start_time": "2021-12-16T10:55:14.296Z"
   },
   {
    "duration": 2071,
    "start_time": "2021-12-16T10:55:34.741Z"
   },
   {
    "duration": 6,
    "start_time": "2021-12-16T10:59:23.070Z"
   },
   {
    "duration": 4,
    "start_time": "2021-12-16T11:02:10.022Z"
   },
   {
    "duration": 3514,
    "start_time": "2021-12-16T11:02:43.599Z"
   },
   {
    "duration": 12,
    "start_time": "2021-12-16T11:03:02.263Z"
   },
   {
    "duration": 3074,
    "start_time": "2021-12-16T11:03:15.217Z"
   },
   {
    "duration": 13,
    "start_time": "2021-12-16T11:03:32.048Z"
   },
   {
    "duration": 2928,
    "start_time": "2021-12-16T11:04:56.311Z"
   },
   {
    "duration": 12,
    "start_time": "2021-12-16T11:05:00.938Z"
   },
   {
    "duration": 3231,
    "start_time": "2021-12-16T11:05:34.695Z"
   },
   {
    "duration": 6,
    "start_time": "2021-12-16T11:07:56.161Z"
   },
   {
    "duration": 44,
    "start_time": "2021-12-16T11:07:56.665Z"
   },
   {
    "duration": 29,
    "start_time": "2021-12-16T11:07:57.850Z"
   },
   {
    "duration": 7,
    "start_time": "2021-12-16T11:07:58.928Z"
   },
   {
    "duration": 12,
    "start_time": "2021-12-16T11:08:00.764Z"
   },
   {
    "duration": 3,
    "start_time": "2021-12-16T11:08:01.839Z"
   },
   {
    "duration": 2,
    "start_time": "2021-12-16T11:08:02.807Z"
   },
   {
    "duration": 4248,
    "start_time": "2021-12-16T11:08:16.320Z"
   },
   {
    "duration": 14,
    "start_time": "2021-12-16T11:08:25.352Z"
   },
   {
    "duration": 3641,
    "start_time": "2021-12-16T11:08:41.743Z"
   },
   {
    "duration": 16,
    "start_time": "2021-12-16T11:08:49.517Z"
   },
   {
    "duration": 5217,
    "start_time": "2021-12-16T11:09:09.568Z"
   },
   {
    "duration": 19,
    "start_time": "2021-12-16T11:09:15.147Z"
   },
   {
    "duration": 5389,
    "start_time": "2021-12-16T11:09:38.599Z"
   },
   {
    "duration": 13,
    "start_time": "2021-12-16T11:09:43.990Z"
   },
   {
    "duration": 298,
    "start_time": "2021-12-16T11:10:10.281Z"
   },
   {
    "duration": 663,
    "start_time": "2021-12-16T11:10:16.642Z"
   },
   {
    "duration": 52,
    "start_time": "2021-12-16T11:10:17.307Z"
   },
   {
    "duration": 35,
    "start_time": "2021-12-16T11:10:17.362Z"
   },
   {
    "duration": 8,
    "start_time": "2021-12-16T11:10:17.400Z"
   },
   {
    "duration": 36,
    "start_time": "2021-12-16T11:10:17.410Z"
   },
   {
    "duration": 4,
    "start_time": "2021-12-16T11:10:17.448Z"
   },
   {
    "duration": 30,
    "start_time": "2021-12-16T11:10:17.454Z"
   },
   {
    "duration": 34,
    "start_time": "2021-12-16T11:10:17.487Z"
   },
   {
    "duration": 6051,
    "start_time": "2021-12-16T11:10:17.523Z"
   },
   {
    "duration": 15,
    "start_time": "2021-12-16T11:10:23.576Z"
   },
   {
    "duration": 16,
    "start_time": "2021-12-16T11:12:40.339Z"
   },
   {
    "duration": 5455,
    "start_time": "2021-12-16T11:12:45.967Z"
   },
   {
    "duration": 13,
    "start_time": "2021-12-16T11:13:02.572Z"
   },
   {
    "duration": 5398,
    "start_time": "2021-12-16T11:13:53.219Z"
   },
   {
    "duration": 797,
    "start_time": "2021-12-16T11:14:06.436Z"
   },
   {
    "duration": 65,
    "start_time": "2021-12-16T11:14:07.236Z"
   },
   {
    "duration": 50,
    "start_time": "2021-12-16T11:14:07.304Z"
   },
   {
    "duration": 8,
    "start_time": "2021-12-16T11:14:07.357Z"
   },
   {
    "duration": 19,
    "start_time": "2021-12-16T11:14:07.367Z"
   },
   {
    "duration": 4,
    "start_time": "2021-12-16T11:14:07.388Z"
   },
   {
    "duration": 7,
    "start_time": "2021-12-16T11:14:07.394Z"
   },
   {
    "duration": 7,
    "start_time": "2021-12-16T11:14:07.403Z"
   },
   {
    "duration": 6285,
    "start_time": "2021-12-16T11:14:07.412Z"
   },
   {
    "duration": 15,
    "start_time": "2021-12-16T11:14:13.699Z"
   },
   {
    "duration": 5360,
    "start_time": "2021-12-16T11:14:51.486Z"
   },
   {
    "duration": 13,
    "start_time": "2021-12-16T11:14:56.848Z"
   },
   {
    "duration": 22,
    "start_time": "2021-12-16T11:15:18.045Z"
   },
   {
    "duration": 38,
    "start_time": "2021-12-16T11:15:27.628Z"
   },
   {
    "duration": 5180,
    "start_time": "2021-12-16T11:15:37.590Z"
   },
   {
    "duration": 13,
    "start_time": "2021-12-16T11:15:49.835Z"
   },
   {
    "duration": 1621,
    "start_time": "2021-12-16T11:23:15.832Z"
   },
   {
    "duration": 3009,
    "start_time": "2021-12-16T11:26:00.081Z"
   },
   {
    "duration": 18,
    "start_time": "2021-12-16T11:26:09.810Z"
   },
   {
    "duration": 1088,
    "start_time": "2021-12-16T11:26:36.535Z"
   },
   {
    "duration": 2698,
    "start_time": "2021-12-16T11:30:33.509Z"
   },
   {
    "duration": 11,
    "start_time": "2021-12-16T11:30:36.209Z"
   },
   {
    "duration": 1323,
    "start_time": "2021-12-16T11:32:02.824Z"
   },
   {
    "duration": 2718,
    "start_time": "2021-12-16T11:32:42.674Z"
   },
   {
    "duration": 13,
    "start_time": "2021-12-16T11:32:50.120Z"
   },
   {
    "duration": 635,
    "start_time": "2021-12-16T11:36:13.618Z"
   },
   {
    "duration": 50,
    "start_time": "2021-12-16T11:36:14.255Z"
   },
   {
    "duration": 38,
    "start_time": "2021-12-16T11:36:14.306Z"
   },
   {
    "duration": 18,
    "start_time": "2021-12-16T11:36:14.346Z"
   },
   {
    "duration": 31,
    "start_time": "2021-12-16T11:36:14.366Z"
   },
   {
    "duration": 1131,
    "start_time": "2021-12-16T11:36:14.399Z"
   },
   {
    "duration": 12,
    "start_time": "2021-12-16T11:36:15.532Z"
   },
   {
    "duration": 21,
    "start_time": "2021-12-16T11:36:15.547Z"
   },
   {
    "duration": 17,
    "start_time": "2021-12-16T11:36:15.570Z"
   },
   {
    "duration": 42,
    "start_time": "2021-12-16T11:36:15.589Z"
   },
   {
    "duration": 27,
    "start_time": "2021-12-16T11:36:15.633Z"
   },
   {
    "duration": 11,
    "start_time": "2021-12-16T11:36:40.468Z"
   },
   {
    "duration": 12,
    "start_time": "2021-12-16T11:36:51.070Z"
   },
   {
    "duration": 8,
    "start_time": "2021-12-16T11:37:37.877Z"
   },
   {
    "duration": 461,
    "start_time": "2021-12-16T11:40:02.566Z"
   },
   {
    "duration": 6,
    "start_time": "2021-12-16T11:40:05.792Z"
   },
   {
    "duration": 15,
    "start_time": "2021-12-16T11:40:14.191Z"
   },
   {
    "duration": 485,
    "start_time": "2021-12-16T11:40:36.114Z"
   },
   {
    "duration": 12,
    "start_time": "2021-12-16T11:40:39.628Z"
   },
   {
    "duration": 555,
    "start_time": "2021-12-16T11:41:11.424Z"
   },
   {
    "duration": 13,
    "start_time": "2021-12-16T11:41:12.285Z"
   },
   {
    "duration": 588,
    "start_time": "2021-12-16T11:41:31.900Z"
   },
   {
    "duration": 11,
    "start_time": "2021-12-16T11:41:34.113Z"
   },
   {
    "duration": 19,
    "start_time": "2021-12-16T11:43:40.605Z"
   },
   {
    "duration": 4681,
    "start_time": "2021-12-16T11:43:56.288Z"
   },
   {
    "duration": 13,
    "start_time": "2021-12-16T11:44:06.167Z"
   },
   {
    "duration": 518,
    "start_time": "2021-12-16T11:44:47.545Z"
   },
   {
    "duration": 592,
    "start_time": "2021-12-16T11:44:48.294Z"
   },
   {
    "duration": 632,
    "start_time": "2021-12-16T11:45:02.467Z"
   },
   {
    "duration": 6,
    "start_time": "2021-12-16T11:45:07.536Z"
   },
   {
    "duration": 12,
    "start_time": "2021-12-16T11:45:17.316Z"
   },
   {
    "duration": 565,
    "start_time": "2021-12-16T11:45:26.699Z"
   },
   {
    "duration": 48,
    "start_time": "2021-12-16T11:45:27.266Z"
   },
   {
    "duration": 33,
    "start_time": "2021-12-16T11:45:27.316Z"
   },
   {
    "duration": 6,
    "start_time": "2021-12-16T11:45:27.350Z"
   },
   {
    "duration": 336,
    "start_time": "2021-12-16T11:45:27.358Z"
   },
   {
    "duration": -48,
    "start_time": "2021-12-16T11:45:27.744Z"
   },
   {
    "duration": -48,
    "start_time": "2021-12-16T11:45:27.745Z"
   },
   {
    "duration": -48,
    "start_time": "2021-12-16T11:45:27.746Z"
   },
   {
    "duration": -48,
    "start_time": "2021-12-16T11:45:27.747Z"
   },
   {
    "duration": -104,
    "start_time": "2021-12-16T11:45:27.803Z"
   },
   {
    "duration": -105,
    "start_time": "2021-12-16T11:45:27.805Z"
   },
   {
    "duration": 14,
    "start_time": "2021-12-16T11:45:41.961Z"
   },
   {
    "duration": 1199,
    "start_time": "2021-12-16T11:45:42.953Z"
   },
   {
    "duration": 16,
    "start_time": "2021-12-16T11:45:44.205Z"
   },
   {
    "duration": 1107,
    "start_time": "2021-12-16T11:46:25.760Z"
   },
   {
    "duration": 11,
    "start_time": "2021-12-16T11:46:30.513Z"
   },
   {
    "duration": 459,
    "start_time": "2021-12-16T11:46:48.536Z"
   },
   {
    "duration": 1036,
    "start_time": "2021-12-16T11:48:43.541Z"
   },
   {
    "duration": 1038,
    "start_time": "2021-12-16T11:49:32.623Z"
   },
   {
    "duration": 15445,
    "start_time": "2021-12-16T11:50:20.107Z"
   },
   {
    "duration": 1127,
    "start_time": "2021-12-16T11:51:32.668Z"
   },
   {
    "duration": 3557,
    "start_time": "2021-12-16T11:52:18.113Z"
   },
   {
    "duration": 4485,
    "start_time": "2021-12-16T11:52:40.580Z"
   },
   {
    "duration": 14373,
    "start_time": "2021-12-16T11:52:55.258Z"
   },
   {
    "duration": 12,
    "start_time": "2021-12-16T11:53:09.633Z"
   },
   {
    "duration": 1230,
    "start_time": "2021-12-16T11:53:27.862Z"
   },
   {
    "duration": 1306,
    "start_time": "2021-12-16T11:53:33.210Z"
   },
   {
    "duration": 4174,
    "start_time": "2021-12-16T11:54:12.207Z"
   },
   {
    "duration": -28,
    "start_time": "2021-12-16T11:54:16.410Z"
   },
   {
    "duration": 736,
    "start_time": "2021-12-16T11:54:34.870Z"
   },
   {
    "duration": 94,
    "start_time": "2021-12-16T11:54:35.617Z"
   },
   {
    "duration": 33,
    "start_time": "2021-12-16T11:54:36.248Z"
   },
   {
    "duration": 5,
    "start_time": "2021-12-16T11:54:37.023Z"
   },
   {
    "duration": 27,
    "start_time": "2021-12-16T11:54:37.681Z"
   },
   {
    "duration": 1141,
    "start_time": "2021-12-16T11:54:39.815Z"
   },
   {
    "duration": 1392,
    "start_time": "2021-12-16T11:55:09.948Z"
   },
   {
    "duration": 416,
    "start_time": "2021-12-16T11:55:56.666Z"
   },
   {
    "duration": 15,
    "start_time": "2021-12-16T11:55:59.842Z"
   },
   {
    "duration": 8,
    "start_time": "2021-12-16T12:02:21.624Z"
   },
   {
    "duration": 7,
    "start_time": "2021-12-16T12:02:25.474Z"
   },
   {
    "duration": 17853,
    "start_time": "2021-12-16T12:19:31.306Z"
   },
   {
    "duration": 7,
    "start_time": "2021-12-16T12:19:49.162Z"
   },
   {
    "duration": 103,
    "start_time": "2021-12-16T12:20:05.281Z"
   },
   {
    "duration": 1440,
    "start_time": "2021-12-16T12:20:14.373Z"
   },
   {
    "duration": 1052,
    "start_time": "2021-12-16T12:22:03.719Z"
   },
   {
    "duration": 1031,
    "start_time": "2021-12-16T12:22:37.115Z"
   },
   {
    "duration": 1245,
    "start_time": "2021-12-16T12:23:34.387Z"
   },
   {
    "duration": 278,
    "start_time": "2021-12-16T12:31:31.432Z"
   },
   {
    "duration": 3473,
    "start_time": "2021-12-16T12:33:16.579Z"
   },
   {
    "duration": 1206,
    "start_time": "2021-12-16T12:33:26.990Z"
   },
   {
    "duration": 1034,
    "start_time": "2021-12-16T12:43:01.779Z"
   },
   {
    "duration": 594,
    "start_time": "2021-12-16T12:44:12.956Z"
   },
   {
    "duration": 50,
    "start_time": "2021-12-16T12:44:13.552Z"
   },
   {
    "duration": 34,
    "start_time": "2021-12-16T12:44:16.058Z"
   },
   {
    "duration": 6,
    "start_time": "2021-12-16T12:44:16.464Z"
   },
   {
    "duration": 8,
    "start_time": "2021-12-16T12:44:17.034Z"
   },
   {
    "duration": 4070,
    "start_time": "2021-12-16T12:44:23.738Z"
   },
   {
    "duration": 15,
    "start_time": "2021-12-16T12:44:33.680Z"
   },
   {
    "duration": 3406,
    "start_time": "2021-12-16T12:44:57.952Z"
   },
   {
    "duration": 12,
    "start_time": "2021-12-16T12:45:01.360Z"
   },
   {
    "duration": 569,
    "start_time": "2021-12-16T12:53:01.890Z"
   },
   {
    "duration": 48,
    "start_time": "2021-12-16T12:53:02.461Z"
   },
   {
    "duration": 33,
    "start_time": "2021-12-16T12:53:02.511Z"
   },
   {
    "duration": 6,
    "start_time": "2021-12-16T12:53:02.546Z"
   },
   {
    "duration": 35,
    "start_time": "2021-12-16T12:53:02.553Z"
   },
   {
    "duration": 1162,
    "start_time": "2021-12-16T12:53:02.590Z"
   },
   {
    "duration": 14,
    "start_time": "2021-12-16T12:53:03.754Z"
   },
   {
    "duration": 3534,
    "start_time": "2021-12-16T12:53:03.770Z"
   },
   {
    "duration": 10,
    "start_time": "2021-12-16T12:53:07.307Z"
   },
   {
    "duration": 6,
    "start_time": "2021-12-16T12:53:07.319Z"
   },
   {
    "duration": 8,
    "start_time": "2021-12-16T12:53:07.326Z"
   },
   {
    "duration": 16,
    "start_time": "2021-12-16T12:53:07.349Z"
   },
   {
    "duration": 600,
    "start_time": "2021-12-16T13:00:26.771Z"
   },
   {
    "duration": 13,
    "start_time": "2021-12-16T13:00:31.937Z"
   },
   {
    "duration": 606,
    "start_time": "2021-12-16T13:00:55.542Z"
   },
   {
    "duration": 48,
    "start_time": "2021-12-16T13:00:56.149Z"
   },
   {
    "duration": 13,
    "start_time": "2021-12-16T13:01:00.400Z"
   },
   {
    "duration": 9,
    "start_time": "2021-12-16T13:01:00.942Z"
   },
   {
    "duration": 1236,
    "start_time": "2021-12-16T13:01:02.180Z"
   },
   {
    "duration": 17,
    "start_time": "2021-12-16T13:01:04.962Z"
   },
   {
    "duration": 7269,
    "start_time": "2021-12-16T13:01:18.561Z"
   },
   {
    "duration": 8,
    "start_time": "2021-12-16T13:01:28.804Z"
   },
   {
    "duration": 788,
    "start_time": "2021-12-16T13:02:52.472Z"
   },
   {
    "duration": 6,
    "start_time": "2021-12-16T13:02:55.043Z"
   },
   {
    "duration": 13,
    "start_time": "2021-12-16T13:03:02.830Z"
   },
   {
    "duration": 594,
    "start_time": "2021-12-16T13:03:23.345Z"
   },
   {
    "duration": 48,
    "start_time": "2021-12-16T13:03:23.942Z"
   },
   {
    "duration": 35,
    "start_time": "2021-12-16T13:03:23.992Z"
   },
   {
    "duration": 16,
    "start_time": "2021-12-16T13:03:24.030Z"
   },
   {
    "duration": 24,
    "start_time": "2021-12-16T13:03:24.048Z"
   },
   {
    "duration": 1216,
    "start_time": "2021-12-16T13:03:24.074Z"
   },
   {
    "duration": 14,
    "start_time": "2021-12-16T13:03:25.293Z"
   },
   {
    "duration": 12,
    "start_time": "2021-12-16T13:03:25.309Z"
   },
   {
    "duration": 42,
    "start_time": "2021-12-16T13:03:25.323Z"
   },
   {
    "duration": 11,
    "start_time": "2021-12-16T13:03:25.367Z"
   },
   {
    "duration": 40,
    "start_time": "2021-12-16T13:03:25.379Z"
   },
   {
    "duration": 548,
    "start_time": "2021-12-16T13:04:18.567Z"
   },
   {
    "duration": 11,
    "start_time": "2021-12-16T13:04:19.381Z"
   },
   {
    "duration": 7,
    "start_time": "2021-12-16T13:04:26.187Z"
   },
   {
    "duration": 342,
    "start_time": "2021-12-16T13:12:32.319Z"
   },
   {
    "duration": 608,
    "start_time": "2021-12-16T13:13:09.497Z"
   },
   {
    "duration": 305,
    "start_time": "2021-12-16T13:13:11.520Z"
   },
   {
    "duration": 598,
    "start_time": "2021-12-16T13:20:38.769Z"
   },
   {
    "duration": 300,
    "start_time": "2021-12-16T13:20:41.256Z"
   },
   {
    "duration": 129,
    "start_time": "2021-12-16T13:31:30.671Z"
   },
   {
    "duration": 182,
    "start_time": "2021-12-16T13:31:43.171Z"
   },
   {
    "duration": 608,
    "start_time": "2021-12-16T13:38:18.951Z"
   },
   {
    "duration": 199,
    "start_time": "2021-12-16T13:38:23.471Z"
   },
   {
    "duration": 6,
    "start_time": "2021-12-16T13:38:30.209Z"
   },
   {
    "duration": 200,
    "start_time": "2021-12-16T13:38:33.251Z"
   },
   {
    "duration": 536,
    "start_time": "2021-12-16T13:39:09.932Z"
   },
   {
    "duration": 172,
    "start_time": "2021-12-16T13:39:11.987Z"
   },
   {
    "duration": 511,
    "start_time": "2021-12-16T13:39:33.168Z"
   },
   {
    "duration": 177,
    "start_time": "2021-12-16T13:39:34.542Z"
   },
   {
    "duration": 102,
    "start_time": "2021-12-16T14:37:49.862Z"
   },
   {
    "duration": 608,
    "start_time": "2021-12-16T14:39:12.291Z"
   },
   {
    "duration": 114,
    "start_time": "2021-12-16T14:39:14.066Z"
   },
   {
    "duration": 6,
    "start_time": "2021-12-16T14:39:28.134Z"
   },
   {
    "duration": 117,
    "start_time": "2021-12-16T14:39:39.453Z"
   },
   {
    "duration": 570,
    "start_time": "2021-12-16T14:43:13.938Z"
   },
   {
    "duration": 114,
    "start_time": "2021-12-16T14:43:14.872Z"
   },
   {
    "duration": 6,
    "start_time": "2021-12-16T14:43:19.475Z"
   },
   {
    "duration": 116,
    "start_time": "2021-12-16T14:43:23.134Z"
   },
   {
    "duration": 658,
    "start_time": "2021-12-16T14:46:25.091Z"
   },
   {
    "duration": 111,
    "start_time": "2021-12-16T14:46:26.558Z"
   },
   {
    "duration": 6,
    "start_time": "2021-12-16T14:46:30.600Z"
   },
   {
    "duration": 107,
    "start_time": "2021-12-16T14:46:34.042Z"
   },
   {
    "duration": 100,
    "start_time": "2021-12-16T14:49:25.331Z"
   },
   {
    "duration": 102,
    "start_time": "2021-12-16T14:49:26.205Z"
   },
   {
    "duration": 562,
    "start_time": "2021-12-16T14:49:36.229Z"
   },
   {
    "duration": 109,
    "start_time": "2021-12-16T14:49:36.793Z"
   },
   {
    "duration": 6,
    "start_time": "2021-12-16T14:49:48.284Z"
   },
   {
    "duration": 103,
    "start_time": "2021-12-16T14:49:54.067Z"
   },
   {
    "duration": 593,
    "start_time": "2021-12-16T14:50:43.554Z"
   },
   {
    "duration": 105,
    "start_time": "2021-12-16T14:50:44.305Z"
   },
   {
    "duration": 7,
    "start_time": "2021-12-16T14:51:25.446Z"
   },
   {
    "duration": 150,
    "start_time": "2021-12-16T14:51:29.446Z"
   },
   {
    "duration": 114,
    "start_time": "2021-12-16T15:11:56.156Z"
   },
   {
    "duration": 540,
    "start_time": "2021-12-16T15:12:03.187Z"
   },
   {
    "duration": 71,
    "start_time": "2021-12-16T15:12:05.591Z"
   },
   {
    "duration": 5,
    "start_time": "2021-12-16T15:12:15.075Z"
   },
   {
    "duration": 76,
    "start_time": "2021-12-16T15:14:19.564Z"
   },
   {
    "duration": 7,
    "start_time": "2021-12-16T15:15:59.568Z"
   },
   {
    "duration": 72,
    "start_time": "2021-12-16T15:16:42.288Z"
   },
   {
    "duration": 135,
    "start_time": "2021-12-16T15:27:29.520Z"
   },
   {
    "duration": 559,
    "start_time": "2021-12-16T15:27:36.872Z"
   },
   {
    "duration": 56,
    "start_time": "2021-12-16T15:27:38.412Z"
   },
   {
    "duration": 6,
    "start_time": "2021-12-16T15:27:42.943Z"
   },
   {
    "duration": 55,
    "start_time": "2021-12-16T15:27:54.675Z"
   },
   {
    "duration": 5,
    "start_time": "2021-12-16T15:29:33.253Z"
   },
   {
    "duration": 12,
    "start_time": "2021-12-16T15:31:36.899Z"
   },
   {
    "duration": 509,
    "start_time": "2021-12-16T15:32:41.166Z"
   },
   {
    "duration": 6,
    "start_time": "2021-12-16T15:32:42.654Z"
   },
   {
    "duration": 6,
    "start_time": "2021-12-16T15:32:50.527Z"
   },
   {
    "duration": 12,
    "start_time": "2021-12-16T15:33:08.937Z"
   },
   {
    "duration": 3640,
    "start_time": "2021-12-16T15:35:18.537Z"
   },
   {
    "duration": 3432,
    "start_time": "2021-12-16T15:35:32.801Z"
   },
   {
    "duration": 11,
    "start_time": "2021-12-16T15:35:47.917Z"
   },
   {
    "duration": 3491,
    "start_time": "2021-12-16T15:36:59.484Z"
   },
   {
    "duration": 12,
    "start_time": "2021-12-16T15:37:02.977Z"
   },
   {
    "duration": 5,
    "start_time": "2021-12-16T15:38:37.412Z"
   },
   {
    "duration": 11,
    "start_time": "2021-12-16T15:38:51.264Z"
   },
   {
    "duration": 31,
    "start_time": "2021-12-16T15:43:01.730Z"
   },
   {
    "duration": 28,
    "start_time": "2021-12-16T15:43:15.519Z"
   },
   {
    "duration": 30,
    "start_time": "2021-12-16T15:43:31.553Z"
   },
   {
    "duration": 391,
    "start_time": "2021-12-16T15:45:18.586Z"
   },
   {
    "duration": 296,
    "start_time": "2021-12-16T15:45:46.672Z"
   },
   {
    "duration": 115,
    "start_time": "2021-12-16T15:47:30.126Z"
   },
   {
    "duration": 634,
    "start_time": "2021-12-16T15:47:57.419Z"
   },
   {
    "duration": 299,
    "start_time": "2021-12-16T15:48:50.400Z"
   },
   {
    "duration": 339,
    "start_time": "2021-12-16T15:49:08.079Z"
   },
   {
    "duration": 32,
    "start_time": "2021-12-16T15:50:52.064Z"
   },
   {
    "duration": 28,
    "start_time": "2021-12-16T15:51:02.679Z"
   },
   {
    "duration": 629,
    "start_time": "2021-12-16T16:00:22.028Z"
   },
   {
    "duration": 4,
    "start_time": "2021-12-16T16:01:22.438Z"
   },
   {
    "duration": 2216,
    "start_time": "2021-12-16T19:21:36.545Z"
   },
   {
    "duration": 88,
    "start_time": "2021-12-16T19:21:39.738Z"
   },
   {
    "duration": 68,
    "start_time": "2021-12-16T19:21:40.753Z"
   },
   {
    "duration": 13,
    "start_time": "2021-12-16T19:21:42.645Z"
   },
   {
    "duration": 15,
    "start_time": "2021-12-16T19:21:45.042Z"
   },
   {
    "duration": 2012,
    "start_time": "2021-12-16T19:21:45.555Z"
   },
   {
    "duration": 8,
    "start_time": "2021-12-16T19:21:47.571Z"
   },
   {
    "duration": 5168,
    "start_time": "2021-12-16T19:21:49.477Z"
   },
   {
    "duration": 46,
    "start_time": "2021-12-16T19:21:54.648Z"
   },
   {
    "duration": 442,
    "start_time": "2021-12-16T19:22:57.060Z"
   },
   {
    "duration": 25,
    "start_time": "2021-12-16T19:24:39.344Z"
   },
   {
    "duration": 299,
    "start_time": "2021-12-16T19:24:47.485Z"
   },
   {
    "duration": 2029,
    "start_time": "2021-12-16T19:25:04.206Z"
   },
   {
    "duration": 2154,
    "start_time": "2021-12-16T19:26:32.716Z"
   },
   {
    "duration": 2119,
    "start_time": "2021-12-16T19:26:45.291Z"
   },
   {
    "duration": 2118,
    "start_time": "2021-12-16T19:27:14.408Z"
   },
   {
    "duration": 6081,
    "start_time": "2021-12-16T19:31:35.789Z"
   },
   {
    "duration": 15,
    "start_time": "2021-12-16T19:31:41.858Z"
   },
   {
    "duration": 5,
    "start_time": "2021-12-16T19:31:41.869Z"
   },
   {
    "duration": 5102,
    "start_time": "2021-12-16T19:32:01.086Z"
   },
   {
    "duration": 4967,
    "start_time": "2021-12-16T19:32:14.529Z"
   },
   {
    "duration": 5049,
    "start_time": "2021-12-16T19:33:37.694Z"
   },
   {
    "duration": 5717,
    "start_time": "2021-12-16T19:35:15.818Z"
   },
   {
    "duration": 38,
    "start_time": "2021-12-16T19:35:21.500Z"
   },
   {
    "duration": 4990,
    "start_time": "2021-12-16T19:35:55.650Z"
   },
   {
    "duration": 4950,
    "start_time": "2021-12-16T19:37:52.285Z"
   },
   {
    "duration": 5334,
    "start_time": "2021-12-16T19:39:13.844Z"
   },
   {
    "duration": 5424,
    "start_time": "2021-12-16T19:39:49.881Z"
   },
   {
    "duration": 4741,
    "start_time": "2021-12-16T19:40:49.366Z"
   },
   {
    "duration": 19,
    "start_time": "2021-12-16T19:41:00.815Z"
   },
   {
    "duration": 1970,
    "start_time": "2021-12-16T19:41:07.929Z"
   },
   {
    "duration": 2253,
    "start_time": "2021-12-16T19:44:55.015Z"
   },
   {
    "duration": 1937,
    "start_time": "2021-12-16T19:46:15.439Z"
   },
   {
    "duration": 314,
    "start_time": "2021-12-16T19:57:53.256Z"
   },
   {
    "duration": 20,
    "start_time": "2021-12-16T20:02:06.718Z"
   },
   {
    "duration": 30,
    "start_time": "2021-12-16T20:02:15.500Z"
   },
   {
    "duration": 13,
    "start_time": "2021-12-16T20:03:07.092Z"
   },
   {
    "duration": 454,
    "start_time": "2021-12-16T20:04:05.218Z"
   },
   {
    "duration": 22,
    "start_time": "2021-12-16T20:18:10.822Z"
   },
   {
    "duration": 448,
    "start_time": "2021-12-16T20:18:48.394Z"
   },
   {
    "duration": 373,
    "start_time": "2021-12-16T20:19:27.370Z"
   },
   {
    "duration": 620,
    "start_time": "2021-12-16T20:22:49.985Z"
   },
   {
    "duration": 498,
    "start_time": "2021-12-16T20:22:58.980Z"
   },
   {
    "duration": 473,
    "start_time": "2021-12-16T20:23:15.430Z"
   },
   {
    "duration": 492,
    "start_time": "2021-12-16T20:24:37.797Z"
   },
   {
    "duration": 20,
    "start_time": "2021-12-16T20:28:20.445Z"
   },
   {
    "duration": 99,
    "start_time": "2021-12-16T20:29:37.141Z"
   },
   {
    "duration": 17,
    "start_time": "2021-12-16T20:29:42.811Z"
   },
   {
    "duration": 16,
    "start_time": "2021-12-16T20:29:53.885Z"
   },
   {
    "duration": 370,
    "start_time": "2021-12-16T20:30:48.835Z"
   },
   {
    "duration": 727,
    "start_time": "2021-12-16T20:30:57.909Z"
   },
   {
    "duration": 534,
    "start_time": "2021-12-16T22:23:02.869Z"
   },
   {
    "duration": 1211,
    "start_time": "2021-12-16T22:27:59.444Z"
   },
   {
    "duration": 21,
    "start_time": "2021-12-16T22:29:32.140Z"
   },
   {
    "duration": 24,
    "start_time": "2021-12-16T22:30:04.916Z"
   },
   {
    "duration": 5241,
    "start_time": "2021-12-16T22:31:19.561Z"
   },
   {
    "duration": 26,
    "start_time": "2021-12-16T22:31:25.733Z"
   },
   {
    "duration": 28,
    "start_time": "2021-12-16T22:32:26.098Z"
   },
   {
    "duration": 2641,
    "start_time": "2021-12-16T22:38:29.029Z"
   },
   {
    "duration": 2095,
    "start_time": "2021-12-16T22:38:43.684Z"
   },
   {
    "duration": 1279,
    "start_time": "2021-12-16T22:39:54.724Z"
   },
   {
    "duration": 1026,
    "start_time": "2021-12-16T22:40:25.377Z"
   },
   {
    "duration": 15,
    "start_time": "2021-12-16T22:40:48.758Z"
   },
   {
    "duration": 1548,
    "start_time": "2021-12-16T22:41:14.472Z"
   },
   {
    "duration": 13,
    "start_time": "2021-12-16T22:41:20.410Z"
   },
   {
    "duration": 27,
    "start_time": "2021-12-16T22:44:30.103Z"
   },
   {
    "duration": 113,
    "start_time": "2021-12-16T22:48:31.018Z"
   },
   {
    "duration": 104,
    "start_time": "2021-12-16T22:48:58.621Z"
   },
   {
    "duration": 24,
    "start_time": "2021-12-16T22:49:12.836Z"
   },
   {
    "duration": 23,
    "start_time": "2021-12-16T22:49:28.299Z"
   },
   {
    "duration": 33,
    "start_time": "2021-12-16T22:51:06.470Z"
   },
   {
    "duration": 25,
    "start_time": "2021-12-16T22:53:59.389Z"
   },
   {
    "duration": 1281,
    "start_time": "2021-12-16T22:56:01.550Z"
   },
   {
    "duration": 34,
    "start_time": "2021-12-16T22:56:07.571Z"
   },
   {
    "duration": 1749,
    "start_time": "2021-12-16T22:56:29.588Z"
   },
   {
    "duration": 37,
    "start_time": "2021-12-16T22:56:38.162Z"
   },
   {
    "duration": 43,
    "start_time": "2021-12-16T23:09:22.586Z"
   },
   {
    "duration": 44,
    "start_time": "2021-12-16T23:09:29.313Z"
   },
   {
    "duration": 37,
    "start_time": "2021-12-16T23:10:50.613Z"
   },
   {
    "duration": 18,
    "start_time": "2021-12-16T23:20:48.935Z"
   },
   {
    "duration": 18,
    "start_time": "2021-12-16T23:21:00.704Z"
   },
   {
    "duration": 17,
    "start_time": "2021-12-16T23:21:12.000Z"
   },
   {
    "duration": 28,
    "start_time": "2021-12-16T23:21:17.716Z"
   },
   {
    "duration": 59,
    "start_time": "2021-12-16T23:22:23.041Z"
   },
   {
    "duration": 358,
    "start_time": "2021-12-16T23:23:41.264Z"
   },
   {
    "duration": 30,
    "start_time": "2021-12-16T23:23:51.038Z"
   },
   {
    "duration": 61,
    "start_time": "2021-12-16T23:23:57.582Z"
   },
   {
    "duration": 51,
    "start_time": "2021-12-16T23:29:43.059Z"
   },
   {
    "duration": 53,
    "start_time": "2021-12-16T23:29:58.545Z"
   },
   {
    "duration": 114,
    "start_time": "2021-12-16T23:32:43.843Z"
   },
   {
    "duration": 441,
    "start_time": "2021-12-16T23:32:53.214Z"
   },
   {
    "duration": 449,
    "start_time": "2021-12-16T23:33:47.195Z"
   },
   {
    "duration": 562,
    "start_time": "2021-12-16T23:34:48.450Z"
   },
   {
    "duration": 721,
    "start_time": "2021-12-16T23:37:28.099Z"
   },
   {
    "duration": 688,
    "start_time": "2021-12-16T23:37:51.493Z"
   },
   {
    "duration": 697,
    "start_time": "2021-12-16T23:38:38.541Z"
   },
   {
    "duration": 703,
    "start_time": "2021-12-16T23:44:13.568Z"
   },
   {
    "duration": 1146,
    "start_time": "2021-12-24T15:52:29.954Z"
   },
   {
    "duration": 51,
    "start_time": "2021-12-24T15:52:32.749Z"
   },
   {
    "duration": 34,
    "start_time": "2021-12-24T15:52:34.488Z"
   },
   {
    "duration": 12,
    "start_time": "2021-12-24T15:52:45.649Z"
   },
   {
    "duration": 8,
    "start_time": "2021-12-24T15:52:47.489Z"
   },
   {
    "duration": 1342,
    "start_time": "2021-12-24T15:52:54.056Z"
   },
   {
    "duration": 6,
    "start_time": "2021-12-24T15:53:06.034Z"
   },
   {
    "duration": 3703,
    "start_time": "2021-12-24T15:53:09.462Z"
   },
   {
    "duration": 244,
    "start_time": "2021-12-24T15:53:31.529Z"
   },
   {
    "duration": 21,
    "start_time": "2021-12-24T15:55:56.395Z"
   },
   {
    "duration": 288,
    "start_time": "2021-12-24T15:57:35.592Z"
   },
   {
    "duration": 370,
    "start_time": "2021-12-24T15:57:39.184Z"
   },
   {
    "duration": 10,
    "start_time": "2021-12-24T15:57:43.277Z"
   },
   {
    "duration": 235,
    "start_time": "2021-12-24T15:58:44.501Z"
   },
   {
    "duration": 10,
    "start_time": "2021-12-24T15:58:49.191Z"
   },
   {
    "duration": 240,
    "start_time": "2021-12-24T15:59:01.917Z"
   },
   {
    "duration": 10,
    "start_time": "2021-12-24T15:59:07.328Z"
   },
   {
    "duration": 1833,
    "start_time": "2021-12-24T16:01:40.303Z"
   },
   {
    "duration": -103,
    "start_time": "2021-12-24T16:01:42.241Z"
   },
   {
    "duration": 871,
    "start_time": "2021-12-24T16:01:59.756Z"
   },
   {
    "duration": 36,
    "start_time": "2021-12-24T16:02:09.029Z"
   },
   {
    "duration": 3857,
    "start_time": "2021-12-24T16:06:41.764Z"
   },
   {
    "duration": 30,
    "start_time": "2021-12-24T16:06:48.252Z"
   },
   {
    "duration": 1026,
    "start_time": "2021-12-24T16:20:36.926Z"
   },
   {
    "duration": 1162,
    "start_time": "2021-12-24T16:21:17.694Z"
   },
   {
    "duration": 46,
    "start_time": "2021-12-24T16:21:18.858Z"
   },
   {
    "duration": 28,
    "start_time": "2021-12-24T16:21:18.906Z"
   },
   {
    "duration": 10,
    "start_time": "2021-12-24T16:21:18.936Z"
   },
   {
    "duration": 23,
    "start_time": "2021-12-24T16:21:18.947Z"
   },
   {
    "duration": 1298,
    "start_time": "2021-12-24T16:21:18.972Z"
   },
   {
    "duration": 7,
    "start_time": "2021-12-24T16:21:20.273Z"
   },
   {
    "duration": 3771,
    "start_time": "2021-12-24T16:21:20.284Z"
   },
   {
    "duration": 16,
    "start_time": "2021-12-24T16:21:24.058Z"
   },
   {
    "duration": 257,
    "start_time": "2021-12-24T16:21:24.076Z"
   },
   {
    "duration": 346,
    "start_time": "2021-12-24T16:21:24.335Z"
   },
   {
    "duration": 18,
    "start_time": "2021-12-24T16:21:24.683Z"
   },
   {
    "duration": 672,
    "start_time": "2021-12-24T16:21:24.702Z"
   },
   {
    "duration": 8,
    "start_time": "2021-12-24T16:21:25.375Z"
   },
   {
    "duration": 900,
    "start_time": "2021-12-24T16:21:25.385Z"
   },
   {
    "duration": -22,
    "start_time": "2021-12-24T16:21:26.310Z"
   },
   {
    "duration": 31,
    "start_time": "2021-12-24T16:23:07.409Z"
   },
   {
    "duration": 35,
    "start_time": "2021-12-24T16:24:51.127Z"
   },
   {
    "duration": 43,
    "start_time": "2021-12-24T16:26:05.320Z"
   },
   {
    "duration": 30,
    "start_time": "2021-12-24T16:31:56.293Z"
   },
   {
    "duration": 35,
    "start_time": "2021-12-24T16:37:01.597Z"
   },
   {
    "duration": 35,
    "start_time": "2021-12-24T16:39:57.234Z"
   },
   {
    "duration": 492,
    "start_time": "2021-12-24T16:40:28.054Z"
   },
   {
    "duration": 413,
    "start_time": "2021-12-24T16:45:37.438Z"
   },
   {
    "duration": 623,
    "start_time": "2021-12-24T17:26:31.154Z"
   },
   {
    "duration": 5264,
    "start_time": "2021-12-24T17:26:55.366Z"
   },
   {
    "duration": 6,
    "start_time": "2021-12-24T17:27:19.966Z"
   },
   {
    "duration": 9,
    "start_time": "2021-12-24T17:27:27.508Z"
   },
   {
    "duration": 11,
    "start_time": "2021-12-24T17:27:45.563Z"
   },
   {
    "duration": 22,
    "start_time": "2021-12-24T17:28:29.530Z"
   },
   {
    "duration": 12,
    "start_time": "2021-12-24T17:28:50.536Z"
   },
   {
    "duration": 225,
    "start_time": "2021-12-24T17:29:12.666Z"
   },
   {
    "duration": 11,
    "start_time": "2021-12-24T17:29:17.509Z"
   },
   {
    "duration": 10,
    "start_time": "2021-12-24T17:29:29.887Z"
   },
   {
    "duration": 12,
    "start_time": "2021-12-24T17:31:55.283Z"
   },
   {
    "duration": 3364,
    "start_time": "2021-12-24T17:32:43.024Z"
   },
   {
    "duration": 10,
    "start_time": "2021-12-24T17:32:46.390Z"
   },
   {
    "duration": 384,
    "start_time": "2021-12-24T17:33:16.225Z"
   },
   {
    "duration": 11,
    "start_time": "2021-12-24T17:33:22.078Z"
   },
   {
    "duration": 3544,
    "start_time": "2021-12-24T17:34:30.378Z"
   },
   {
    "duration": 380,
    "start_time": "2021-12-24T17:34:37.793Z"
   },
   {
    "duration": 12,
    "start_time": "2021-12-24T17:34:44.268Z"
   },
   {
    "duration": 232,
    "start_time": "2021-12-24T17:38:01.286Z"
   },
   {
    "duration": 497,
    "start_time": "2021-12-24T17:38:19.988Z"
   },
   {
    "duration": 392,
    "start_time": "2021-12-24T17:47:41.895Z"
   },
   {
    "duration": 6,
    "start_time": "2021-12-24T17:48:12.086Z"
   },
   {
    "duration": 408,
    "start_time": "2021-12-24T17:48:55.402Z"
   },
   {
    "duration": 9,
    "start_time": "2021-12-24T17:49:01.645Z"
   },
   {
    "duration": 404,
    "start_time": "2021-12-24T17:50:13.665Z"
   },
   {
    "duration": 90,
    "start_time": "2021-12-24T17:50:22.074Z"
   },
   {
    "duration": 422,
    "start_time": "2021-12-24T17:50:29.239Z"
   },
   {
    "duration": 396,
    "start_time": "2021-12-24T17:51:07.375Z"
   },
   {
    "duration": 419,
    "start_time": "2021-12-24T17:51:11.838Z"
   },
   {
    "duration": 529,
    "start_time": "2021-12-24T17:53:36.519Z"
   },
   {
    "duration": 8,
    "start_time": "2021-12-24T17:53:52.117Z"
   },
   {
    "duration": 279,
    "start_time": "2021-12-24T17:55:34.484Z"
   },
   {
    "duration": 377,
    "start_time": "2021-12-24T17:55:42.399Z"
   },
   {
    "duration": 423,
    "start_time": "2021-12-24T17:58:42.140Z"
   },
   {
    "duration": 394,
    "start_time": "2021-12-24T17:58:49.672Z"
   },
   {
    "duration": 259,
    "start_time": "2021-12-24T17:58:58.570Z"
   },
   {
    "duration": 721,
    "start_time": "2021-12-24T17:59:23.107Z"
   },
   {
    "duration": 405,
    "start_time": "2021-12-24T17:59:36.820Z"
   },
   {
    "duration": 527,
    "start_time": "2021-12-24T18:00:26.754Z"
   },
   {
    "duration": 699,
    "start_time": "2021-12-24T18:01:36.917Z"
   },
   {
    "duration": 1188,
    "start_time": "2021-12-24T18:03:56.125Z"
   },
   {
    "duration": 51,
    "start_time": "2021-12-24T18:03:57.315Z"
   },
   {
    "duration": 27,
    "start_time": "2021-12-24T18:03:57.368Z"
   },
   {
    "duration": 5,
    "start_time": "2021-12-24T18:03:57.397Z"
   },
   {
    "duration": 11,
    "start_time": "2021-12-24T18:03:57.404Z"
   },
   {
    "duration": 1219,
    "start_time": "2021-12-24T18:03:57.417Z"
   },
   {
    "duration": 11,
    "start_time": "2021-12-24T18:03:58.638Z"
   },
   {
    "duration": 3622,
    "start_time": "2021-12-24T18:03:58.653Z"
   },
   {
    "duration": 12,
    "start_time": "2021-12-24T18:04:02.278Z"
   },
   {
    "duration": 282,
    "start_time": "2021-12-24T18:04:02.292Z"
   },
   {
    "duration": 324,
    "start_time": "2021-12-24T18:04:02.576Z"
   },
   {
    "duration": 18,
    "start_time": "2021-12-24T18:04:02.902Z"
   },
   {
    "duration": 734,
    "start_time": "2021-12-24T18:04:02.922Z"
   },
   {
    "duration": 8,
    "start_time": "2021-12-24T18:04:03.658Z"
   },
   {
    "duration": 34,
    "start_time": "2021-12-24T18:04:03.668Z"
   },
   {
    "duration": 490,
    "start_time": "2021-12-24T18:04:03.703Z"
   },
   {
    "duration": 874,
    "start_time": "2021-12-24T18:04:35.123Z"
   },
   {
    "duration": 24,
    "start_time": "2021-12-24T21:27:29.704Z"
   },
   {
    "duration": 55,
    "start_time": "2021-12-24T21:27:30.212Z"
   },
   {
    "duration": 32,
    "start_time": "2021-12-24T21:27:31.747Z"
   },
   {
    "duration": 6,
    "start_time": "2021-12-24T21:27:33.771Z"
   },
   {
    "duration": 10,
    "start_time": "2021-12-24T21:27:35.158Z"
   },
   {
    "duration": 1374,
    "start_time": "2021-12-24T21:27:36.119Z"
   },
   {
    "duration": 8,
    "start_time": "2021-12-24T21:27:37.495Z"
   },
   {
    "duration": 3897,
    "start_time": "2021-12-24T21:27:39.399Z"
   },
   {
    "duration": 10,
    "start_time": "2021-12-24T21:27:43.298Z"
   },
   {
    "duration": 266,
    "start_time": "2021-12-24T21:27:43.310Z"
   },
   {
    "duration": 307,
    "start_time": "2021-12-24T21:27:44.940Z"
   },
   {
    "duration": 19,
    "start_time": "2021-12-24T21:27:46.396Z"
   },
   {
    "duration": 849,
    "start_time": "2021-12-24T21:27:47.191Z"
   },
   {
    "duration": 12,
    "start_time": "2021-12-24T21:27:48.043Z"
   },
   {
    "duration": 9,
    "start_time": "2021-12-24T21:27:49.304Z"
   },
   {
    "duration": 403,
    "start_time": "2021-12-24T21:27:50.085Z"
   },
   {
    "duration": 22,
    "start_time": "2021-12-24T21:32:45.527Z"
   },
   {
    "duration": 1514,
    "start_time": "2021-12-25T07:21:37.715Z"
   },
   {
    "duration": 56,
    "start_time": "2021-12-25T07:21:39.232Z"
   },
   {
    "duration": 53,
    "start_time": "2021-12-25T07:21:39.291Z"
   },
   {
    "duration": 9,
    "start_time": "2021-12-25T07:21:39.619Z"
   },
   {
    "duration": 11,
    "start_time": "2021-12-25T07:21:40.838Z"
   },
   {
    "duration": 1647,
    "start_time": "2021-12-25T07:21:42.103Z"
   },
   {
    "duration": 8,
    "start_time": "2021-12-25T07:21:43.753Z"
   },
   {
    "duration": 4389,
    "start_time": "2021-12-25T07:21:43.804Z"
   },
   {
    "duration": 40,
    "start_time": "2021-12-25T07:21:48.195Z"
   },
   {
    "duration": 26,
    "start_time": "2021-12-25T07:23:09.200Z"
   },
   {
    "duration": 67,
    "start_time": "2021-12-25T08:22:32.916Z"
   },
   {
    "duration": 54,
    "start_time": "2021-12-25T08:23:06.248Z"
   },
   {
    "duration": 1577,
    "start_time": "2021-12-25T09:28:23.017Z"
   },
   {
    "duration": 56,
    "start_time": "2021-12-25T09:28:24.597Z"
   },
   {
    "duration": 40,
    "start_time": "2021-12-25T09:28:25.333Z"
   },
   {
    "duration": 8,
    "start_time": "2021-12-25T09:28:26.004Z"
   },
   {
    "duration": 10,
    "start_time": "2021-12-25T09:28:27.298Z"
   },
   {
    "duration": 1635,
    "start_time": "2021-12-25T09:28:28.154Z"
   },
   {
    "duration": 8,
    "start_time": "2021-12-25T09:28:29.792Z"
   },
   {
    "duration": 4511,
    "start_time": "2021-12-25T09:28:30.125Z"
   },
   {
    "duration": 57,
    "start_time": "2021-12-25T09:28:34.638Z"
   },
   {
    "duration": 153,
    "start_time": "2021-12-25T09:28:34.697Z"
   },
   {
    "duration": 15,
    "start_time": "2021-12-25T09:28:55.840Z"
   },
   {
    "duration": 456,
    "start_time": "2021-12-25T09:28:58.729Z"
   },
   {
    "duration": 505,
    "start_time": "2021-12-25T09:29:13.850Z"
   },
   {
    "duration": 568,
    "start_time": "2021-12-25T09:29:40.153Z"
   },
   {
    "duration": 514,
    "start_time": "2021-12-25T09:30:18.928Z"
   },
   {
    "duration": 94,
    "start_time": "2021-12-25T09:33:54.174Z"
   },
   {
    "duration": 310,
    "start_time": "2021-12-25T09:34:02.749Z"
   },
   {
    "duration": 298,
    "start_time": "2021-12-25T09:34:07.884Z"
   },
   {
    "duration": 705,
    "start_time": "2021-12-25T09:34:21.890Z"
   },
   {
    "duration": 39,
    "start_time": "2021-12-25T09:38:36.179Z"
   },
   {
    "duration": 115,
    "start_time": "2021-12-25T09:40:06.630Z"
   },
   {
    "duration": 97,
    "start_time": "2021-12-25T09:40:13.179Z"
   },
   {
    "duration": 4520,
    "start_time": "2021-12-25T09:40:18.282Z"
   },
   {
    "duration": 4279,
    "start_time": "2021-12-25T09:40:38.008Z"
   },
   {
    "duration": 4694,
    "start_time": "2021-12-25T09:41:05.945Z"
   },
   {
    "duration": 1482,
    "start_time": "2021-12-25T09:41:18.206Z"
   },
   {
    "duration": 57,
    "start_time": "2021-12-25T09:41:19.691Z"
   },
   {
    "duration": 43,
    "start_time": "2021-12-25T09:41:19.752Z"
   },
   {
    "duration": 8,
    "start_time": "2021-12-25T09:41:19.817Z"
   },
   {
    "duration": 10,
    "start_time": "2021-12-25T09:41:19.827Z"
   },
   {
    "duration": 1694,
    "start_time": "2021-12-25T09:41:19.839Z"
   },
   {
    "duration": 8,
    "start_time": "2021-12-25T09:41:21.536Z"
   },
   {
    "duration": 4450,
    "start_time": "2021-12-25T09:41:21.547Z"
   },
   {
    "duration": 34,
    "start_time": "2021-12-25T09:41:26.000Z"
   },
   {
    "duration": 4316,
    "start_time": "2021-12-25T09:41:26.037Z"
   },
   {
    "duration": 4,
    "start_time": "2021-12-25T09:41:30.356Z"
   },
   {
    "duration": 15,
    "start_time": "2021-12-25T09:41:30.363Z"
   },
   {
    "duration": 422,
    "start_time": "2021-12-25T09:41:30.380Z"
   },
   {
    "duration": 489,
    "start_time": "2021-12-25T09:41:30.806Z"
   },
   {
    "duration": 41,
    "start_time": "2021-12-25T09:41:31.298Z"
   },
   {
    "duration": 1411,
    "start_time": "2021-12-25T09:41:31.342Z"
   },
   {
    "duration": 441,
    "start_time": "2021-12-25T09:41:32.757Z"
   },
   {
    "duration": -124,
    "start_time": "2021-12-25T09:41:33.325Z"
   },
   {
    "duration": -125,
    "start_time": "2021-12-25T09:41:33.328Z"
   },
   {
    "duration": 508,
    "start_time": "2021-12-25T09:42:40.056Z"
   },
   {
    "duration": 430,
    "start_time": "2021-12-25T09:51:26.877Z"
   },
   {
    "duration": 363,
    "start_time": "2021-12-25T09:56:41.835Z"
   },
   {
    "duration": 357,
    "start_time": "2021-12-25T09:57:03.838Z"
   },
   {
    "duration": 45,
    "start_time": "2021-12-25T09:57:24.186Z"
   },
   {
    "duration": 353,
    "start_time": "2021-12-25T10:00:51.422Z"
   },
   {
    "duration": 631,
    "start_time": "2021-12-25T10:01:02.586Z"
   },
   {
    "duration": 348,
    "start_time": "2021-12-25T10:01:09.070Z"
   },
   {
    "duration": 350,
    "start_time": "2021-12-25T10:03:25.735Z"
   },
   {
    "duration": 665,
    "start_time": "2021-12-25T10:04:10.625Z"
   },
   {
    "duration": 487,
    "start_time": "2021-12-25T10:06:00.994Z"
   },
   {
    "duration": 456,
    "start_time": "2021-12-25T10:06:21.446Z"
   },
   {
    "duration": 362,
    "start_time": "2021-12-25T10:06:30.872Z"
   },
   {
    "duration": 90,
    "start_time": "2021-12-25T10:07:04.805Z"
   },
   {
    "duration": 475,
    "start_time": "2021-12-25T10:07:19.123Z"
   },
   {
    "duration": 358,
    "start_time": "2021-12-25T10:07:25.500Z"
   },
   {
    "duration": 376,
    "start_time": "2021-12-25T10:08:58.717Z"
   },
   {
    "duration": 363,
    "start_time": "2021-12-25T10:09:06.258Z"
   },
   {
    "duration": 426,
    "start_time": "2021-12-25T10:13:10.348Z"
   },
   {
    "duration": 360,
    "start_time": "2021-12-25T10:13:54.806Z"
   },
   {
    "duration": 144,
    "start_time": "2021-12-25T10:14:02.836Z"
   },
   {
    "duration": 115,
    "start_time": "2021-12-25T10:14:14.995Z"
   },
   {
    "duration": 782,
    "start_time": "2021-12-25T10:14:21.685Z"
   },
   {
    "duration": 24,
    "start_time": "2021-12-25T10:14:24.027Z"
   },
   {
    "duration": 641,
    "start_time": "2021-12-25T10:14:38.899Z"
   },
   {
    "duration": 633,
    "start_time": "2021-12-25T10:16:23.060Z"
   },
   {
    "duration": 111,
    "start_time": "2021-12-25T10:17:58.152Z"
   },
   {
    "duration": 366,
    "start_time": "2021-12-25T10:18:16.174Z"
   },
   {
    "duration": 433,
    "start_time": "2021-12-25T10:18:43.599Z"
   },
   {
    "duration": 374,
    "start_time": "2021-12-25T10:18:52.804Z"
   },
   {
    "duration": 362,
    "start_time": "2021-12-25T10:19:07.601Z"
   },
   {
    "duration": 376,
    "start_time": "2021-12-25T10:19:25.266Z"
   },
   {
    "duration": 364,
    "start_time": "2021-12-25T10:20:09.560Z"
   },
   {
    "duration": 396,
    "start_time": "2021-12-25T10:20:26.178Z"
   },
   {
    "duration": 444,
    "start_time": "2021-12-25T10:20:37.951Z"
   },
   {
    "duration": 386,
    "start_time": "2021-12-25T10:21:00.520Z"
   },
   {
    "duration": 393,
    "start_time": "2021-12-25T10:21:12.463Z"
   },
   {
    "duration": 426,
    "start_time": "2021-12-25T10:21:27.603Z"
   },
   {
    "duration": 493,
    "start_time": "2021-12-25T10:23:16.557Z"
   },
   {
    "duration": 514,
    "start_time": "2021-12-25T10:23:30.419Z"
   },
   {
    "duration": 439,
    "start_time": "2021-12-25T10:25:18.829Z"
   },
   {
    "duration": 551,
    "start_time": "2021-12-25T10:25:29.320Z"
   },
   {
    "duration": 1464,
    "start_time": "2021-12-25T10:43:31.448Z"
   },
   {
    "duration": 58,
    "start_time": "2021-12-25T10:43:32.915Z"
   },
   {
    "duration": 64,
    "start_time": "2021-12-25T10:43:36.427Z"
   },
   {
    "duration": 8,
    "start_time": "2021-12-25T10:43:43.446Z"
   },
   {
    "duration": 11,
    "start_time": "2021-12-25T10:43:53.567Z"
   },
   {
    "duration": 1803,
    "start_time": "2021-12-25T10:43:58.771Z"
   },
   {
    "duration": 9,
    "start_time": "2021-12-25T10:44:00.576Z"
   },
   {
    "duration": 7,
    "start_time": "2021-12-25T10:44:15.399Z"
   },
   {
    "duration": 4348,
    "start_time": "2021-12-25T10:44:22.514Z"
   },
   {
    "duration": 16,
    "start_time": "2021-12-25T10:44:27.754Z"
   },
   {
    "duration": 23,
    "start_time": "2021-12-25T10:45:01.605Z"
   },
   {
    "duration": 400,
    "start_time": "2021-12-25T10:46:43.566Z"
   },
   {
    "duration": 480,
    "start_time": "2021-12-25T10:47:04.196Z"
   },
   {
    "duration": 25,
    "start_time": "2021-12-25T10:47:55.571Z"
   },
   {
    "duration": 1445,
    "start_time": "2021-12-25T10:48:26.776Z"
   },
   {
    "duration": 1484,
    "start_time": "2021-12-25T10:49:54.418Z"
   },
   {
    "duration": 1375,
    "start_time": "2021-12-25T10:50:15.045Z"
   },
   {
    "duration": 1502,
    "start_time": "2021-12-25T10:50:29.582Z"
   },
   {
    "duration": 430,
    "start_time": "2021-12-25T10:52:03.507Z"
   },
   {
    "duration": 672,
    "start_time": "2021-12-25T10:52:06.668Z"
   },
   {
    "duration": 19,
    "start_time": "2021-12-25T10:52:26.654Z"
   },
   {
    "duration": 639,
    "start_time": "2021-12-25T10:55:57.678Z"
   },
   {
    "duration": 662,
    "start_time": "2021-12-25T11:15:36.221Z"
   },
   {
    "duration": 19,
    "start_time": "2021-12-25T11:15:56.036Z"
   },
   {
    "duration": 14,
    "start_time": "2021-12-25T11:30:06.530Z"
   },
   {
    "duration": 14,
    "start_time": "2021-12-25T11:31:36.369Z"
   },
   {
    "duration": 18,
    "start_time": "2021-12-25T11:34:14.844Z"
   },
   {
    "duration": 23,
    "start_time": "2021-12-25T11:35:29.509Z"
   },
   {
    "duration": 24,
    "start_time": "2021-12-25T11:36:03.222Z"
   },
   {
    "duration": 21,
    "start_time": "2021-12-25T11:38:59.888Z"
   },
   {
    "duration": 167,
    "start_time": "2021-12-25T11:39:15.083Z"
   },
   {
    "duration": 33,
    "start_time": "2021-12-25T11:40:09.567Z"
   },
   {
    "duration": 634,
    "start_time": "2021-12-25T11:41:08.745Z"
   },
   {
    "duration": 568,
    "start_time": "2021-12-25T11:41:21.681Z"
   },
   {
    "duration": 424,
    "start_time": "2021-12-25T11:42:17.868Z"
   },
   {
    "duration": 439,
    "start_time": "2021-12-25T11:42:54.537Z"
   },
   {
    "duration": 670,
    "start_time": "2021-12-25T11:44:14.859Z"
   },
   {
    "duration": 692,
    "start_time": "2021-12-25T11:44:48.318Z"
   },
   {
    "duration": 794,
    "start_time": "2021-12-25T11:45:01.305Z"
   },
   {
    "duration": 534,
    "start_time": "2021-12-25T11:45:15.589Z"
   },
   {
    "duration": 441,
    "start_time": "2021-12-25T11:46:13.479Z"
   },
   {
    "duration": 717,
    "start_time": "2021-12-25T11:47:12.794Z"
   },
   {
    "duration": 879,
    "start_time": "2021-12-25T11:47:28.532Z"
   },
   {
    "duration": 862,
    "start_time": "2021-12-25T11:48:05.524Z"
   },
   {
    "duration": 11,
    "start_time": "2021-12-25T11:48:20.800Z"
   },
   {
    "duration": 862,
    "start_time": "2021-12-25T11:48:39.723Z"
   },
   {
    "duration": 2290,
    "start_time": "2021-12-25T11:50:03.527Z"
   },
   {
    "duration": 567,
    "start_time": "2021-12-25T11:51:27.086Z"
   },
   {
    "duration": 23,
    "start_time": "2021-12-25T11:56:13.346Z"
   },
   {
    "duration": 27,
    "start_time": "2021-12-25T11:56:50.585Z"
   },
   {
    "duration": 334,
    "start_time": "2021-12-25T11:57:30.392Z"
   },
   {
    "duration": 80,
    "start_time": "2021-12-25T11:59:55.214Z"
   },
   {
    "duration": 382,
    "start_time": "2021-12-25T12:01:57.078Z"
   },
   {
    "duration": 16,
    "start_time": "2021-12-25T12:02:02.485Z"
   },
   {
    "duration": 4628,
    "start_time": "2021-12-25T12:02:10.840Z"
   },
   {
    "duration": 394,
    "start_time": "2021-12-25T12:02:38.738Z"
   },
   {
    "duration": 414,
    "start_time": "2021-12-25T12:02:44.931Z"
   },
   {
    "duration": 212,
    "start_time": "2021-12-25T12:02:56.686Z"
   },
   {
    "duration": 79,
    "start_time": "2021-12-25T12:03:04.672Z"
   },
   {
    "duration": 395,
    "start_time": "2021-12-25T12:04:27.158Z"
   },
   {
    "duration": 448,
    "start_time": "2021-12-25T12:04:39.992Z"
   },
   {
    "duration": 501,
    "start_time": "2021-12-25T12:05:12.788Z"
   },
   {
    "duration": 501,
    "start_time": "2021-12-25T12:05:26.946Z"
   },
   {
    "duration": 390,
    "start_time": "2021-12-25T12:05:45.792Z"
   },
   {
    "duration": 443,
    "start_time": "2021-12-25T12:05:53.341Z"
   },
   {
    "duration": 416,
    "start_time": "2021-12-25T12:07:02.245Z"
   },
   {
    "duration": 213,
    "start_time": "2021-12-25T12:07:08.553Z"
   },
   {
    "duration": 60,
    "start_time": "2021-12-25T12:07:18.137Z"
   },
   {
    "duration": 424,
    "start_time": "2021-12-25T12:08:16.421Z"
   },
   {
    "duration": 235,
    "start_time": "2021-12-25T12:08:24.356Z"
   },
   {
    "duration": 62,
    "start_time": "2021-12-25T12:09:12.389Z"
   },
   {
    "duration": 522,
    "start_time": "2021-12-25T12:10:19.482Z"
   },
   {
    "duration": 439,
    "start_time": "2021-12-25T12:10:38.650Z"
   },
   {
    "duration": 442,
    "start_time": "2021-12-25T12:12:06.613Z"
   },
   {
    "duration": 195,
    "start_time": "2021-12-25T12:12:12.322Z"
   },
   {
    "duration": 276,
    "start_time": "2021-12-25T12:12:21.836Z"
   },
   {
    "duration": 385,
    "start_time": "2021-12-25T12:12:40.146Z"
   },
   {
    "duration": 377,
    "start_time": "2021-12-25T12:13:02.472Z"
   },
   {
    "duration": 195,
    "start_time": "2021-12-25T12:13:06.742Z"
   },
   {
    "duration": 274,
    "start_time": "2021-12-25T12:13:12.121Z"
   },
   {
    "duration": 384,
    "start_time": "2021-12-25T12:13:33.633Z"
   },
   {
    "duration": 192,
    "start_time": "2021-12-25T12:13:37.708Z"
   },
   {
    "duration": 284,
    "start_time": "2021-12-25T12:13:41.777Z"
   },
   {
    "duration": 316,
    "start_time": "2021-12-25T12:13:45.820Z"
   },
   {
    "duration": 427,
    "start_time": "2021-12-25T12:13:59.534Z"
   },
   {
    "duration": 364,
    "start_time": "2021-12-25T12:14:06.108Z"
   },
   {
    "duration": 444,
    "start_time": "2021-12-25T12:14:10.632Z"
   },
   {
    "duration": 185,
    "start_time": "2021-12-25T12:14:15.606Z"
   },
   {
    "duration": 469,
    "start_time": "2021-12-25T12:14:41.608Z"
   },
   {
    "duration": 392,
    "start_time": "2021-12-25T12:14:53.907Z"
   },
   {
    "duration": 504,
    "start_time": "2021-12-25T12:14:57.317Z"
   },
   {
    "duration": 377,
    "start_time": "2021-12-25T12:14:59.813Z"
   },
   {
    "duration": 37,
    "start_time": "2021-12-25T12:15:09.896Z"
   },
   {
    "duration": 468,
    "start_time": "2021-12-25T12:15:49.409Z"
   },
   {
    "duration": 273,
    "start_time": "2021-12-25T12:15:54.091Z"
   },
   {
    "duration": 37,
    "start_time": "2021-12-25T12:16:06.608Z"
   },
   {
    "duration": 244,
    "start_time": "2021-12-25T12:23:07.526Z"
   },
   {
    "duration": 1220,
    "start_time": "2021-12-25T12:23:13.377Z"
   },
   {
    "duration": 426,
    "start_time": "2021-12-25T12:27:16.897Z"
   },
   {
    "duration": 232,
    "start_time": "2021-12-25T12:27:20.891Z"
   },
   {
    "duration": 48,
    "start_time": "2021-12-25T12:27:34.575Z"
   },
   {
    "duration": 390,
    "start_time": "2021-12-25T12:28:16.257Z"
   },
   {
    "duration": 285,
    "start_time": "2021-12-25T12:28:20.218Z"
   },
   {
    "duration": 381,
    "start_time": "2021-12-25T12:28:31.320Z"
   },
   {
    "duration": 232,
    "start_time": "2021-12-25T12:28:36.806Z"
   },
   {
    "duration": 347,
    "start_time": "2021-12-25T12:44:18.170Z"
   },
   {
    "duration": 458,
    "start_time": "2021-12-25T12:44:34.489Z"
   },
   {
    "duration": 234,
    "start_time": "2021-12-25T12:44:55.359Z"
   },
   {
    "duration": 39,
    "start_time": "2021-12-25T12:45:00.444Z"
   },
   {
    "duration": 350,
    "start_time": "2021-12-25T12:49:00.838Z"
   },
   {
    "duration": 379,
    "start_time": "2021-12-25T12:50:59.053Z"
   },
   {
    "duration": 816,
    "start_time": "2021-12-25T12:55:07.839Z"
   },
   {
    "duration": 387,
    "start_time": "2021-12-25T12:55:45.331Z"
   },
   {
    "duration": 307,
    "start_time": "2021-12-25T12:56:50.042Z"
   },
   {
    "duration": 109,
    "start_time": "2021-12-25T12:57:39.141Z"
   },
   {
    "duration": 110,
    "start_time": "2021-12-25T12:57:46.855Z"
   },
   {
    "duration": 316,
    "start_time": "2021-12-25T12:58:10.993Z"
   },
   {
    "duration": 275,
    "start_time": "2021-12-25T12:58:37.846Z"
   },
   {
    "duration": 305,
    "start_time": "2021-12-25T12:58:59.984Z"
   },
   {
    "duration": 103,
    "start_time": "2021-12-25T13:08:42.011Z"
   },
   {
    "duration": 341,
    "start_time": "2021-12-25T13:08:54.325Z"
   },
   {
    "duration": 385,
    "start_time": "2021-12-25T13:09:55.960Z"
   },
   {
    "duration": 232,
    "start_time": "2021-12-25T13:10:00.651Z"
   },
   {
    "duration": 42,
    "start_time": "2021-12-25T13:10:07.688Z"
   },
   {
    "duration": 463,
    "start_time": "2021-12-25T13:10:44.974Z"
   },
   {
    "duration": 251,
    "start_time": "2021-12-25T13:10:49.251Z"
   },
   {
    "duration": 20,
    "start_time": "2021-12-25T13:11:01.591Z"
   },
   {
    "duration": 416,
    "start_time": "2021-12-25T13:13:23.847Z"
   },
   {
    "duration": 223,
    "start_time": "2021-12-25T13:13:27.804Z"
   },
   {
    "duration": 380,
    "start_time": "2021-12-25T13:13:58.897Z"
   },
   {
    "duration": 235,
    "start_time": "2021-12-25T13:14:01.554Z"
   },
   {
    "duration": 28,
    "start_time": "2021-12-25T13:17:23.276Z"
   },
   {
    "duration": 53,
    "start_time": "2021-12-25T13:17:23.930Z"
   },
   {
    "duration": 40,
    "start_time": "2021-12-25T13:17:25.146Z"
   },
   {
    "duration": 9,
    "start_time": "2021-12-25T13:17:25.792Z"
   },
   {
    "duration": 11,
    "start_time": "2021-12-25T13:17:26.938Z"
   },
   {
    "duration": 1674,
    "start_time": "2021-12-25T13:17:27.564Z"
   },
   {
    "duration": 10,
    "start_time": "2021-12-25T13:17:29.242Z"
   },
   {
    "duration": 4464,
    "start_time": "2021-12-25T13:17:29.909Z"
   },
   {
    "duration": 40,
    "start_time": "2021-12-25T13:17:34.376Z"
   },
   {
    "duration": 523,
    "start_time": "2021-12-25T13:17:34.420Z"
   },
   {
    "duration": 503,
    "start_time": "2021-12-25T13:17:34.946Z"
   },
   {
    "duration": 2191,
    "start_time": "2021-12-25T13:17:36.021Z"
   },
   {
    "duration": 679,
    "start_time": "2021-12-25T13:17:38.214Z"
   },
   {
    "duration": 981,
    "start_time": "2021-12-25T13:17:39.232Z"
   },
   {
    "duration": 104,
    "start_time": "2021-12-25T13:17:41.182Z"
   },
   {
    "duration": 396,
    "start_time": "2021-12-25T13:18:11.058Z"
   },
   {
    "duration": 232,
    "start_time": "2021-12-25T13:18:15.438Z"
   },
   {
    "duration": 19,
    "start_time": "2021-12-25T13:18:18.191Z"
   },
   {
    "duration": 18,
    "start_time": "2021-12-25T13:18:23.112Z"
   },
   {
    "duration": 520,
    "start_time": "2021-12-25T13:18:42.772Z"
   },
   {
    "duration": 233,
    "start_time": "2021-12-25T13:18:45.775Z"
   },
   {
    "duration": 18,
    "start_time": "2021-12-25T13:18:47.418Z"
   },
   {
    "duration": 18,
    "start_time": "2021-12-25T13:18:50.408Z"
   },
   {
    "duration": 521,
    "start_time": "2021-12-25T13:19:04.663Z"
   },
   {
    "duration": 290,
    "start_time": "2021-12-25T13:19:05.688Z"
   },
   {
    "duration": 18,
    "start_time": "2021-12-25T13:19:06.689Z"
   },
   {
    "duration": 390,
    "start_time": "2021-12-25T13:20:10.163Z"
   },
   {
    "duration": 232,
    "start_time": "2021-12-25T13:20:12.900Z"
   },
   {
    "duration": 18,
    "start_time": "2021-12-25T13:20:13.725Z"
   },
   {
    "duration": 3529,
    "start_time": "2021-12-25T13:37:07.149Z"
   },
   {
    "duration": 14,
    "start_time": "2021-12-25T13:37:12.134Z"
   },
   {
    "duration": 1838,
    "start_time": "2021-12-25T13:37:35.547Z"
   },
   {
    "duration": 7144,
    "start_time": "2021-12-25T13:38:42.533Z"
   },
   {
    "duration": 526,
    "start_time": "2021-12-25T13:39:55.470Z"
   },
   {
    "duration": 548,
    "start_time": "2021-12-25T13:40:08.365Z"
   },
   {
    "duration": 526,
    "start_time": "2021-12-25T13:41:22.183Z"
   },
   {
    "duration": 597,
    "start_time": "2021-12-25T13:43:10.541Z"
   },
   {
    "duration": 478,
    "start_time": "2021-12-25T13:44:04.320Z"
   },
   {
    "duration": 3095,
    "start_time": "2021-12-25T13:44:14.439Z"
   },
   {
    "duration": 3239,
    "start_time": "2021-12-25T13:44:48.355Z"
   },
   {
    "duration": 3176,
    "start_time": "2021-12-25T13:45:44.766Z"
   },
   {
    "duration": 3150,
    "start_time": "2021-12-25T13:47:04.097Z"
   },
   {
    "duration": 3196,
    "start_time": "2021-12-25T13:49:33.009Z"
   },
   {
    "duration": 417,
    "start_time": "2021-12-25T13:53:30.012Z"
   },
   {
    "duration": 3352,
    "start_time": "2021-12-25T13:54:23.315Z"
   },
   {
    "duration": 3179,
    "start_time": "2021-12-25T13:54:27.728Z"
   },
   {
    "duration": 3195,
    "start_time": "2021-12-25T13:57:54.172Z"
   },
   {
    "duration": 96,
    "start_time": "2021-12-25T13:58:13.203Z"
   },
   {
    "duration": 3457,
    "start_time": "2021-12-25T13:58:19.941Z"
   },
   {
    "duration": 9,
    "start_time": "2021-12-25T14:15:18.750Z"
   },
   {
    "duration": 155,
    "start_time": "2021-12-25T14:17:07.811Z"
   },
   {
    "duration": 214,
    "start_time": "2021-12-25T14:18:09.892Z"
   },
   {
    "duration": 25,
    "start_time": "2021-12-25T14:20:29.629Z"
   },
   {
    "duration": 29,
    "start_time": "2021-12-25T14:21:13.745Z"
   },
   {
    "duration": 341,
    "start_time": "2021-12-25T14:29:47.129Z"
   },
   {
    "duration": 21,
    "start_time": "2021-12-25T14:30:07.396Z"
   },
   {
    "duration": 32,
    "start_time": "2021-12-25T14:30:14.372Z"
   },
   {
    "duration": 13,
    "start_time": "2021-12-25T14:56:51.286Z"
   },
   {
    "duration": 13,
    "start_time": "2021-12-25T14:57:37.575Z"
   },
   {
    "duration": 1450,
    "start_time": "2021-12-25T14:57:59.759Z"
   },
   {
    "duration": 58,
    "start_time": "2021-12-25T14:58:01.213Z"
   },
   {
    "duration": 60,
    "start_time": "2021-12-25T14:58:04.066Z"
   },
   {
    "duration": 9,
    "start_time": "2021-12-25T14:58:06.934Z"
   },
   {
    "duration": 12,
    "start_time": "2021-12-25T14:58:09.872Z"
   },
   {
    "duration": 1784,
    "start_time": "2021-12-25T14:58:11.245Z"
   },
   {
    "duration": 9,
    "start_time": "2021-12-25T14:58:13.032Z"
   },
   {
    "duration": 4866,
    "start_time": "2021-12-25T14:58:14.814Z"
   },
   {
    "duration": 464,
    "start_time": "2021-12-25T14:58:19.683Z"
   },
   {
    "duration": 4043,
    "start_time": "2021-12-25T14:58:25.517Z"
   },
   {
    "duration": 35,
    "start_time": "2021-12-25T14:58:29.562Z"
   },
   {
    "duration": 17,
    "start_time": "2021-12-25T14:58:40.783Z"
   },
   {
    "duration": 25,
    "start_time": "2021-12-25T14:59:36.253Z"
   },
   {
    "duration": 58,
    "start_time": "2021-12-25T14:59:36.949Z"
   },
   {
    "duration": 39,
    "start_time": "2021-12-25T14:59:37.998Z"
   },
   {
    "duration": 8,
    "start_time": "2021-12-25T14:59:38.685Z"
   },
   {
    "duration": 12,
    "start_time": "2021-12-25T14:59:39.977Z"
   },
   {
    "duration": 1841,
    "start_time": "2021-12-25T14:59:40.722Z"
   },
   {
    "duration": 9,
    "start_time": "2021-12-25T14:59:42.565Z"
   },
   {
    "duration": 4412,
    "start_time": "2021-12-25T14:59:43.650Z"
   },
   {
    "duration": 25,
    "start_time": "2021-12-25T14:59:48.064Z"
   },
   {
    "duration": 444,
    "start_time": "2021-12-25T14:59:48.092Z"
   },
   {
    "duration": 3232,
    "start_time": "2021-12-25T14:59:48.538Z"
   },
   {
    "duration": 53,
    "start_time": "2021-12-25T14:59:51.773Z"
   },
   {
    "duration": 12,
    "start_time": "2021-12-25T14:59:51.829Z"
   },
   {
    "duration": 5364,
    "start_time": "2021-12-25T15:00:13.941Z"
   },
   {
    "duration": 13,
    "start_time": "2021-12-25T15:00:55.827Z"
   },
   {
    "duration": 8,
    "start_time": "2021-12-25T15:01:11.285Z"
   },
   {
    "duration": 24,
    "start_time": "2021-12-25T15:01:52.933Z"
   },
   {
    "duration": 17,
    "start_time": "2021-12-25T15:02:26.947Z"
   },
   {
    "duration": 7,
    "start_time": "2021-12-25T15:05:36.664Z"
   },
   {
    "duration": 491,
    "start_time": "2021-12-25T15:07:36.362Z"
   },
   {
    "duration": 356,
    "start_time": "2021-12-25T15:08:10.307Z"
   },
   {
    "duration": 3,
    "start_time": "2021-12-25T15:08:41.880Z"
   },
   {
    "duration": 6,
    "start_time": "2021-12-25T15:08:47.598Z"
   },
   {
    "duration": 370,
    "start_time": "2021-12-25T15:09:01.957Z"
   },
   {
    "duration": 340,
    "start_time": "2021-12-25T15:09:18.714Z"
   },
   {
    "duration": 381,
    "start_time": "2021-12-25T15:10:11.976Z"
   },
   {
    "duration": 372,
    "start_time": "2021-12-25T15:10:27.231Z"
   },
   {
    "duration": 354,
    "start_time": "2021-12-25T15:11:11.231Z"
   },
   {
    "duration": 298,
    "start_time": "2021-12-25T15:11:18.156Z"
   },
   {
    "duration": 4985,
    "start_time": "2021-12-25T15:11:28.425Z"
   },
   {
    "duration": 13,
    "start_time": "2021-12-25T15:12:31.869Z"
   },
   {
    "duration": 18,
    "start_time": "2021-12-25T15:13:14.375Z"
   },
   {
    "duration": 13,
    "start_time": "2021-12-25T15:13:28.171Z"
   },
   {
    "duration": 13,
    "start_time": "2021-12-25T15:14:06.647Z"
   },
   {
    "duration": 13,
    "start_time": "2021-12-25T15:14:25.872Z"
   },
   {
    "duration": 21,
    "start_time": "2021-12-25T15:14:33.545Z"
   },
   {
    "duration": 19,
    "start_time": "2021-12-25T15:15:00.947Z"
   },
   {
    "duration": 13,
    "start_time": "2021-12-25T15:15:06.936Z"
   },
   {
    "duration": 19,
    "start_time": "2021-12-25T15:15:16.023Z"
   },
   {
    "duration": 20,
    "start_time": "2021-12-25T15:15:41.097Z"
   },
   {
    "duration": 13,
    "start_time": "2021-12-25T15:15:47.087Z"
   },
   {
    "duration": 20,
    "start_time": "2021-12-25T15:15:57.349Z"
   },
   {
    "duration": 246,
    "start_time": "2021-12-25T15:16:19.544Z"
   },
   {
    "duration": 38,
    "start_time": "2021-12-25T15:16:39.457Z"
   },
   {
    "duration": 275,
    "start_time": "2021-12-25T15:16:42.066Z"
   },
   {
    "duration": 18,
    "start_time": "2021-12-25T15:16:52.225Z"
   },
   {
    "duration": 20,
    "start_time": "2021-12-25T15:17:41.982Z"
   },
   {
    "duration": 19,
    "start_time": "2021-12-25T15:17:52.038Z"
   },
   {
    "duration": 17,
    "start_time": "2021-12-25T15:18:00.758Z"
   },
   {
    "duration": 20,
    "start_time": "2021-12-25T15:18:11.677Z"
   },
   {
    "duration": 486,
    "start_time": "2021-12-25T15:19:57.761Z"
   },
   {
    "duration": 19,
    "start_time": "2021-12-25T15:20:29.649Z"
   },
   {
    "duration": 13,
    "start_time": "2021-12-25T15:20:37.292Z"
   },
   {
    "duration": 403,
    "start_time": "2021-12-25T15:20:53.853Z"
   },
   {
    "duration": 3295,
    "start_time": "2021-12-25T15:20:57.997Z"
   },
   {
    "duration": 43,
    "start_time": "2021-12-25T15:21:01.294Z"
   },
   {
    "duration": 19,
    "start_time": "2021-12-25T15:21:02.440Z"
   },
   {
    "duration": 77,
    "start_time": "2021-12-25T15:21:46.573Z"
   },
   {
    "duration": 10,
    "start_time": "2021-12-25T15:24:39.581Z"
   },
   {
    "duration": 521,
    "start_time": "2021-12-25T15:24:46.987Z"
   },
   {
    "duration": 22,
    "start_time": "2021-12-25T15:25:02.595Z"
   },
   {
    "duration": 17,
    "start_time": "2021-12-25T15:29:03.500Z"
   },
   {
    "duration": 26,
    "start_time": "2021-12-25T15:29:12.732Z"
   },
   {
    "duration": 26,
    "start_time": "2021-12-25T15:29:33.739Z"
   },
   {
    "duration": 29,
    "start_time": "2021-12-25T15:30:13.802Z"
   },
   {
    "duration": 30,
    "start_time": "2021-12-25T15:31:47.859Z"
   },
   {
    "duration": 30,
    "start_time": "2021-12-25T15:31:57.580Z"
   },
   {
    "duration": 313,
    "start_time": "2021-12-25T15:32:36.802Z"
   },
   {
    "duration": 685,
    "start_time": "2021-12-25T15:32:49.016Z"
   },
   {
    "duration": 496,
    "start_time": "2021-12-25T15:33:07.964Z"
   },
   {
    "duration": 496,
    "start_time": "2021-12-25T15:33:31.904Z"
   },
   {
    "duration": 511,
    "start_time": "2021-12-25T15:34:00.736Z"
   },
   {
    "duration": 318,
    "start_time": "2021-12-25T15:45:48.406Z"
   },
   {
    "duration": 430,
    "start_time": "2021-12-25T15:46:03.572Z"
   },
   {
    "duration": 17,
    "start_time": "2021-12-25T15:46:12.610Z"
   },
   {
    "duration": 20,
    "start_time": "2021-12-25T15:46:32.688Z"
   },
   {
    "duration": 323,
    "start_time": "2021-12-25T15:47:17.212Z"
   },
   {
    "duration": 384,
    "start_time": "2021-12-25T15:47:27.742Z"
   },
   {
    "duration": 21,
    "start_time": "2021-12-25T15:48:15.257Z"
   },
   {
    "duration": 27,
    "start_time": "2021-12-25T15:48:42.561Z"
   },
   {
    "duration": 27,
    "start_time": "2021-12-25T15:49:27.974Z"
   },
   {
    "duration": 109,
    "start_time": "2021-12-25T15:49:32.232Z"
   },
   {
    "duration": 27,
    "start_time": "2021-12-25T15:49:45.558Z"
   },
   {
    "duration": 352,
    "start_time": "2021-12-25T15:50:52.244Z"
   },
   {
    "duration": 59,
    "start_time": "2021-12-25T15:51:32.088Z"
   },
   {
    "duration": 26,
    "start_time": "2021-12-25T15:53:40.583Z"
   },
   {
    "duration": 51,
    "start_time": "2021-12-25T15:53:41.133Z"
   },
   {
    "duration": 53,
    "start_time": "2021-12-25T15:53:42.514Z"
   },
   {
    "duration": 63,
    "start_time": "2021-12-25T15:54:14.318Z"
   },
   {
    "duration": 9,
    "start_time": "2021-12-25T15:54:17.449Z"
   },
   {
    "duration": 10,
    "start_time": "2021-12-25T15:54:19.573Z"
   },
   {
    "duration": 1671,
    "start_time": "2021-12-25T15:54:20.427Z"
   },
   {
    "duration": 21,
    "start_time": "2021-12-25T15:54:22.101Z"
   },
   {
    "duration": 4647,
    "start_time": "2021-12-25T15:54:24.748Z"
   },
   {
    "duration": 36,
    "start_time": "2021-12-25T15:54:29.398Z"
   },
   {
    "duration": 421,
    "start_time": "2021-12-25T15:54:29.527Z"
   },
   {
    "duration": 3274,
    "start_time": "2021-12-25T15:54:32.233Z"
   },
   {
    "duration": 38,
    "start_time": "2021-12-25T15:54:35.518Z"
   },
   {
    "duration": 500,
    "start_time": "2021-12-25T15:54:53.656Z"
   },
   {
    "duration": 120,
    "start_time": "2021-12-25T15:54:58.513Z"
   },
   {
    "duration": 28,
    "start_time": "2021-12-25T15:54:59.257Z"
   },
   {
    "duration": 26,
    "start_time": "2021-12-25T16:17:35.686Z"
   },
   {
    "duration": 2356,
    "start_time": "2021-12-25T16:17:36.546Z"
   },
   {
    "duration": 2305,
    "start_time": "2021-12-25T16:18:34.677Z"
   },
   {
    "duration": 3167,
    "start_time": "2021-12-25T16:19:31.723Z"
   },
   {
    "duration": 2164,
    "start_time": "2021-12-25T16:26:35.693Z"
   },
   {
    "duration": 54,
    "start_time": "2021-12-25T16:27:19.399Z"
   },
   {
    "duration": 68,
    "start_time": "2021-12-25T16:27:25.390Z"
   },
   {
    "duration": 9,
    "start_time": "2021-12-25T16:27:25.832Z"
   },
   {
    "duration": 12,
    "start_time": "2021-12-25T16:27:26.711Z"
   },
   {
    "duration": 1666,
    "start_time": "2021-12-25T16:27:27.461Z"
   },
   {
    "duration": 9,
    "start_time": "2021-12-25T16:27:29.130Z"
   },
   {
    "duration": 4662,
    "start_time": "2021-12-25T16:27:29.142Z"
   },
   {
    "duration": 30,
    "start_time": "2021-12-25T16:27:33.807Z"
   },
   {
    "duration": 507,
    "start_time": "2021-12-25T16:27:33.840Z"
   },
   {
    "duration": 3258,
    "start_time": "2021-12-25T16:27:34.349Z"
   },
   {
    "duration": 38,
    "start_time": "2021-12-25T16:27:37.618Z"
   },
   {
    "duration": 537,
    "start_time": "2021-12-25T16:27:37.658Z"
   },
   {
    "duration": 40,
    "start_time": "2021-12-25T16:27:38.198Z"
   },
   {
    "duration": 387,
    "start_time": "2021-12-25T16:27:38.241Z"
   },
   {
    "duration": 568,
    "start_time": "2021-12-25T16:27:38.759Z"
   },
   {
    "duration": 2154,
    "start_time": "2021-12-25T16:27:39.367Z"
   },
   {
    "duration": 692,
    "start_time": "2021-12-25T16:27:41.525Z"
   },
   {
    "duration": 862,
    "start_time": "2021-12-25T16:27:42.220Z"
   },
   {
    "duration": 19,
    "start_time": "2021-12-25T16:27:43.084Z"
   },
   {
    "duration": 345,
    "start_time": "2021-12-25T16:27:43.118Z"
   },
   {
    "duration": 374,
    "start_time": "2021-12-25T16:33:49.650Z"
   },
   {
    "duration": 26,
    "start_time": "2021-12-25T16:33:54.641Z"
   },
   {
    "duration": 5349,
    "start_time": "2021-12-25T16:34:03.221Z"
   },
   {
    "duration": 590,
    "start_time": "2021-12-25T16:35:18.288Z"
   },
   {
    "duration": 2192,
    "start_time": "2021-12-25T16:36:56.640Z"
   },
   {
    "duration": 2191,
    "start_time": "2021-12-25T16:37:34.299Z"
   },
   {
    "duration": 50,
    "start_time": "2021-12-25T16:37:56.723Z"
   },
   {
    "duration": 28,
    "start_time": "2021-12-25T16:39:03.036Z"
   },
   {
    "duration": 28,
    "start_time": "2021-12-25T16:52:57.967Z"
   },
   {
    "duration": 31,
    "start_time": "2021-12-25T16:54:30.601Z"
   },
   {
    "duration": 494,
    "start_time": "2021-12-25T17:05:19.388Z"
   },
   {
    "duration": 468,
    "start_time": "2021-12-25T17:06:24.242Z"
   },
   {
    "duration": 2132,
    "start_time": "2021-12-25T17:08:00.846Z"
   },
   {
    "duration": 433,
    "start_time": "2021-12-25T17:14:37.094Z"
   },
   {
    "duration": 360,
    "start_time": "2021-12-25T17:15:09.917Z"
   },
   {
    "duration": 651,
    "start_time": "2021-12-25T17:15:34.833Z"
   },
   {
    "duration": 19,
    "start_time": "2021-12-25T17:15:59.556Z"
   },
   {
    "duration": 739,
    "start_time": "2021-12-25T17:30:36.747Z"
   },
   {
    "duration": 19,
    "start_time": "2021-12-25T17:30:46.773Z"
   },
   {
    "duration": 863,
    "start_time": "2021-12-25T17:34:00.557Z"
   },
   {
    "duration": 7765,
    "start_time": "2021-12-25T17:37:59.217Z"
   },
   {
    "duration": 18,
    "start_time": "2021-12-25T17:38:33.214Z"
   },
   {
    "duration": 852,
    "start_time": "2021-12-25T17:44:43.077Z"
   },
   {
    "duration": 809,
    "start_time": "2021-12-25T17:45:34.199Z"
   },
   {
    "duration": 12,
    "start_time": "2021-12-25T18:28:34.487Z"
   },
   {
    "duration": 396,
    "start_time": "2021-12-25T18:39:02.809Z"
   },
   {
    "duration": 3600,
    "start_time": "2021-12-25T18:48:20.666Z"
   },
   {
    "duration": 2240,
    "start_time": "2021-12-25T18:48:53.922Z"
   },
   {
    "duration": 443,
    "start_time": "2021-12-25T18:49:45.658Z"
   },
   {
    "duration": 78,
    "start_time": "2021-12-25T18:49:53.103Z"
   },
   {
    "duration": 2216,
    "start_time": "2021-12-25T18:52:12.477Z"
   },
   {
    "duration": 2159,
    "start_time": "2021-12-25T18:52:27.510Z"
   },
   {
    "duration": 3126,
    "start_time": "2021-12-25T18:55:13.554Z"
   },
   {
    "duration": 2181,
    "start_time": "2021-12-25T18:57:07.021Z"
   },
   {
    "duration": 2499,
    "start_time": "2021-12-25T18:57:37.129Z"
   },
   {
    "duration": 4055,
    "start_time": "2021-12-25T19:00:00.373Z"
   },
   {
    "duration": 2270,
    "start_time": "2021-12-25T19:00:33.079Z"
   },
   {
    "duration": 788,
    "start_time": "2021-12-25T19:02:15.410Z"
   },
   {
    "duration": 1431,
    "start_time": "2021-12-25T20:42:56.416Z"
   },
   {
    "duration": 60,
    "start_time": "2021-12-25T20:42:57.850Z"
   },
   {
    "duration": 71,
    "start_time": "2021-12-25T20:42:57.913Z"
   },
   {
    "duration": 10,
    "start_time": "2021-12-25T20:42:57.987Z"
   },
   {
    "duration": 11,
    "start_time": "2021-12-25T20:42:57.999Z"
   },
   {
    "duration": 1765,
    "start_time": "2021-12-25T20:42:58.012Z"
   },
   {
    "duration": 11,
    "start_time": "2021-12-25T20:42:59.781Z"
   },
   {
    "duration": 4808,
    "start_time": "2021-12-25T20:42:59.798Z"
   },
   {
    "duration": 29,
    "start_time": "2021-12-25T20:43:04.609Z"
   },
   {
    "duration": 423,
    "start_time": "2021-12-25T20:43:04.640Z"
   },
   {
    "duration": 3353,
    "start_time": "2021-12-25T20:43:05.066Z"
   },
   {
    "duration": 49,
    "start_time": "2021-12-25T20:43:08.422Z"
   },
   {
    "duration": 526,
    "start_time": "2021-12-25T20:43:08.475Z"
   },
   {
    "duration": 31,
    "start_time": "2021-12-25T20:43:09.005Z"
   },
   {
    "duration": 410,
    "start_time": "2021-12-25T20:43:09.038Z"
   },
   {
    "duration": 588,
    "start_time": "2021-12-25T20:43:09.450Z"
   },
   {
    "duration": 20,
    "start_time": "2021-12-25T20:43:10.041Z"
   },
   {
    "duration": 2358,
    "start_time": "2021-12-25T20:43:10.063Z"
   },
   {
    "duration": 680,
    "start_time": "2021-12-25T20:43:12.423Z"
   },
   {
    "duration": 815,
    "start_time": "2021-12-25T20:43:13.105Z"
   },
   {
    "duration": 17,
    "start_time": "2021-12-25T20:43:13.922Z"
   },
   {
    "duration": 309,
    "start_time": "2021-12-26T10:56:38.345Z"
   },
   {
    "duration": 1174,
    "start_time": "2021-12-26T10:56:43.888Z"
   },
   {
    "duration": 5573,
    "start_time": "2021-12-26T10:56:45.064Z"
   },
   {
    "duration": 2046,
    "start_time": "2021-12-26T10:57:57.273Z"
   },
   {
    "duration": 2082,
    "start_time": "2021-12-26T10:59:48.133Z"
   },
   {
    "duration": 2014,
    "start_time": "2021-12-26T11:00:01.167Z"
   },
   {
    "duration": 184,
    "start_time": "2021-12-26T11:00:35.316Z"
   },
   {
    "duration": 409,
    "start_time": "2021-12-26T11:00:47.354Z"
   },
   {
    "duration": 290,
    "start_time": "2021-12-26T11:01:34.736Z"
   },
   {
    "duration": 150,
    "start_time": "2021-12-26T11:01:42.904Z"
   },
   {
    "duration": 8,
    "start_time": "2021-12-26T11:01:43.529Z"
   },
   {
    "duration": 42,
    "start_time": "2021-12-26T11:01:56.952Z"
   },
   {
    "duration": 7,
    "start_time": "2021-12-26T11:01:58.087Z"
   },
   {
    "duration": 8,
    "start_time": "2021-12-26T11:02:01.361Z"
   },
   {
    "duration": 1165,
    "start_time": "2021-12-26T11:02:02.978Z"
   },
   {
    "duration": 6,
    "start_time": "2021-12-26T11:02:04.358Z"
   },
   {
    "duration": 3245,
    "start_time": "2021-12-26T11:02:11.558Z"
   },
   {
    "duration": 24,
    "start_time": "2021-12-26T11:02:14.804Z"
   },
   {
    "duration": 224,
    "start_time": "2021-12-26T11:02:37.589Z"
   },
   {
    "duration": 7389,
    "start_time": "2021-12-26T11:09:49.249Z"
   },
   {
    "duration": 7237,
    "start_time": "2021-12-26T11:10:32.116Z"
   },
   {
    "duration": 2419,
    "start_time": "2021-12-26T11:10:53.090Z"
   },
   {
    "duration": 1121,
    "start_time": "2021-12-26T11:11:18.023Z"
   },
   {
    "duration": 165,
    "start_time": "2021-12-26T11:11:19.146Z"
   },
   {
    "duration": 10,
    "start_time": "2021-12-26T11:11:20.137Z"
   },
   {
    "duration": 43,
    "start_time": "2021-12-26T11:11:21.582Z"
   },
   {
    "duration": 6,
    "start_time": "2021-12-26T11:11:22.186Z"
   },
   {
    "duration": 8,
    "start_time": "2021-12-26T11:11:23.090Z"
   },
   {
    "duration": 1277,
    "start_time": "2021-12-26T11:11:23.553Z"
   },
   {
    "duration": 6,
    "start_time": "2021-12-26T11:11:24.832Z"
   },
   {
    "duration": 3598,
    "start_time": "2021-12-26T11:11:24.876Z"
   },
   {
    "duration": 22,
    "start_time": "2021-12-26T11:11:28.476Z"
   },
   {
    "duration": 306,
    "start_time": "2021-12-26T11:11:28.500Z"
   },
   {
    "duration": 2374,
    "start_time": "2021-12-26T11:11:28.807Z"
   },
   {
    "duration": 421,
    "start_time": "2021-12-26T11:11:39.110Z"
   },
   {
    "duration": 9,
    "start_time": "2021-12-26T11:13:45.348Z"
   },
   {
    "duration": 27,
    "start_time": "2021-12-26T11:14:08.185Z"
   },
   {
    "duration": 25,
    "start_time": "2021-12-26T11:39:15.665Z"
   },
   {
    "duration": 34,
    "start_time": "2021-12-26T11:39:56.341Z"
   },
   {
    "duration": 24,
    "start_time": "2021-12-26T11:40:27.438Z"
   },
   {
    "duration": 24,
    "start_time": "2021-12-26T11:40:33.018Z"
   },
   {
    "duration": 295,
    "start_time": "2021-12-26T11:48:27.074Z"
   },
   {
    "duration": 21,
    "start_time": "2021-12-26T11:48:31.675Z"
   },
   {
    "duration": 326,
    "start_time": "2021-12-26T12:00:48.397Z"
   },
   {
    "duration": 26,
    "start_time": "2021-12-26T12:03:46.845Z"
   },
   {
    "duration": 29,
    "start_time": "2021-12-26T12:04:19.755Z"
   },
   {
    "duration": 28,
    "start_time": "2021-12-26T12:04:34.211Z"
   },
   {
    "duration": 290,
    "start_time": "2021-12-26T12:11:52.952Z"
   },
   {
    "duration": 33,
    "start_time": "2021-12-26T12:12:03.714Z"
   },
   {
    "duration": 217,
    "start_time": "2021-12-26T12:14:21.111Z"
   },
   {
    "duration": 2668,
    "start_time": "2021-12-26T12:14:23.734Z"
   },
   {
    "duration": 29,
    "start_time": "2021-12-26T12:14:33.858Z"
   },
   {
    "duration": 237,
    "start_time": "2021-12-26T12:19:32.050Z"
   },
   {
    "duration": 2727,
    "start_time": "2021-12-26T12:19:33.378Z"
   },
   {
    "duration": 29,
    "start_time": "2021-12-26T12:19:45.857Z"
   },
   {
    "duration": 211,
    "start_time": "2021-12-26T12:21:09.673Z"
   },
   {
    "duration": 216,
    "start_time": "2021-12-26T12:21:37.991Z"
   },
   {
    "duration": 219,
    "start_time": "2021-12-26T12:21:52.388Z"
   },
   {
    "duration": 263,
    "start_time": "2021-12-26T12:22:06.459Z"
   },
   {
    "duration": 186,
    "start_time": "2021-12-26T12:26:08.325Z"
   },
   {
    "duration": 507,
    "start_time": "2021-12-26T12:26:21.926Z"
   },
   {
    "duration": 1215,
    "start_time": "2021-12-26T12:26:35.106Z"
   },
   {
    "duration": 330,
    "start_time": "2021-12-26T12:26:36.323Z"
   },
   {
    "duration": 12,
    "start_time": "2021-12-26T12:26:36.655Z"
   },
   {
    "duration": 41,
    "start_time": "2021-12-26T12:26:36.669Z"
   },
   {
    "duration": 6,
    "start_time": "2021-12-26T12:26:36.727Z"
   },
   {
    "duration": 10,
    "start_time": "2021-12-26T12:26:36.734Z"
   },
   {
    "duration": 1206,
    "start_time": "2021-12-26T12:26:36.746Z"
   },
   {
    "duration": 6,
    "start_time": "2021-12-26T12:26:37.954Z"
   },
   {
    "duration": 3414,
    "start_time": "2021-12-26T12:26:37.962Z"
   },
   {
    "duration": 14,
    "start_time": "2021-12-26T12:26:41.378Z"
   },
   {
    "duration": 225,
    "start_time": "2021-12-26T12:26:41.394Z"
   },
   {
    "duration": 246,
    "start_time": "2021-12-26T12:26:41.620Z"
   },
   {
    "duration": 643,
    "start_time": "2021-12-26T12:26:41.867Z"
   },
   {
    "duration": -91,
    "start_time": "2021-12-26T12:26:42.603Z"
   },
   {
    "duration": -102,
    "start_time": "2021-12-26T12:26:42.615Z"
   },
   {
    "duration": -103,
    "start_time": "2021-12-26T12:26:42.617Z"
   },
   {
    "duration": -106,
    "start_time": "2021-12-26T12:26:42.621Z"
   },
   {
    "duration": -106,
    "start_time": "2021-12-26T12:26:42.622Z"
   },
   {
    "duration": -108,
    "start_time": "2021-12-26T12:26:42.624Z"
   },
   {
    "duration": -108,
    "start_time": "2021-12-26T12:26:42.625Z"
   },
   {
    "duration": -108,
    "start_time": "2021-12-26T12:26:42.626Z"
   },
   {
    "duration": -108,
    "start_time": "2021-12-26T12:26:42.627Z"
   },
   {
    "duration": -108,
    "start_time": "2021-12-26T12:26:42.628Z"
   },
   {
    "duration": 495,
    "start_time": "2021-12-26T12:26:59.630Z"
   },
   {
    "duration": 486,
    "start_time": "2021-12-26T12:27:07.446Z"
   },
   {
    "duration": 1058,
    "start_time": "2021-12-26T12:30:49.865Z"
   },
   {
    "duration": 153,
    "start_time": "2021-12-26T12:30:50.924Z"
   },
   {
    "duration": 11,
    "start_time": "2021-12-26T12:30:51.078Z"
   },
   {
    "duration": 40,
    "start_time": "2021-12-26T12:30:51.091Z"
   },
   {
    "duration": 5,
    "start_time": "2021-12-26T12:30:51.132Z"
   },
   {
    "duration": 7,
    "start_time": "2021-12-26T12:30:51.139Z"
   },
   {
    "duration": 1194,
    "start_time": "2021-12-26T12:30:51.147Z"
   },
   {
    "duration": 5,
    "start_time": "2021-12-26T12:30:52.343Z"
   },
   {
    "duration": 3446,
    "start_time": "2021-12-26T12:30:52.351Z"
   },
   {
    "duration": 14,
    "start_time": "2021-12-26T12:30:55.800Z"
   },
   {
    "duration": 232,
    "start_time": "2021-12-26T12:30:55.827Z"
   },
   {
    "duration": 2,
    "start_time": "2021-12-26T12:30:56.061Z"
   },
   {
    "duration": 2348,
    "start_time": "2021-12-26T12:30:56.065Z"
   },
   {
    "duration": 37,
    "start_time": "2021-12-26T12:30:58.415Z"
   },
   {
    "duration": 299,
    "start_time": "2021-12-26T12:30:58.454Z"
   },
   {
    "duration": 30,
    "start_time": "2021-12-26T12:30:58.754Z"
   },
   {
    "duration": 234,
    "start_time": "2021-12-26T12:30:58.786Z"
   },
   {
    "duration": 287,
    "start_time": "2021-12-26T12:30:59.022Z"
   },
   {
    "duration": 7,
    "start_time": "2021-12-26T12:30:59.311Z"
   },
   {
    "duration": 1225,
    "start_time": "2021-12-26T12:30:59.327Z"
   },
   {
    "duration": 376,
    "start_time": "2021-12-26T12:31:00.553Z"
   },
   {
    "duration": 482,
    "start_time": "2021-12-26T12:31:00.930Z"
   },
   {
    "duration": 15,
    "start_time": "2021-12-26T12:31:01.413Z"
   },
   {
    "duration": 2421,
    "start_time": "2021-12-26T12:31:49.194Z"
   },
   {
    "duration": 25,
    "start_time": "2021-12-26T12:32:15.222Z"
   },
   {
    "duration": 304,
    "start_time": "2021-12-26T12:32:20.826Z"
   },
   {
    "duration": 30,
    "start_time": "2021-12-26T12:32:23.911Z"
   },
   {
    "duration": 227,
    "start_time": "2021-12-26T12:34:11.055Z"
   },
   {
    "duration": 226,
    "start_time": "2021-12-26T12:34:34.208Z"
   },
   {
    "duration": 2404,
    "start_time": "2021-12-26T12:34:52.352Z"
   },
   {
    "duration": 24,
    "start_time": "2021-12-26T12:34:58.595Z"
   },
   {
    "duration": 29,
    "start_time": "2021-12-26T12:35:13.470Z"
   },
   {
    "duration": 282,
    "start_time": "2021-12-26T12:36:12.382Z"
   },
   {
    "duration": 28,
    "start_time": "2021-12-26T12:36:24.558Z"
   },
   {
    "duration": 212,
    "start_time": "2021-12-26T12:38:28.496Z"
   },
   {
    "duration": 217,
    "start_time": "2021-12-26T12:39:28.080Z"
   },
   {
    "duration": 29,
    "start_time": "2021-12-26T12:39:49.591Z"
   },
   {
    "duration": 221,
    "start_time": "2021-12-26T12:40:14.817Z"
   },
   {
    "duration": 33,
    "start_time": "2021-12-26T12:40:30.528Z"
   },
   {
    "duration": 208,
    "start_time": "2021-12-26T12:42:06.572Z"
   },
   {
    "duration": 215,
    "start_time": "2021-12-26T12:42:23.438Z"
   },
   {
    "duration": 282,
    "start_time": "2021-12-26T12:43:10.735Z"
   },
   {
    "duration": 220,
    "start_time": "2021-12-26T12:43:22.433Z"
   },
   {
    "duration": 29,
    "start_time": "2021-12-26T12:43:32.620Z"
   },
   {
    "duration": 215,
    "start_time": "2021-12-26T12:46:06.713Z"
   },
   {
    "duration": 219,
    "start_time": "2021-12-26T12:46:16.133Z"
   },
   {
    "duration": 219,
    "start_time": "2021-12-26T12:46:53.199Z"
   },
   {
    "duration": 213,
    "start_time": "2021-12-26T12:47:10.980Z"
   },
   {
    "duration": 271,
    "start_time": "2021-12-26T12:47:27.766Z"
   },
   {
    "duration": 224,
    "start_time": "2021-12-26T12:47:37.826Z"
   },
   {
    "duration": 227,
    "start_time": "2021-12-26T12:47:44.180Z"
   },
   {
    "duration": 236,
    "start_time": "2021-12-26T12:48:40.863Z"
   },
   {
    "duration": 256,
    "start_time": "2021-12-26T12:50:58.493Z"
   },
   {
    "duration": 253,
    "start_time": "2021-12-26T12:51:14.006Z"
   },
   {
    "duration": 369,
    "start_time": "2021-12-26T12:51:38.742Z"
   },
   {
    "duration": 24,
    "start_time": "2021-12-26T12:51:55.832Z"
   },
   {
    "duration": 2777,
    "start_time": "2021-12-26T12:52:00.603Z"
   },
   {
    "duration": 2230,
    "start_time": "2021-12-26T12:52:09.990Z"
   },
   {
    "duration": 1141,
    "start_time": "2021-12-26T12:52:45.199Z"
   },
   {
    "duration": 178,
    "start_time": "2021-12-26T12:52:46.362Z"
   },
   {
    "duration": 12,
    "start_time": "2021-12-26T12:52:46.914Z"
   },
   {
    "duration": 40,
    "start_time": "2021-12-26T12:52:48.741Z"
   },
   {
    "duration": 6,
    "start_time": "2021-12-26T12:52:49.553Z"
   },
   {
    "duration": 7,
    "start_time": "2021-12-26T12:52:51.564Z"
   },
   {
    "duration": 1214,
    "start_time": "2021-12-26T12:52:52.321Z"
   },
   {
    "duration": 8,
    "start_time": "2021-12-26T12:52:53.537Z"
   },
   {
    "duration": 3455,
    "start_time": "2021-12-26T12:52:54.725Z"
   },
   {
    "duration": 15,
    "start_time": "2021-12-26T12:52:58.181Z"
   },
   {
    "duration": 226,
    "start_time": "2021-12-26T12:53:01.584Z"
   },
   {
    "duration": 243,
    "start_time": "2021-12-26T12:53:05.206Z"
   },
   {
    "duration": 739,
    "start_time": "2021-12-26T12:53:09.886Z"
   },
   {
    "duration": 1096,
    "start_time": "2021-12-26T12:54:08.057Z"
   },
   {
    "duration": 141,
    "start_time": "2021-12-26T12:54:09.155Z"
   },
   {
    "duration": 11,
    "start_time": "2021-12-26T12:54:09.298Z"
   },
   {
    "duration": 41,
    "start_time": "2021-12-26T12:54:09.844Z"
   },
   {
    "duration": 6,
    "start_time": "2021-12-26T12:54:10.348Z"
   },
   {
    "duration": 8,
    "start_time": "2021-12-26T12:54:11.338Z"
   },
   {
    "duration": 1194,
    "start_time": "2021-12-26T12:54:11.790Z"
   },
   {
    "duration": 7,
    "start_time": "2021-12-26T12:54:12.986Z"
   },
   {
    "duration": 3394,
    "start_time": "2021-12-26T12:54:13.235Z"
   },
   {
    "duration": 16,
    "start_time": "2021-12-26T12:54:16.631Z"
   },
   {
    "duration": 236,
    "start_time": "2021-12-26T12:54:16.649Z"
   },
   {
    "duration": 2242,
    "start_time": "2021-12-26T12:54:19.352Z"
   },
   {
    "duration": 245,
    "start_time": "2021-12-26T12:54:29.753Z"
   },
   {
    "duration": 3132,
    "start_time": "2021-12-26T12:54:36.403Z"
   },
   {
    "duration": 13,
    "start_time": "2021-12-26T12:56:07.854Z"
   },
   {
    "duration": 2866,
    "start_time": "2021-12-26T12:56:31.203Z"
   },
   {
    "duration": 2795,
    "start_time": "2021-12-26T12:57:21.795Z"
   },
   {
    "duration": 15,
    "start_time": "2021-12-26T12:57:41.388Z"
   },
   {
    "duration": 247,
    "start_time": "2021-12-26T12:58:06.705Z"
   },
   {
    "duration": 2864,
    "start_time": "2021-12-26T12:58:21.110Z"
   },
   {
    "duration": 13,
    "start_time": "2021-12-26T12:59:42.175Z"
   },
   {
    "duration": 14,
    "start_time": "2021-12-26T13:00:00.074Z"
   },
   {
    "duration": 3087,
    "start_time": "2021-12-26T13:00:42.009Z"
   },
   {
    "duration": 452,
    "start_time": "2021-12-26T13:04:45.745Z"
   },
   {
    "duration": 31,
    "start_time": "2021-12-26T13:04:52.036Z"
   },
   {
    "duration": 24,
    "start_time": "2021-12-26T13:05:04.040Z"
   },
   {
    "duration": 26,
    "start_time": "2021-12-26T13:05:15.122Z"
   },
   {
    "duration": 293,
    "start_time": "2021-12-26T13:05:34.459Z"
   },
   {
    "duration": 283,
    "start_time": "2021-12-26T13:05:39.585Z"
   },
   {
    "duration": 32,
    "start_time": "2021-12-26T13:05:49.169Z"
   },
   {
    "duration": 27,
    "start_time": "2021-12-26T13:09:21.382Z"
   },
   {
    "duration": 317,
    "start_time": "2021-12-26T13:12:09.155Z"
   },
   {
    "duration": 7,
    "start_time": "2021-12-26T13:12:20.082Z"
   },
   {
    "duration": 6,
    "start_time": "2021-12-26T13:12:54.826Z"
   },
   {
    "duration": 5,
    "start_time": "2021-12-26T13:13:56.705Z"
   },
   {
    "duration": 6,
    "start_time": "2021-12-26T13:14:05.948Z"
   },
   {
    "duration": 11,
    "start_time": "2021-12-26T13:16:20.446Z"
   },
   {
    "duration": 13,
    "start_time": "2021-12-26T13:16:49.991Z"
   },
   {
    "duration": 12,
    "start_time": "2021-12-26T13:18:05.183Z"
   },
   {
    "duration": 22,
    "start_time": "2021-12-26T13:23:39.577Z"
   },
   {
    "duration": 746,
    "start_time": "2021-12-26T13:23:40.058Z"
   },
   {
    "duration": 9,
    "start_time": "2021-12-26T13:23:40.805Z"
   },
   {
    "duration": 44,
    "start_time": "2021-12-26T13:23:41.692Z"
   },
   {
    "duration": 7,
    "start_time": "2021-12-26T13:23:42.242Z"
   },
   {
    "duration": 7,
    "start_time": "2021-12-26T13:23:43.358Z"
   },
   {
    "duration": 1334,
    "start_time": "2021-12-26T13:23:43.940Z"
   },
   {
    "duration": 8,
    "start_time": "2021-12-26T13:23:45.276Z"
   },
   {
    "duration": 3607,
    "start_time": "2021-12-26T13:23:45.390Z"
   },
   {
    "duration": 15,
    "start_time": "2021-12-26T13:23:48.999Z"
   },
   {
    "duration": 376,
    "start_time": "2021-12-26T13:23:49.036Z"
   },
   {
    "duration": 2483,
    "start_time": "2021-12-26T13:23:49.413Z"
   },
   {
    "duration": 263,
    "start_time": "2021-12-26T13:23:51.898Z"
   },
   {
    "duration": 29,
    "start_time": "2021-12-26T13:23:52.321Z"
   },
   {
    "duration": 37,
    "start_time": "2021-12-26T13:24:31.103Z"
   },
   {
    "duration": 24,
    "start_time": "2021-12-26T13:24:37.746Z"
   },
   {
    "duration": 306,
    "start_time": "2021-12-26T13:24:54.619Z"
   },
   {
    "duration": 29,
    "start_time": "2021-12-26T13:24:58.864Z"
   },
   {
    "duration": 12,
    "start_time": "2021-12-26T13:25:01.380Z"
   },
   {
    "duration": 5,
    "start_time": "2021-12-26T13:25:24.242Z"
   },
   {
    "duration": 12,
    "start_time": "2021-12-26T13:29:54.314Z"
   },
   {
    "duration": 227,
    "start_time": "2021-12-26T13:34:01.745Z"
   },
   {
    "duration": 276,
    "start_time": "2021-12-26T13:34:04.801Z"
   },
   {
    "duration": 7,
    "start_time": "2021-12-26T13:34:05.904Z"
   },
   {
    "duration": 116,
    "start_time": "2021-12-26T13:37:08.504Z"
   },
   {
    "duration": 124,
    "start_time": "2021-12-26T13:37:34.421Z"
   },
   {
    "duration": 120,
    "start_time": "2021-12-26T13:38:25.927Z"
   },
   {
    "duration": 115,
    "start_time": "2021-12-26T13:39:00.680Z"
   },
   {
    "duration": 1172,
    "start_time": "2021-12-26T13:41:04.588Z"
   },
   {
    "duration": 369,
    "start_time": "2021-12-26T13:42:29.478Z"
   },
   {
    "duration": 530,
    "start_time": "2021-12-26T13:42:40.089Z"
   },
   {
    "duration": 10,
    "start_time": "2021-12-26T13:43:41.672Z"
   },
   {
    "duration": 6,
    "start_time": "2021-12-26T13:44:15.566Z"
   },
   {
    "duration": 19,
    "start_time": "2021-12-26T13:44:28.532Z"
   },
   {
    "duration": 465,
    "start_time": "2021-12-26T13:46:17.420Z"
   },
   {
    "duration": 481,
    "start_time": "2021-12-26T13:46:46.615Z"
   },
   {
    "duration": 448,
    "start_time": "2021-12-26T13:48:24.003Z"
   },
   {
    "duration": 512,
    "start_time": "2021-12-26T13:48:45.023Z"
   },
   {
    "duration": 13,
    "start_time": "2021-12-26T13:48:58.060Z"
   },
   {
    "duration": 17,
    "start_time": "2021-12-26T13:49:16.263Z"
   },
   {
    "duration": 255,
    "start_time": "2021-12-26T13:49:48.428Z"
   },
   {
    "duration": 496,
    "start_time": "2021-12-26T13:49:58.475Z"
   },
   {
    "duration": 1323,
    "start_time": "2021-12-26T14:53:05.538Z"
   },
   {
    "duration": 1174,
    "start_time": "2021-12-26T14:53:31.616Z"
   },
   {
    "duration": 1498,
    "start_time": "2021-12-26T14:54:14.608Z"
   },
   {
    "duration": 13,
    "start_time": "2021-12-26T15:00:43.707Z"
   },
   {
    "duration": 10,
    "start_time": "2021-12-26T15:08:17.582Z"
   },
   {
    "duration": 16,
    "start_time": "2021-12-26T15:08:23.690Z"
   },
   {
    "duration": 9,
    "start_time": "2021-12-26T15:43:51.163Z"
   },
   {
    "duration": 1453,
    "start_time": "2021-12-26T19:18:33.270Z"
   },
   {
    "duration": 2781,
    "start_time": "2021-12-26T19:18:34.727Z"
   },
   {
    "duration": -38,
    "start_time": "2021-12-26T19:18:37.551Z"
   },
   {
    "duration": -39,
    "start_time": "2021-12-26T19:18:37.554Z"
   },
   {
    "duration": -40,
    "start_time": "2021-12-26T19:18:37.558Z"
   },
   {
    "duration": -40,
    "start_time": "2021-12-26T19:18:37.560Z"
   },
   {
    "duration": -40,
    "start_time": "2021-12-26T19:18:37.563Z"
   },
   {
    "duration": -41,
    "start_time": "2021-12-26T19:18:37.566Z"
   },
   {
    "duration": -40,
    "start_time": "2021-12-26T19:18:37.570Z"
   },
   {
    "duration": -42,
    "start_time": "2021-12-26T19:18:37.574Z"
   },
   {
    "duration": -43,
    "start_time": "2021-12-26T19:18:37.577Z"
   },
   {
    "duration": -43,
    "start_time": "2021-12-26T19:18:37.580Z"
   },
   {
    "duration": -50,
    "start_time": "2021-12-26T19:18:37.589Z"
   },
   {
    "duration": -51,
    "start_time": "2021-12-26T19:18:37.592Z"
   },
   {
    "duration": -51,
    "start_time": "2021-12-26T19:18:37.594Z"
   },
   {
    "duration": -51,
    "start_time": "2021-12-26T19:18:37.597Z"
   },
   {
    "duration": -61,
    "start_time": "2021-12-26T19:18:37.609Z"
   },
   {
    "duration": -70,
    "start_time": "2021-12-26T19:18:37.621Z"
   },
   {
    "duration": -70,
    "start_time": "2021-12-26T19:18:37.623Z"
   },
   {
    "duration": -70,
    "start_time": "2021-12-26T19:18:37.626Z"
   },
   {
    "duration": -70,
    "start_time": "2021-12-26T19:18:37.628Z"
   },
   {
    "duration": -71,
    "start_time": "2021-12-26T19:18:37.631Z"
   },
   {
    "duration": -16,
    "start_time": "2021-12-26T19:18:37.633Z"
   },
   {
    "duration": -22,
    "start_time": "2021-12-26T19:18:37.641Z"
   },
   {
    "duration": -22,
    "start_time": "2021-12-26T19:18:37.643Z"
   },
   {
    "duration": -25,
    "start_time": "2021-12-26T19:18:37.648Z"
   },
   {
    "duration": 1502,
    "start_time": "2021-12-27T11:43:52.681Z"
   },
   {
    "duration": 416,
    "start_time": "2021-12-27T11:44:10.069Z"
   },
   {
    "duration": 31,
    "start_time": "2021-12-27T11:44:17.510Z"
   },
   {
    "duration": 259,
    "start_time": "2021-12-27T11:44:36.068Z"
   },
   {
    "duration": 14,
    "start_time": "2021-12-27T11:44:36.988Z"
   },
   {
    "duration": 63,
    "start_time": "2021-12-27T11:44:39.959Z"
   },
   {
    "duration": 9,
    "start_time": "2021-12-27T11:44:40.608Z"
   },
   {
    "duration": 18,
    "start_time": "2021-12-27T11:44:41.531Z"
   },
   {
    "duration": 2264,
    "start_time": "2021-12-27T11:44:42.379Z"
   },
   {
    "duration": 13,
    "start_time": "2021-12-27T11:44:44.649Z"
   },
   {
    "duration": 5944,
    "start_time": "2021-12-27T11:44:44.665Z"
   },
   {
    "duration": 30,
    "start_time": "2021-12-27T11:44:50.612Z"
   },
   {
    "duration": 497,
    "start_time": "2021-12-27T11:44:50.645Z"
   },
   {
    "duration": 4594,
    "start_time": "2021-12-27T11:44:51.149Z"
   },
   {
    "duration": 519,
    "start_time": "2021-12-27T11:44:55.746Z"
   },
   {
    "duration": 35,
    "start_time": "2021-12-27T11:44:56.268Z"
   },
   {
    "duration": 1070,
    "start_time": "2021-12-27T19:17:00.649Z"
   },
   {
    "duration": 258,
    "start_time": "2021-12-27T19:17:01.721Z"
   },
   {
    "duration": 12,
    "start_time": "2021-12-27T19:17:01.981Z"
   },
   {
    "duration": 46,
    "start_time": "2021-12-27T19:17:01.996Z"
   },
   {
    "duration": 7,
    "start_time": "2021-12-27T19:17:02.044Z"
   },
   {
    "duration": 12,
    "start_time": "2021-12-27T19:17:02.054Z"
   },
   {
    "duration": 1318,
    "start_time": "2021-12-27T19:17:02.093Z"
   },
   {
    "duration": 7,
    "start_time": "2021-12-27T19:17:03.413Z"
   },
   {
    "duration": 3613,
    "start_time": "2021-12-27T19:17:03.422Z"
   },
   {
    "duration": 16,
    "start_time": "2021-12-27T19:17:07.037Z"
   },
   {
    "duration": 255,
    "start_time": "2021-12-27T19:17:07.055Z"
   },
   {
    "duration": 2481,
    "start_time": "2021-12-27T19:17:07.311Z"
   },
   {
    "duration": 278,
    "start_time": "2021-12-27T19:17:09.794Z"
   },
   {
    "duration": 29,
    "start_time": "2021-12-27T19:17:10.073Z"
   },
   {
    "duration": 361,
    "start_time": "2021-12-27T19:17:10.104Z"
   },
   {
    "duration": 40,
    "start_time": "2021-12-27T19:17:10.467Z"
   },
   {
    "duration": 14,
    "start_time": "2021-12-27T19:17:10.508Z"
   },
   {
    "duration": 280,
    "start_time": "2021-12-27T19:17:10.524Z"
   },
   {
    "duration": 341,
    "start_time": "2021-12-27T19:17:10.806Z"
   },
   {
    "duration": 220,
    "start_time": "2021-12-27T19:17:11.149Z"
   },
   {
    "duration": 1696,
    "start_time": "2021-12-27T19:17:11.371Z"
   },
   {
    "duration": 10,
    "start_time": "2021-12-27T19:17:13.069Z"
   },
   {
    "duration": 457,
    "start_time": "2021-12-27T19:17:13.082Z"
   },
   {
    "duration": 542,
    "start_time": "2021-12-27T19:17:13.541Z"
   },
   {
    "duration": 577,
    "start_time": "2021-12-27T19:17:14.085Z"
   },
   {
    "duration": 12,
    "start_time": "2021-12-27T19:17:14.665Z"
   },
   {
    "duration": 8,
    "start_time": "2021-12-28T19:50:49.350Z"
   }
  ],
  "kernelspec": {
   "display_name": "Python 3 (ipykernel)",
   "language": "python",
   "name": "python3"
  },
  "language_info": {
   "codemirror_mode": {
    "name": "ipython",
    "version": 3
   },
   "file_extension": ".py",
   "mimetype": "text/x-python",
   "name": "python",
   "nbconvert_exporter": "python",
   "pygments_lexer": "ipython3",
   "version": "3.9.7"
  },
  "toc": {
   "base_numbering": 1,
   "nav_menu": {},
   "number_sections": true,
   "sideBar": true,
   "skip_h1_title": true,
   "title_cell": "Table of Contents",
   "title_sidebar": "Contents",
   "toc_cell": false,
   "toc_position": {},
   "toc_section_display": true,
   "toc_window_display": false
  }
 },
 "nbformat": 4,
 "nbformat_minor": 4
}
