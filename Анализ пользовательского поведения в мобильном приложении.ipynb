{
 "cells": [
  {
   "cell_type": "markdown",
   "metadata": {},
   "source": [
    "# Анализ пользовательского поведения в мобильном приложении\n",
    "### Цель - анализ поведения пользователей мобильного приложения по результатам А/А/В-теста\n",
    "### Задачи:\n",
    "1. выполнить первичную обработку данных: убрать дубликаты, пропуски м др. ;<br>\n",
    "2. определить границы периода анализа;<br>\n",
    "3. постоить продуктовые воронки ;<br> \n",
    "4. проверить корректность групп статистическими методами и сделать общие выводы."
   ]
  },
  {
   "cell_type": "code",
   "execution_count": 2,
   "metadata": {},
   "outputs": [],
   "source": [
    "import pandas as pd\n",
    "import seaborn as sns\n",
    "import matplotlib.pyplot as plt\n",
    "import numpy as np\n",
    "from functools import reduce\n",
    "from plotly import graph_objects as go\n",
    "from scipy import stats\n",
    "from statsmodels.stats.proportion import proportions_ztest\n",
    "\n",
    "sns.set_palette('dark')"
   ]
  },
  {
   "cell_type": "code",
   "execution_count": 3,
   "metadata": {},
   "outputs": [],
   "source": [
    "df = pd.read_csv('/datasets/logs_exp.csv' , sep='\\t', decimal=',')"
   ]
  },
  {
   "cell_type": "markdown",
   "metadata": {},
   "source": [
    "### 1. Обработка данных\n",
    "Проверим данные на наличие дубликатов и пропусков"
   ]
  },
  {
   "cell_type": "code",
   "execution_count": 4,
   "metadata": {},
   "outputs": [
    {
     "name": "stdout",
     "output_type": "stream",
     "text": [
      "количество дубликатов 413\n",
      "<class 'pandas.core.frame.DataFrame'>\n",
      "Int64Index: 243713 entries, 0 to 244125\n",
      "Data columns (total 4 columns):\n",
      "event         243713 non-null object\n",
      "user_id       243713 non-null int64\n",
      "event_time    243713 non-null datetime64[ns]\n",
      "group         243713 non-null int64\n",
      "dtypes: datetime64[ns](1), int64(2), object(1)\n",
      "memory usage: 9.3+ MB\n"
     ]
    }
   ],
   "source": [
    "# переименую названия столбцов, уберу дубликаты, приведу формат данных в столбце event_time в datetime64[ns]\n",
    "df.columns = ['event', 'user_id', 'event_time', 'group']\n",
    "df['event_time'] = pd.to_datetime(df['event_time'], unit='s')\n",
    "df.head(10)\n",
    "\n",
    "print('количество дубликатов', df.duplicated().sum())\n",
    "df.drop_duplicates(inplace = True)\n",
    "df.duplicated().sum()\n",
    "\n",
    "df.info()"
   ]
  },
  {
   "cell_type": "code",
   "execution_count": 5,
   "metadata": {},
   "outputs": [
    {
     "data": {
      "text/html": [
       "<div>\n",
       "<style scoped>\n",
       "    .dataframe tbody tr th:only-of-type {\n",
       "        vertical-align: middle;\n",
       "    }\n",
       "\n",
       "    .dataframe tbody tr th {\n",
       "        vertical-align: top;\n",
       "    }\n",
       "\n",
       "    .dataframe thead th {\n",
       "        text-align: right;\n",
       "    }\n",
       "</style>\n",
       "<table border=\"1\" class=\"dataframe\">\n",
       "  <thead>\n",
       "    <tr style=\"text-align: right;\">\n",
       "      <th></th>\n",
       "      <th>event</th>\n",
       "      <th>user_id</th>\n",
       "      <th>event_time</th>\n",
       "      <th>group</th>\n",
       "      <th>date</th>\n",
       "    </tr>\n",
       "  </thead>\n",
       "  <tbody>\n",
       "    <tr>\n",
       "      <td>0</td>\n",
       "      <td>MainScreenAppear</td>\n",
       "      <td>4575588528974610257</td>\n",
       "      <td>2019-07-25 04:43:36</td>\n",
       "      <td>246</td>\n",
       "      <td>2019-07-25</td>\n",
       "    </tr>\n",
       "    <tr>\n",
       "      <td>1</td>\n",
       "      <td>MainScreenAppear</td>\n",
       "      <td>7416695313311560658</td>\n",
       "      <td>2019-07-25 11:11:42</td>\n",
       "      <td>246</td>\n",
       "      <td>2019-07-25</td>\n",
       "    </tr>\n",
       "    <tr>\n",
       "      <td>2</td>\n",
       "      <td>PaymentScreenSuccessful</td>\n",
       "      <td>3518123091307005509</td>\n",
       "      <td>2019-07-25 11:28:47</td>\n",
       "      <td>248</td>\n",
       "      <td>2019-07-25</td>\n",
       "    </tr>\n",
       "    <tr>\n",
       "      <td>3</td>\n",
       "      <td>CartScreenAppear</td>\n",
       "      <td>3518123091307005509</td>\n",
       "      <td>2019-07-25 11:28:47</td>\n",
       "      <td>248</td>\n",
       "      <td>2019-07-25</td>\n",
       "    </tr>\n",
       "    <tr>\n",
       "      <td>4</td>\n",
       "      <td>PaymentScreenSuccessful</td>\n",
       "      <td>6217807653094995999</td>\n",
       "      <td>2019-07-25 11:48:42</td>\n",
       "      <td>248</td>\n",
       "      <td>2019-07-25</td>\n",
       "    </tr>\n",
       "  </tbody>\n",
       "</table>\n",
       "</div>"
      ],
      "text/plain": [
       "                     event              user_id          event_time  group  \\\n",
       "0         MainScreenAppear  4575588528974610257 2019-07-25 04:43:36    246   \n",
       "1         MainScreenAppear  7416695313311560658 2019-07-25 11:11:42    246   \n",
       "2  PaymentScreenSuccessful  3518123091307005509 2019-07-25 11:28:47    248   \n",
       "3         CartScreenAppear  3518123091307005509 2019-07-25 11:28:47    248   \n",
       "4  PaymentScreenSuccessful  6217807653094995999 2019-07-25 11:48:42    248   \n",
       "\n",
       "         date  \n",
       "0  2019-07-25  \n",
       "1  2019-07-25  \n",
       "2  2019-07-25  \n",
       "3  2019-07-25  \n",
       "4  2019-07-25  "
      ]
     },
     "execution_count": 5,
     "metadata": {},
     "output_type": "execute_result"
    }
   ],
   "source": [
    "df['date'] = df['event_time'].dt.date\n",
    "df.head()"
   ]
  },
  {
   "cell_type": "code",
   "execution_count": 6,
   "metadata": {},
   "outputs": [
    {
     "data": {
      "text/plain": [
       "array(['зашел на главную страницу', 'оплата товара',\n",
       "       'добавил товар в корзину', 'перешел на страницу товара',\n",
       "       'консультацияl'], dtype=object)"
      ]
     },
     "execution_count": 6,
     "metadata": {},
     "output_type": "execute_result"
    }
   ],
   "source": [
    "# выполню замену названий событий на русский язык, чтобы затем было легче строить воронку\n",
    "df['event'].unique()\n",
    "\n",
    "df['event']=df['event'].str.replace('MainScreenAppear', 'зашел на главную страницу')\n",
    "df['event']=df['event'].str.replace('PaymentScreenSuccessful', 'оплата товара')\n",
    "df['event']=df['event'].str.replace('CartScreenAppear', 'добавил товар в корзину')\n",
    "df['event']=df['event'].str.replace('OffersScreenAppear', 'перешел на страницу товара')\n",
    "df['event']=df['event'].str.replace('Tutoria', 'консультация')\n",
    "\n",
    "df['event'].unique()"
   ]
  },
  {
   "cell_type": "markdown",
   "metadata": {},
   "source": [
    "### 2. Изучение данные \n",
    "Проверим сколько событий в логе, сколько  пользователей в логе, сколько в среднем событий приходится на пользователя. "
   ]
  },
  {
   "cell_type": "code",
   "execution_count": 7,
   "metadata": {},
   "outputs": [
    {
     "data": {
      "text/plain": [
       "20"
      ]
     },
     "execution_count": 7,
     "metadata": {},
     "output_type": "execute_result"
    }
   ],
   "source": [
    "# сгруппируем df по дате, чтобы посмотреть количество событий и уникальных пользователей в сутки\n",
    "count_event = df.groupby('date').agg({'event': 'count', 'user_id': 'nunique'})\n",
    "count_event\n",
    "# рассчитаем среднее количество событий на пользователей\n",
    "int(df.groupby('user_id')['event'].agg('count').median())"
   ]
  },
  {
   "cell_type": "code",
   "execution_count": 8,
   "metadata": {},
   "outputs": [
    {
     "data": {
      "text/plain": [
       "7551"
      ]
     },
     "execution_count": 8,
     "metadata": {},
     "output_type": "execute_result"
    }
   ],
   "source": [
    "# рассчитаем количество уникальных пользователей\n",
    "count_user = df['user_id'].nunique()\n",
    "count_user"
   ]
  },
  {
   "cell_type": "markdown",
   "metadata": {},
   "source": [
    " Мы узнали, что выборка у нас с 25 июля по 07 августа. И судя по count_event, анализ нужно проводить на данных начиная с 01 августа, так как в предыдущих днях мало событий. <br>\n",
    "Всего у нас за наблюдаемый период 7551 уникальный пользователь пользователь; событий в дата фрейме - 243713. В среднем, на пользователя приходится 20 событий. \n",
    "<br>    \n",
    "<br>   \n",
    "Построим гистограмму по дате и времени, чтобы оценить, какими данными мы располагаем"
   ]
  },
  {
   "cell_type": "code",
   "execution_count": null,
   "metadata": {},
   "outputs": [],
   "source": [
    "plt.figure(figsize=(15, 70))\n",
    "ax = sns.countplot(y = df['event_time'].dt.strftime('%Y-%m-%d %H'), hue='event', data=df, dodge=False)\n",
    "plt.title('Количество событий')\n",
    "plt.show()"
   ]
  },
  {
   "cell_type": "markdown",
   "metadata": {},
   "source": [
    "На графике мы видим то же, что и в count_event, только по часам. В первые дни у нас фактически не было никаких событий, как точку отсчета можно взять 2019-07-31 21 час. На графике можно также визуально оценить распределение данных - оно стремиться к нормальному. "
   ]
  },
  {
   "cell_type": "code",
   "execution_count": 10,
   "metadata": {},
   "outputs": [
    {
     "data": {
      "text/html": [
       "<div>\n",
       "<style scoped>\n",
       "    .dataframe tbody tr th:only-of-type {\n",
       "        vertical-align: middle;\n",
       "    }\n",
       "\n",
       "    .dataframe tbody tr th {\n",
       "        vertical-align: top;\n",
       "    }\n",
       "\n",
       "    .dataframe thead th {\n",
       "        text-align: right;\n",
       "    }\n",
       "</style>\n",
       "<table border=\"1\" class=\"dataframe\">\n",
       "  <thead>\n",
       "    <tr style=\"text-align: right;\">\n",
       "      <th></th>\n",
       "      <th>event</th>\n",
       "      <th>user_id</th>\n",
       "      <th>event_time</th>\n",
       "      <th>group</th>\n",
       "      <th>date</th>\n",
       "    </tr>\n",
       "  </thead>\n",
       "  <tbody>\n",
       "    <tr>\n",
       "      <td>1990</td>\n",
       "      <td>зашел на главную страницу</td>\n",
       "      <td>7701922487875823903</td>\n",
       "      <td>2019-07-31 21:00:57</td>\n",
       "      <td>247</td>\n",
       "      <td>2019-07-31</td>\n",
       "    </tr>\n",
       "    <tr>\n",
       "      <td>1991</td>\n",
       "      <td>зашел на главную страницу</td>\n",
       "      <td>2539077412200498909</td>\n",
       "      <td>2019-07-31 21:01:45</td>\n",
       "      <td>247</td>\n",
       "      <td>2019-07-31</td>\n",
       "    </tr>\n",
       "    <tr>\n",
       "      <td>1992</td>\n",
       "      <td>перешел на страницу товара</td>\n",
       "      <td>3286987355161301427</td>\n",
       "      <td>2019-07-31 21:02:21</td>\n",
       "      <td>248</td>\n",
       "      <td>2019-07-31</td>\n",
       "    </tr>\n",
       "    <tr>\n",
       "      <td>1993</td>\n",
       "      <td>перешел на страницу товара</td>\n",
       "      <td>3187166762535343300</td>\n",
       "      <td>2019-07-31 21:02:23</td>\n",
       "      <td>247</td>\n",
       "      <td>2019-07-31</td>\n",
       "    </tr>\n",
       "    <tr>\n",
       "      <td>1994</td>\n",
       "      <td>зашел на главную страницу</td>\n",
       "      <td>1118952406011435924</td>\n",
       "      <td>2019-07-31 21:03:25</td>\n",
       "      <td>248</td>\n",
       "      <td>2019-07-31</td>\n",
       "    </tr>\n",
       "  </tbody>\n",
       "</table>\n",
       "</div>"
      ],
      "text/plain": [
       "                           event              user_id          event_time  \\\n",
       "1990   зашел на главную страницу  7701922487875823903 2019-07-31 21:00:57   \n",
       "1991   зашел на главную страницу  2539077412200498909 2019-07-31 21:01:45   \n",
       "1992  перешел на страницу товара  3286987355161301427 2019-07-31 21:02:21   \n",
       "1993  перешел на страницу товара  3187166762535343300 2019-07-31 21:02:23   \n",
       "1994   зашел на главную страницу  1118952406011435924 2019-07-31 21:03:25   \n",
       "\n",
       "      group        date  \n",
       "1990    247  2019-07-31  \n",
       "1991    247  2019-07-31  \n",
       "1992    248  2019-07-31  \n",
       "1993    247  2019-07-31  \n",
       "1994    248  2019-07-31  "
      ]
     },
     "execution_count": 10,
     "metadata": {},
     "output_type": "execute_result"
    }
   ],
   "source": [
    "#отбросим данные, меньше 21 часа 2019-07-31 и проверим функциями min и max правильность вхождения дат\n",
    "df_filtred = df[df['event_time'] >= '2019-07-31 21']\n",
    "df_filtred['event_time'].min()\n",
    "df_filtred['event_time'].max()\n",
    "\n",
    "df_filtred.head()"
   ]
  },
  {
   "cell_type": "code",
   "execution_count": null,
   "metadata": {},
   "outputs": [],
   "source": [
    "df_filtred.info()\n",
    "df_filtred['user_id'].nunique()\n",
    "int(df_filtred.groupby('user_id')['event'].agg('count').median())"
   ]
  },
  {
   "cell_type": "markdown",
   "metadata": {},
   "source": [
    "После фильтрации у нас стало 241 724 события в дата фрейме (вместо 243713, дельта 1989 событий или 0,816%) и 7538 пользователей (вместо 7551, дельта 13 пользователей или 0,17%). "
   ]
  },
  {
   "cell_type": "code",
   "execution_count": null,
   "metadata": {},
   "outputs": [],
   "source": [
    "plt.figure(figsize=(15, 70))\n",
    "ax = sns.countplot(y = df_filtred['event_time'].dt.strftime('%Y-%m-%d %H'), hue='group', data=df_filtred)\n",
    "plt.title('Количество событий')\n",
    "plt.show()"
   ]
  },
  {
   "cell_type": "markdown",
   "metadata": {},
   "source": [
    "\n",
    "как мы видим из графика, у нас данные распределены нормально во всех трех группах.    "
   ]
  },
  {
   "cell_type": "markdown",
   "metadata": {},
   "source": [
    "#### Вывод\n",
    "\n",
    "В обработке данных удалила дубликаты, переименовала столбцы, добавила столбец с датой. Отбросила не актуальные данные. В df_filtred 241724 событий, 7538 уникальных пользователей  19 событий на каждого пользователя. После фильтрации у нас стало 241 724 события в дата фрейме (вместо 243713, дельта 1989 событий или 0,816%) и 7538 пользователей (вместо 7551, дельта 13 пользователей или 0,17%). "
   ]
  },
  {
   "cell_type": "markdown",
   "metadata": {},
   "source": [
    "### 2. Изучение воронки событий\n",
    " \n",
    "Проверим сколько  событий есть в логах, как часто они встречаются,  отсортируем события по частоте.<br>\n",
    "Посчитаем, сколько пользователей совершали каждое из этих событий. <br>Посчитаем долю пользователей, которые хоть раз совершали событие.\n"
   ]
  },
  {
   "cell_type": "code",
   "execution_count": 8,
   "metadata": {},
   "outputs": [
    {
     "data": {
      "text/plain": [
       "7538"
      ]
     },
     "execution_count": 8,
     "metadata": {},
     "output_type": "execute_result"
    }
   ],
   "source": [
    "n_users = df_filtred['user_id'].nunique()\n",
    "n_users"
   ]
  },
  {
   "cell_type": "code",
   "execution_count": 9,
   "metadata": {},
   "outputs": [
    {
     "data": {
      "image/png": "[encoded data removed]",
      "text/plain": [
       "<Figure size 720x504 with 1 Axes>"
      ]
     },
     "metadata": {
      "needs_background": "light"
     },
     "output_type": "display_data"
    }
   ],
   "source": [
    "events = df_filtred.groupby('event')['user_id'].agg({'count', 'nunique'}).reset_index()\n",
    "events.columns = ['event', 'n_events', 'n_users']\n",
    "\n",
    "events = events.sort_values(by='n_events', ascending=False)\n",
    "events.head()\n",
    "plt.figure(figsize=(10, 7))\n",
    "ax = sns.barplot(x='n_events', y='event', data=events)\n",
    "plt.title('Пользователи, которые хоть раз совершили действие')\n",
    "\n",
    "for i in ax.patches:\n",
    "    if i.get_width() > 7000:\n",
    "        ax.text(i.get_width()-2000, i.get_y()+0.2, \n",
    "                str(int(i.get_width()))+' ({:.1%})'.format(i.get_width() / n_users), fontsize=20, color='white')\n",
    "                #str(int(i.get_width()) +' ({:.1%})'.format(i.get_width() / n_users), fontsize=20, color='white'))\n",
    "    else:\n",
    "        ax.text(i.get_width()+30, i.get_y()+0.2, \n",
    "                str(int(i.get_width()))+' ({:.1%})'.format(i.get_width() / n_users), fontsize=20, color='black')\n",
    "plt.show()"
   ]
  },
  {
   "cell_type": "markdown",
   "metadata": {},
   "source": [
    " \n",
    "98.5% всех пользователей зашли на главную страницу - есть два варианта: они могли случайно перейти по ссылке и быстро звкрыть страницу, или у них некорректно отобразилась страница. Надо проверить.<br>\n",
    "61.0% всех пользователей перешли на страницу товара - на этом этапе \"отпало\" 37,5% пользователей - надо проверить отображение страницы на разных типах устройствах, возможно, на каком-то одном типе устройства сайт не работает. <br>\n",
    "49.5% от всех пользователей добавил товар в корзину и 47,0% оплатили товар - возможно, это вполне хорошие показатели для нашего товара. Мы можем увеличить долю пользователей, завершивших оплату, если найдем причину, по которой от нас уходит 37,5% пользователей.<br>\n",
    "11,2% пользователей обратились за консультацией и/или поддержкой - жалобы пользователей на сайт -это хороший источник информации о багах, надо его проанализировать. "
   ]
  },
  {
   "cell_type": "code",
   "execution_count": 10,
   "metadata": {
    "scrolled": true
   },
   "outputs": [
    {
     "data": {
      "image/png": "[encoded data removed]",
      "text/plain": [
       "<Figure size 720x504 with 1 Axes>"
      ]
     },
     "metadata": {
      "needs_background": "light"
     },
     "output_type": "display_data"
    }
   ],
   "source": [
    "event_pivot = df.groupby(['event','group'])['user_id'].agg({'count', 'nunique'}).reset_index()\n",
    "event_pivot.columns= ['event','group', 'n_events', 'n_users']\n",
    "event_pivot = event_pivot.sort_values(by='n_events', ascending=False)\n",
    "\n",
    "plt.figure(figsize=(10, 7))\n",
    "ax = sns.barplot(x='n_events', y='event', hue='group', data=event_pivot)\n",
    "plt.title('Распределение пользователей по группам, которые хотя бы раз совершили действие')\n",
    "\n",
    "for i in ax.patches:\n",
    "    if i.get_width() > 2000:\n",
    "        ax.text(i.get_width()-300, i.get_y()+0.2, \n",
    "                str(int(i.get_width())), fontsize=15, color='white')\n",
    "    else:\n",
    "        ax.text(i.get_width()+30, i.get_y()+0.2, \n",
    "                str(int(i.get_width())), fontsize=15, color='black')\n",
    "plt.show()\n"
   ]
  },
  {
   "cell_type": "markdown",
   "metadata": {},
   "source": [
    "\n",
    "В разрезе по группам визуальное соотношение пользователей на каждом шаге одинаково."
   ]
  },
  {
   "cell_type": "code",
   "execution_count": 11,
   "metadata": {},
   "outputs": [
    {
     "data": {
      "image/png": "[encoded data removed]",
      "text/plain": [
       "<Figure size 864x504 with 1 Axes>"
      ]
     },
     "metadata": {
      "needs_background": "light"
     },
     "output_type": "display_data"
    }
   ],
   "source": [
    "\n",
    "plt.figure(figsize=(12, 7))\n",
    "ax = sns.barplot(x='n_users', y='event', data=events)\n",
    "plt.title('Частота совершения события')\n",
    "\n",
    "for i in ax.patches:\n",
    "    if i.get_width() > 110000:\n",
    "        ax.text(i.get_width()-15000, i.get_y()+0.2, \n",
    "                str(int(i.get_width())), fontsize=15, color='white')\n",
    "    else:\n",
    "        ax.text(i.get_width()+30, i.get_y()+0.2,\n",
    "               str(int(i.get_width())), fontsize=15, color='black')\n",
    "plt.show()"
   ]
  },
  {
   "cell_type": "markdown",
   "metadata": {},
   "source": [
    "\n",
    "За все время наблюдения на сайт зашло почти 118тыс пользователей,<br>\n",
    "посмотрели товар - 46,5 тыс,<br>\n",
    "добавили в корзину - 42,3 тыс, <br>\n",
    "оплатили товар - почти 34 тыс,<br>\n",
    "обратились в тех поддержку - чуть больше 1 тыс.<br>"
   ]
  },
  {
   "cell_type": "code",
   "execution_count": 12,
   "metadata": {},
   "outputs": [
    {
     "data": {
      "image/png": "[encoded data removed]",
      "text/plain": [
       "<Figure size 720x504 with 1 Axes>"
      ]
     },
     "metadata": {
      "needs_background": "light"
     },
     "output_type": "display_data"
    }
   ],
   "source": [
    "event_pivot = event_pivot.sort_values(by='n_users', ascending=False)\n",
    "\n",
    "plt.figure(figsize=(10, 7))\n",
    "ax = sns.barplot(x='n_users', y='event', hue='group', data=event_pivot)\n",
    "plt.title('Частота совершения события')\n",
    "\n",
    "for i in ax.patches:\n",
    "    if i.get_width() > 2500:\n",
    "        ax.text(i.get_width()-5000, i.get_y()+0.2,\n",
    "               str(int(i.get_width())), fontsize=15, color='white')\n",
    "    else:\n",
    "        ax.text(i.get_width()+30, i.get_y()+0.2,\n",
    "               str(int(i.get_width())), fontsize=15, color='black')\n",
    "plt.show()"
   ]
  },
  {
   "cell_type": "markdown",
   "metadata": {},
   "source": [
    "\n",
    "Наша воронка выглядит следующим образом: <br>\n",
    "пользователь зашел на сайт<br>\n",
    "перешел на страницу товара<br>\n",
    "положил товар в корзину<br>\n",
    "оплатил товар<br>"
   ]
  },
  {
   "cell_type": "code",
   "execution_count": null,
   "metadata": {},
   "outputs": [],
   "source": [
    "users = df_filtred[df_filtred['event'] != 'консультацияl'].pivot_table(\n",
    "    index='user_id', columns='event', values='event_time', aggfunc='min'\n",
    ")\n",
    "users.head()\n",
    " \n",
    "# тут со временем какая-то ерунда: пользователь 6922444491712477 перешел на страницу товара в 14-19-46, \n",
    "# а оплатил в 14-19-40, надо сообщить разработчикам"
   ]
  },
  {
   "cell_type": "code",
   "execution_count": null,
   "metadata": {},
   "outputs": [],
   "source": [
    "step_1 = ~users['зашел на главную страницу'].isna()\n",
    "step_2 = step_1 & (users['перешел на страницу товара'] > users['зашел на главную страницу'])\n",
    "step_3 = step_2 & (users['добавил товар в корзину'] > users['перешел на страницу товара'])\n",
    "step_4 = step_3 & (users['оплата товара'] > users['добавил товар в корзину'])\n",
    "\n",
    "n_step_1 = users[step_1].shape[0]\n",
    "n_step_2 = users[step_2].shape[0]\n",
    "n_step_3 = users[step_3].shape[0]\n",
    "n_step_4 = users[step_4].shape[0]\n",
    "\n",
    "print('Посетителей:', n_step_1, '({:.1%})'.format(n_step_1 / n_step_1))\n",
    "print('Посмотрело товар:', n_step_2, '({:.1%})'.format(n_step_2 / n_step_1))\n",
    "print('Положили товар в корзину:', n_step_3, '({:.1%})'.format(n_step_3 / n_step_1))\n",
    "print('Оплатили:', n_step_4, '({:.1%})'.format(n_step_4 / n_step_1))"
   ]
  },
  {
   "cell_type": "code",
   "execution_count": null,
   "metadata": {},
   "outputs": [],
   "source": [
    "\n",
    "fig = go.Figure(\n",
    "    go.Funnel(\n",
    "        y=[\n",
    "            'Посетителей',\n",
    "            'Посмотрело товар',\n",
    "            'Положили товар в корзину',\n",
    "            'Оплатили',\n",
    "        ],\n",
    "        x=[n_step_1, n_step_2, n_step_3, n_step_4],\n",
    "    )\n",
    ")\n",
    "fig.show() "
   ]
  },
  {
   "cell_type": "code",
   "execution_count": null,
   "metadata": {},
   "outputs": [],
   "source": [
    "users = df_filtred[df_filtred['event'] != 'консультацияl'].pivot_table(\n",
    "        index=['user_id', 'group'], \n",
    "        columns='event', \n",
    "        values='event_time',\n",
    "        aggfunc='min').reset_index()\n",
    "\n",
    "groups = [246, 247, 248]\n",
    "funnel ={}\n",
    "for group in groups:\n",
    "    funnel[group] =[]\n",
    "    step_1 = (users['group']==group) & (~users['зашел на главную страницу'].isna())\n",
    "    step_2 = step_1 & (users['перешел на страницу товара'] > users['зашел на главную страницу'])\n",
    "    step_3 = step_2 & (users['добавил товар в корзину'] > users['перешел на страницу товара'])\n",
    "    step_4 = step_3 & (users['оплата товара'] > users['добавил товар в корзину'])\n",
    "    funnel[group].append(users[step_1].shape[0])\n",
    "    funnel[group].append(users[step_2].shape[0])\n",
    "    funnel[group].append(users[step_3].shape[0])\n",
    "    funnel[group].append(users[step_4].shape[0])\n",
    "    \n",
    "\n",
    "fig = go.Figure()\n",
    "for i, group in enumerate(groups):\n",
    "    fig.add_trace(go.Funnel(\n",
    "        name = str(group),\n",
    "        y = [\n",
    "            'Посетителей',\n",
    "            'Посмотрело товар',\n",
    "            'Положили товар в корзину',\n",
    "            'Оплатили',\n",
    "        ],\n",
    "        x = funnel[group]))\n",
    "\n",
    "fig.show()"
   ]
  },
  {
   "cell_type": "markdown",
   "metadata": {},
   "source": [
    "#### Вывод\n",
    "\n",
    "Предполагаемой воронке слудует большинство покупателей, но к концу доходит только 6.2% всех пользователей, которые посетили сайт. При просмотре воронки по группам, в контрольных группах до конца покупки дошли 5.9% пользователей, в опытной группе - 6.7%. Такая небольшая разница дает право предположить, что оформление текта не дает преимущества. \n",
    " <br>Чуть менее половины пользователей - 43,4% уходят от нас после первого попадания на сайт. Это говорит о том, что какая-то версия сайта неудобна и необходимо исправить проблему.<br>"
   ]
  },
  {
   "cell_type": "markdown",
   "metadata": {},
   "source": [
    "### 2. Изучение результатов эксперимета\n",
    "\n",
    "Проверим, есть ли статистическая разница между контрольными и опытной группой. Для решения вопроса о пересечении пользователей я применила np.intersect1d,  который возвращает массив уникальных значений, общих для выборок. Пересечений пользователей не обнаружено."
   ]
  },
  {
   "cell_type": "code",
   "execution_count": 11,
   "metadata": {},
   "outputs": [],
   "source": [
    "df1 = df_filtred[df_filtred['event'] != 'консультацияl']\n",
    "gr246 = df1[df1['group'] == 246]['user_id'].unique()\n",
    "gr247 = df1[df1['group'] == 247]['user_id'].unique()\n",
    "gr248 =  df1[df1['group'] == 248]['user_id'].unique()"
   ]
  },
  {
   "cell_type": "code",
   "execution_count": 12,
   "metadata": {},
   "outputs": [
    {
     "name": "stdout",
     "output_type": "stream",
     "text": [
      "[]\n",
      "[]\n",
      "[]\n"
     ]
    }
   ],
   "source": [
    "print(np.intersect1d(gr246, gr247))\n",
    "print(np.intersect1d(gr246, gr248))\n",
    "print(np.intersect1d(gr247, gr248))"
   ]
  },
  {
   "cell_type": "code",
   "execution_count": 13,
   "metadata": {},
   "outputs": [
    {
     "data": {
      "text/plain": [
       "{'all': 7538, 246: 2484, 247: 2517, 248: 2537}"
      ]
     },
     "execution_count": 13,
     "metadata": {},
     "output_type": "execute_result"
    }
   ],
   "source": [
    "n_users = {'all': df_filtred['user_id'].nunique(), \n",
    "           246: df_filtred[df_filtred['group'] == 246]['user_id'].nunique(),\n",
    "           247: df_filtred[df_filtred['group'] == 247]['user_id'].nunique(),\n",
    "           248: df_filtred[df_filtred['group'] == 248]['user_id'].nunique()}\n",
    "#            '246+247': df[(df['group']==246) | (df['group']==247)]['user_id'].nunique()}\n",
    "n_users"
   ]
  },
  {
   "cell_type": "markdown",
   "metadata": {},
   "source": [
    "\n",
    "В группе 246 - 2484 пользователя, в 247 - 2517 пользователей, в 248 - 2537 пользователей. "
   ]
  },
  {
   "cell_type": "code",
   "execution_count": 14,
   "metadata": {},
   "outputs": [
    {
     "data": {
      "text/html": [
       "<div>\n",
       "<style scoped>\n",
       "    .dataframe tbody tr th:only-of-type {\n",
       "        vertical-align: middle;\n",
       "    }\n",
       "\n",
       "    .dataframe tbody tr th {\n",
       "        vertical-align: top;\n",
       "    }\n",
       "\n",
       "    .dataframe thead th {\n",
       "        text-align: right;\n",
       "    }\n",
       "</style>\n",
       "<table border=\"1\" class=\"dataframe\">\n",
       "  <thead>\n",
       "    <tr style=\"text-align: right;\">\n",
       "      <th>group</th>\n",
       "      <th>event</th>\n",
       "      <th>246</th>\n",
       "      <th>247</th>\n",
       "      <th>248</th>\n",
       "    </tr>\n",
       "  </thead>\n",
       "  <tbody>\n",
       "    <tr>\n",
       "      <td>1</td>\n",
       "      <td>зашел на главную страницу</td>\n",
       "      <td>2450</td>\n",
       "      <td>2479</td>\n",
       "      <td>2494</td>\n",
       "    </tr>\n",
       "    <tr>\n",
       "      <td>3</td>\n",
       "      <td>перешел на страницу товара</td>\n",
       "      <td>1542</td>\n",
       "      <td>1524</td>\n",
       "      <td>1531</td>\n",
       "    </tr>\n",
       "    <tr>\n",
       "      <td>0</td>\n",
       "      <td>добавил товар в корзину</td>\n",
       "      <td>1266</td>\n",
       "      <td>1239</td>\n",
       "      <td>1231</td>\n",
       "    </tr>\n",
       "    <tr>\n",
       "      <td>2</td>\n",
       "      <td>оплата товара</td>\n",
       "      <td>1200</td>\n",
       "      <td>1158</td>\n",
       "      <td>1182</td>\n",
       "    </tr>\n",
       "  </tbody>\n",
       "</table>\n",
       "</div>"
      ],
      "text/plain": [
       "group                       event   246   247   248\n",
       "1       зашел на главную страницу  2450  2479  2494\n",
       "3      перешел на страницу товара  1542  1524  1531\n",
       "0         добавил товар в корзину  1266  1239  1231\n",
       "2                   оплата товара  1200  1158  1182"
      ]
     },
     "execution_count": 14,
     "metadata": {},
     "output_type": "execute_result"
    }
   ],
   "source": [
    "sample = df_filtred[df_filtred['event'] != 'консультацияl'].pivot_table(index='event', columns='group', values='user_id', aggfunc='nunique').reset_index()\n",
    "sample = sample.sort_values(by=246, ascending=False)\n",
    "sample"
   ]
  },
  {
   "cell_type": "markdown",
   "metadata": {},
   "source": [
    "В выборках отклонение по пользователем немного больше 1%, поэтому их можно сравнивать между собой. "
   ]
  },
  {
   "cell_type": "markdown",
   "metadata": {},
   "source": [
    "\n",
    "Применим z_test для контроля А/А групп, а затем сравнения с каждой А группы с В. альфа = 0.05. Нулевая гипотеза: разницы между выборками нет <br>\n",
    "Альтернативная: разница между выборками есть"
   ]
  },
  {
   "cell_type": "code",
   "execution_count": null,
   "metadata": {},
   "outputs": [],
   "source": [
    "def z_test(first, secend, alpha):\n",
    "    for i in sample.index:\n",
    "        alpha= alpha / 3\n",
    "        z_stat, pval = proportions_ztest([sample[first][i], sample[secend][i]], nobs=[n_users[first], n_users[secend]])\n",
    "        print(sample['event'][i])\n",
    "        if pval < alpha:\n",
    "            print('Отвергаем нулевую гипотезу, есть значимая разница')\n",
    "        else:\n",
    "            print('Не получилось отвергнуть нулевую гипотезу, нет оснований считать доли разными')\n",
    "        "
   ]
  },
  {
   "cell_type": "code",
   "execution_count": null,
   "metadata": {
    "scrolled": true
   },
   "outputs": [],
   "source": [
    "z_test(246, 247, 0.05)"
   ]
  },
  {
   "cell_type": "markdown",
   "metadata": {},
   "source": [
    "  \n",
    "Разницы между контрольными группами нет, можно сравнить каждую А группу с В группой."
   ]
  },
  {
   "cell_type": "code",
   "execution_count": null,
   "metadata": {},
   "outputs": [],
   "source": [
    "z_test(246, 248, 0.05)"
   ]
  },
  {
   "cell_type": "code",
   "execution_count": null,
   "metadata": {},
   "outputs": [],
   "source": [
    "z_test(247, 248, 0.05)"
   ]
  },
  {
   "cell_type": "markdown",
   "metadata": {},
   "source": [
    "\n",
    "Разницы между А/А и В группами нет, можно сделать вывод, что изменение шрифта никак не скажется на конверсии. "
   ]
  },
  {
   "cell_type": "markdown",
   "metadata": {},
   "source": [
    "### Вывод\n",
    "\n",
    "1. Воронка сайта выглядит следующим образом: открытие главной страницы, переход на страницу товара, добавление товара в корзину, олата. Предполагаемой воронке слудует большинство покупателей, но к концу доходит только 6.2% всех пользователей, которые посетили сайт.  <br> <br>\n",
    "2. Исходя из результатов  A/A/B-теста, можно сделать вывод, что  изменение шрифта не оказало значимого эффекта на поведение пользователей. Шрифт можно поменять, можно оставить, пользователи не заметили существенной разницы. Менеджеров больше заинтересует тот факт, что после прихода на страницу почти половина пользователей покидает ее - 43,4%.Это говорит о том, что версия сайта неудобна пользователям, которые заходят с какого-то устройства, и необходимо исправить проблему.\n"
   ]
  },
  {
   "cell_type": "code",
   "execution_count": null,
   "metadata": {},
   "outputs": [],
   "source": []
  }
 ],
 "metadata": {
  "ExecuteTimeLog": [
   {
    "duration": 1924,
    "start_time": "2021-12-30T10:31:32.873Z"
   },
   {
    "duration": 325,
    "start_time": "2021-12-30T10:32:13.701Z"
   },
   {
    "duration": 16,
    "start_time": "2021-12-30T10:32:21.986Z"
   },
   {
    "duration": 168,
    "start_time": "2021-12-30T10:37:58.866Z"
   },
   {
    "duration": 12,
    "start_time": "2021-12-30T10:38:00.966Z"
   },
   {
    "duration": 14,
    "start_time": "2021-12-30T10:40:57.171Z"
   },
   {
    "duration": 607,
    "start_time": "2021-12-30T10:57:22.736Z"
   },
   {
    "duration": 25,
    "start_time": "2021-12-30T10:57:31.948Z"
   },
   {
    "duration": 20,
    "start_time": "2021-12-30T10:57:58.737Z"
   },
   {
    "duration": 250,
    "start_time": "2021-12-30T10:58:24.070Z"
   },
   {
    "duration": 24,
    "start_time": "2021-12-30T10:58:32.853Z"
   },
   {
    "duration": 23,
    "start_time": "2021-12-30T10:59:34.646Z"
   },
   {
    "duration": 81,
    "start_time": "2021-12-30T11:04:50.050Z"
   },
   {
    "duration": 81,
    "start_time": "2021-12-30T11:05:34.953Z"
   },
   {
    "duration": 171,
    "start_time": "2021-12-30T11:06:11.513Z"
   },
   {
    "duration": 241,
    "start_time": "2021-12-30T11:06:22.021Z"
   },
   {
    "duration": 20,
    "start_time": "2021-12-30T11:07:52.717Z"
   },
   {
    "duration": 131,
    "start_time": "2021-12-30T11:08:34.428Z"
   },
   {
    "duration": 488,
    "start_time": "2021-12-30T11:08:36.945Z"
   },
   {
    "duration": 248,
    "start_time": "2021-12-30T11:08:43.288Z"
   },
   {
    "duration": 252,
    "start_time": "2021-12-30T11:10:10.181Z"
   },
   {
    "duration": 32,
    "start_time": "2021-12-30T11:10:19.428Z"
   },
   {
    "duration": 274,
    "start_time": "2021-12-30T11:10:27.754Z"
   },
   {
    "duration": 261,
    "start_time": "2021-12-30T11:11:16.596Z"
   },
   {
    "duration": 374,
    "start_time": "2021-12-30T11:15:14.092Z"
   },
   {
    "duration": 350,
    "start_time": "2021-12-30T11:17:43.984Z"
   },
   {
    "duration": 454,
    "start_time": "2021-12-30T11:19:14.267Z"
   },
   {
    "duration": 269,
    "start_time": "2021-12-30T11:21:01.903Z"
   },
   {
    "duration": 255,
    "start_time": "2021-12-30T11:26:41.284Z"
   },
   {
    "duration": 207,
    "start_time": "2021-12-30T11:26:55.661Z"
   },
   {
    "duration": 126,
    "start_time": "2021-12-30T11:27:03.927Z"
   },
   {
    "duration": 114,
    "start_time": "2021-12-30T11:40:44.757Z"
   },
   {
    "duration": 98,
    "start_time": "2021-12-30T11:40:49.771Z"
   },
   {
    "duration": 378,
    "start_time": "2021-12-30T11:42:14.476Z"
   },
   {
    "duration": 31,
    "start_time": "2021-12-30T11:42:26.232Z"
   },
   {
    "duration": 926,
    "start_time": "2021-12-30T11:51:48.280Z"
   },
   {
    "duration": 29,
    "start_time": "2021-12-30T11:51:56.408Z"
   },
   {
    "duration": 106,
    "start_time": "2021-12-30T11:52:48.856Z"
   },
   {
    "duration": 474,
    "start_time": "2021-12-30T11:53:59.696Z"
   },
   {
    "duration": 350,
    "start_time": "2021-12-30T11:54:41.993Z"
   },
   {
    "duration": 75,
    "start_time": "2021-12-30T11:55:00.907Z"
   },
   {
    "duration": 39,
    "start_time": "2021-12-30T11:57:48.017Z"
   },
   {
    "duration": 58,
    "start_time": "2021-12-30T11:59:21.091Z"
   },
   {
    "duration": 76,
    "start_time": "2021-12-30T11:59:29.402Z"
   },
   {
    "duration": 106,
    "start_time": "2021-12-30T11:59:50.707Z"
   },
   {
    "duration": 553,
    "start_time": "2021-12-30T12:01:45.039Z"
   },
   {
    "duration": 68,
    "start_time": "2021-12-30T12:08:38.961Z"
   },
   {
    "duration": 76,
    "start_time": "2021-12-30T12:08:44.925Z"
   },
   {
    "duration": 87,
    "start_time": "2021-12-30T12:11:42.803Z"
   },
   {
    "duration": 77,
    "start_time": "2021-12-30T12:12:04.056Z"
   },
   {
    "duration": 79,
    "start_time": "2021-12-30T12:14:15.782Z"
   },
   {
    "duration": 6,
    "start_time": "2021-12-30T12:15:47.799Z"
   },
   {
    "duration": 8,
    "start_time": "2021-12-30T12:15:53.822Z"
   },
   {
    "duration": 103,
    "start_time": "2021-12-30T12:30:24.361Z"
   },
   {
    "duration": 458,
    "start_time": "2021-12-30T12:31:08.180Z"
   },
   {
    "duration": 150,
    "start_time": "2021-12-30T12:31:29.519Z"
   },
   {
    "duration": 11,
    "start_time": "2021-12-30T12:33:39.332Z"
   },
   {
    "duration": 961,
    "start_time": "2021-12-30T12:37:05.759Z"
   },
   {
    "duration": 14756,
    "start_time": "2021-12-30T12:43:40.725Z"
   },
   {
    "duration": 20030,
    "start_time": "2021-12-30T12:44:53.407Z"
   },
   {
    "duration": 19632,
    "start_time": "2021-12-30T12:45:27.258Z"
   },
   {
    "duration": 15243,
    "start_time": "2021-12-30T12:46:33.787Z"
   },
   {
    "duration": 27,
    "start_time": "2021-12-30T12:59:24.905Z"
   },
   {
    "duration": 57,
    "start_time": "2021-12-30T12:59:41.270Z"
   },
   {
    "duration": 24,
    "start_time": "2021-12-30T13:00:12.856Z"
   },
   {
    "duration": 26,
    "start_time": "2021-12-30T13:00:30.407Z"
   },
   {
    "duration": 32,
    "start_time": "2021-12-30T13:01:44.296Z"
   },
   {
    "duration": 44,
    "start_time": "2021-12-30T13:03:57.702Z"
   },
   {
    "duration": 5,
    "start_time": "2021-12-30T13:05:28.581Z"
   },
   {
    "duration": 6,
    "start_time": "2021-12-30T13:06:05.068Z"
   },
   {
    "duration": 6,
    "start_time": "2021-12-30T13:07:38.980Z"
   },
   {
    "duration": 8,
    "start_time": "2021-12-30T13:08:01.439Z"
   },
   {
    "duration": 17295,
    "start_time": "2021-12-30T13:09:51.068Z"
   },
   {
    "duration": 9261,
    "start_time": "2021-12-30T13:10:28.077Z"
   },
   {
    "duration": 8470,
    "start_time": "2021-12-30T13:10:51.184Z"
   },
   {
    "duration": 9126,
    "start_time": "2021-12-30T13:12:48.530Z"
   },
   {
    "duration": 8663,
    "start_time": "2021-12-30T13:13:10.921Z"
   },
   {
    "duration": 55,
    "start_time": "2021-12-30T13:18:25.994Z"
   },
   {
    "duration": 267,
    "start_time": "2021-12-30T13:29:49.412Z"
   },
   {
    "duration": 1055,
    "start_time": "2021-12-30T13:30:11.421Z"
   },
   {
    "duration": 109,
    "start_time": "2021-12-30T13:30:32.817Z"
   },
   {
    "duration": 114,
    "start_time": "2021-12-30T13:31:10.318Z"
   },
   {
    "duration": 351,
    "start_time": "2021-12-30T13:35:06.255Z"
   },
   {
    "duration": 333,
    "start_time": "2021-12-30T13:35:24.722Z"
   },
   {
    "duration": 368,
    "start_time": "2021-12-30T13:35:33.523Z"
   },
   {
    "duration": 351,
    "start_time": "2021-12-30T13:36:23.054Z"
   },
   {
    "duration": 322,
    "start_time": "2021-12-30T13:37:05.320Z"
   },
   {
    "duration": 482,
    "start_time": "2021-12-30T13:37:17.503Z"
   },
   {
    "duration": 501,
    "start_time": "2021-12-30T13:37:49.026Z"
   },
   {
    "duration": 533,
    "start_time": "2021-12-30T13:37:57.604Z"
   },
   {
    "duration": 655,
    "start_time": "2021-12-30T13:38:10.668Z"
   },
   {
    "duration": 560,
    "start_time": "2021-12-30T13:38:17.650Z"
   },
   {
    "duration": 381,
    "start_time": "2021-12-30T13:38:29.308Z"
   },
   {
    "duration": 351,
    "start_time": "2021-12-30T13:39:48.469Z"
   },
   {
    "duration": 348,
    "start_time": "2021-12-30T13:40:30.364Z"
   },
   {
    "duration": 572,
    "start_time": "2021-12-30T13:45:36.194Z"
   },
   {
    "duration": 386,
    "start_time": "2021-12-30T13:49:15.251Z"
   },
   {
    "duration": 546,
    "start_time": "2021-12-30T13:57:38.963Z"
   },
   {
    "duration": 1507,
    "start_time": "2021-12-30T13:58:01.148Z"
   },
   {
    "duration": 546,
    "start_time": "2021-12-30T13:58:12.836Z"
   },
   {
    "duration": 533,
    "start_time": "2021-12-30T13:59:14.500Z"
   },
   {
    "duration": 335,
    "start_time": "2021-12-30T13:59:25.391Z"
   },
   {
    "duration": 90,
    "start_time": "2021-12-30T14:02:03.284Z"
   },
   {
    "duration": 92,
    "start_time": "2021-12-30T14:02:11.475Z"
   },
   {
    "duration": 86,
    "start_time": "2021-12-30T14:04:17.598Z"
   },
   {
    "duration": 583,
    "start_time": "2021-12-30T14:05:06.160Z"
   },
   {
    "duration": 1013,
    "start_time": "2021-12-30T14:06:07.641Z"
   },
   {
    "duration": 745,
    "start_time": "2021-12-30T14:06:24.924Z"
   },
   {
    "duration": 1114,
    "start_time": "2021-12-30T16:25:13.501Z"
   },
   {
    "duration": 125,
    "start_time": "2021-12-30T16:25:14.617Z"
   },
   {
    "duration": 187,
    "start_time": "2021-12-30T16:25:17.075Z"
   },
   {
    "duration": 85,
    "start_time": "2021-12-30T16:25:19.385Z"
   },
   {
    "duration": 593,
    "start_time": "2021-12-30T16:25:21.247Z"
   },
   {
    "duration": 92,
    "start_time": "2021-12-30T16:25:45.347Z"
   },
   {
    "duration": 6,
    "start_time": "2021-12-30T16:25:47.313Z"
   },
   {
    "duration": 8803,
    "start_time": "2021-12-30T16:25:52.006Z"
   },
   {
    "duration": 29,
    "start_time": "2021-12-30T16:26:00.811Z"
   },
   {
    "duration": 63,
    "start_time": "2021-12-30T16:26:00.842Z"
   },
   {
    "duration": 5576,
    "start_time": "2021-12-30T16:26:04.215Z"
   },
   {
    "duration": 280,
    "start_time": "2021-12-30T16:32:31.792Z"
   },
   {
    "duration": 284,
    "start_time": "2021-12-30T16:33:31.573Z"
   },
   {
    "duration": 269,
    "start_time": "2021-12-30T16:34:07.248Z"
   },
   {
    "duration": 271,
    "start_time": "2021-12-30T16:34:37.835Z"
   },
   {
    "duration": 270,
    "start_time": "2021-12-30T16:34:48.342Z"
   },
   {
    "duration": 357,
    "start_time": "2021-12-30T16:36:28.155Z"
   },
   {
    "duration": 349,
    "start_time": "2021-12-30T16:36:43.780Z"
   },
   {
    "duration": 272,
    "start_time": "2021-12-30T16:37:16.426Z"
   },
   {
    "duration": 544,
    "start_time": "2021-12-30T16:37:26.156Z"
   },
   {
    "duration": 268,
    "start_time": "2021-12-30T16:37:37.105Z"
   },
   {
    "duration": 270,
    "start_time": "2021-12-30T16:37:42.422Z"
   },
   {
    "duration": 280,
    "start_time": "2021-12-30T16:37:50.271Z"
   },
   {
    "duration": 271,
    "start_time": "2021-12-30T16:38:00.736Z"
   },
   {
    "duration": 358,
    "start_time": "2021-12-30T16:39:07.270Z"
   },
   {
    "duration": 364,
    "start_time": "2021-12-30T16:39:12.767Z"
   },
   {
    "duration": 359,
    "start_time": "2021-12-30T16:39:23.277Z"
   },
   {
    "duration": 364,
    "start_time": "2021-12-30T16:39:30.272Z"
   },
   {
    "duration": 40,
    "start_time": "2021-12-30T16:55:49.236Z"
   },
   {
    "duration": 44,
    "start_time": "2021-12-30T16:57:05.186Z"
   },
   {
    "duration": 282,
    "start_time": "2021-12-30T17:04:37.501Z"
   },
   {
    "duration": 287,
    "start_time": "2021-12-30T17:04:51.520Z"
   },
   {
    "duration": 392,
    "start_time": "2021-12-30T17:05:01.279Z"
   },
   {
    "duration": 276,
    "start_time": "2021-12-30T17:05:34.438Z"
   },
   {
    "duration": 76,
    "start_time": "2021-12-30T17:32:46.688Z"
   },
   {
    "duration": 86,
    "start_time": "2021-12-30T17:33:29.315Z"
   },
   {
    "duration": 359,
    "start_time": "2021-12-30T17:34:08.648Z"
   },
   {
    "duration": 7,
    "start_time": "2021-12-30T17:34:41.424Z"
   },
   {
    "duration": 286,
    "start_time": "2021-12-30T17:34:52.912Z"
   },
   {
    "duration": 377,
    "start_time": "2021-12-30T17:35:02.795Z"
   },
   {
    "duration": 96,
    "start_time": "2021-12-30T17:41:15.634Z"
   },
   {
    "duration": 230,
    "start_time": "2021-12-30T17:41:36.435Z"
   },
   {
    "duration": 218,
    "start_time": "2021-12-30T17:41:52.514Z"
   },
   {
    "duration": 231,
    "start_time": "2021-12-30T17:41:59.636Z"
   },
   {
    "duration": 225,
    "start_time": "2021-12-30T17:42:08.966Z"
   },
   {
    "duration": 233,
    "start_time": "2021-12-30T17:42:15.351Z"
   },
   {
    "duration": 220,
    "start_time": "2021-12-30T17:42:22.817Z"
   },
   {
    "duration": 317,
    "start_time": "2021-12-30T17:42:29.789Z"
   },
   {
    "duration": 218,
    "start_time": "2021-12-30T17:42:37.492Z"
   },
   {
    "duration": 229,
    "start_time": "2021-12-30T17:42:45.895Z"
   },
   {
    "duration": 222,
    "start_time": "2021-12-30T17:42:52.768Z"
   },
   {
    "duration": 228,
    "start_time": "2021-12-30T17:42:59.017Z"
   },
   {
    "duration": 241,
    "start_time": "2021-12-30T17:43:04.629Z"
   },
   {
    "duration": 83,
    "start_time": "2021-12-30T17:47:37.237Z"
   },
   {
    "duration": 302,
    "start_time": "2021-12-30T17:47:42.829Z"
   },
   {
    "duration": 58,
    "start_time": "2021-12-30T17:58:33.599Z"
   },
   {
    "duration": 11,
    "start_time": "2021-12-30T18:10:25.719Z"
   },
   {
    "duration": 67,
    "start_time": "2021-12-30T18:13:29.933Z"
   },
   {
    "duration": 79,
    "start_time": "2021-12-30T18:13:38.598Z"
   },
   {
    "duration": 73,
    "start_time": "2021-12-30T18:14:12.732Z"
   },
   {
    "duration": 12,
    "start_time": "2021-12-30T18:14:37.374Z"
   },
   {
    "duration": 338,
    "start_time": "2021-12-30T18:17:47.695Z"
   },
   {
    "duration": 411,
    "start_time": "2021-12-30T18:18:12.179Z"
   },
   {
    "duration": 655,
    "start_time": "2021-12-30T18:18:22.944Z"
   },
   {
    "duration": 81,
    "start_time": "2021-12-30T18:22:58.891Z"
   },
   {
    "duration": 12,
    "start_time": "2021-12-30T18:23:04.633Z"
   },
   {
    "duration": 116,
    "start_time": "2021-12-30T18:23:05.547Z"
   },
   {
    "duration": 544,
    "start_time": "2021-12-30T18:34:53.481Z"
   },
   {
    "duration": 72,
    "start_time": "2021-12-30T18:56:39.614Z"
   },
   {
    "duration": 103,
    "start_time": "2021-12-30T18:57:54.114Z"
   },
   {
    "duration": 5351,
    "start_time": "2021-12-30T18:58:12.250Z"
   },
   {
    "duration": 5128,
    "start_time": "2021-12-30T19:03:03.593Z"
   },
   {
    "duration": 215,
    "start_time": "2021-12-30T19:03:46.052Z"
   },
   {
    "duration": 11,
    "start_time": "2021-12-30T19:19:57.445Z"
   },
   {
    "duration": 10,
    "start_time": "2021-12-30T19:20:06.306Z"
   },
   {
    "duration": 5,
    "start_time": "2021-12-30T19:20:13.309Z"
   },
   {
    "duration": 71,
    "start_time": "2021-12-30T19:25:23.850Z"
   },
   {
    "duration": 1159,
    "start_time": "2021-12-30T19:25:34.604Z"
   },
   {
    "duration": 1194,
    "start_time": "2021-12-30T19:26:07.673Z"
   },
   {
    "duration": 25,
    "start_time": "2021-12-30T19:26:59.786Z"
   },
   {
    "duration": 5,
    "start_time": "2021-12-30T19:50:21.185Z"
   },
   {
    "duration": 215,
    "start_time": "2021-12-30T19:53:04.681Z"
   },
   {
    "duration": 51,
    "start_time": "2021-12-30T19:53:10.929Z"
   },
   {
    "duration": 55,
    "start_time": "2021-12-30T19:53:41.416Z"
   },
   {
    "duration": 59,
    "start_time": "2021-12-30T19:54:00.717Z"
   },
   {
    "duration": 62,
    "start_time": "2021-12-30T19:54:15.272Z"
   },
   {
    "duration": 536,
    "start_time": "2021-12-30T20:13:09.958Z"
   },
   {
    "duration": 205,
    "start_time": "2021-12-30T20:13:18.270Z"
   },
   {
    "duration": 47,
    "start_time": "2021-12-30T20:30:46.587Z"
   },
   {
    "duration": 49,
    "start_time": "2021-12-30T20:30:56.877Z"
   },
   {
    "duration": 29,
    "start_time": "2021-12-30T20:31:26.693Z"
   },
   {
    "duration": 6,
    "start_time": "2021-12-30T20:35:44.533Z"
   },
   {
    "duration": 397,
    "start_time": "2021-12-30T20:36:10.331Z"
   },
   {
    "duration": 60,
    "start_time": "2021-12-30T20:36:16.013Z"
   },
   {
    "duration": 6,
    "start_time": "2021-12-30T20:36:16.667Z"
   },
   {
    "duration": 5958,
    "start_time": "2021-12-30T20:36:18.446Z"
   },
   {
    "duration": 7,
    "start_time": "2021-12-30T20:37:05.325Z"
   },
   {
    "duration": 270,
    "start_time": "2021-12-30T20:46:36.691Z"
   },
   {
    "duration": 270,
    "start_time": "2021-12-30T20:46:48.274Z"
   },
   {
    "duration": 201,
    "start_time": "2021-12-30T20:47:21.883Z"
   },
   {
    "duration": 6,
    "start_time": "2021-12-30T20:47:33.559Z"
   },
   {
    "duration": 4739,
    "start_time": "2021-12-30T20:47:34.445Z"
   },
   {
    "duration": 3,
    "start_time": "2021-12-30T20:48:08.035Z"
   },
   {
    "duration": 5,
    "start_time": "2021-12-30T20:48:08.569Z"
   },
   {
    "duration": 3159,
    "start_time": "2021-12-30T20:48:09.435Z"
   },
   {
    "duration": 6,
    "start_time": "2021-12-30T20:49:20.091Z"
   },
   {
    "duration": 5602,
    "start_time": "2021-12-30T20:49:20.610Z"
   },
   {
    "duration": 324,
    "start_time": "2021-12-30T20:50:36.564Z"
   },
   {
    "duration": 196,
    "start_time": "2021-12-30T20:50:55.716Z"
   },
   {
    "duration": 3362,
    "start_time": "2021-12-30T20:51:36.395Z"
   },
   {
    "duration": 2971,
    "start_time": "2021-12-30T20:51:49.102Z"
   },
   {
    "duration": 215,
    "start_time": "2021-12-30T20:52:00.161Z"
   },
   {
    "duration": 195,
    "start_time": "2021-12-30T20:52:11.215Z"
   },
   {
    "duration": 195,
    "start_time": "2021-12-30T20:52:31.023Z"
   },
   {
    "duration": 5,
    "start_time": "2021-12-30T20:52:46.400Z"
   },
   {
    "duration": 5953,
    "start_time": "2021-12-30T20:52:48.977Z"
   },
   {
    "duration": 6,
    "start_time": "2021-12-30T20:54:41.421Z"
   },
   {
    "duration": 5811,
    "start_time": "2021-12-30T20:54:41.990Z"
   },
   {
    "duration": 203,
    "start_time": "2021-12-30T20:55:22.758Z"
   },
   {
    "duration": 199,
    "start_time": "2021-12-30T20:55:54.335Z"
   },
   {
    "duration": 4,
    "start_time": "2021-12-30T21:10:58.093Z"
   },
   {
    "duration": 232,
    "start_time": "2021-12-30T21:11:53.908Z"
   },
   {
    "duration": 5,
    "start_time": "2021-12-30T21:15:27.546Z"
   },
   {
    "duration": 214,
    "start_time": "2021-12-30T21:15:32.297Z"
   },
   {
    "duration": 5,
    "start_time": "2021-12-30T21:16:10.086Z"
   },
   {
    "duration": 206,
    "start_time": "2021-12-30T21:16:18.879Z"
   },
   {
    "duration": 203,
    "start_time": "2021-12-30T21:16:40.656Z"
   },
   {
    "duration": 283,
    "start_time": "2021-12-30T21:17:07.611Z"
   },
   {
    "duration": 214,
    "start_time": "2021-12-30T21:31:41.339Z"
   },
   {
    "duration": 240,
    "start_time": "2021-12-30T21:33:04.471Z"
   },
   {
    "duration": 5,
    "start_time": "2021-12-30T21:33:16.650Z"
   },
   {
    "duration": 5,
    "start_time": "2021-12-30T21:33:54.083Z"
   },
   {
    "duration": 5,
    "start_time": "2021-12-30T21:34:22.527Z"
   },
   {
    "duration": 4,
    "start_time": "2021-12-30T21:34:43.848Z"
   },
   {
    "duration": 5,
    "start_time": "2021-12-30T21:34:58.507Z"
   },
   {
    "duration": 4,
    "start_time": "2021-12-30T21:38:59.532Z"
   },
   {
    "duration": 4,
    "start_time": "2021-12-30T21:39:16.232Z"
   },
   {
    "duration": 5,
    "start_time": "2021-12-30T21:41:55.776Z"
   },
   {
    "duration": 440,
    "start_time": "2021-12-30T21:44:17.461Z"
   },
   {
    "duration": 209,
    "start_time": "2021-12-30T21:44:24.290Z"
   },
   {
    "duration": 199,
    "start_time": "2021-12-30T21:48:45.264Z"
   },
   {
    "duration": 202,
    "start_time": "2021-12-30T21:48:52.880Z"
   },
   {
    "duration": 406,
    "start_time": "2021-12-30T21:49:23.315Z"
   },
   {
    "duration": 204,
    "start_time": "2021-12-30T21:49:27.687Z"
   },
   {
    "duration": 205,
    "start_time": "2021-12-30T21:49:33.346Z"
   },
   {
    "duration": 84,
    "start_time": "2021-12-30T21:54:42.033Z"
   },
   {
    "duration": 4,
    "start_time": "2021-12-30T21:54:59.832Z"
   },
   {
    "duration": 220,
    "start_time": "2021-12-30T21:55:21.665Z"
   },
   {
    "duration": 7,
    "start_time": "2021-12-30T21:55:34.639Z"
   },
   {
    "duration": 196,
    "start_time": "2021-12-30T21:56:29.381Z"
   },
   {
    "duration": 4,
    "start_time": "2021-12-30T21:56:50.289Z"
   },
   {
    "duration": 7,
    "start_time": "2021-12-30T21:56:50.789Z"
   },
   {
    "duration": 217,
    "start_time": "2021-12-30T21:57:37.880Z"
   },
   {
    "duration": 3,
    "start_time": "2021-12-30T21:57:48.372Z"
   },
   {
    "duration": 5,
    "start_time": "2021-12-30T21:57:49.026Z"
   },
   {
    "duration": 4,
    "start_time": "2021-12-30T21:57:50.064Z"
   },
   {
    "duration": 7,
    "start_time": "2021-12-30T21:57:51.703Z"
   },
   {
    "duration": 6,
    "start_time": "2021-12-30T21:58:09.510Z"
   },
   {
    "duration": 4,
    "start_time": "2021-12-30T21:58:11.912Z"
   },
   {
    "duration": 417,
    "start_time": "2021-12-30T21:58:12.594Z"
   },
   {
    "duration": 68,
    "start_time": "2021-12-30T21:58:22.457Z"
   },
   {
    "duration": 4,
    "start_time": "2021-12-30T21:58:34.980Z"
   },
   {
    "duration": 4,
    "start_time": "2021-12-30T21:59:04.545Z"
   },
   {
    "duration": 7,
    "start_time": "2021-12-30T21:59:06.228Z"
   },
   {
    "duration": 5,
    "start_time": "2021-12-30T21:59:39.262Z"
   },
   {
    "duration": 6,
    "start_time": "2021-12-30T22:00:05.919Z"
   },
   {
    "duration": 6,
    "start_time": "2021-12-30T22:01:30.714Z"
   },
   {
    "duration": 6,
    "start_time": "2021-12-30T22:01:40.029Z"
   },
   {
    "duration": 1438,
    "start_time": "2021-12-30T22:36:45.872Z"
   },
   {
    "duration": 128,
    "start_time": "2021-12-30T22:36:47.312Z"
   },
   {
    "duration": 176,
    "start_time": "2021-12-30T22:36:47.442Z"
   },
   {
    "duration": 86,
    "start_time": "2021-12-30T22:36:47.620Z"
   },
   {
    "duration": 572,
    "start_time": "2021-12-30T22:36:47.708Z"
   },
   {
    "duration": 94,
    "start_time": "2021-12-30T22:36:48.281Z"
   },
   {
    "duration": 7,
    "start_time": "2021-12-30T22:36:48.377Z"
   },
   {
    "duration": 8550,
    "start_time": "2021-12-30T22:36:48.387Z"
   },
   {
    "duration": 34,
    "start_time": "2021-12-30T22:36:56.939Z"
   },
   {
    "duration": 42,
    "start_time": "2021-12-30T22:36:56.975Z"
   },
   {
    "duration": 5205,
    "start_time": "2021-12-30T22:36:57.018Z"
   },
   {
    "duration": 6,
    "start_time": "2021-12-30T22:37:02.225Z"
   },
   {
    "duration": 313,
    "start_time": "2021-12-30T22:37:02.233Z"
   },
   {
    "duration": 396,
    "start_time": "2021-12-30T22:37:02.548Z"
   },
   {
    "duration": 245,
    "start_time": "2021-12-30T22:37:02.946Z"
   },
   {
    "duration": 310,
    "start_time": "2021-12-30T22:37:03.193Z"
   },
   {
    "duration": 95,
    "start_time": "2021-12-30T22:37:03.505Z"
   },
   {
    "duration": 12,
    "start_time": "2021-12-30T22:37:03.601Z"
   },
   {
    "duration": 698,
    "start_time": "2021-12-30T22:37:03.614Z"
   },
   {
    "duration": 449,
    "start_time": "2021-12-30T22:37:04.314Z"
   },
   {
    "duration": 29,
    "start_time": "2021-12-30T22:37:04.765Z"
   },
   {
    "duration": 246,
    "start_time": "2021-12-30T22:37:04.796Z"
   },
   {
    "duration": 3,
    "start_time": "2021-12-30T22:37:05.045Z"
   },
   {
    "duration": 15,
    "start_time": "2021-12-30T22:37:05.050Z"
   },
   {
    "duration": 12,
    "start_time": "2021-12-30T22:37:05.067Z"
   },
   {
    "duration": 7,
    "start_time": "2021-12-30T22:37:05.081Z"
   },
   {
    "duration": 619,
    "start_time": "2021-12-30T22:40:13.021Z"
   },
   {
    "duration": 466,
    "start_time": "2021-12-30T22:40:37.905Z"
   },
   {
    "duration": 368,
    "start_time": "2021-12-30T22:41:08.753Z"
   },
   {
    "duration": 525,
    "start_time": "2021-12-30T22:41:40.459Z"
   },
   {
    "duration": 377,
    "start_time": "2021-12-30T22:43:02.464Z"
   },
   {
    "duration": 361,
    "start_time": "2021-12-30T22:43:08.068Z"
   },
   {
    "duration": 372,
    "start_time": "2021-12-30T22:43:12.809Z"
   },
   {
    "duration": 384,
    "start_time": "2021-12-30T22:43:19.718Z"
   },
   {
    "duration": 364,
    "start_time": "2021-12-30T22:43:26.526Z"
   },
   {
    "duration": 367,
    "start_time": "2021-12-30T22:43:33.483Z"
   },
   {
    "duration": 635,
    "start_time": "2021-12-30T22:44:41.598Z"
   },
   {
    "duration": 464,
    "start_time": "2021-12-30T22:45:52.551Z"
   },
   {
    "duration": 223,
    "start_time": "2021-12-30T22:46:36.601Z"
   },
   {
    "duration": 237,
    "start_time": "2021-12-30T22:46:53.442Z"
   },
   {
    "duration": 238,
    "start_time": "2021-12-30T22:47:16.933Z"
   },
   {
    "duration": 239,
    "start_time": "2021-12-30T22:47:21.930Z"
   },
   {
    "duration": 239,
    "start_time": "2021-12-30T22:47:28.398Z"
   },
   {
    "duration": 234,
    "start_time": "2021-12-30T22:47:33.232Z"
   },
   {
    "duration": 233,
    "start_time": "2021-12-30T22:47:42.958Z"
   },
   {
    "duration": 290,
    "start_time": "2021-12-30T22:47:51.077Z"
   },
   {
    "duration": 314,
    "start_time": "2021-12-30T22:49:35.919Z"
   },
   {
    "duration": 1550,
    "start_time": "2021-12-30T22:50:02.379Z"
   },
   {
    "duration": 130,
    "start_time": "2021-12-30T22:50:03.931Z"
   },
   {
    "duration": 184,
    "start_time": "2021-12-30T22:50:08.497Z"
   },
   {
    "duration": 82,
    "start_time": "2021-12-30T22:50:10.829Z"
   },
   {
    "duration": 551,
    "start_time": "2021-12-30T22:50:13.683Z"
   },
   {
    "duration": 81,
    "start_time": "2021-12-30T22:50:18.736Z"
   },
   {
    "duration": 6,
    "start_time": "2021-12-30T22:50:20.532Z"
   },
   {
    "duration": 8406,
    "start_time": "2021-12-30T22:50:24.215Z"
   },
   {
    "duration": 38,
    "start_time": "2021-12-30T22:50:32.623Z"
   },
   {
    "duration": 44,
    "start_time": "2021-12-30T22:50:32.664Z"
   },
   {
    "duration": 25,
    "start_time": "2021-12-30T22:50:37.844Z"
   },
   {
    "duration": 44,
    "start_time": "2021-12-30T22:50:42.964Z"
   },
   {
    "duration": 5216,
    "start_time": "2021-12-30T22:50:49.930Z"
   },
   {
    "duration": 653,
    "start_time": "2021-12-30T22:51:22.520Z"
   },
   {
    "duration": 223,
    "start_time": "2021-12-30T22:52:02.425Z"
   },
   {
    "duration": 364,
    "start_time": "2021-12-30T22:52:11.759Z"
   },
   {
    "duration": 348,
    "start_time": "2021-12-30T22:52:37.886Z"
   },
   {
    "duration": 352,
    "start_time": "2021-12-30T22:52:49.398Z"
   },
   {
    "duration": 347,
    "start_time": "2021-12-30T22:52:56.871Z"
   },
   {
    "duration": 236,
    "start_time": "2021-12-30T22:53:04.314Z"
   },
   {
    "duration": 235,
    "start_time": "2021-12-30T22:53:22.763Z"
   },
   {
    "duration": 227,
    "start_time": "2021-12-30T22:53:35.199Z"
   },
   {
    "duration": 226,
    "start_time": "2021-12-30T22:53:42.722Z"
   },
   {
    "duration": 314,
    "start_time": "2021-12-30T22:53:54.405Z"
   },
   {
    "duration": 6,
    "start_time": "2021-12-30T22:54:42.641Z"
   },
   {
    "duration": 620,
    "start_time": "2021-12-30T22:54:44.851Z"
   },
   {
    "duration": 281,
    "start_time": "2021-12-30T22:54:58.862Z"
   },
   {
    "duration": 282,
    "start_time": "2021-12-30T22:55:05.834Z"
   },
   {
    "duration": 79,
    "start_time": "2021-12-30T22:55:13.637Z"
   },
   {
    "duration": 14,
    "start_time": "2021-12-30T22:55:16.539Z"
   },
   {
    "duration": 516,
    "start_time": "2021-12-30T22:55:19.629Z"
   },
   {
    "duration": 203,
    "start_time": "2021-12-30T22:55:21.256Z"
   },
   {
    "duration": 31,
    "start_time": "2021-12-30T22:55:28.167Z"
   },
   {
    "duration": 212,
    "start_time": "2021-12-30T22:55:29.207Z"
   },
   {
    "duration": 4,
    "start_time": "2021-12-30T22:55:30.368Z"
   },
   {
    "duration": 7,
    "start_time": "2021-12-30T22:55:30.783Z"
   },
   {
    "duration": 6,
    "start_time": "2021-12-30T22:55:31.579Z"
   },
   {
    "duration": 6,
    "start_time": "2021-12-30T22:55:31.977Z"
   },
   {
    "duration": 1568,
    "start_time": "2021-12-30T22:55:46.359Z"
   },
   {
    "duration": 127,
    "start_time": "2021-12-30T22:55:47.929Z"
   },
   {
    "duration": 186,
    "start_time": "2021-12-30T22:55:50.207Z"
   },
   {
    "duration": 83,
    "start_time": "2021-12-30T22:55:51.811Z"
   },
   {
    "duration": 580,
    "start_time": "2021-12-30T22:55:56.305Z"
   },
   {
    "duration": 85,
    "start_time": "2021-12-30T22:56:01.294Z"
   },
   {
    "duration": 7,
    "start_time": "2021-12-30T22:56:03.034Z"
   },
   {
    "duration": 8361,
    "start_time": "2021-12-30T22:56:05.805Z"
   },
   {
    "duration": 25,
    "start_time": "2021-12-30T22:56:14.168Z"
   },
   {
    "duration": 67,
    "start_time": "2021-12-30T22:56:14.195Z"
   },
   {
    "duration": 5215,
    "start_time": "2021-12-30T22:56:18.480Z"
   },
   {
    "duration": 6,
    "start_time": "2021-12-30T22:56:27.976Z"
   },
   {
    "duration": 284,
    "start_time": "2021-12-30T22:56:28.869Z"
   },
   {
    "duration": 364,
    "start_time": "2021-12-30T22:56:32.213Z"
   },
   {
    "duration": 241,
    "start_time": "2021-12-30T22:56:34.819Z"
   },
   {
    "duration": 408,
    "start_time": "2021-12-30T22:56:38.962Z"
   },
   {
    "duration": 109,
    "start_time": "2021-12-30T22:56:41.577Z"
   },
   {
    "duration": 13,
    "start_time": "2021-12-30T22:56:42.909Z"
   },
   {
    "duration": 699,
    "start_time": "2021-12-30T22:56:44.713Z"
   },
   {
    "duration": 322,
    "start_time": "2021-12-30T22:56:46.831Z"
   },
   {
    "duration": 30,
    "start_time": "2021-12-30T22:56:50.277Z"
   },
   {
    "duration": 230,
    "start_time": "2021-12-30T22:56:52.105Z"
   },
   {
    "duration": 3,
    "start_time": "2021-12-30T22:56:53.558Z"
   },
   {
    "duration": 7,
    "start_time": "2021-12-30T22:56:53.999Z"
   },
   {
    "duration": 6,
    "start_time": "2021-12-30T22:56:55.161Z"
   },
   {
    "duration": 173,
    "start_time": "2021-12-31T09:39:55.484Z"
   },
   {
    "duration": 1505,
    "start_time": "2021-12-31T09:39:59.784Z"
   },
   {
    "duration": 127,
    "start_time": "2021-12-31T09:40:01.291Z"
   },
   {
    "duration": 178,
    "start_time": "2021-12-31T09:40:02.669Z"
   },
   {
    "duration": 168,
    "start_time": "2021-12-31T09:40:24.998Z"
   },
   {
    "duration": 82,
    "start_time": "2021-12-31T09:40:37.220Z"
   },
   {
    "duration": 569,
    "start_time": "2021-12-31T09:40:38.491Z"
   },
   {
    "duration": 77,
    "start_time": "2021-12-31T09:41:00.352Z"
   },
   {
    "duration": 6,
    "start_time": "2021-12-31T09:41:14.629Z"
   },
   {
    "duration": 9005,
    "start_time": "2021-12-31T09:42:06.612Z"
   },
   {
    "duration": 25,
    "start_time": "2021-12-31T09:42:24.225Z"
   },
   {
    "duration": 42,
    "start_time": "2021-12-31T09:42:36.156Z"
   },
   {
    "duration": 5438,
    "start_time": "2021-12-31T09:42:42.741Z"
   },
   {
    "duration": 6,
    "start_time": "2021-12-31T09:44:05.137Z"
   },
   {
    "duration": 294,
    "start_time": "2021-12-31T09:44:08.192Z"
   },
   {
    "duration": 389,
    "start_time": "2021-12-31T09:44:37.531Z"
   },
   {
    "duration": 248,
    "start_time": "2021-12-31T09:44:41.997Z"
   },
   {
    "duration": 86,
    "start_time": "2021-12-31T09:45:02.235Z"
   },
   {
    "duration": 207,
    "start_time": "2021-12-31T09:45:22.474Z"
   },
   {
    "duration": 13,
    "start_time": "2021-12-31T09:45:28.048Z"
   },
   {
    "duration": 651,
    "start_time": "2021-12-31T09:45:28.674Z"
   },
   {
    "duration": 317,
    "start_time": "2021-12-31T09:45:33.030Z"
   },
   {
    "duration": 28,
    "start_time": "2021-12-31T09:46:03.160Z"
   },
   {
    "duration": 234,
    "start_time": "2021-12-31T09:46:05.731Z"
   },
   {
    "duration": 187,
    "start_time": "2021-12-31T10:03:50.433Z"
   },
   {
    "duration": 149,
    "start_time": "2021-12-31T10:03:57.640Z"
   },
   {
    "duration": 151,
    "start_time": "2021-12-31T10:04:37.583Z"
   },
   {
    "duration": 191,
    "start_time": "2021-12-31T10:04:44.221Z"
   },
   {
    "duration": 18,
    "start_time": "2021-12-31T10:04:55.745Z"
   },
   {
    "duration": 21,
    "start_time": "2021-12-31T10:05:27.008Z"
   },
   {
    "duration": 39,
    "start_time": "2021-12-31T10:06:23.515Z"
   },
   {
    "duration": 41,
    "start_time": "2021-12-31T10:13:19.301Z"
   },
   {
    "duration": 40,
    "start_time": "2021-12-31T10:13:30.741Z"
   },
   {
    "duration": 38,
    "start_time": "2021-12-31T10:13:39.457Z"
   },
   {
    "duration": 40,
    "start_time": "2021-12-31T10:13:52.826Z"
   },
   {
    "duration": 40,
    "start_time": "2021-12-31T10:14:04.434Z"
   },
   {
    "duration": 40,
    "start_time": "2021-12-31T10:14:17.174Z"
   },
   {
    "duration": 39,
    "start_time": "2021-12-31T10:16:15.346Z"
   },
   {
    "duration": 38,
    "start_time": "2021-12-31T10:16:25.916Z"
   },
   {
    "duration": 40,
    "start_time": "2021-12-31T10:16:47.005Z"
   },
   {
    "duration": 38,
    "start_time": "2021-12-31T10:16:56.715Z"
   },
   {
    "duration": 38,
    "start_time": "2021-12-31T10:17:15.755Z"
   },
   {
    "duration": 40,
    "start_time": "2021-12-31T10:25:47.520Z"
   },
   {
    "duration": 40,
    "start_time": "2021-12-31T10:26:50.212Z"
   },
   {
    "duration": 3,
    "start_time": "2021-12-31T10:35:37.692Z"
   },
   {
    "duration": 21,
    "start_time": "2021-12-31T10:36:34.846Z"
   },
   {
    "duration": 31,
    "start_time": "2021-12-31T10:38:04.155Z"
   },
   {
    "duration": 169,
    "start_time": "2021-12-31T10:38:15.942Z"
   },
   {
    "duration": 31,
    "start_time": "2021-12-31T10:38:28.280Z"
   },
   {
    "duration": 73,
    "start_time": "2021-12-31T10:39:00.895Z"
   },
   {
    "duration": 53,
    "start_time": "2021-12-31T10:39:05.459Z"
   },
   {
    "duration": 135,
    "start_time": "2021-12-31T10:41:10.931Z"
   },
   {
    "duration": 4,
    "start_time": "2021-12-31T10:41:47.850Z"
   },
   {
    "duration": 147,
    "start_time": "2021-12-31T10:42:02.878Z"
   },
   {
    "duration": 46,
    "start_time": "2021-12-31T10:42:11.335Z"
   },
   {
    "duration": 139,
    "start_time": "2021-12-31T10:42:11.730Z"
   },
   {
    "duration": 4,
    "start_time": "2021-12-31T10:42:23.515Z"
   },
   {
    "duration": 5,
    "start_time": "2021-12-31T10:42:42.381Z"
   },
   {
    "duration": 6,
    "start_time": "2021-12-31T10:42:52.368Z"
   },
   {
    "duration": 7,
    "start_time": "2021-12-31T10:45:52.681Z"
   },
   {
    "duration": 5,
    "start_time": "2021-12-31T10:58:51.064Z"
   },
   {
    "duration": 6,
    "start_time": "2021-12-31T10:58:53.754Z"
   },
   {
    "duration": 6,
    "start_time": "2021-12-31T10:59:00.961Z"
   },
   {
    "duration": 6,
    "start_time": "2021-12-31T10:59:07.652Z"
   },
   {
    "duration": 4,
    "start_time": "2021-12-31T11:04:58.644Z"
   },
   {
    "duration": 6,
    "start_time": "2021-12-31T11:05:00.712Z"
   },
   {
    "duration": 7,
    "start_time": "2021-12-31T11:05:05.156Z"
   },
   {
    "duration": 5,
    "start_time": "2021-12-31T11:05:07.380Z"
   },
   {
    "duration": 1400,
    "start_time": "2021-12-31T11:08:00.683Z"
   },
   {
    "duration": 120,
    "start_time": "2021-12-31T11:08:02.085Z"
   },
   {
    "duration": 171,
    "start_time": "2021-12-31T11:08:03.214Z"
   },
   {
    "duration": 80,
    "start_time": "2021-12-31T11:08:09.915Z"
   },
   {
    "duration": 547,
    "start_time": "2021-12-31T11:08:14.212Z"
   },
   {
    "duration": 79,
    "start_time": "2021-12-31T11:08:20.074Z"
   },
   {
    "duration": 6,
    "start_time": "2021-12-31T11:08:21.862Z"
   },
   {
    "duration": 8983,
    "start_time": "2021-12-31T11:08:30.538Z"
   },
   {
    "duration": 24,
    "start_time": "2021-12-31T11:08:44.517Z"
   },
   {
    "duration": 41,
    "start_time": "2021-12-31T11:08:46.121Z"
   },
   {
    "duration": 5395,
    "start_time": "2021-12-31T11:08:47.943Z"
   },
   {
    "duration": 6,
    "start_time": "2021-12-31T11:09:03.949Z"
   },
   {
    "duration": 296,
    "start_time": "2021-12-31T11:09:04.879Z"
   },
   {
    "duration": 295,
    "start_time": "2021-12-31T11:09:32.265Z"
   },
   {
    "duration": 378,
    "start_time": "2021-12-31T11:09:39.007Z"
   },
   {
    "duration": 249,
    "start_time": "2021-12-31T11:09:42.200Z"
   },
   {
    "duration": 296,
    "start_time": "2021-12-31T11:10:13.102Z"
   },
   {
    "duration": 6,
    "start_time": "2021-12-31T11:10:42.639Z"
   },
   {
    "duration": 292,
    "start_time": "2021-12-31T11:10:43.332Z"
   },
   {
    "duration": 304,
    "start_time": "2021-12-31T11:11:22.352Z"
   },
   {
    "duration": 56,
    "start_time": "2021-12-31T11:11:27.852Z"
   },
   {
    "duration": 289,
    "start_time": "2021-12-31T11:12:06.375Z"
   },
   {
    "duration": 380,
    "start_time": "2021-12-31T11:12:27.859Z"
   },
   {
    "duration": 251,
    "start_time": "2021-12-31T11:13:04.371Z"
   },
   {
    "duration": 328,
    "start_time": "2021-12-31T11:13:11.563Z"
   },
   {
    "duration": 88,
    "start_time": "2021-12-31T11:13:17.861Z"
   },
   {
    "duration": 277,
    "start_time": "2021-12-31T11:13:19.000Z"
   },
   {
    "duration": 485,
    "start_time": "2021-12-31T11:13:20.733Z"
   },
   {
    "duration": 198,
    "start_time": "2021-12-31T11:13:21.451Z"
   },
   {
    "duration": 44,
    "start_time": "2021-12-31T11:13:40.014Z"
   },
   {
    "duration": 6,
    "start_time": "2021-12-31T11:13:40.708Z"
   },
   {
    "duration": 30,
    "start_time": "2021-12-31T11:13:41.469Z"
   },
   {
    "duration": 216,
    "start_time": "2021-12-31T11:13:42.942Z"
   },
   {
    "duration": 4,
    "start_time": "2021-12-31T11:13:46.947Z"
   },
   {
    "duration": 7,
    "start_time": "2021-12-31T11:13:47.922Z"
   },
   {
    "duration": 6,
    "start_time": "2021-12-31T11:13:48.699Z"
   },
   {
    "duration": 6,
    "start_time": "2021-12-31T11:13:49.037Z"
   },
   {
    "duration": 1396,
    "start_time": "2021-12-31T11:14:09.400Z"
   },
   {
    "duration": 128,
    "start_time": "2021-12-31T11:14:10.798Z"
   },
   {
    "duration": 181,
    "start_time": "2021-12-31T11:14:10.928Z"
   },
   {
    "duration": 80,
    "start_time": "2021-12-31T11:14:11.609Z"
   },
   {
    "duration": 544,
    "start_time": "2021-12-31T11:14:12.073Z"
   },
   {
    "duration": 76,
    "start_time": "2021-12-31T11:14:13.712Z"
   },
   {
    "duration": 6,
    "start_time": "2021-12-31T11:14:14.425Z"
   },
   {
    "duration": 9104,
    "start_time": "2021-12-31T11:14:16.283Z"
   },
   {
    "duration": 25,
    "start_time": "2021-12-31T11:14:25.388Z"
   },
   {
    "duration": 43,
    "start_time": "2021-12-31T11:14:25.415Z"
   },
   {
    "duration": 36,
    "start_time": "2021-12-31T11:14:25.459Z"
   },
   {
    "duration": 323,
    "start_time": "2021-12-31T11:14:25.497Z"
   },
   {
    "duration": 393,
    "start_time": "2021-12-31T11:15:10.791Z"
   },
   {
    "duration": 277,
    "start_time": "2021-12-31T11:15:14.888Z"
   },
   {
    "duration": 345,
    "start_time": "2021-12-31T11:15:18.573Z"
   },
   {
    "duration": 1409,
    "start_time": "2021-12-31T11:16:43.600Z"
   },
   {
    "duration": 128,
    "start_time": "2021-12-31T11:16:45.012Z"
   },
   {
    "duration": 176,
    "start_time": "2021-12-31T11:16:47.996Z"
   },
   {
    "duration": 83,
    "start_time": "2021-12-31T11:16:53.540Z"
   },
   {
    "duration": 560,
    "start_time": "2021-12-31T11:16:57.612Z"
   },
   {
    "duration": 276,
    "start_time": "2021-12-31T11:17:16.327Z"
   },
   {
    "duration": 32,
    "start_time": "2021-12-31T11:17:23.665Z"
   },
   {
    "duration": 7,
    "start_time": "2021-12-31T11:17:27.533Z"
   },
   {
    "duration": 305,
    "start_time": "2021-12-31T11:17:28.249Z"
   },
   {
    "duration": 385,
    "start_time": "2021-12-31T11:17:32.619Z"
   },
   {
    "duration": 262,
    "start_time": "2021-12-31T11:17:39.483Z"
   },
   {
    "duration": 329,
    "start_time": "2021-12-31T11:17:43.877Z"
   },
   {
    "duration": 10,
    "start_time": "2021-12-31T12:57:51.248Z"
   },
   {
    "duration": 798,
    "start_time": "2022-02-21T07:51:15.697Z"
   },
   {
    "duration": 1453,
    "start_time": "2022-02-21T07:51:21.550Z"
   },
   {
    "duration": 122,
    "start_time": "2022-02-21T07:51:28.624Z"
   },
   {
    "duration": 149,
    "start_time": "2022-02-21T07:51:32.412Z"
   },
   {
    "duration": 120,
    "start_time": "2022-02-21T07:51:36.749Z"
   },
   {
    "duration": 519,
    "start_time": "2022-02-21T07:51:39.738Z"
   },
   {
    "duration": 76,
    "start_time": "2022-02-21T07:51:42.193Z"
   },
   {
    "duration": 5,
    "start_time": "2022-02-21T07:51:42.998Z"
   },
   {
    "duration": 352,
    "start_time": "2022-02-21T07:51:57.997Z"
   },
   {
    "duration": 21,
    "start_time": "2022-02-21T07:52:35.831Z"
   },
   {
    "duration": 43,
    "start_time": "2022-02-21T07:52:56.896Z"
   },
   {
    "duration": 4,
    "start_time": "2022-02-21T07:52:58.243Z"
   },
   {
    "duration": 25,
    "start_time": "2022-02-21T07:53:04.955Z"
   },
   {
    "duration": 212,
    "start_time": "2022-02-21T07:53:08.509Z"
   }
  ],
  "kernelspec": {
   "display_name": "Python 3 (ipykernel)",
   "language": "python",
   "name": "python3"
  },
  "language_info": {
   "codemirror_mode": {
    "name": "ipython",
    "version": 3
   },
   "file_extension": ".py",
   "mimetype": "text/x-python",
   "name": "python",
   "nbconvert_exporter": "python",
   "pygments_lexer": "ipython3",
   "version": "3.9.7"
  },
  "toc": {
   "base_numbering": 1,
   "nav_menu": {},
   "number_sections": true,
   "sideBar": true,
   "skip_h1_title": true,
   "title_cell": "Table of Contents",
   "title_sidebar": "Contents",
   "toc_cell": false,
   "toc_position": {},
   "toc_section_display": true,
   "toc_window_display": false
  }
 },
 "nbformat": 4,
 "nbformat_minor": 4
}
